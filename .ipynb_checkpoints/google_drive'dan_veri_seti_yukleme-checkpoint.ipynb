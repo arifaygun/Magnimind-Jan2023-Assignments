{
 "cells": [
  {
   "cell_type": "markdown",
   "metadata": {
    "colab_type": "text",
    "id": "view-in-github"
   },
   "source": [
    "<a href=\"https://colab.research.google.com/github/ArifAygun/Magnimind-Jan2023-Assignments/blob/main/google_drive'dan_veri_seti_yukleme.ipynb\" target=\"_parent\"><img src=\"https://colab.research.google.com/assets/colab-badge.svg\" alt=\"Open In Colab\"/></a>"
   ]
  },
  {
   "cell_type": "code",
   "execution_count": null,
   "metadata": {
    "id": "7fwAQHEWYkFt"
   },
   "outputs": [],
   "source": [
    "from google.colab import drive\n",
    "drive.mount('/content/drive')"
   ]
  },
  {
   "cell_type": "markdown",
   "metadata": {
    "id": "gZZPqcZTL--9"
   },
   "source": [
    "## 1.METHOD"
   ]
  },
  {
   "cell_type": "code",
   "execution_count": null,
   "metadata": {
    "id": "bnbD8hIzYljH"
   },
   "outputs": [],
   "source": [
    "import os\n",
    "for Dir, Folders, Files in os.walk(os.getcwd()):\n",
    "  for File in Files:\n",
    "    if File == 'data.csv':\n",
    "      Path = os.path.join(Dir, File)\n",
    "      print(Path)"
   ]
  },
  {
   "cell_type": "markdown",
   "metadata": {
    "id": "sTjKx3JSMHkP"
   },
   "source": [
    "2.METHOD"
   ]
  },
  {
   "cell_type": "code",
   "execution_count": null,
   "metadata": {
    "id": "DjsGrOoKMM7R"
   },
   "outputs": [],
   "source": [
    "def file_locator(file_name):\n",
    "\n",
    "  import os\n",
    "  main_dir = os.getcwd()\n",
    "\n",
    "  for dir, folder, files in os.walk(main_dir):\n",
    "    for file in files:\n",
    "      if file == file_name:\n",
    "        file_path = os.path.join(dir,file)\n",
    "  return file_path"
   ]
  },
  {
   "cell_type": "code",
   "execution_count": null,
   "metadata": {
    "id": "1d-bJU03Pgzc"
   },
   "outputs": [],
   "source": [
    "file_path = file_locator('movies.csv')\n",
    "\n",
    "df = pd.read_csv(file_path)\n",
    "df.head(n=2)"
   ]
  },
  {
   "cell_type": "code",
   "execution_count": null,
   "metadata": {
    "id": "Kut9nRtqYvHh"
   },
   "outputs": [],
   "source": [
    "import pandas as pd\n",
    "import numpy as np\n",
    "df = pd.read_csv(Path)\n",
    "df.head()"
   ]
  },
  {
   "cell_type": "markdown",
   "metadata": {
    "id": "Jw1tQO2jpUZD"
   },
   "source": [
    "#End"
   ]
  },
  {
   "cell_type": "code",
   "execution_count": null,
   "metadata": {
    "id": "B7cVDUeEpXBe"
   },
   "outputs": [],
   "source": []
  }
 ],
 "metadata": {
  "colab": {
   "authorship_tag": "ABX9TyPtA7xxb1rB34KzXYclGLPO",
   "include_colab_link": true,
   "provenance": []
  },
  "kernelspec": {
   "display_name": "Python 3 (ipykernel)",
   "language": "python",
   "name": "python3"
  },
  "language_info": {
   "codemirror_mode": {
    "name": "ipython",
    "version": 3
   },
   "file_extension": ".py",
   "mimetype": "text/x-python",
   "name": "python",
   "nbconvert_exporter": "python",
   "pygments_lexer": "ipython3",
   "version": "3.9.16"
  }
 },
 "nbformat": 4,
 "nbformat_minor": 1
}
