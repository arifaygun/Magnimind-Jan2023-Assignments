{
 "cells": [
  {
   "cell_type": "markdown",
   "id": "b49ac07f",
   "metadata": {},
   "source": [
    "# Dictionary Assignment - Arif Aygun"
   ]
  },
  {
   "cell_type": "markdown",
   "id": "0b40250a",
   "metadata": {},
   "source": [
    "#### 1- Create a dictionary with 7 days. Ask the user to choose 2 different days by listing the (e.g. \"12\" for Monday and Tuesday). Delete the user-selected days from the dictionary and print the remaining 5 days on the screen."
   ]
  },
  {
   "cell_type": "code",
   "execution_count": 1,
   "id": "0262885e",
   "metadata": {},
   "outputs": [
    {
     "name": "stdout",
     "output_type": "stream",
     "text": [
      "{1: 'Monday', 2: 'Tuesday', 3: 'Wednesday', 4: 'Thursday', 5: 'Friday', 6: 'Saturday', 7: 'Sunday'}\n",
      "Enter a day as a number:3\n",
      "Enter another day as a number:4\n",
      "Remaining days:  {1: 'Monday', 2: 'Tuesday', 5: 'Friday', 6: 'Saturday', 7: 'Sunday'}\n"
     ]
    }
   ],
   "source": [
    "days = {1:\"Monday\", 2:\"Tuesday\", 3:\"Wednesday\", 4:\"Thursday\", 5:\"Friday\", 6:\"Saturday\", 7:\"Sunday\"}\n",
    "print(days)\n",
    "ent_day1 = int(input(\"Enter a day as a number:\"))\n",
    "ent_day2 = int(input(\"Enter another day as a number:\"))\n",
    "days.pop(ent_day1)\n",
    "days.pop(ent_day2)\n",
    "print(\"Remaining days: \",days)"
   ]
  },
  {
   "cell_type": "markdown",
   "id": "e8cd17be",
   "metadata": {},
   "source": [
    "#### 2- Create a dictionary with the following personnel. Use names as keys.\n",
    "- (Michael (age: 20)\n",
    "- (Linda (age: 30)"
   ]
  },
  {
   "cell_type": "code",
   "execution_count": 2,
   "id": "39c483b4",
   "metadata": {},
   "outputs": [
    {
     "name": "stdout",
     "output_type": "stream",
     "text": [
      "{'Michael': {'age': 20}, 'Linda': {'age': 30}}\n"
     ]
    }
   ],
   "source": [
    "family = {\"Michael\":{'age':20},\"Linda\":{'age':30}}\n",
    "print(family)"
   ]
  },
  {
   "cell_type": "markdown",
   "id": "f4dc5873",
   "metadata": {},
   "source": [
    "#### 3- Add child information to Michael and Linda.\n",
    "- Michael has two children (Karen (age : 12, female) and Greg (age : 7, male))\n",
    "- Linda has one child (Susan (age: 6, female))"
   ]
  },
  {
   "cell_type": "code",
   "execution_count": 3,
   "id": "63aa5b8e",
   "metadata": {},
   "outputs": [
    {
     "name": "stdout",
     "output_type": "stream",
     "text": [
      "{'Michael': {'age': 20, 'children': {'Karen': {'age': 12, 'sex': 'female'}, 'Greg': {'age': 7, 'sex': 'male'}}}, 'Linda': {'age': 30, 'children': {'Susan': {'age': 6, 'sex': 'female'}}}}\n"
     ]
    }
   ],
   "source": [
    "family[\"Michael\"].update({\"children\":{\"Karen\":{\"age\":12,\"sex\":\"female\"},\"Greg\":{\"age\":7,\"sex\":\"male\"}}})\n",
    "family[\"Linda\"].update({\"children\":{\"Susan\":{\"age\":6,\"sex\":\"female\"}}})\n",
    "print(family)"
   ]
  },
  {
   "cell_type": "markdown",
   "id": "4b0f7688",
   "metadata": {},
   "source": [
    "#### 4- Print the names of Michael's children in a list."
   ]
  },
  {
   "cell_type": "code",
   "execution_count": 4,
   "id": "0ab73d99",
   "metadata": {},
   "outputs": [
    {
     "name": "stdout",
     "output_type": "stream",
     "text": [
      "['Karen', 'Greg']\n"
     ]
    }
   ],
   "source": [
    "print(list(family[\"Michael\"][\"children\"]))"
   ]
  }
 ],
 "metadata": {
  "kernelspec": {
   "display_name": "Python 3 (ipykernel)",
   "language": "python",
   "name": "python3"
  },
  "language_info": {
   "codemirror_mode": {
    "name": "ipython",
    "version": 3
   },
   "file_extension": ".py",
   "mimetype": "text/x-python",
   "name": "python",
   "nbconvert_exporter": "python",
   "pygments_lexer": "ipython3",
   "version": "3.9.13"
  }
 },
 "nbformat": 4,
 "nbformat_minor": 5
}
