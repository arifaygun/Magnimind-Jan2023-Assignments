{
  "cells": [
    {
      "cell_type": "markdown",
      "metadata": {
        "id": "view-in-github",
        "colab_type": "text"
      },
      "source": [
        "<a href=\"https://colab.research.google.com/github/ArifAygun/Magnimind-Jan2023-Assignments/blob/main/AA_Feature_Engineering_Assignment_.ipynb\" target=\"_parent\"><img src=\"https://colab.research.google.com/assets/colab-badge.svg\" alt=\"Open In Colab\"/></a>"
      ]
    },
    {
      "cell_type": "markdown",
      "source": [
        "#**Feature Engineering Assignment**"
      ],
      "metadata": {
        "id": "q8r79vv32j8w"
      },
      "id": "q8r79vv32j8w"
    },
    {
      "cell_type": "markdown",
      "source": [
        "You've constructed some potentially useful and business-relevant features, derived from summary statistics, for each of the states you're concerned with. You've explored many of these features in turn and found various trends. Some states are higher in some but not in others. Some features will also be more correlated with one another than others.\n",
        "One way to disentangle this interconnected web of relationships is via principal components analysis (PCA). This technique will find linear combinations of the original features that are uncorrelated with one another and order them by the amount of variance they explain. You can use these derived features to visualize the data in a lower dimension (e.g. 2 down from 7) and know how much variance the representation explains. You can also explore how the original features contribute to these derived features.\n",
        "\n",
        "The basic steps in this process are:\n",
        "\n",
        "1. scale the data and verify the scaling\n",
        "2. fit the PCA transformation (learn the transformation from the data)\n",
        "3. Draw scree plot\n",
        "4. Find the optimum number of components\n",
        "5. Draw the biplot and interpret the relationship between features and components\n",
        "6. Find the exact correlation between components and features using loading\n",
        "\n",
        "Please use ski_resort_data"
      ],
      "metadata": {
        "id": "nZWsoXbj3NgA"
      },
      "id": "nZWsoXbj3NgA"
    },
    {
      "cell_type": "markdown",
      "id": "e603dc1f",
      "metadata": {
        "id": "e603dc1f"
      },
      "source": [
        "##A.\n",
        "Import Libraries & Load Dataset"
      ]
    },
    {
      "cell_type": "code",
      "execution_count": 3,
      "id": "852900e5",
      "metadata": {
        "id": "852900e5"
      },
      "outputs": [],
      "source": [
        "import pandas as pd\n",
        "import numpy as np"
      ]
    },
    {
      "cell_type": "code",
      "execution_count": 4,
      "id": "76f76bb1",
      "metadata": {
        "id": "76f76bb1",
        "colab": {
          "base_uri": "https://localhost:8080/"
        },
        "outputId": "ba10df23-5c96-4888-b836-2eb76f3f91ca"
      },
      "outputs": [
        {
          "output_type": "stream",
          "name": "stdout",
          "text": [
            "Drive already mounted at /content/drive; to attempt to forcibly remount, call drive.mount(\"/content/drive\", force_remount=True).\n"
          ]
        }
      ],
      "source": [
        "from google.colab import drive\n",
        "drive.mount('/content/drive')"
      ]
    },
    {
      "cell_type": "code",
      "execution_count": 8,
      "id": "d9f24df2",
      "metadata": {
        "scrolled": true,
        "id": "d9f24df2",
        "outputId": "52bdad15-c03d-4a20-92af-c4d6c1eca57b",
        "colab": {
          "base_uri": "https://localhost:8080/",
          "height": 421
        }
      },
      "outputs": [
        {
          "output_type": "execute_result",
          "data": {
            "text/plain": [
              "                  Name   Region    state  summit_elev  vertical_drop  \\\n",
              "0       Alyeska Resort   Alaska   Alaska         3939           2500   \n",
              "1  Eaglecrest Ski Area   Alaska   Alaska         2600           1540   \n",
              "2     Hilltop Ski Area   Alaska   Alaska         2090            294   \n",
              "3     Arizona Snowbowl  Arizona  Arizona        11500           2300   \n",
              "4  Sunrise Park Resort  Arizona  Arizona        11100           1800   \n",
              "\n",
              "   base_elev  trams  fastEight  fastSixes  fastQuads  ...  LongestRun_mi  \\\n",
              "0        250      1        0.0          0          2  ...            1.0   \n",
              "1       1200      0        0.0          0          0  ...            2.0   \n",
              "2       1796      0        0.0          0          0  ...            1.0   \n",
              "3       9200      0        0.0          1          0  ...            2.0   \n",
              "4       9200      0        NaN          0          1  ...            1.2   \n",
              "\n",
              "   SkiableTerrain_ac  Snow Making_ac  daysOpenLastYear  yearsOpen  \\\n",
              "0             1610.0           113.0             150.0       60.0   \n",
              "1              640.0            60.0              45.0       44.0   \n",
              "2               30.0            30.0             150.0       36.0   \n",
              "3              777.0           104.0             122.0       81.0   \n",
              "4              800.0            80.0             115.0       49.0   \n",
              "\n",
              "   averageSnowfall  AdultWeekday  AdultWeekend  projectedDaysOpen  \\\n",
              "0            669.0          65.0          85.0              150.0   \n",
              "1            350.0          47.0          53.0               90.0   \n",
              "2             69.0          30.0          34.0              152.0   \n",
              "3            260.0          89.0          89.0              122.0   \n",
              "4            250.0          74.0          78.0              104.0   \n",
              "\n",
              "   NightSkiing_ac  \n",
              "0           550.0  \n",
              "1             NaN  \n",
              "2            30.0  \n",
              "3             NaN  \n",
              "4            80.0  \n",
              "\n",
              "[5 rows x 27 columns]"
            ],
            "text/html": [
              "\n",
              "  <div id=\"df-f4007d64-debb-47be-8269-acea6fe23994\">\n",
              "    <div class=\"colab-df-container\">\n",
              "      <div>\n",
              "<style scoped>\n",
              "    .dataframe tbody tr th:only-of-type {\n",
              "        vertical-align: middle;\n",
              "    }\n",
              "\n",
              "    .dataframe tbody tr th {\n",
              "        vertical-align: top;\n",
              "    }\n",
              "\n",
              "    .dataframe thead th {\n",
              "        text-align: right;\n",
              "    }\n",
              "</style>\n",
              "<table border=\"1\" class=\"dataframe\">\n",
              "  <thead>\n",
              "    <tr style=\"text-align: right;\">\n",
              "      <th></th>\n",
              "      <th>Name</th>\n",
              "      <th>Region</th>\n",
              "      <th>state</th>\n",
              "      <th>summit_elev</th>\n",
              "      <th>vertical_drop</th>\n",
              "      <th>base_elev</th>\n",
              "      <th>trams</th>\n",
              "      <th>fastEight</th>\n",
              "      <th>fastSixes</th>\n",
              "      <th>fastQuads</th>\n",
              "      <th>...</th>\n",
              "      <th>LongestRun_mi</th>\n",
              "      <th>SkiableTerrain_ac</th>\n",
              "      <th>Snow Making_ac</th>\n",
              "      <th>daysOpenLastYear</th>\n",
              "      <th>yearsOpen</th>\n",
              "      <th>averageSnowfall</th>\n",
              "      <th>AdultWeekday</th>\n",
              "      <th>AdultWeekend</th>\n",
              "      <th>projectedDaysOpen</th>\n",
              "      <th>NightSkiing_ac</th>\n",
              "    </tr>\n",
              "  </thead>\n",
              "  <tbody>\n",
              "    <tr>\n",
              "      <th>0</th>\n",
              "      <td>Alyeska Resort</td>\n",
              "      <td>Alaska</td>\n",
              "      <td>Alaska</td>\n",
              "      <td>3939</td>\n",
              "      <td>2500</td>\n",
              "      <td>250</td>\n",
              "      <td>1</td>\n",
              "      <td>0.0</td>\n",
              "      <td>0</td>\n",
              "      <td>2</td>\n",
              "      <td>...</td>\n",
              "      <td>1.0</td>\n",
              "      <td>1610.0</td>\n",
              "      <td>113.0</td>\n",
              "      <td>150.0</td>\n",
              "      <td>60.0</td>\n",
              "      <td>669.0</td>\n",
              "      <td>65.0</td>\n",
              "      <td>85.0</td>\n",
              "      <td>150.0</td>\n",
              "      <td>550.0</td>\n",
              "    </tr>\n",
              "    <tr>\n",
              "      <th>1</th>\n",
              "      <td>Eaglecrest Ski Area</td>\n",
              "      <td>Alaska</td>\n",
              "      <td>Alaska</td>\n",
              "      <td>2600</td>\n",
              "      <td>1540</td>\n",
              "      <td>1200</td>\n",
              "      <td>0</td>\n",
              "      <td>0.0</td>\n",
              "      <td>0</td>\n",
              "      <td>0</td>\n",
              "      <td>...</td>\n",
              "      <td>2.0</td>\n",
              "      <td>640.0</td>\n",
              "      <td>60.0</td>\n",
              "      <td>45.0</td>\n",
              "      <td>44.0</td>\n",
              "      <td>350.0</td>\n",
              "      <td>47.0</td>\n",
              "      <td>53.0</td>\n",
              "      <td>90.0</td>\n",
              "      <td>NaN</td>\n",
              "    </tr>\n",
              "    <tr>\n",
              "      <th>2</th>\n",
              "      <td>Hilltop Ski Area</td>\n",
              "      <td>Alaska</td>\n",
              "      <td>Alaska</td>\n",
              "      <td>2090</td>\n",
              "      <td>294</td>\n",
              "      <td>1796</td>\n",
              "      <td>0</td>\n",
              "      <td>0.0</td>\n",
              "      <td>0</td>\n",
              "      <td>0</td>\n",
              "      <td>...</td>\n",
              "      <td>1.0</td>\n",
              "      <td>30.0</td>\n",
              "      <td>30.0</td>\n",
              "      <td>150.0</td>\n",
              "      <td>36.0</td>\n",
              "      <td>69.0</td>\n",
              "      <td>30.0</td>\n",
              "      <td>34.0</td>\n",
              "      <td>152.0</td>\n",
              "      <td>30.0</td>\n",
              "    </tr>\n",
              "    <tr>\n",
              "      <th>3</th>\n",
              "      <td>Arizona Snowbowl</td>\n",
              "      <td>Arizona</td>\n",
              "      <td>Arizona</td>\n",
              "      <td>11500</td>\n",
              "      <td>2300</td>\n",
              "      <td>9200</td>\n",
              "      <td>0</td>\n",
              "      <td>0.0</td>\n",
              "      <td>1</td>\n",
              "      <td>0</td>\n",
              "      <td>...</td>\n",
              "      <td>2.0</td>\n",
              "      <td>777.0</td>\n",
              "      <td>104.0</td>\n",
              "      <td>122.0</td>\n",
              "      <td>81.0</td>\n",
              "      <td>260.0</td>\n",
              "      <td>89.0</td>\n",
              "      <td>89.0</td>\n",
              "      <td>122.0</td>\n",
              "      <td>NaN</td>\n",
              "    </tr>\n",
              "    <tr>\n",
              "      <th>4</th>\n",
              "      <td>Sunrise Park Resort</td>\n",
              "      <td>Arizona</td>\n",
              "      <td>Arizona</td>\n",
              "      <td>11100</td>\n",
              "      <td>1800</td>\n",
              "      <td>9200</td>\n",
              "      <td>0</td>\n",
              "      <td>NaN</td>\n",
              "      <td>0</td>\n",
              "      <td>1</td>\n",
              "      <td>...</td>\n",
              "      <td>1.2</td>\n",
              "      <td>800.0</td>\n",
              "      <td>80.0</td>\n",
              "      <td>115.0</td>\n",
              "      <td>49.0</td>\n",
              "      <td>250.0</td>\n",
              "      <td>74.0</td>\n",
              "      <td>78.0</td>\n",
              "      <td>104.0</td>\n",
              "      <td>80.0</td>\n",
              "    </tr>\n",
              "  </tbody>\n",
              "</table>\n",
              "<p>5 rows × 27 columns</p>\n",
              "</div>\n",
              "      <button class=\"colab-df-convert\" onclick=\"convertToInteractive('df-f4007d64-debb-47be-8269-acea6fe23994')\"\n",
              "              title=\"Convert this dataframe to an interactive table.\"\n",
              "              style=\"display:none;\">\n",
              "        \n",
              "  <svg xmlns=\"http://www.w3.org/2000/svg\" height=\"24px\"viewBox=\"0 0 24 24\"\n",
              "       width=\"24px\">\n",
              "    <path d=\"M0 0h24v24H0V0z\" fill=\"none\"/>\n",
              "    <path d=\"M18.56 5.44l.94 2.06.94-2.06 2.06-.94-2.06-.94-.94-2.06-.94 2.06-2.06.94zm-11 1L8.5 8.5l.94-2.06 2.06-.94-2.06-.94L8.5 2.5l-.94 2.06-2.06.94zm10 10l.94 2.06.94-2.06 2.06-.94-2.06-.94-.94-2.06-.94 2.06-2.06.94z\"/><path d=\"M17.41 7.96l-1.37-1.37c-.4-.4-.92-.59-1.43-.59-.52 0-1.04.2-1.43.59L10.3 9.45l-7.72 7.72c-.78.78-.78 2.05 0 2.83L4 21.41c.39.39.9.59 1.41.59.51 0 1.02-.2 1.41-.59l7.78-7.78 2.81-2.81c.8-.78.8-2.07 0-2.86zM5.41 20L4 18.59l7.72-7.72 1.47 1.35L5.41 20z\"/>\n",
              "  </svg>\n",
              "      </button>\n",
              "      \n",
              "  <style>\n",
              "    .colab-df-container {\n",
              "      display:flex;\n",
              "      flex-wrap:wrap;\n",
              "      gap: 12px;\n",
              "    }\n",
              "\n",
              "    .colab-df-convert {\n",
              "      background-color: #E8F0FE;\n",
              "      border: none;\n",
              "      border-radius: 50%;\n",
              "      cursor: pointer;\n",
              "      display: none;\n",
              "      fill: #1967D2;\n",
              "      height: 32px;\n",
              "      padding: 0 0 0 0;\n",
              "      width: 32px;\n",
              "    }\n",
              "\n",
              "    .colab-df-convert:hover {\n",
              "      background-color: #E2EBFA;\n",
              "      box-shadow: 0px 1px 2px rgba(60, 64, 67, 0.3), 0px 1px 3px 1px rgba(60, 64, 67, 0.15);\n",
              "      fill: #174EA6;\n",
              "    }\n",
              "\n",
              "    [theme=dark] .colab-df-convert {\n",
              "      background-color: #3B4455;\n",
              "      fill: #D2E3FC;\n",
              "    }\n",
              "\n",
              "    [theme=dark] .colab-df-convert:hover {\n",
              "      background-color: #434B5C;\n",
              "      box-shadow: 0px 1px 3px 1px rgba(0, 0, 0, 0.15);\n",
              "      filter: drop-shadow(0px 1px 2px rgba(0, 0, 0, 0.3));\n",
              "      fill: #FFFFFF;\n",
              "    }\n",
              "  </style>\n",
              "\n",
              "      <script>\n",
              "        const buttonEl =\n",
              "          document.querySelector('#df-f4007d64-debb-47be-8269-acea6fe23994 button.colab-df-convert');\n",
              "        buttonEl.style.display =\n",
              "          google.colab.kernel.accessAllowed ? 'block' : 'none';\n",
              "\n",
              "        async function convertToInteractive(key) {\n",
              "          const element = document.querySelector('#df-f4007d64-debb-47be-8269-acea6fe23994');\n",
              "          const dataTable =\n",
              "            await google.colab.kernel.invokeFunction('convertToInteractive',\n",
              "                                                     [key], {});\n",
              "          if (!dataTable) return;\n",
              "\n",
              "          const docLinkHtml = 'Like what you see? Visit the ' +\n",
              "            '<a target=\"_blank\" href=https://colab.research.google.com/notebooks/data_table.ipynb>data table notebook</a>'\n",
              "            + ' to learn more about interactive tables.';\n",
              "          element.innerHTML = '';\n",
              "          dataTable['output_type'] = 'display_data';\n",
              "          await google.colab.output.renderOutput(dataTable, element);\n",
              "          const docLink = document.createElement('div');\n",
              "          docLink.innerHTML = docLinkHtml;\n",
              "          element.appendChild(docLink);\n",
              "        }\n",
              "      </script>\n",
              "    </div>\n",
              "  </div>\n",
              "  "
            ]
          },
          "metadata": {},
          "execution_count": 8
        }
      ],
      "source": [
        "import pandas as pd\n",
        "import os\n",
        "\n",
        "def file_locator(file_name):\n",
        "  main_dir = os.getcwd()\n",
        "\n",
        "  for dir, folder, files in os.walk(main_dir):\n",
        "    for file in files:\n",
        "      if file == file_name:\n",
        "        file_path = os.path.join(dir,file)\n",
        "  return file_path\n",
        "\n",
        "file_path = file_locator('ski_resort_data.csv')\n",
        "df = pd.read_csv(file_path)\n",
        "df.head()"
      ]
    },
    {
      "cell_type": "code",
      "execution_count": 9,
      "id": "4454536f",
      "metadata": {
        "id": "4454536f",
        "outputId": "f55e16c3-0559-4189-bbf0-5547562bf763",
        "colab": {
          "base_uri": "https://localhost:8080/"
        }
      },
      "outputs": [
        {
          "output_type": "execute_result",
          "data": {
            "text/plain": [
              "(330, 27)"
            ]
          },
          "metadata": {},
          "execution_count": 9
        }
      ],
      "source": [
        "df.shape"
      ]
    },
    {
      "cell_type": "code",
      "execution_count": 10,
      "id": "029a5385",
      "metadata": {
        "scrolled": true,
        "id": "029a5385",
        "outputId": "5b9cf085-4d37-4d68-c076-fa25caaab95a",
        "colab": {
          "base_uri": "https://localhost:8080/"
        }
      },
      "outputs": [
        {
          "output_type": "stream",
          "name": "stdout",
          "text": [
            "<class 'pandas.core.frame.DataFrame'>\n",
            "RangeIndex: 330 entries, 0 to 329\n",
            "Data columns (total 27 columns):\n",
            " #   Column             Non-Null Count  Dtype  \n",
            "---  ------             --------------  -----  \n",
            " 0   Name               330 non-null    object \n",
            " 1   Region             330 non-null    object \n",
            " 2   state              330 non-null    object \n",
            " 3   summit_elev        330 non-null    int64  \n",
            " 4   vertical_drop      330 non-null    int64  \n",
            " 5   base_elev          330 non-null    int64  \n",
            " 6   trams              330 non-null    int64  \n",
            " 7   fastEight          164 non-null    float64\n",
            " 8   fastSixes          330 non-null    int64  \n",
            " 9   fastQuads          330 non-null    int64  \n",
            " 10  quad               330 non-null    int64  \n",
            " 11  triple             330 non-null    int64  \n",
            " 12  double             330 non-null    int64  \n",
            " 13  surface            330 non-null    int64  \n",
            " 14  total_chairs       330 non-null    int64  \n",
            " 15  Runs               326 non-null    float64\n",
            " 16  TerrainParks       279 non-null    float64\n",
            " 17  LongestRun_mi      325 non-null    float64\n",
            " 18  SkiableTerrain_ac  327 non-null    float64\n",
            " 19  Snow Making_ac     284 non-null    float64\n",
            " 20  daysOpenLastYear   279 non-null    float64\n",
            " 21  yearsOpen          329 non-null    float64\n",
            " 22  averageSnowfall    316 non-null    float64\n",
            " 23  AdultWeekday       276 non-null    float64\n",
            " 24  AdultWeekend       279 non-null    float64\n",
            " 25  projectedDaysOpen  283 non-null    float64\n",
            " 26  NightSkiing_ac     187 non-null    float64\n",
            "dtypes: float64(13), int64(11), object(3)\n",
            "memory usage: 69.7+ KB\n"
          ]
        }
      ],
      "source": [
        "df.info()"
      ]
    },
    {
      "cell_type": "code",
      "execution_count": 14,
      "id": "4503ee5e",
      "metadata": {
        "scrolled": true,
        "id": "4503ee5e",
        "outputId": "d24de3b6-d865-4567-fd96-54d94b527443",
        "colab": {
          "base_uri": "https://localhost:8080/",
          "height": 896
        }
      },
      "outputs": [
        {
          "output_type": "execute_result",
          "data": {
            "text/plain": [
              "                   count  Percentage\n",
              "fastEight            166   50.303030\n",
              "NightSkiing_ac       143   43.333333\n",
              "AdultWeekday          54   16.363636\n",
              "AdultWeekend          51   15.454545\n",
              "daysOpenLastYear      51   15.454545\n",
              "TerrainParks          51   15.454545\n",
              "projectedDaysOpen     47   14.242424\n",
              "Snow Making_ac        46   13.939394\n",
              "averageSnowfall       14    4.242424\n",
              "LongestRun_mi          5    1.515152\n",
              "Runs                   4    1.212121\n",
              "SkiableTerrain_ac      3    0.909091\n",
              "yearsOpen              1    0.303030\n",
              "total_chairs           0    0.000000\n",
              "Name                   0    0.000000\n",
              "Region                 0    0.000000\n",
              "double                 0    0.000000\n",
              "triple                 0    0.000000\n",
              "quad                   0    0.000000\n",
              "fastQuads              0    0.000000\n",
              "fastSixes              0    0.000000\n",
              "trams                  0    0.000000\n",
              "base_elev              0    0.000000\n",
              "vertical_drop          0    0.000000\n",
              "summit_elev            0    0.000000\n",
              "state                  0    0.000000\n",
              "surface                0    0.000000"
            ],
            "text/html": [
              "\n",
              "  <div id=\"df-a38d84b8-5547-48a8-8b7f-529ffbd363cc\">\n",
              "    <div class=\"colab-df-container\">\n",
              "      <div>\n",
              "<style scoped>\n",
              "    .dataframe tbody tr th:only-of-type {\n",
              "        vertical-align: middle;\n",
              "    }\n",
              "\n",
              "    .dataframe tbody tr th {\n",
              "        vertical-align: top;\n",
              "    }\n",
              "\n",
              "    .dataframe thead th {\n",
              "        text-align: right;\n",
              "    }\n",
              "</style>\n",
              "<table border=\"1\" class=\"dataframe\">\n",
              "  <thead>\n",
              "    <tr style=\"text-align: right;\">\n",
              "      <th></th>\n",
              "      <th>count</th>\n",
              "      <th>Percentage</th>\n",
              "    </tr>\n",
              "  </thead>\n",
              "  <tbody>\n",
              "    <tr>\n",
              "      <th>fastEight</th>\n",
              "      <td>166</td>\n",
              "      <td>50.303030</td>\n",
              "    </tr>\n",
              "    <tr>\n",
              "      <th>NightSkiing_ac</th>\n",
              "      <td>143</td>\n",
              "      <td>43.333333</td>\n",
              "    </tr>\n",
              "    <tr>\n",
              "      <th>AdultWeekday</th>\n",
              "      <td>54</td>\n",
              "      <td>16.363636</td>\n",
              "    </tr>\n",
              "    <tr>\n",
              "      <th>AdultWeekend</th>\n",
              "      <td>51</td>\n",
              "      <td>15.454545</td>\n",
              "    </tr>\n",
              "    <tr>\n",
              "      <th>daysOpenLastYear</th>\n",
              "      <td>51</td>\n",
              "      <td>15.454545</td>\n",
              "    </tr>\n",
              "    <tr>\n",
              "      <th>TerrainParks</th>\n",
              "      <td>51</td>\n",
              "      <td>15.454545</td>\n",
              "    </tr>\n",
              "    <tr>\n",
              "      <th>projectedDaysOpen</th>\n",
              "      <td>47</td>\n",
              "      <td>14.242424</td>\n",
              "    </tr>\n",
              "    <tr>\n",
              "      <th>Snow Making_ac</th>\n",
              "      <td>46</td>\n",
              "      <td>13.939394</td>\n",
              "    </tr>\n",
              "    <tr>\n",
              "      <th>averageSnowfall</th>\n",
              "      <td>14</td>\n",
              "      <td>4.242424</td>\n",
              "    </tr>\n",
              "    <tr>\n",
              "      <th>LongestRun_mi</th>\n",
              "      <td>5</td>\n",
              "      <td>1.515152</td>\n",
              "    </tr>\n",
              "    <tr>\n",
              "      <th>Runs</th>\n",
              "      <td>4</td>\n",
              "      <td>1.212121</td>\n",
              "    </tr>\n",
              "    <tr>\n",
              "      <th>SkiableTerrain_ac</th>\n",
              "      <td>3</td>\n",
              "      <td>0.909091</td>\n",
              "    </tr>\n",
              "    <tr>\n",
              "      <th>yearsOpen</th>\n",
              "      <td>1</td>\n",
              "      <td>0.303030</td>\n",
              "    </tr>\n",
              "    <tr>\n",
              "      <th>total_chairs</th>\n",
              "      <td>0</td>\n",
              "      <td>0.000000</td>\n",
              "    </tr>\n",
              "    <tr>\n",
              "      <th>Name</th>\n",
              "      <td>0</td>\n",
              "      <td>0.000000</td>\n",
              "    </tr>\n",
              "    <tr>\n",
              "      <th>Region</th>\n",
              "      <td>0</td>\n",
              "      <td>0.000000</td>\n",
              "    </tr>\n",
              "    <tr>\n",
              "      <th>double</th>\n",
              "      <td>0</td>\n",
              "      <td>0.000000</td>\n",
              "    </tr>\n",
              "    <tr>\n",
              "      <th>triple</th>\n",
              "      <td>0</td>\n",
              "      <td>0.000000</td>\n",
              "    </tr>\n",
              "    <tr>\n",
              "      <th>quad</th>\n",
              "      <td>0</td>\n",
              "      <td>0.000000</td>\n",
              "    </tr>\n",
              "    <tr>\n",
              "      <th>fastQuads</th>\n",
              "      <td>0</td>\n",
              "      <td>0.000000</td>\n",
              "    </tr>\n",
              "    <tr>\n",
              "      <th>fastSixes</th>\n",
              "      <td>0</td>\n",
              "      <td>0.000000</td>\n",
              "    </tr>\n",
              "    <tr>\n",
              "      <th>trams</th>\n",
              "      <td>0</td>\n",
              "      <td>0.000000</td>\n",
              "    </tr>\n",
              "    <tr>\n",
              "      <th>base_elev</th>\n",
              "      <td>0</td>\n",
              "      <td>0.000000</td>\n",
              "    </tr>\n",
              "    <tr>\n",
              "      <th>vertical_drop</th>\n",
              "      <td>0</td>\n",
              "      <td>0.000000</td>\n",
              "    </tr>\n",
              "    <tr>\n",
              "      <th>summit_elev</th>\n",
              "      <td>0</td>\n",
              "      <td>0.000000</td>\n",
              "    </tr>\n",
              "    <tr>\n",
              "      <th>state</th>\n",
              "      <td>0</td>\n",
              "      <td>0.000000</td>\n",
              "    </tr>\n",
              "    <tr>\n",
              "      <th>surface</th>\n",
              "      <td>0</td>\n",
              "      <td>0.000000</td>\n",
              "    </tr>\n",
              "  </tbody>\n",
              "</table>\n",
              "</div>\n",
              "      <button class=\"colab-df-convert\" onclick=\"convertToInteractive('df-a38d84b8-5547-48a8-8b7f-529ffbd363cc')\"\n",
              "              title=\"Convert this dataframe to an interactive table.\"\n",
              "              style=\"display:none;\">\n",
              "        \n",
              "  <svg xmlns=\"http://www.w3.org/2000/svg\" height=\"24px\"viewBox=\"0 0 24 24\"\n",
              "       width=\"24px\">\n",
              "    <path d=\"M0 0h24v24H0V0z\" fill=\"none\"/>\n",
              "    <path d=\"M18.56 5.44l.94 2.06.94-2.06 2.06-.94-2.06-.94-.94-2.06-.94 2.06-2.06.94zm-11 1L8.5 8.5l.94-2.06 2.06-.94-2.06-.94L8.5 2.5l-.94 2.06-2.06.94zm10 10l.94 2.06.94-2.06 2.06-.94-2.06-.94-.94-2.06-.94 2.06-2.06.94z\"/><path d=\"M17.41 7.96l-1.37-1.37c-.4-.4-.92-.59-1.43-.59-.52 0-1.04.2-1.43.59L10.3 9.45l-7.72 7.72c-.78.78-.78 2.05 0 2.83L4 21.41c.39.39.9.59 1.41.59.51 0 1.02-.2 1.41-.59l7.78-7.78 2.81-2.81c.8-.78.8-2.07 0-2.86zM5.41 20L4 18.59l7.72-7.72 1.47 1.35L5.41 20z\"/>\n",
              "  </svg>\n",
              "      </button>\n",
              "      \n",
              "  <style>\n",
              "    .colab-df-container {\n",
              "      display:flex;\n",
              "      flex-wrap:wrap;\n",
              "      gap: 12px;\n",
              "    }\n",
              "\n",
              "    .colab-df-convert {\n",
              "      background-color: #E8F0FE;\n",
              "      border: none;\n",
              "      border-radius: 50%;\n",
              "      cursor: pointer;\n",
              "      display: none;\n",
              "      fill: #1967D2;\n",
              "      height: 32px;\n",
              "      padding: 0 0 0 0;\n",
              "      width: 32px;\n",
              "    }\n",
              "\n",
              "    .colab-df-convert:hover {\n",
              "      background-color: #E2EBFA;\n",
              "      box-shadow: 0px 1px 2px rgba(60, 64, 67, 0.3), 0px 1px 3px 1px rgba(60, 64, 67, 0.15);\n",
              "      fill: #174EA6;\n",
              "    }\n",
              "\n",
              "    [theme=dark] .colab-df-convert {\n",
              "      background-color: #3B4455;\n",
              "      fill: #D2E3FC;\n",
              "    }\n",
              "\n",
              "    [theme=dark] .colab-df-convert:hover {\n",
              "      background-color: #434B5C;\n",
              "      box-shadow: 0px 1px 3px 1px rgba(0, 0, 0, 0.15);\n",
              "      filter: drop-shadow(0px 1px 2px rgba(0, 0, 0, 0.3));\n",
              "      fill: #FFFFFF;\n",
              "    }\n",
              "  </style>\n",
              "\n",
              "      <script>\n",
              "        const buttonEl =\n",
              "          document.querySelector('#df-a38d84b8-5547-48a8-8b7f-529ffbd363cc button.colab-df-convert');\n",
              "        buttonEl.style.display =\n",
              "          google.colab.kernel.accessAllowed ? 'block' : 'none';\n",
              "\n",
              "        async function convertToInteractive(key) {\n",
              "          const element = document.querySelector('#df-a38d84b8-5547-48a8-8b7f-529ffbd363cc');\n",
              "          const dataTable =\n",
              "            await google.colab.kernel.invokeFunction('convertToInteractive',\n",
              "                                                     [key], {});\n",
              "          if (!dataTable) return;\n",
              "\n",
              "          const docLinkHtml = 'Like what you see? Visit the ' +\n",
              "            '<a target=\"_blank\" href=https://colab.research.google.com/notebooks/data_table.ipynb>data table notebook</a>'\n",
              "            + ' to learn more about interactive tables.';\n",
              "          element.innerHTML = '';\n",
              "          dataTable['output_type'] = 'display_data';\n",
              "          await google.colab.output.renderOutput(dataTable, element);\n",
              "          const docLink = document.createElement('div');\n",
              "          docLink.innerHTML = docLinkHtml;\n",
              "          element.appendChild(docLink);\n",
              "        }\n",
              "      </script>\n",
              "    </div>\n",
              "  </div>\n",
              "  "
            ]
          },
          "metadata": {},
          "execution_count": 14
        }
      ],
      "source": [
        "miss_value = pd.concat([df.isnull().sum(), 100*df.isnull().mean()], axis=1)\n",
        "miss_value.columns=['count', 'Percentage']\n",
        "miss_value.sort_values(by='count', ascending=False)"
      ]
    },
    {
      "cell_type": "markdown",
      "id": "fd399fa9",
      "metadata": {
        "id": "fd399fa9"
      },
      "source": [
        "Since 'fastEight' and 'NightSkiing_ac' variables have many missing values, I am dropping them.\n",
        "'AdultWeekday' and 'AdultWeekend' (prices) are my target variable but similar to each other. Since 'AdultWeekday' has more missing values than 'AdultWeekend', I will keep only 'AdultWeekend' for further work with data. "
      ]
    },
    {
      "cell_type": "code",
      "execution_count": null,
      "id": "36d2bfef",
      "metadata": {
        "id": "36d2bfef"
      },
      "outputs": [],
      "source": [
        "df2 = df.drop(['fastEight', 'NightSkiing_ac', 'AdultWeekday'], axis = 1)"
      ]
    },
    {
      "cell_type": "code",
      "execution_count": null,
      "id": "a4d7bc37",
      "metadata": {
        "id": "a4d7bc37",
        "outputId": "478f0fc2-91b5-40f7-94dc-36c1b12bca3a"
      },
      "outputs": [
        {
          "data": {
            "text/plain": [
              "(330, 24)"
            ]
          },
          "execution_count": 62,
          "metadata": {},
          "output_type": "execute_result"
        }
      ],
      "source": [
        "df2.shape"
      ]
    },
    {
      "cell_type": "code",
      "execution_count": null,
      "id": "22e19e5b",
      "metadata": {
        "id": "22e19e5b",
        "outputId": "3bdc685b-4a36-4da3-f840-a385546f2622"
      },
      "outputs": [
        {
          "data": {
            "text/plain": [
              "Crystal Mountain    2\n",
              "Alyeska Resort      1\n",
              "Brandywine          1\n",
              "Boston Mills        1\n",
              "Alpine Valley       1\n",
              "Name: Name, dtype: int64"
            ]
          },
          "execution_count": 63,
          "metadata": {},
          "output_type": "execute_result"
        }
      ],
      "source": [
        "df2['Name'].value_counts().head()"
      ]
    },
    {
      "cell_type": "code",
      "execution_count": null,
      "id": "fbef52da",
      "metadata": {
        "id": "fbef52da",
        "outputId": "c137d336-e342-4cf6-fb6e-0a3346010072"
      },
      "outputs": [
        {
          "data": {
            "text/html": [
              "<div>\n",
              "<style scoped>\n",
              "    .dataframe tbody tr th:only-of-type {\n",
              "        vertical-align: middle;\n",
              "    }\n",
              "\n",
              "    .dataframe tbody tr th {\n",
              "        vertical-align: top;\n",
              "    }\n",
              "\n",
              "    .dataframe thead th {\n",
              "        text-align: right;\n",
              "    }\n",
              "</style>\n",
              "<table border=\"1\" class=\"dataframe\">\n",
              "  <thead>\n",
              "    <tr style=\"text-align: right;\">\n",
              "      <th></th>\n",
              "      <th>Name</th>\n",
              "      <th>Region</th>\n",
              "      <th>state</th>\n",
              "      <th>summit_elev</th>\n",
              "      <th>vertical_drop</th>\n",
              "      <th>base_elev</th>\n",
              "      <th>trams</th>\n",
              "      <th>fastSixes</th>\n",
              "      <th>fastQuads</th>\n",
              "      <th>quad</th>\n",
              "      <th>...</th>\n",
              "      <th>Runs</th>\n",
              "      <th>TerrainParks</th>\n",
              "      <th>LongestRun_mi</th>\n",
              "      <th>SkiableTerrain_ac</th>\n",
              "      <th>Snow Making_ac</th>\n",
              "      <th>daysOpenLastYear</th>\n",
              "      <th>yearsOpen</th>\n",
              "      <th>averageSnowfall</th>\n",
              "      <th>AdultWeekend</th>\n",
              "      <th>projectedDaysOpen</th>\n",
              "    </tr>\n",
              "  </thead>\n",
              "  <tbody>\n",
              "    <tr>\n",
              "      <th>104</th>\n",
              "      <td>Crystal Mountain</td>\n",
              "      <td>Michigan</td>\n",
              "      <td>Michigan</td>\n",
              "      <td>1132</td>\n",
              "      <td>375</td>\n",
              "      <td>757</td>\n",
              "      <td>0</td>\n",
              "      <td>0</td>\n",
              "      <td>1</td>\n",
              "      <td>3</td>\n",
              "      <td>...</td>\n",
              "      <td>58.0</td>\n",
              "      <td>3.0</td>\n",
              "      <td>0.3</td>\n",
              "      <td>102.0</td>\n",
              "      <td>96.0</td>\n",
              "      <td>120.0</td>\n",
              "      <td>63.0</td>\n",
              "      <td>132.0</td>\n",
              "      <td>64.0</td>\n",
              "      <td>135.0</td>\n",
              "    </tr>\n",
              "    <tr>\n",
              "      <th>295</th>\n",
              "      <td>Crystal Mountain</td>\n",
              "      <td>Washington</td>\n",
              "      <td>Washington</td>\n",
              "      <td>7012</td>\n",
              "      <td>3100</td>\n",
              "      <td>4400</td>\n",
              "      <td>1</td>\n",
              "      <td>2</td>\n",
              "      <td>2</td>\n",
              "      <td>1</td>\n",
              "      <td>...</td>\n",
              "      <td>57.0</td>\n",
              "      <td>1.0</td>\n",
              "      <td>2.5</td>\n",
              "      <td>2600.0</td>\n",
              "      <td>10.0</td>\n",
              "      <td>NaN</td>\n",
              "      <td>57.0</td>\n",
              "      <td>486.0</td>\n",
              "      <td>99.0</td>\n",
              "      <td>NaN</td>\n",
              "    </tr>\n",
              "  </tbody>\n",
              "</table>\n",
              "<p>2 rows × 24 columns</p>\n",
              "</div>"
            ],
            "text/plain": [
              "                 Name      Region       state  summit_elev  vertical_drop  \\\n",
              "104  Crystal Mountain    Michigan    Michigan         1132            375   \n",
              "295  Crystal Mountain  Washington  Washington         7012           3100   \n",
              "\n",
              "     base_elev  trams  fastSixes  fastQuads  quad  ...  Runs  TerrainParks  \\\n",
              "104        757      0          0          1     3  ...  58.0           3.0   \n",
              "295       4400      1          2          2     1  ...  57.0           1.0   \n",
              "\n",
              "     LongestRun_mi  SkiableTerrain_ac  Snow Making_ac  daysOpenLastYear  \\\n",
              "104            0.3              102.0            96.0             120.0   \n",
              "295            2.5             2600.0            10.0               NaN   \n",
              "\n",
              "     yearsOpen  averageSnowfall  AdultWeekend  projectedDaysOpen  \n",
              "104       63.0            132.0          64.0              135.0  \n",
              "295       57.0            486.0          99.0                NaN  \n",
              "\n",
              "[2 rows x 24 columns]"
            ]
          },
          "execution_count": 64,
          "metadata": {},
          "output_type": "execute_result"
        }
      ],
      "source": [
        "df2[df2['Name'] == 'Crystal Mountain']"
      ]
    },
    {
      "cell_type": "markdown",
      "id": "b27b5baa",
      "metadata": {
        "id": "b27b5baa"
      },
      "source": [
        "There are two different ski resaurts with the same name 'Crystal Mountain'"
      ]
    },
    {
      "cell_type": "markdown",
      "id": "4ac978ca",
      "metadata": {
        "id": "4ac978ca"
      },
      "source": [
        "### scale the data and verify the scaling"
      ]
    },
    {
      "cell_type": "code",
      "execution_count": null,
      "id": "3f79de0f",
      "metadata": {
        "id": "3f79de0f"
      },
      "outputs": [],
      "source": [
        "import matplotlib.pyplot as plt\n",
        "import seaborn as sns\n",
        "import pandas as pd\n",
        "import numpy as np\n",
        "from sklearn.decomposition import PCA\n",
        "from sklearn.preprocessing import StandardScaler\n",
        "import warnings\n",
        "warnings.filterwarnings('ignore')"
      ]
    },
    {
      "cell_type": "code",
      "execution_count": null,
      "id": "69a936f4",
      "metadata": {
        "id": "69a936f4"
      },
      "outputs": [],
      "source": [
        "ski=df2.select_dtypes(exclude='object')"
      ]
    },
    {
      "cell_type": "code",
      "execution_count": null,
      "id": "743f3bb3",
      "metadata": {
        "id": "743f3bb3"
      },
      "outputs": [],
      "source": [
        "ski.dropna(inplace=True)"
      ]
    },
    {
      "cell_type": "code",
      "execution_count": null,
      "id": "76b85acc",
      "metadata": {
        "id": "76b85acc",
        "outputId": "e8894cb1-d329-4b22-e531-758b43c42877"
      },
      "outputs": [
        {
          "data": {
            "text/plain": [
              "21"
            ]
          },
          "execution_count": 77,
          "metadata": {},
          "output_type": "execute_result"
        }
      ],
      "source": [
        "len(ski.columns)"
      ]
    },
    {
      "cell_type": "markdown",
      "id": "2c894618",
      "metadata": {
        "id": "2c894618"
      },
      "source": [
        "In order to process our data, we need to convert it into array:"
      ]
    },
    {
      "cell_type": "code",
      "execution_count": null,
      "id": "76f230cf",
      "metadata": {
        "id": "76f230cf"
      },
      "outputs": [],
      "source": [
        "X=ski.values"
      ]
    },
    {
      "cell_type": "code",
      "execution_count": null,
      "id": "9b624821",
      "metadata": {
        "id": "9b624821"
      },
      "outputs": [],
      "source": [
        "X=StandardScaler().fit_transform(ski)"
      ]
    },
    {
      "cell_type": "markdown",
      "id": "414dcc09",
      "metadata": {
        "id": "414dcc09"
      },
      "source": [
        "### fit the PCA transformation (learn the transformation from the data)"
      ]
    },
    {
      "cell_type": "code",
      "execution_count": null,
      "id": "005ce637",
      "metadata": {
        "id": "005ce637"
      },
      "outputs": [],
      "source": [
        "pca=PCA(n_components=16)"
      ]
    },
    {
      "cell_type": "code",
      "execution_count": null,
      "id": "5ae6578f",
      "metadata": {
        "id": "5ae6578f",
        "outputId": "9e991ccd-0671-4081-8430-0f012e48c546"
      },
      "outputs": [
        {
          "name": "stdout",
          "output_type": "stream",
          "text": [
            "[0.38927686 0.12833795 0.0672121  0.05980761 0.05744413 0.04614131\n",
            " 0.04239612 0.03738647 0.03256205 0.02802666 0.02212243 0.01920696\n",
            " 0.01652162 0.01590696 0.01314352 0.0091873 ]\n",
            "===========================================================================\n",
            "[38.93 51.76 58.48 64.46 70.2  74.81 79.05 82.79 86.05 88.85 91.06 92.98\n",
            " 94.63 96.22 97.53 98.45]\n"
          ]
        }
      ],
      "source": [
        "principalComponents=pca.fit_transform(X)\n",
        "exp_var=pca.explained_variance_ratio_\n",
        "cumsum_var=np.cumsum(np.round(pca.explained_variance_ratio_,decimals=4)*100)\n",
        "print(exp_var)\n",
        "print('='*75)\n",
        "print(cumsum_var)"
      ]
    },
    {
      "cell_type": "markdown",
      "id": "0f4ed282",
      "metadata": {
        "id": "0f4ed282"
      },
      "source": [
        "### Draw scree plot"
      ]
    },
    {
      "cell_type": "code",
      "execution_count": null,
      "id": "ec32c9a2",
      "metadata": {
        "id": "ec32c9a2",
        "outputId": "ba2e73b3-8541-42cc-9077-ea99fc19a940"
      },
      "outputs": [
        {
          "data": {
            "text/plain": [
              "Text(0, 0.5, '% of Variance Explained')"
            ]
          },
          "execution_count": 88,
          "metadata": {},
          "output_type": "execute_result"
        },
        {
          "data": {
            "image/png": "[encoded data removed]",
            "text/plain": [
              "<Figure size 432x288 with 1 Axes>"
            ]
          },
          "metadata": {
            "needs_background": "light"
          },
          "output_type": "display_data"
        }
      ],
      "source": [
        "plt.plot(cumsum_var)\n",
        "plt.xlabel('Number of Components')\n",
        "plt.ylabel('% of Variance Explained')"
      ]
    },
    {
      "cell_type": "code",
      "execution_count": null,
      "id": "78231361",
      "metadata": {
        "scrolled": false,
        "id": "78231361",
        "outputId": "e0352adc-591d-4db5-db3e-a033fb9a59ef"
      },
      "outputs": [
        {
          "data": {
            "text/html": [
              "<div>\n",
              "<style scoped>\n",
              "    .dataframe tbody tr th:only-of-type {\n",
              "        vertical-align: middle;\n",
              "    }\n",
              "\n",
              "    .dataframe tbody tr th {\n",
              "        vertical-align: top;\n",
              "    }\n",
              "\n",
              "    .dataframe thead th {\n",
              "        text-align: right;\n",
              "    }\n",
              "</style>\n",
              "<table border=\"1\" class=\"dataframe\">\n",
              "  <thead>\n",
              "    <tr style=\"text-align: right;\">\n",
              "      <th></th>\n",
              "      <th>0</th>\n",
              "      <th>1</th>\n",
              "      <th>2</th>\n",
              "      <th>3</th>\n",
              "      <th>4</th>\n",
              "      <th>5</th>\n",
              "      <th>6</th>\n",
              "      <th>7</th>\n",
              "      <th>8</th>\n",
              "      <th>9</th>\n",
              "      <th>10</th>\n",
              "      <th>11</th>\n",
              "      <th>12</th>\n",
              "      <th>13</th>\n",
              "      <th>14</th>\n",
              "      <th>15</th>\n",
              "    </tr>\n",
              "  </thead>\n",
              "  <tbody>\n",
              "    <tr>\n",
              "      <th>0</th>\n",
              "      <td>2.868958</td>\n",
              "      <td>-1.690913</td>\n",
              "      <td>-1.283404</td>\n",
              "      <td>-1.771192</td>\n",
              "      <td>0.214376</td>\n",
              "      <td>-0.559467</td>\n",
              "      <td>0.674219</td>\n",
              "      <td>-1.928165</td>\n",
              "      <td>0.058953</td>\n",
              "      <td>1.513192</td>\n",
              "      <td>2.627222</td>\n",
              "      <td>1.725933</td>\n",
              "      <td>1.128085</td>\n",
              "      <td>1.056229</td>\n",
              "      <td>-0.803131</td>\n",
              "      <td>0.067109</td>\n",
              "    </tr>\n",
              "    <tr>\n",
              "      <th>1</th>\n",
              "      <td>-1.692175</td>\n",
              "      <td>-1.884649</td>\n",
              "      <td>2.057647</td>\n",
              "      <td>-1.475743</td>\n",
              "      <td>0.844382</td>\n",
              "      <td>-0.280479</td>\n",
              "      <td>0.320390</td>\n",
              "      <td>0.844273</td>\n",
              "      <td>-0.396328</td>\n",
              "      <td>0.915949</td>\n",
              "      <td>0.568405</td>\n",
              "      <td>1.718867</td>\n",
              "      <td>0.271178</td>\n",
              "      <td>0.355144</td>\n",
              "      <td>-0.021708</td>\n",
              "      <td>0.289736</td>\n",
              "    </tr>\n",
              "    <tr>\n",
              "      <th>2</th>\n",
              "      <td>-2.368053</td>\n",
              "      <td>-0.837743</td>\n",
              "      <td>-1.610904</td>\n",
              "      <td>-0.001809</td>\n",
              "      <td>-0.405922</td>\n",
              "      <td>-1.409972</td>\n",
              "      <td>1.530091</td>\n",
              "      <td>-0.782317</td>\n",
              "      <td>0.883526</td>\n",
              "      <td>-0.136488</td>\n",
              "      <td>-0.321174</td>\n",
              "      <td>-0.509525</td>\n",
              "      <td>-0.493655</td>\n",
              "      <td>0.070584</td>\n",
              "      <td>0.806254</td>\n",
              "      <td>0.350135</td>\n",
              "    </tr>\n",
              "    <tr>\n",
              "      <th>3</th>\n",
              "      <td>2.556991</td>\n",
              "      <td>-1.654131</td>\n",
              "      <td>0.101134</td>\n",
              "      <td>2.094891</td>\n",
              "      <td>-0.837226</td>\n",
              "      <td>2.066728</td>\n",
              "      <td>0.377161</td>\n",
              "      <td>0.261359</td>\n",
              "      <td>-1.396092</td>\n",
              "      <td>-0.341004</td>\n",
              "      <td>0.046915</td>\n",
              "      <td>0.487664</td>\n",
              "      <td>-0.772660</td>\n",
              "      <td>0.247562</td>\n",
              "      <td>-0.189714</td>\n",
              "      <td>-0.234548</td>\n",
              "    </tr>\n",
              "    <tr>\n",
              "      <th>4</th>\n",
              "      <td>1.184262</td>\n",
              "      <td>-2.535673</td>\n",
              "      <td>0.212599</td>\n",
              "      <td>0.448491</td>\n",
              "      <td>-1.317949</td>\n",
              "      <td>-0.780288</td>\n",
              "      <td>-0.850580</td>\n",
              "      <td>0.858503</td>\n",
              "      <td>-1.455751</td>\n",
              "      <td>-0.196045</td>\n",
              "      <td>0.313807</td>\n",
              "      <td>-0.248550</td>\n",
              "      <td>-0.552570</td>\n",
              "      <td>-0.185635</td>\n",
              "      <td>-0.211994</td>\n",
              "      <td>-0.145403</td>\n",
              "    </tr>\n",
              "    <tr>\n",
              "      <th>...</th>\n",
              "      <td>...</td>\n",
              "      <td>...</td>\n",
              "      <td>...</td>\n",
              "      <td>...</td>\n",
              "      <td>...</td>\n",
              "      <td>...</td>\n",
              "      <td>...</td>\n",
              "      <td>...</td>\n",
              "      <td>...</td>\n",
              "      <td>...</td>\n",
              "      <td>...</td>\n",
              "      <td>...</td>\n",
              "      <td>...</td>\n",
              "      <td>...</td>\n",
              "      <td>...</td>\n",
              "      <td>...</td>\n",
              "    </tr>\n",
              "    <tr>\n",
              "      <th>162</th>\n",
              "      <td>-1.290822</td>\n",
              "      <td>-0.790435</td>\n",
              "      <td>-0.385710</td>\n",
              "      <td>-1.115200</td>\n",
              "      <td>1.266284</td>\n",
              "      <td>0.240485</td>\n",
              "      <td>0.409306</td>\n",
              "      <td>1.304021</td>\n",
              "      <td>0.212461</td>\n",
              "      <td>0.223031</td>\n",
              "      <td>0.664123</td>\n",
              "      <td>-0.079840</td>\n",
              "      <td>0.965592</td>\n",
              "      <td>-0.447087</td>\n",
              "      <td>0.539924</td>\n",
              "      <td>0.183959</td>\n",
              "    </tr>\n",
              "    <tr>\n",
              "      <th>163</th>\n",
              "      <td>-1.088837</td>\n",
              "      <td>1.176298</td>\n",
              "      <td>-1.901226</td>\n",
              "      <td>0.304081</td>\n",
              "      <td>0.545255</td>\n",
              "      <td>0.825306</td>\n",
              "      <td>-1.043823</td>\n",
              "      <td>-0.252479</td>\n",
              "      <td>0.285684</td>\n",
              "      <td>-0.483113</td>\n",
              "      <td>0.683971</td>\n",
              "      <td>-0.065612</td>\n",
              "      <td>-0.260995</td>\n",
              "      <td>-0.521273</td>\n",
              "      <td>0.143502</td>\n",
              "      <td>-0.038520</td>\n",
              "    </tr>\n",
              "    <tr>\n",
              "      <th>164</th>\n",
              "      <td>-1.877088</td>\n",
              "      <td>-2.455798</td>\n",
              "      <td>0.263492</td>\n",
              "      <td>0.501151</td>\n",
              "      <td>-0.225242</td>\n",
              "      <td>0.295620</td>\n",
              "      <td>0.380820</td>\n",
              "      <td>-0.434883</td>\n",
              "      <td>-0.598826</td>\n",
              "      <td>-0.654143</td>\n",
              "      <td>0.075475</td>\n",
              "      <td>-1.396820</td>\n",
              "      <td>-0.225537</td>\n",
              "      <td>-0.465205</td>\n",
              "      <td>0.171578</td>\n",
              "      <td>-0.144368</td>\n",
              "    </tr>\n",
              "    <tr>\n",
              "      <th>165</th>\n",
              "      <td>-1.616027</td>\n",
              "      <td>-2.838790</td>\n",
              "      <td>1.601234</td>\n",
              "      <td>0.536604</td>\n",
              "      <td>-0.119600</td>\n",
              "      <td>1.324562</td>\n",
              "      <td>-1.205539</td>\n",
              "      <td>-0.561696</td>\n",
              "      <td>-0.520134</td>\n",
              "      <td>0.157388</td>\n",
              "      <td>0.797736</td>\n",
              "      <td>0.196579</td>\n",
              "      <td>0.476525</td>\n",
              "      <td>-0.222758</td>\n",
              "      <td>-0.247474</td>\n",
              "      <td>0.076515</td>\n",
              "    </tr>\n",
              "    <tr>\n",
              "      <th>166</th>\n",
              "      <td>0.191147</td>\n",
              "      <td>-2.741730</td>\n",
              "      <td>-0.772247</td>\n",
              "      <td>0.330139</td>\n",
              "      <td>0.148384</td>\n",
              "      <td>1.194323</td>\n",
              "      <td>-0.470683</td>\n",
              "      <td>0.331018</td>\n",
              "      <td>-0.029303</td>\n",
              "      <td>0.298200</td>\n",
              "      <td>0.332364</td>\n",
              "      <td>-0.477633</td>\n",
              "      <td>0.833896</td>\n",
              "      <td>0.104822</td>\n",
              "      <td>-0.171623</td>\n",
              "      <td>-0.083923</td>\n",
              "    </tr>\n",
              "  </tbody>\n",
              "</table>\n",
              "<p>167 rows × 16 columns</p>\n",
              "</div>"
            ],
            "text/plain": [
              "           0         1         2         3         4         5         6   \\\n",
              "0    2.868958 -1.690913 -1.283404 -1.771192  0.214376 -0.559467  0.674219   \n",
              "1   -1.692175 -1.884649  2.057647 -1.475743  0.844382 -0.280479  0.320390   \n",
              "2   -2.368053 -0.837743 -1.610904 -0.001809 -0.405922 -1.409972  1.530091   \n",
              "3    2.556991 -1.654131  0.101134  2.094891 -0.837226  2.066728  0.377161   \n",
              "4    1.184262 -2.535673  0.212599  0.448491 -1.317949 -0.780288 -0.850580   \n",
              "..        ...       ...       ...       ...       ...       ...       ...   \n",
              "162 -1.290822 -0.790435 -0.385710 -1.115200  1.266284  0.240485  0.409306   \n",
              "163 -1.088837  1.176298 -1.901226  0.304081  0.545255  0.825306 -1.043823   \n",
              "164 -1.877088 -2.455798  0.263492  0.501151 -0.225242  0.295620  0.380820   \n",
              "165 -1.616027 -2.838790  1.601234  0.536604 -0.119600  1.324562 -1.205539   \n",
              "166  0.191147 -2.741730 -0.772247  0.330139  0.148384  1.194323 -0.470683   \n",
              "\n",
              "           7         8         9         10        11        12        13  \\\n",
              "0   -1.928165  0.058953  1.513192  2.627222  1.725933  1.128085  1.056229   \n",
              "1    0.844273 -0.396328  0.915949  0.568405  1.718867  0.271178  0.355144   \n",
              "2   -0.782317  0.883526 -0.136488 -0.321174 -0.509525 -0.493655  0.070584   \n",
              "3    0.261359 -1.396092 -0.341004  0.046915  0.487664 -0.772660  0.247562   \n",
              "4    0.858503 -1.455751 -0.196045  0.313807 -0.248550 -0.552570 -0.185635   \n",
              "..        ...       ...       ...       ...       ...       ...       ...   \n",
              "162  1.304021  0.212461  0.223031  0.664123 -0.079840  0.965592 -0.447087   \n",
              "163 -0.252479  0.285684 -0.483113  0.683971 -0.065612 -0.260995 -0.521273   \n",
              "164 -0.434883 -0.598826 -0.654143  0.075475 -1.396820 -0.225537 -0.465205   \n",
              "165 -0.561696 -0.520134  0.157388  0.797736  0.196579  0.476525 -0.222758   \n",
              "166  0.331018 -0.029303  0.298200  0.332364 -0.477633  0.833896  0.104822   \n",
              "\n",
              "           14        15  \n",
              "0   -0.803131  0.067109  \n",
              "1   -0.021708  0.289736  \n",
              "2    0.806254  0.350135  \n",
              "3   -0.189714 -0.234548  \n",
              "4   -0.211994 -0.145403  \n",
              "..        ...       ...  \n",
              "162  0.539924  0.183959  \n",
              "163  0.143502 -0.038520  \n",
              "164  0.171578 -0.144368  \n",
              "165 -0.247474  0.076515  \n",
              "166 -0.171623 -0.083923  \n",
              "\n",
              "[167 rows x 16 columns]"
            ]
          },
          "execution_count": 90,
          "metadata": {},
          "output_type": "execute_result"
        }
      ],
      "source": [
        "pd.DataFrame(principalComponents)"
      ]
    },
    {
      "cell_type": "markdown",
      "id": "8d392c92",
      "metadata": {
        "id": "8d392c92"
      },
      "source": [
        "### Find the Optimum Number of Components"
      ]
    },
    {
      "cell_type": "code",
      "execution_count": null,
      "id": "0b891f89",
      "metadata": {
        "id": "0b891f89",
        "outputId": "ed8a8767-3f70-48e2-b079-ab9c528ca665"
      },
      "outputs": [
        {
          "data": {
            "text/html": [
              "<div>\n",
              "<style scoped>\n",
              "    .dataframe tbody tr th:only-of-type {\n",
              "        vertical-align: middle;\n",
              "    }\n",
              "\n",
              "    .dataframe tbody tr th {\n",
              "        vertical-align: top;\n",
              "    }\n",
              "\n",
              "    .dataframe thead th {\n",
              "        text-align: right;\n",
              "    }\n",
              "</style>\n",
              "<table border=\"1\" class=\"dataframe\">\n",
              "  <thead>\n",
              "    <tr style=\"text-align: right;\">\n",
              "      <th></th>\n",
              "      <th>0</th>\n",
              "      <th>1</th>\n",
              "      <th>2</th>\n",
              "      <th>3</th>\n",
              "      <th>4</th>\n",
              "    </tr>\n",
              "  </thead>\n",
              "  <tbody>\n",
              "    <tr>\n",
              "      <th>0</th>\n",
              "      <td>2.868958</td>\n",
              "      <td>-1.690913</td>\n",
              "      <td>-1.283404</td>\n",
              "      <td>-1.771192</td>\n",
              "      <td>0.214376</td>\n",
              "    </tr>\n",
              "    <tr>\n",
              "      <th>1</th>\n",
              "      <td>-1.692175</td>\n",
              "      <td>-1.884649</td>\n",
              "      <td>2.057647</td>\n",
              "      <td>-1.475743</td>\n",
              "      <td>0.844382</td>\n",
              "    </tr>\n",
              "    <tr>\n",
              "      <th>2</th>\n",
              "      <td>-2.368053</td>\n",
              "      <td>-0.837743</td>\n",
              "      <td>-1.610904</td>\n",
              "      <td>-0.001809</td>\n",
              "      <td>-0.405922</td>\n",
              "    </tr>\n",
              "    <tr>\n",
              "      <th>3</th>\n",
              "      <td>2.556991</td>\n",
              "      <td>-1.654131</td>\n",
              "      <td>0.101134</td>\n",
              "      <td>2.094891</td>\n",
              "      <td>-0.837226</td>\n",
              "    </tr>\n",
              "    <tr>\n",
              "      <th>4</th>\n",
              "      <td>1.184262</td>\n",
              "      <td>-2.535673</td>\n",
              "      <td>0.212599</td>\n",
              "      <td>0.448491</td>\n",
              "      <td>-1.317949</td>\n",
              "    </tr>\n",
              "    <tr>\n",
              "      <th>...</th>\n",
              "      <td>...</td>\n",
              "      <td>...</td>\n",
              "      <td>...</td>\n",
              "      <td>...</td>\n",
              "      <td>...</td>\n",
              "    </tr>\n",
              "    <tr>\n",
              "      <th>162</th>\n",
              "      <td>-1.290822</td>\n",
              "      <td>-0.790435</td>\n",
              "      <td>-0.385710</td>\n",
              "      <td>-1.115200</td>\n",
              "      <td>1.266284</td>\n",
              "    </tr>\n",
              "    <tr>\n",
              "      <th>163</th>\n",
              "      <td>-1.088837</td>\n",
              "      <td>1.176298</td>\n",
              "      <td>-1.901226</td>\n",
              "      <td>0.304081</td>\n",
              "      <td>0.545255</td>\n",
              "    </tr>\n",
              "    <tr>\n",
              "      <th>164</th>\n",
              "      <td>-1.877088</td>\n",
              "      <td>-2.455798</td>\n",
              "      <td>0.263492</td>\n",
              "      <td>0.501151</td>\n",
              "      <td>-0.225242</td>\n",
              "    </tr>\n",
              "    <tr>\n",
              "      <th>165</th>\n",
              "      <td>-1.616027</td>\n",
              "      <td>-2.838790</td>\n",
              "      <td>1.601234</td>\n",
              "      <td>0.536604</td>\n",
              "      <td>-0.119600</td>\n",
              "    </tr>\n",
              "    <tr>\n",
              "      <th>166</th>\n",
              "      <td>0.191147</td>\n",
              "      <td>-2.741730</td>\n",
              "      <td>-0.772247</td>\n",
              "      <td>0.330139</td>\n",
              "      <td>0.148384</td>\n",
              "    </tr>\n",
              "  </tbody>\n",
              "</table>\n",
              "<p>167 rows × 5 columns</p>\n",
              "</div>"
            ],
            "text/plain": [
              "            0         1         2         3         4\n",
              "0    2.868958 -1.690913 -1.283404 -1.771192  0.214376\n",
              "1   -1.692175 -1.884649  2.057647 -1.475743  0.844382\n",
              "2   -2.368053 -0.837743 -1.610904 -0.001809 -0.405922\n",
              "3    2.556991 -1.654131  0.101134  2.094891 -0.837226\n",
              "4    1.184262 -2.535673  0.212599  0.448491 -1.317949\n",
              "..        ...       ...       ...       ...       ...\n",
              "162 -1.290822 -0.790435 -0.385710 -1.115200  1.266284\n",
              "163 -1.088837  1.176298 -1.901226  0.304081  0.545255\n",
              "164 -1.877088 -2.455798  0.263492  0.501151 -0.225242\n",
              "165 -1.616027 -2.838790  1.601234  0.536604 -0.119600\n",
              "166  0.191147 -2.741730 -0.772247  0.330139  0.148384\n",
              "\n",
              "[167 rows x 5 columns]"
            ]
          },
          "execution_count": 93,
          "metadata": {},
          "output_type": "execute_result"
        }
      ],
      "source": [
        "pd.DataFrame(principalComponents[:,:5])"
      ]
    },
    {
      "cell_type": "code",
      "execution_count": null,
      "id": "1239189c",
      "metadata": {
        "id": "1239189c"
      },
      "outputs": [],
      "source": [
        "pca=PCA(n_components=8)"
      ]
    },
    {
      "cell_type": "code",
      "execution_count": null,
      "id": "4a3e6bab",
      "metadata": {
        "id": "4a3e6bab",
        "outputId": "723cd30e-f222-4a1e-be9f-b7a498980a37"
      },
      "outputs": [
        {
          "name": "stdout",
          "output_type": "stream",
          "text": [
            "[0.38927686 0.12833795 0.0672121  0.05980761 0.05744413 0.04614131\n",
            " 0.04239612 0.03738647]\n",
            "===========================================================================\n",
            "[38.93 51.76 58.48 64.46 70.2  74.81 79.05 82.79]\n"
          ]
        }
      ],
      "source": [
        "principalComponents=pca.fit_transform(X)\n",
        "exp_var=pca.explained_variance_ratio_\n",
        "cumsum_var=np.cumsum(np.round(pca.explained_variance_ratio_,decimals=4)*100)\n",
        "print(exp_var)\n",
        "print('='*75)\n",
        "print(cumsum_var)"
      ]
    },
    {
      "cell_type": "markdown",
      "id": "441c6002",
      "metadata": {
        "id": "441c6002"
      },
      "source": [
        "To interpret, first and second principal components explain nearly 51% of the total variance and first 8 components explain over 80% of the total variance in ski data."
      ]
    },
    {
      "cell_type": "markdown",
      "id": "0d6c1c68",
      "metadata": {
        "id": "0d6c1c68"
      },
      "source": [
        "We can visualize scree plot in a different way. This time scree plot is used to access components which explains the most of variability in the data. It represents values in descending order."
      ]
    },
    {
      "cell_type": "code",
      "execution_count": null,
      "id": "8e8b4db7",
      "metadata": {
        "id": "8e8b4db7",
        "outputId": "bd039d14-ddfe-4905-a34f-6e630eb62af7"
      },
      "outputs": [
        {
          "data": {
            "text/plain": [
              "Text(0, 0.5, 'Explained of Variance')"
            ]
          },
          "execution_count": 97,
          "metadata": {},
          "output_type": "execute_result"
        },
        {
          "data": {
            "image/png": "[encoded data removed]",
            "text/plain": [
              "<Figure size 432x288 with 1 Axes>"
            ]
          },
          "metadata": {
            "needs_background": "light"
          },
          "output_type": "display_data"
        }
      ],
      "source": [
        "plt.plot(pca.explained_variance_ratio_)\n",
        "plt.xlabel('Number of Components')\n",
        "plt.ylabel('Explained of Variance')"
      ]
    },
    {
      "cell_type": "markdown",
      "id": "78334944",
      "metadata": {
        "id": "78334944"
      },
      "source": [
        "Accordingly, the first principal component explains over 35% of the variance, second one accounts for nearly 13% of the variance and son on"
      ]
    },
    {
      "cell_type": "code",
      "execution_count": null,
      "id": "8dabf76c",
      "metadata": {
        "id": "8dabf76c",
        "outputId": "12ff1f06-0ebc-4ab2-fdf0-76eb00980538"
      },
      "outputs": [
        {
          "data": {
            "image/png": "[encoded data removed]",
            "text/plain": [
              "<Figure size 432x288 with 1 Axes>"
            ]
          },
          "metadata": {
            "needs_background": "light"
          },
          "output_type": "display_data"
        }
      ],
      "source": [
        "percent_variance=np.round(pca.explained_variance_ratio_*100,decimals=2)\n",
        "plt.bar(x=range(1,9),height=percent_variance,tick_label=np.arange(1,9,1))\n",
        "plt.ylabel('Percentage of Variance Explained')\n",
        "plt.xlabel('Principal Components')\n",
        "plt.title('Scree Plot')\n",
        "plt.show()"
      ]
    },
    {
      "cell_type": "markdown",
      "id": "4deb1e6e",
      "metadata": {
        "id": "4deb1e6e"
      },
      "source": [
        "### Draw the biplot and interpret the relationship between features and components"
      ]
    },
    {
      "cell_type": "code",
      "execution_count": null,
      "id": "73917f7b",
      "metadata": {
        "id": "73917f7b"
      },
      "outputs": [],
      "source": [
        "X=pd.DataFrame(X,columns=ski.columns)"
      ]
    },
    {
      "cell_type": "code",
      "execution_count": null,
      "id": "82709c64",
      "metadata": {
        "scrolled": true,
        "id": "82709c64",
        "outputId": "8d44af9a-3ad3-4e08-bf9f-2fe83179d106"
      },
      "outputs": [
        {
          "data": {
            "image/png": "[encoded data removed]",
            "text/plain": [
              "<Figure size 1200x600 with 1 Axes>"
            ]
          },
          "metadata": {
            "needs_background": "light"
          },
          "output_type": "display_data"
        }
      ],
      "source": [
        "def myplot(score,coeff,labels=None):\n",
        "    xs = score[:,0]\n",
        "    ys = score[:,1]\n",
        "    n = coeff.shape[0]\n",
        "    scalex = 1.0/(xs.max() - xs.min())\n",
        "    scaley = 1.0/(ys.max() - ys.min())\n",
        "    fig = plt.figure(figsize=(12,6), dpi=100)\n",
        "    plt.scatter(xs * scalex,ys * scaley,s=5)\n",
        "    for i in range(n):\n",
        "        plt.arrow(0, 0, coeff[i,0], coeff[i,1],color = 'r',alpha = 0.5)\n",
        "        if labels is None:\n",
        "            plt.text(coeff[i,0]* 1.15, coeff[i,1] * 1.15, \"Var\"+str(i+1), color = 'green', ha = 'center', va = 'center')\n",
        "        else:\n",
        "            plt.text(coeff[i,0]* 1.15, coeff[i,1] * 1.15, labels[i], color = 'g', ha = 'center', va = 'center')\n",
        "    plt.xlabel(\"PC{}\".format(1))\n",
        "    plt.ylabel(\"PC{}\".format(2))\n",
        "    plt.grid()\n",
        "myplot(np.array(X)[:,0:2],np.transpose(pca.components_[0:2,:]),list(X.columns))\n",
        "plt.show()"
      ]
    },
    {
      "cell_type": "markdown",
      "id": "5bdea2e0",
      "metadata": {
        "id": "5bdea2e0"
      },
      "source": [
        "### Find the exact correlation between components and features using loading"
      ]
    },
    {
      "cell_type": "code",
      "execution_count": null,
      "id": "c227d536",
      "metadata": {
        "id": "c227d536"
      },
      "outputs": [],
      "source": []
    },
    {
      "cell_type": "code",
      "execution_count": null,
      "id": "64d80b46",
      "metadata": {
        "id": "64d80b46",
        "outputId": "d788c1ee-2f2c-4f00-bc28-fb2bd649a777"
      },
      "outputs": [
        {
          "data": {
            "text/html": [
              "<div>\n",
              "<style scoped>\n",
              "    .dataframe tbody tr th:only-of-type {\n",
              "        vertical-align: middle;\n",
              "    }\n",
              "\n",
              "    .dataframe tbody tr th {\n",
              "        vertical-align: top;\n",
              "    }\n",
              "\n",
              "    .dataframe thead th {\n",
              "        text-align: right;\n",
              "    }\n",
              "</style>\n",
              "<table border=\"1\" class=\"dataframe\">\n",
              "  <thead>\n",
              "    <tr style=\"text-align: right;\">\n",
              "      <th></th>\n",
              "      <th>PC1</th>\n",
              "      <th>PC2</th>\n",
              "      <th>PC3</th>\n",
              "      <th>PC4</th>\n",
              "      <th>PC5</th>\n",
              "      <th>PC6</th>\n",
              "      <th>PC7</th>\n",
              "      <th>PC8</th>\n",
              "    </tr>\n",
              "  </thead>\n",
              "  <tbody>\n",
              "    <tr>\n",
              "      <th>summit_elev</th>\n",
              "      <td>0.684667</td>\n",
              "      <td>-0.588796</td>\n",
              "      <td>0.131257</td>\n",
              "      <td>0.250259</td>\n",
              "      <td>-0.093777</td>\n",
              "      <td>-0.027656</td>\n",
              "      <td>-0.053914</td>\n",
              "      <td>0.012229</td>\n",
              "    </tr>\n",
              "    <tr>\n",
              "      <th>vertical_drop</th>\n",
              "      <td>0.857893</td>\n",
              "      <td>-0.280741</td>\n",
              "      <td>0.132676</td>\n",
              "      <td>-0.126068</td>\n",
              "      <td>-0.025259</td>\n",
              "      <td>-0.044468</td>\n",
              "      <td>0.038515</td>\n",
              "      <td>0.028648</td>\n",
              "    </tr>\n",
              "    <tr>\n",
              "      <th>base_elev</th>\n",
              "      <td>0.572953</td>\n",
              "      <td>-0.611493</td>\n",
              "      <td>0.126506</td>\n",
              "      <td>0.336117</td>\n",
              "      <td>-0.104759</td>\n",
              "      <td>-0.018943</td>\n",
              "      <td>-0.074472</td>\n",
              "      <td>0.012859</td>\n",
              "    </tr>\n",
              "    <tr>\n",
              "      <th>trams</th>\n",
              "      <td>0.645194</td>\n",
              "      <td>0.119207</td>\n",
              "      <td>0.244580</td>\n",
              "      <td>-0.340553</td>\n",
              "      <td>-0.129520</td>\n",
              "      <td>0.048843</td>\n",
              "      <td>0.098380</td>\n",
              "      <td>-0.130775</td>\n",
              "    </tr>\n",
              "    <tr>\n",
              "      <th>fastSixes</th>\n",
              "      <td>0.385446</td>\n",
              "      <td>0.275277</td>\n",
              "      <td>0.108938</td>\n",
              "      <td>0.402593</td>\n",
              "      <td>-0.236928</td>\n",
              "      <td>0.385668</td>\n",
              "      <td>0.545861</td>\n",
              "      <td>0.141978</td>\n",
              "    </tr>\n",
              "    <tr>\n",
              "      <th>fastQuads</th>\n",
              "      <td>0.760113</td>\n",
              "      <td>0.217016</td>\n",
              "      <td>0.129255</td>\n",
              "      <td>-0.272184</td>\n",
              "      <td>-0.072576</td>\n",
              "      <td>-0.128830</td>\n",
              "      <td>-0.037215</td>\n",
              "      <td>-0.221499</td>\n",
              "    </tr>\n",
              "    <tr>\n",
              "      <th>quad</th>\n",
              "      <td>0.286170</td>\n",
              "      <td>0.344730</td>\n",
              "      <td>-0.527299</td>\n",
              "      <td>-0.333344</td>\n",
              "      <td>-0.148755</td>\n",
              "      <td>0.158676</td>\n",
              "      <td>-0.323995</td>\n",
              "      <td>0.111316</td>\n",
              "    </tr>\n",
              "    <tr>\n",
              "      <th>triple</th>\n",
              "      <td>0.344629</td>\n",
              "      <td>0.203813</td>\n",
              "      <td>-0.005984</td>\n",
              "      <td>0.462152</td>\n",
              "      <td>-0.423401</td>\n",
              "      <td>-0.262876</td>\n",
              "      <td>-0.417381</td>\n",
              "      <td>0.273747</td>\n",
              "    </tr>\n",
              "    <tr>\n",
              "      <th>double</th>\n",
              "      <td>0.110849</td>\n",
              "      <td>0.198047</td>\n",
              "      <td>0.274248</td>\n",
              "      <td>0.115355</td>\n",
              "      <td>0.835812</td>\n",
              "      <td>-0.160143</td>\n",
              "      <td>0.007011</td>\n",
              "      <td>0.341882</td>\n",
              "    </tr>\n",
              "    <tr>\n",
              "      <th>surface</th>\n",
              "      <td>0.151749</td>\n",
              "      <td>0.696321</td>\n",
              "      <td>0.141240</td>\n",
              "      <td>0.268682</td>\n",
              "      <td>0.024496</td>\n",
              "      <td>-0.099966</td>\n",
              "      <td>0.021508</td>\n",
              "      <td>-0.481058</td>\n",
              "    </tr>\n",
              "    <tr>\n",
              "      <th>total_chairs</th>\n",
              "      <td>0.680287</td>\n",
              "      <td>0.637668</td>\n",
              "      <td>0.094719</td>\n",
              "      <td>0.113256</td>\n",
              "      <td>0.127169</td>\n",
              "      <td>-0.161910</td>\n",
              "      <td>-0.187228</td>\n",
              "      <td>0.010591</td>\n",
              "    </tr>\n",
              "    <tr>\n",
              "      <th>Runs</th>\n",
              "      <td>0.917662</td>\n",
              "      <td>0.036116</td>\n",
              "      <td>0.112717</td>\n",
              "      <td>-0.136029</td>\n",
              "      <td>0.076339</td>\n",
              "      <td>-0.019281</td>\n",
              "      <td>-0.052748</td>\n",
              "      <td>-0.015435</td>\n",
              "    </tr>\n",
              "    <tr>\n",
              "      <th>TerrainParks</th>\n",
              "      <td>0.517143</td>\n",
              "      <td>0.552333</td>\n",
              "      <td>0.054661</td>\n",
              "      <td>0.206760</td>\n",
              "      <td>-0.009705</td>\n",
              "      <td>0.162161</td>\n",
              "      <td>0.004562</td>\n",
              "      <td>0.036484</td>\n",
              "    </tr>\n",
              "    <tr>\n",
              "      <th>LongestRun_mi</th>\n",
              "      <td>0.707587</td>\n",
              "      <td>-0.178003</td>\n",
              "      <td>0.185094</td>\n",
              "      <td>-0.296452</td>\n",
              "      <td>0.062880</td>\n",
              "      <td>0.183786</td>\n",
              "      <td>0.011648</td>\n",
              "      <td>0.020837</td>\n",
              "    </tr>\n",
              "    <tr>\n",
              "      <th>SkiableTerrain_ac</th>\n",
              "      <td>0.840252</td>\n",
              "      <td>-0.119644</td>\n",
              "      <td>0.215512</td>\n",
              "      <td>-0.018303</td>\n",
              "      <td>-0.009896</td>\n",
              "      <td>-0.149118</td>\n",
              "      <td>-0.060489</td>\n",
              "      <td>-0.136290</td>\n",
              "    </tr>\n",
              "    <tr>\n",
              "      <th>Snow Making_ac</th>\n",
              "      <td>0.698293</td>\n",
              "      <td>0.185030</td>\n",
              "      <td>-0.113776</td>\n",
              "      <td>-0.193437</td>\n",
              "      <td>-0.031304</td>\n",
              "      <td>0.158075</td>\n",
              "      <td>0.011053</td>\n",
              "      <td>0.385064</td>\n",
              "    </tr>\n",
              "    <tr>\n",
              "      <th>daysOpenLastYear</th>\n",
              "      <td>0.645261</td>\n",
              "      <td>-0.069848</td>\n",
              "      <td>-0.620513</td>\n",
              "      <td>0.146161</td>\n",
              "      <td>0.143474</td>\n",
              "      <td>-0.143036</td>\n",
              "      <td>0.208046</td>\n",
              "      <td>-0.107744</td>\n",
              "    </tr>\n",
              "    <tr>\n",
              "      <th>yearsOpen</th>\n",
              "      <td>0.285691</td>\n",
              "      <td>-0.125984</td>\n",
              "      <td>-0.093373</td>\n",
              "      <td>0.246876</td>\n",
              "      <td>0.315222</td>\n",
              "      <td>0.692433</td>\n",
              "      <td>-0.389834</td>\n",
              "      <td>-0.215413</td>\n",
              "    </tr>\n",
              "    <tr>\n",
              "      <th>averageSnowfall</th>\n",
              "      <td>0.649724</td>\n",
              "      <td>-0.498402</td>\n",
              "      <td>-0.073465</td>\n",
              "      <td>0.041374</td>\n",
              "      <td>0.120752</td>\n",
              "      <td>-0.069272</td>\n",
              "      <td>-0.045575</td>\n",
              "      <td>-0.094107</td>\n",
              "    </tr>\n",
              "    <tr>\n",
              "      <th>AdultWeekend</th>\n",
              "      <td>0.855215</td>\n",
              "      <td>0.157536</td>\n",
              "      <td>-0.041819</td>\n",
              "      <td>-0.089482</td>\n",
              "      <td>-0.102773</td>\n",
              "      <td>0.053250</td>\n",
              "      <td>0.156009</td>\n",
              "      <td>0.153702</td>\n",
              "    </tr>\n",
              "    <tr>\n",
              "      <th>projectedDaysOpen</th>\n",
              "      <td>0.627918</td>\n",
              "      <td>-0.056199</td>\n",
              "      <td>-0.623114</td>\n",
              "      <td>0.133944</td>\n",
              "      <td>0.205457</td>\n",
              "      <td>-0.180609</td>\n",
              "      <td>0.183257</td>\n",
              "      <td>-0.085453</td>\n",
              "    </tr>\n",
              "  </tbody>\n",
              "</table>\n",
              "</div>"
            ],
            "text/plain": [
              "                        PC1       PC2       PC3       PC4       PC5       PC6  \\\n",
              "summit_elev        0.684667 -0.588796  0.131257  0.250259 -0.093777 -0.027656   \n",
              "vertical_drop      0.857893 -0.280741  0.132676 -0.126068 -0.025259 -0.044468   \n",
              "base_elev          0.572953 -0.611493  0.126506  0.336117 -0.104759 -0.018943   \n",
              "trams              0.645194  0.119207  0.244580 -0.340553 -0.129520  0.048843   \n",
              "fastSixes          0.385446  0.275277  0.108938  0.402593 -0.236928  0.385668   \n",
              "fastQuads          0.760113  0.217016  0.129255 -0.272184 -0.072576 -0.128830   \n",
              "quad               0.286170  0.344730 -0.527299 -0.333344 -0.148755  0.158676   \n",
              "triple             0.344629  0.203813 -0.005984  0.462152 -0.423401 -0.262876   \n",
              "double             0.110849  0.198047  0.274248  0.115355  0.835812 -0.160143   \n",
              "surface            0.151749  0.696321  0.141240  0.268682  0.024496 -0.099966   \n",
              "total_chairs       0.680287  0.637668  0.094719  0.113256  0.127169 -0.161910   \n",
              "Runs               0.917662  0.036116  0.112717 -0.136029  0.076339 -0.019281   \n",
              "TerrainParks       0.517143  0.552333  0.054661  0.206760 -0.009705  0.162161   \n",
              "LongestRun_mi      0.707587 -0.178003  0.185094 -0.296452  0.062880  0.183786   \n",
              "SkiableTerrain_ac  0.840252 -0.119644  0.215512 -0.018303 -0.009896 -0.149118   \n",
              "Snow Making_ac     0.698293  0.185030 -0.113776 -0.193437 -0.031304  0.158075   \n",
              "daysOpenLastYear   0.645261 -0.069848 -0.620513  0.146161  0.143474 -0.143036   \n",
              "yearsOpen          0.285691 -0.125984 -0.093373  0.246876  0.315222  0.692433   \n",
              "averageSnowfall    0.649724 -0.498402 -0.073465  0.041374  0.120752 -0.069272   \n",
              "AdultWeekend       0.855215  0.157536 -0.041819 -0.089482 -0.102773  0.053250   \n",
              "projectedDaysOpen  0.627918 -0.056199 -0.623114  0.133944  0.205457 -0.180609   \n",
              "\n",
              "                        PC7       PC8  \n",
              "summit_elev       -0.053914  0.012229  \n",
              "vertical_drop      0.038515  0.028648  \n",
              "base_elev         -0.074472  0.012859  \n",
              "trams              0.098380 -0.130775  \n",
              "fastSixes          0.545861  0.141978  \n",
              "fastQuads         -0.037215 -0.221499  \n",
              "quad              -0.323995  0.111316  \n",
              "triple            -0.417381  0.273747  \n",
              "double             0.007011  0.341882  \n",
              "surface            0.021508 -0.481058  \n",
              "total_chairs      -0.187228  0.010591  \n",
              "Runs              -0.052748 -0.015435  \n",
              "TerrainParks       0.004562  0.036484  \n",
              "LongestRun_mi      0.011648  0.020837  \n",
              "SkiableTerrain_ac -0.060489 -0.136290  \n",
              "Snow Making_ac     0.011053  0.385064  \n",
              "daysOpenLastYear   0.208046 -0.107744  \n",
              "yearsOpen         -0.389834 -0.215413  \n",
              "averageSnowfall   -0.045575 -0.094107  \n",
              "AdultWeekend       0.156009  0.153702  \n",
              "projectedDaysOpen  0.183257 -0.085453  "
            ]
          },
          "execution_count": 104,
          "metadata": {},
          "output_type": "execute_result"
        }
      ],
      "source": [
        "loadings = pca.components_.T * np.sqrt(pca.explained_variance_)\n",
        "loading_matrix = pd.DataFrame(loadings, columns=['PC1', 'PC2','PC3', 'PC4','PC5', 'PC6','PC7', 'PC8'], index=ski.columns)\n",
        "loading_matrix"
      ]
    },
    {
      "cell_type": "markdown",
      "id": "835d8439",
      "metadata": {
        "id": "835d8439"
      },
      "source": [
        "We can see that'summit_elev' has great explanatory power on PC1 in the sense that PC1 and 'summit_elev' variable has a correlation coefficient of 68%, but 'summit_elev' and PC2 has negatively correlated and the correlation between these two is nearly -58%.\n",
        "\n",
        "'AdultWeekend' has also high correlation with PC1 - 85% and low correlation with PC2 - 15%."
      ]
    },
    {
      "cell_type": "markdown",
      "id": "0069920e",
      "metadata": {
        "id": "0069920e"
      },
      "source": [
        "Moreover, interestingly, 'Runs' has the highest correlation with PC1."
      ]
    }
  ],
  "metadata": {
    "kernelspec": {
      "display_name": "Python 3 (ipykernel)",
      "language": "python",
      "name": "python3"
    },
    "language_info": {
      "codemirror_mode": {
        "name": "ipython",
        "version": 3
      },
      "file_extension": ".py",
      "mimetype": "text/x-python",
      "name": "python",
      "nbconvert_exporter": "python",
      "pygments_lexer": "ipython3",
      "version": "3.9.7"
    },
    "toc": {
      "base_numbering": 1,
      "nav_menu": {},
      "number_sections": true,
      "sideBar": true,
      "skip_h1_title": false,
      "title_cell": "Table of Contents",
      "title_sidebar": "Contents",
      "toc_cell": false,
      "toc_position": {},
      "toc_section_display": true,
      "toc_window_display": false
    },
    "colab": {
      "provenance": [],
      "include_colab_link": true
    }
  },
  "nbformat": 4,
  "nbformat_minor": 5
}