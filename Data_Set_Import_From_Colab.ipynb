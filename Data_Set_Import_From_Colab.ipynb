{
  "nbformat": 4,
  "nbformat_minor": 0,
  "metadata": {
    "colab": {
      "provenance": [],
      "authorship_tag": "ABX9TyOZKSpaWhJcOuVLZRD+jvJm",
      "include_colab_link": true
    },
    "kernelspec": {
      "name": "python3",
      "display_name": "Python 3"
    },
    "language_info": {
      "name": "python"
    }
  },
  "cells": [
    {
      "cell_type": "markdown",
      "metadata": {
        "id": "view-in-github",
        "colab_type": "text"
      },
      "source": [
        "<a href=\"https://colab.research.google.com/github/ArifAygun/Magnimind-Jan2023-Assignments/blob/main/Data_Set_Import_From_Colab.ipynb\" target=\"_parent\"><img src=\"https://colab.research.google.com/assets/colab-badge.svg\" alt=\"Open In Colab\"/></a>"
      ]
    },
    {
      "cell_type": "code",
      "source": [
        "from google.colab import drive\n",
        "drive.mount('/content/drive')\n",
        "\n",
        "import pandas as pd\n",
        "import os\n",
        "\n",
        "def file_locator(file_name):\n",
        "  main_dir = os.getcwd()\n",
        "\n",
        "  for dir, folder, files in os.walk(main_dir):\n",
        "    for file in files:\n",
        "      if file == file_name:\n",
        "        file_path = os.path.join(dir,file)\n",
        "  return file_path\n",
        "\n",
        "file_path = file_locator('cars.csv')\n",
        "df_ = pd.read_csv(file_path)\n",
        "df_.sample(10).style.set_properties(**{'background-color': '#6e8b3d','color': 'white'})"
      ],
      "metadata": {
        "colab": {
          "base_uri": "https://localhost:8080/",
          "height": 591
        },
        "id": "JOx_V2nc_-vC",
        "outputId": "33b18194-9447-4d12-e39b-0129fdaa4b9c"
      },
      "execution_count": 3,
      "outputs": [
        {
          "output_type": "stream",
          "name": "stdout",
          "text": [
            "Drive already mounted at /content/drive; to attempt to forcibly remount, call drive.mount(\"/content/drive\", force_remount=True).\n"
          ]
        },
        {
          "output_type": "execute_result",
          "data": {
            "text/plain": [
              "<pandas.io.formats.style.Styler at 0x7f64d4082340>"
            ],
            "text/html": [
              "<style type=\"text/css\">\n",
              "#T_1cec6_row0_col0, #T_1cec6_row0_col1, #T_1cec6_row0_col2, #T_1cec6_row0_col3, #T_1cec6_row0_col4, #T_1cec6_row0_col5, #T_1cec6_row0_col6, #T_1cec6_row0_col7, #T_1cec6_row0_col8, #T_1cec6_row0_col9, #T_1cec6_row0_col10, #T_1cec6_row0_col11, #T_1cec6_row1_col0, #T_1cec6_row1_col1, #T_1cec6_row1_col2, #T_1cec6_row1_col3, #T_1cec6_row1_col4, #T_1cec6_row1_col5, #T_1cec6_row1_col6, #T_1cec6_row1_col7, #T_1cec6_row1_col8, #T_1cec6_row1_col9, #T_1cec6_row1_col10, #T_1cec6_row1_col11, #T_1cec6_row2_col0, #T_1cec6_row2_col1, #T_1cec6_row2_col2, #T_1cec6_row2_col3, #T_1cec6_row2_col4, #T_1cec6_row2_col5, #T_1cec6_row2_col6, #T_1cec6_row2_col7, #T_1cec6_row2_col8, #T_1cec6_row2_col9, #T_1cec6_row2_col10, #T_1cec6_row2_col11, #T_1cec6_row3_col0, #T_1cec6_row3_col1, #T_1cec6_row3_col2, #T_1cec6_row3_col3, #T_1cec6_row3_col4, #T_1cec6_row3_col5, #T_1cec6_row3_col6, #T_1cec6_row3_col7, #T_1cec6_row3_col8, #T_1cec6_row3_col9, #T_1cec6_row3_col10, #T_1cec6_row3_col11, #T_1cec6_row4_col0, #T_1cec6_row4_col1, #T_1cec6_row4_col2, #T_1cec6_row4_col3, #T_1cec6_row4_col4, #T_1cec6_row4_col5, #T_1cec6_row4_col6, #T_1cec6_row4_col7, #T_1cec6_row4_col8, #T_1cec6_row4_col9, #T_1cec6_row4_col10, #T_1cec6_row4_col11, #T_1cec6_row5_col0, #T_1cec6_row5_col1, #T_1cec6_row5_col2, #T_1cec6_row5_col3, #T_1cec6_row5_col4, #T_1cec6_row5_col5, #T_1cec6_row5_col6, #T_1cec6_row5_col7, #T_1cec6_row5_col8, #T_1cec6_row5_col9, #T_1cec6_row5_col10, #T_1cec6_row5_col11, #T_1cec6_row6_col0, #T_1cec6_row6_col1, #T_1cec6_row6_col2, #T_1cec6_row6_col3, #T_1cec6_row6_col4, #T_1cec6_row6_col5, #T_1cec6_row6_col6, #T_1cec6_row6_col7, #T_1cec6_row6_col8, #T_1cec6_row6_col9, #T_1cec6_row6_col10, #T_1cec6_row6_col11, #T_1cec6_row7_col0, #T_1cec6_row7_col1, #T_1cec6_row7_col2, #T_1cec6_row7_col3, #T_1cec6_row7_col4, #T_1cec6_row7_col5, #T_1cec6_row7_col6, #T_1cec6_row7_col7, #T_1cec6_row7_col8, #T_1cec6_row7_col9, #T_1cec6_row7_col10, #T_1cec6_row7_col11, #T_1cec6_row8_col0, #T_1cec6_row8_col1, #T_1cec6_row8_col2, #T_1cec6_row8_col3, #T_1cec6_row8_col4, #T_1cec6_row8_col5, #T_1cec6_row8_col6, #T_1cec6_row8_col7, #T_1cec6_row8_col8, #T_1cec6_row8_col9, #T_1cec6_row8_col10, #T_1cec6_row8_col11, #T_1cec6_row9_col0, #T_1cec6_row9_col1, #T_1cec6_row9_col2, #T_1cec6_row9_col3, #T_1cec6_row9_col4, #T_1cec6_row9_col5, #T_1cec6_row9_col6, #T_1cec6_row9_col7, #T_1cec6_row9_col8, #T_1cec6_row9_col9, #T_1cec6_row9_col10, #T_1cec6_row9_col11 {\n",
              "  background-color: #6e8b3d;\n",
              "  color: white;\n",
              "}\n",
              "</style>\n",
              "<table id=\"T_1cec6\" class=\"dataframe\">\n",
              "  <thead>\n",
              "    <tr>\n",
              "      <th class=\"blank level0\" >&nbsp;</th>\n",
              "      <th id=\"T_1cec6_level0_col0\" class=\"col_heading level0 col0\" >Car</th>\n",
              "      <th id=\"T_1cec6_level0_col1\" class=\"col_heading level0 col1\" >mpg</th>\n",
              "      <th id=\"T_1cec6_level0_col2\" class=\"col_heading level0 col2\" >cyl</th>\n",
              "      <th id=\"T_1cec6_level0_col3\" class=\"col_heading level0 col3\" >disp</th>\n",
              "      <th id=\"T_1cec6_level0_col4\" class=\"col_heading level0 col4\" >hp</th>\n",
              "      <th id=\"T_1cec6_level0_col5\" class=\"col_heading level0 col5\" >drat</th>\n",
              "      <th id=\"T_1cec6_level0_col6\" class=\"col_heading level0 col6\" >wt</th>\n",
              "      <th id=\"T_1cec6_level0_col7\" class=\"col_heading level0 col7\" >qsec</th>\n",
              "      <th id=\"T_1cec6_level0_col8\" class=\"col_heading level0 col8\" >vs</th>\n",
              "      <th id=\"T_1cec6_level0_col9\" class=\"col_heading level0 col9\" >am</th>\n",
              "      <th id=\"T_1cec6_level0_col10\" class=\"col_heading level0 col10\" >gear</th>\n",
              "      <th id=\"T_1cec6_level0_col11\" class=\"col_heading level0 col11\" >carb</th>\n",
              "    </tr>\n",
              "  </thead>\n",
              "  <tbody>\n",
              "    <tr>\n",
              "      <th id=\"T_1cec6_level0_row0\" class=\"row_heading level0 row0\" >1</th>\n",
              "      <td id=\"T_1cec6_row0_col0\" class=\"data row0 col0\" >Mazda RX4 Wag</td>\n",
              "      <td id=\"T_1cec6_row0_col1\" class=\"data row0 col1\" >21.000000</td>\n",
              "      <td id=\"T_1cec6_row0_col2\" class=\"data row0 col2\" >6</td>\n",
              "      <td id=\"T_1cec6_row0_col3\" class=\"data row0 col3\" >160.000000</td>\n",
              "      <td id=\"T_1cec6_row0_col4\" class=\"data row0 col4\" >110</td>\n",
              "      <td id=\"T_1cec6_row0_col5\" class=\"data row0 col5\" >3.900000</td>\n",
              "      <td id=\"T_1cec6_row0_col6\" class=\"data row0 col6\" >2.875000</td>\n",
              "      <td id=\"T_1cec6_row0_col7\" class=\"data row0 col7\" >17.020000</td>\n",
              "      <td id=\"T_1cec6_row0_col8\" class=\"data row0 col8\" >0</td>\n",
              "      <td id=\"T_1cec6_row0_col9\" class=\"data row0 col9\" >1</td>\n",
              "      <td id=\"T_1cec6_row0_col10\" class=\"data row0 col10\" >4</td>\n",
              "      <td id=\"T_1cec6_row0_col11\" class=\"data row0 col11\" >4</td>\n",
              "    </tr>\n",
              "    <tr>\n",
              "      <th id=\"T_1cec6_level0_row1\" class=\"row_heading level0 row1\" >30</th>\n",
              "      <td id=\"T_1cec6_row1_col0\" class=\"data row1 col0\" >Maserati Bora</td>\n",
              "      <td id=\"T_1cec6_row1_col1\" class=\"data row1 col1\" >15.000000</td>\n",
              "      <td id=\"T_1cec6_row1_col2\" class=\"data row1 col2\" >8</td>\n",
              "      <td id=\"T_1cec6_row1_col3\" class=\"data row1 col3\" >301.000000</td>\n",
              "      <td id=\"T_1cec6_row1_col4\" class=\"data row1 col4\" >335</td>\n",
              "      <td id=\"T_1cec6_row1_col5\" class=\"data row1 col5\" >3.540000</td>\n",
              "      <td id=\"T_1cec6_row1_col6\" class=\"data row1 col6\" >3.570000</td>\n",
              "      <td id=\"T_1cec6_row1_col7\" class=\"data row1 col7\" >14.600000</td>\n",
              "      <td id=\"T_1cec6_row1_col8\" class=\"data row1 col8\" >0</td>\n",
              "      <td id=\"T_1cec6_row1_col9\" class=\"data row1 col9\" >1</td>\n",
              "      <td id=\"T_1cec6_row1_col10\" class=\"data row1 col10\" >5</td>\n",
              "      <td id=\"T_1cec6_row1_col11\" class=\"data row1 col11\" >8</td>\n",
              "    </tr>\n",
              "    <tr>\n",
              "      <th id=\"T_1cec6_level0_row2\" class=\"row_heading level0 row2\" >27</th>\n",
              "      <td id=\"T_1cec6_row2_col0\" class=\"data row2 col0\" >Lotus Europa</td>\n",
              "      <td id=\"T_1cec6_row2_col1\" class=\"data row2 col1\" >30.400000</td>\n",
              "      <td id=\"T_1cec6_row2_col2\" class=\"data row2 col2\" >4</td>\n",
              "      <td id=\"T_1cec6_row2_col3\" class=\"data row2 col3\" >95.100000</td>\n",
              "      <td id=\"T_1cec6_row2_col4\" class=\"data row2 col4\" >113</td>\n",
              "      <td id=\"T_1cec6_row2_col5\" class=\"data row2 col5\" >3.770000</td>\n",
              "      <td id=\"T_1cec6_row2_col6\" class=\"data row2 col6\" >1.513000</td>\n",
              "      <td id=\"T_1cec6_row2_col7\" class=\"data row2 col7\" >16.900000</td>\n",
              "      <td id=\"T_1cec6_row2_col8\" class=\"data row2 col8\" >1</td>\n",
              "      <td id=\"T_1cec6_row2_col9\" class=\"data row2 col9\" >1</td>\n",
              "      <td id=\"T_1cec6_row2_col10\" class=\"data row2 col10\" >5</td>\n",
              "      <td id=\"T_1cec6_row2_col11\" class=\"data row2 col11\" >2</td>\n",
              "    </tr>\n",
              "    <tr>\n",
              "      <th id=\"T_1cec6_level0_row3\" class=\"row_heading level0 row3\" >13</th>\n",
              "      <td id=\"T_1cec6_row3_col0\" class=\"data row3 col0\" >Merc 450SLC</td>\n",
              "      <td id=\"T_1cec6_row3_col1\" class=\"data row3 col1\" >15.200000</td>\n",
              "      <td id=\"T_1cec6_row3_col2\" class=\"data row3 col2\" >8</td>\n",
              "      <td id=\"T_1cec6_row3_col3\" class=\"data row3 col3\" >275.800000</td>\n",
              "      <td id=\"T_1cec6_row3_col4\" class=\"data row3 col4\" >180</td>\n",
              "      <td id=\"T_1cec6_row3_col5\" class=\"data row3 col5\" >3.070000</td>\n",
              "      <td id=\"T_1cec6_row3_col6\" class=\"data row3 col6\" >3.780000</td>\n",
              "      <td id=\"T_1cec6_row3_col7\" class=\"data row3 col7\" >18.000000</td>\n",
              "      <td id=\"T_1cec6_row3_col8\" class=\"data row3 col8\" >0</td>\n",
              "      <td id=\"T_1cec6_row3_col9\" class=\"data row3 col9\" >0</td>\n",
              "      <td id=\"T_1cec6_row3_col10\" class=\"data row3 col10\" >3</td>\n",
              "      <td id=\"T_1cec6_row3_col11\" class=\"data row3 col11\" >3</td>\n",
              "    </tr>\n",
              "    <tr>\n",
              "      <th id=\"T_1cec6_level0_row4\" class=\"row_heading level0 row4\" >7</th>\n",
              "      <td id=\"T_1cec6_row4_col0\" class=\"data row4 col0\" >Merc 240D</td>\n",
              "      <td id=\"T_1cec6_row4_col1\" class=\"data row4 col1\" >24.400000</td>\n",
              "      <td id=\"T_1cec6_row4_col2\" class=\"data row4 col2\" >4</td>\n",
              "      <td id=\"T_1cec6_row4_col3\" class=\"data row4 col3\" >146.700000</td>\n",
              "      <td id=\"T_1cec6_row4_col4\" class=\"data row4 col4\" >62</td>\n",
              "      <td id=\"T_1cec6_row4_col5\" class=\"data row4 col5\" >3.690000</td>\n",
              "      <td id=\"T_1cec6_row4_col6\" class=\"data row4 col6\" >3.190000</td>\n",
              "      <td id=\"T_1cec6_row4_col7\" class=\"data row4 col7\" >20.000000</td>\n",
              "      <td id=\"T_1cec6_row4_col8\" class=\"data row4 col8\" >1</td>\n",
              "      <td id=\"T_1cec6_row4_col9\" class=\"data row4 col9\" >0</td>\n",
              "      <td id=\"T_1cec6_row4_col10\" class=\"data row4 col10\" >4</td>\n",
              "      <td id=\"T_1cec6_row4_col11\" class=\"data row4 col11\" >2</td>\n",
              "    </tr>\n",
              "    <tr>\n",
              "      <th id=\"T_1cec6_level0_row5\" class=\"row_heading level0 row5\" >29</th>\n",
              "      <td id=\"T_1cec6_row5_col0\" class=\"data row5 col0\" >Ferrari Dino</td>\n",
              "      <td id=\"T_1cec6_row5_col1\" class=\"data row5 col1\" >19.700000</td>\n",
              "      <td id=\"T_1cec6_row5_col2\" class=\"data row5 col2\" >6</td>\n",
              "      <td id=\"T_1cec6_row5_col3\" class=\"data row5 col3\" >145.000000</td>\n",
              "      <td id=\"T_1cec6_row5_col4\" class=\"data row5 col4\" >175</td>\n",
              "      <td id=\"T_1cec6_row5_col5\" class=\"data row5 col5\" >3.620000</td>\n",
              "      <td id=\"T_1cec6_row5_col6\" class=\"data row5 col6\" >2.770000</td>\n",
              "      <td id=\"T_1cec6_row5_col7\" class=\"data row5 col7\" >15.500000</td>\n",
              "      <td id=\"T_1cec6_row5_col8\" class=\"data row5 col8\" >0</td>\n",
              "      <td id=\"T_1cec6_row5_col9\" class=\"data row5 col9\" >1</td>\n",
              "      <td id=\"T_1cec6_row5_col10\" class=\"data row5 col10\" >5</td>\n",
              "      <td id=\"T_1cec6_row5_col11\" class=\"data row5 col11\" >6</td>\n",
              "    </tr>\n",
              "    <tr>\n",
              "      <th id=\"T_1cec6_level0_row6\" class=\"row_heading level0 row6\" >3</th>\n",
              "      <td id=\"T_1cec6_row6_col0\" class=\"data row6 col0\" >Hornet 4 Drive</td>\n",
              "      <td id=\"T_1cec6_row6_col1\" class=\"data row6 col1\" >21.400000</td>\n",
              "      <td id=\"T_1cec6_row6_col2\" class=\"data row6 col2\" >6</td>\n",
              "      <td id=\"T_1cec6_row6_col3\" class=\"data row6 col3\" >258.000000</td>\n",
              "      <td id=\"T_1cec6_row6_col4\" class=\"data row6 col4\" >110</td>\n",
              "      <td id=\"T_1cec6_row6_col5\" class=\"data row6 col5\" >3.080000</td>\n",
              "      <td id=\"T_1cec6_row6_col6\" class=\"data row6 col6\" >3.215000</td>\n",
              "      <td id=\"T_1cec6_row6_col7\" class=\"data row6 col7\" >19.440000</td>\n",
              "      <td id=\"T_1cec6_row6_col8\" class=\"data row6 col8\" >1</td>\n",
              "      <td id=\"T_1cec6_row6_col9\" class=\"data row6 col9\" >0</td>\n",
              "      <td id=\"T_1cec6_row6_col10\" class=\"data row6 col10\" >3</td>\n",
              "      <td id=\"T_1cec6_row6_col11\" class=\"data row6 col11\" >1</td>\n",
              "    </tr>\n",
              "    <tr>\n",
              "      <th id=\"T_1cec6_level0_row7\" class=\"row_heading level0 row7\" >16</th>\n",
              "      <td id=\"T_1cec6_row7_col0\" class=\"data row7 col0\" >Chrysler Imperial</td>\n",
              "      <td id=\"T_1cec6_row7_col1\" class=\"data row7 col1\" >14.700000</td>\n",
              "      <td id=\"T_1cec6_row7_col2\" class=\"data row7 col2\" >8</td>\n",
              "      <td id=\"T_1cec6_row7_col3\" class=\"data row7 col3\" >440.000000</td>\n",
              "      <td id=\"T_1cec6_row7_col4\" class=\"data row7 col4\" >230</td>\n",
              "      <td id=\"T_1cec6_row7_col5\" class=\"data row7 col5\" >3.230000</td>\n",
              "      <td id=\"T_1cec6_row7_col6\" class=\"data row7 col6\" >5.345000</td>\n",
              "      <td id=\"T_1cec6_row7_col7\" class=\"data row7 col7\" >17.420000</td>\n",
              "      <td id=\"T_1cec6_row7_col8\" class=\"data row7 col8\" >0</td>\n",
              "      <td id=\"T_1cec6_row7_col9\" class=\"data row7 col9\" >0</td>\n",
              "      <td id=\"T_1cec6_row7_col10\" class=\"data row7 col10\" >3</td>\n",
              "      <td id=\"T_1cec6_row7_col11\" class=\"data row7 col11\" >4</td>\n",
              "    </tr>\n",
              "    <tr>\n",
              "      <th id=\"T_1cec6_level0_row8\" class=\"row_heading level0 row8\" >26</th>\n",
              "      <td id=\"T_1cec6_row8_col0\" class=\"data row8 col0\" >Porsche 914-2</td>\n",
              "      <td id=\"T_1cec6_row8_col1\" class=\"data row8 col1\" >26.000000</td>\n",
              "      <td id=\"T_1cec6_row8_col2\" class=\"data row8 col2\" >4</td>\n",
              "      <td id=\"T_1cec6_row8_col3\" class=\"data row8 col3\" >120.300000</td>\n",
              "      <td id=\"T_1cec6_row8_col4\" class=\"data row8 col4\" >91</td>\n",
              "      <td id=\"T_1cec6_row8_col5\" class=\"data row8 col5\" >4.430000</td>\n",
              "      <td id=\"T_1cec6_row8_col6\" class=\"data row8 col6\" >2.140000</td>\n",
              "      <td id=\"T_1cec6_row8_col7\" class=\"data row8 col7\" >16.700000</td>\n",
              "      <td id=\"T_1cec6_row8_col8\" class=\"data row8 col8\" >0</td>\n",
              "      <td id=\"T_1cec6_row8_col9\" class=\"data row8 col9\" >1</td>\n",
              "      <td id=\"T_1cec6_row8_col10\" class=\"data row8 col10\" >5</td>\n",
              "      <td id=\"T_1cec6_row8_col11\" class=\"data row8 col11\" >2</td>\n",
              "    </tr>\n",
              "    <tr>\n",
              "      <th id=\"T_1cec6_level0_row9\" class=\"row_heading level0 row9\" >10</th>\n",
              "      <td id=\"T_1cec6_row9_col0\" class=\"data row9 col0\" >Merc 280C</td>\n",
              "      <td id=\"T_1cec6_row9_col1\" class=\"data row9 col1\" >17.800000</td>\n",
              "      <td id=\"T_1cec6_row9_col2\" class=\"data row9 col2\" >6</td>\n",
              "      <td id=\"T_1cec6_row9_col3\" class=\"data row9 col3\" >167.600000</td>\n",
              "      <td id=\"T_1cec6_row9_col4\" class=\"data row9 col4\" >123</td>\n",
              "      <td id=\"T_1cec6_row9_col5\" class=\"data row9 col5\" >3.920000</td>\n",
              "      <td id=\"T_1cec6_row9_col6\" class=\"data row9 col6\" >3.440000</td>\n",
              "      <td id=\"T_1cec6_row9_col7\" class=\"data row9 col7\" >18.900000</td>\n",
              "      <td id=\"T_1cec6_row9_col8\" class=\"data row9 col8\" >1</td>\n",
              "      <td id=\"T_1cec6_row9_col9\" class=\"data row9 col9\" >0</td>\n",
              "      <td id=\"T_1cec6_row9_col10\" class=\"data row9 col10\" >4</td>\n",
              "      <td id=\"T_1cec6_row9_col11\" class=\"data row9 col11\" >4</td>\n",
              "    </tr>\n",
              "  </tbody>\n",
              "</table>\n"
            ]
          },
          "metadata": {},
          "execution_count": 3
        }
      ]
    },
    {
      "cell_type": "markdown",
      "source": [
        "."
      ],
      "metadata": {
        "id": "_r_yk_0m_9q9"
      }
    },
    {
      "cell_type": "markdown",
      "source": [
        "."
      ],
      "metadata": {
        "id": "lvcOyPWZ_9ni"
      }
    },
    {
      "cell_type": "code",
      "execution_count": null,
      "metadata": {
        "id": "GJpurqniQLX6"
      },
      "outputs": [],
      "source": [
        "from google.colab import drive\n",
        "drive.mount('/content/drive')"
      ]
    },
    {
      "cell_type": "code",
      "source": [
        "import pandas as pd\n",
        "import os\n",
        "\n",
        "def file_locator(file_name):\n",
        "  main_dir = os.getcwd()\n",
        "\n",
        "  for dir, folder, files in os.walk(main_dir):\n",
        "    for file in files:\n",
        "      if file == file_name:\n",
        "        file_path = os.path.join(dir,file)\n",
        "  return file_path\n",
        "\n",
        "file_path = file_locator('boston_house_prices.csv')\n",
        "data = pd.read_csv(file_path)\n",
        "data.head()"
      ],
      "metadata": {
        "id": "mIj082jbQP9Z"
      },
      "execution_count": null,
      "outputs": []
    }
  ]
}