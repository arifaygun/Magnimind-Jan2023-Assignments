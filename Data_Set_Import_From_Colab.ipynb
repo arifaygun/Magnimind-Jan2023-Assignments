{
  "nbformat": 4,
  "nbformat_minor": 0,
  "metadata": {
    "colab": {
      "provenance": [],
      "authorship_tag": "ABX9TyPlOcQNpZRzp6dO7C5bSzPz",
      "include_colab_link": true
    },
    "kernelspec": {
      "name": "python3",
      "display_name": "Python 3"
    },
    "language_info": {
      "name": "python"
    }
  },
  "cells": [
    {
      "cell_type": "markdown",
      "metadata": {
        "id": "view-in-github",
        "colab_type": "text"
      },
      "source": [
        "<a href=\"https://colab.research.google.com/github/ArifAygun/Magnimind-Jan2023-Assignments/blob/main/Data_Set_Import_From_Colab.ipynb\" target=\"_parent\"><img src=\"https://colab.research.google.com/assets/colab-badge.svg\" alt=\"Open In Colab\"/></a>"
      ]
    },
    {
      "cell_type": "code",
      "source": [
        "from google.colab import drive\n",
        "drive.mount('/content/drive')\n",
        "\n",
        "import pandas as pd\n",
        "import os\n",
        "\n",
        "def file_locator(file_name):\n",
        "  main_dir = os.getcwd()\n",
        "\n",
        "  for dir, folder, files in os.walk(main_dir):\n",
        "    for file in files:\n",
        "      if file == file_name:\n",
        "        file_path = os.path.join(dir,file)\n",
        "  return file_path\n",
        "\n",
        "file_path = file_locator('cars.csv')\n",
        "df_ = pd.read_csv(file_path)\n",
        "df_.sample(10).style.set_properties(**{'background-color': '#802000','color': 'white'})"
      ],
      "metadata": {
        "colab": {
          "base_uri": "https://localhost:8080/",
          "height": 521
        },
        "id": "JOx_V2nc_-vC",
        "outputId": "f100b318-c855-4e81-e1e8-2d370586a1b5"
      },
      "execution_count": 1,
      "outputs": [
        {
          "output_type": "stream",
          "name": "stdout",
          "text": [
            "Mounted at /content/drive\n"
          ]
        },
        {
          "output_type": "execute_result",
          "data": {
            "text/plain": [
              "<pandas.io.formats.style.Styler at 0x7faad851ee50>"
            ],
            "text/html": [
              "<style type=\"text/css\">\n",
              "#T_97441_row0_col0, #T_97441_row0_col1, #T_97441_row0_col2, #T_97441_row0_col3, #T_97441_row0_col4, #T_97441_row0_col5, #T_97441_row0_col6, #T_97441_row0_col7, #T_97441_row0_col8, #T_97441_row0_col9, #T_97441_row0_col10, #T_97441_row0_col11, #T_97441_row1_col0, #T_97441_row1_col1, #T_97441_row1_col2, #T_97441_row1_col3, #T_97441_row1_col4, #T_97441_row1_col5, #T_97441_row1_col6, #T_97441_row1_col7, #T_97441_row1_col8, #T_97441_row1_col9, #T_97441_row1_col10, #T_97441_row1_col11, #T_97441_row2_col0, #T_97441_row2_col1, #T_97441_row2_col2, #T_97441_row2_col3, #T_97441_row2_col4, #T_97441_row2_col5, #T_97441_row2_col6, #T_97441_row2_col7, #T_97441_row2_col8, #T_97441_row2_col9, #T_97441_row2_col10, #T_97441_row2_col11, #T_97441_row3_col0, #T_97441_row3_col1, #T_97441_row3_col2, #T_97441_row3_col3, #T_97441_row3_col4, #T_97441_row3_col5, #T_97441_row3_col6, #T_97441_row3_col7, #T_97441_row3_col8, #T_97441_row3_col9, #T_97441_row3_col10, #T_97441_row3_col11, #T_97441_row4_col0, #T_97441_row4_col1, #T_97441_row4_col2, #T_97441_row4_col3, #T_97441_row4_col4, #T_97441_row4_col5, #T_97441_row4_col6, #T_97441_row4_col7, #T_97441_row4_col8, #T_97441_row4_col9, #T_97441_row4_col10, #T_97441_row4_col11, #T_97441_row5_col0, #T_97441_row5_col1, #T_97441_row5_col2, #T_97441_row5_col3, #T_97441_row5_col4, #T_97441_row5_col5, #T_97441_row5_col6, #T_97441_row5_col7, #T_97441_row5_col8, #T_97441_row5_col9, #T_97441_row5_col10, #T_97441_row5_col11, #T_97441_row6_col0, #T_97441_row6_col1, #T_97441_row6_col2, #T_97441_row6_col3, #T_97441_row6_col4, #T_97441_row6_col5, #T_97441_row6_col6, #T_97441_row6_col7, #T_97441_row6_col8, #T_97441_row6_col9, #T_97441_row6_col10, #T_97441_row6_col11, #T_97441_row7_col0, #T_97441_row7_col1, #T_97441_row7_col2, #T_97441_row7_col3, #T_97441_row7_col4, #T_97441_row7_col5, #T_97441_row7_col6, #T_97441_row7_col7, #T_97441_row7_col8, #T_97441_row7_col9, #T_97441_row7_col10, #T_97441_row7_col11, #T_97441_row8_col0, #T_97441_row8_col1, #T_97441_row8_col2, #T_97441_row8_col3, #T_97441_row8_col4, #T_97441_row8_col5, #T_97441_row8_col6, #T_97441_row8_col7, #T_97441_row8_col8, #T_97441_row8_col9, #T_97441_row8_col10, #T_97441_row8_col11, #T_97441_row9_col0, #T_97441_row9_col1, #T_97441_row9_col2, #T_97441_row9_col3, #T_97441_row9_col4, #T_97441_row9_col5, #T_97441_row9_col6, #T_97441_row9_col7, #T_97441_row9_col8, #T_97441_row9_col9, #T_97441_row9_col10, #T_97441_row9_col11 {\n",
              "  background-color: #802000;\n",
              "  color: white;\n",
              "}\n",
              "</style>\n",
              "<table id=\"T_97441\" class=\"dataframe\">\n",
              "  <thead>\n",
              "    <tr>\n",
              "      <th class=\"blank level0\" >&nbsp;</th>\n",
              "      <th id=\"T_97441_level0_col0\" class=\"col_heading level0 col0\" >Car</th>\n",
              "      <th id=\"T_97441_level0_col1\" class=\"col_heading level0 col1\" >mpg</th>\n",
              "      <th id=\"T_97441_level0_col2\" class=\"col_heading level0 col2\" >cyl</th>\n",
              "      <th id=\"T_97441_level0_col3\" class=\"col_heading level0 col3\" >disp</th>\n",
              "      <th id=\"T_97441_level0_col4\" class=\"col_heading level0 col4\" >hp</th>\n",
              "      <th id=\"T_97441_level0_col5\" class=\"col_heading level0 col5\" >drat</th>\n",
              "      <th id=\"T_97441_level0_col6\" class=\"col_heading level0 col6\" >wt</th>\n",
              "      <th id=\"T_97441_level0_col7\" class=\"col_heading level0 col7\" >qsec</th>\n",
              "      <th id=\"T_97441_level0_col8\" class=\"col_heading level0 col8\" >vs</th>\n",
              "      <th id=\"T_97441_level0_col9\" class=\"col_heading level0 col9\" >am</th>\n",
              "      <th id=\"T_97441_level0_col10\" class=\"col_heading level0 col10\" >gear</th>\n",
              "      <th id=\"T_97441_level0_col11\" class=\"col_heading level0 col11\" >carb</th>\n",
              "    </tr>\n",
              "  </thead>\n",
              "  <tbody>\n",
              "    <tr>\n",
              "      <th id=\"T_97441_level0_row0\" class=\"row_heading level0 row0\" >20</th>\n",
              "      <td id=\"T_97441_row0_col0\" class=\"data row0 col0\" >Toyota Corona</td>\n",
              "      <td id=\"T_97441_row0_col1\" class=\"data row0 col1\" >21.500000</td>\n",
              "      <td id=\"T_97441_row0_col2\" class=\"data row0 col2\" >4</td>\n",
              "      <td id=\"T_97441_row0_col3\" class=\"data row0 col3\" >120.100000</td>\n",
              "      <td id=\"T_97441_row0_col4\" class=\"data row0 col4\" >97</td>\n",
              "      <td id=\"T_97441_row0_col5\" class=\"data row0 col5\" >3.700000</td>\n",
              "      <td id=\"T_97441_row0_col6\" class=\"data row0 col6\" >2.465000</td>\n",
              "      <td id=\"T_97441_row0_col7\" class=\"data row0 col7\" >20.010000</td>\n",
              "      <td id=\"T_97441_row0_col8\" class=\"data row0 col8\" >1</td>\n",
              "      <td id=\"T_97441_row0_col9\" class=\"data row0 col9\" >0</td>\n",
              "      <td id=\"T_97441_row0_col10\" class=\"data row0 col10\" >3</td>\n",
              "      <td id=\"T_97441_row0_col11\" class=\"data row0 col11\" >1</td>\n",
              "    </tr>\n",
              "    <tr>\n",
              "      <th id=\"T_97441_level0_row1\" class=\"row_heading level0 row1\" >16</th>\n",
              "      <td id=\"T_97441_row1_col0\" class=\"data row1 col0\" >Chrysler Imperial</td>\n",
              "      <td id=\"T_97441_row1_col1\" class=\"data row1 col1\" >14.700000</td>\n",
              "      <td id=\"T_97441_row1_col2\" class=\"data row1 col2\" >8</td>\n",
              "      <td id=\"T_97441_row1_col3\" class=\"data row1 col3\" >440.000000</td>\n",
              "      <td id=\"T_97441_row1_col4\" class=\"data row1 col4\" >230</td>\n",
              "      <td id=\"T_97441_row1_col5\" class=\"data row1 col5\" >3.230000</td>\n",
              "      <td id=\"T_97441_row1_col6\" class=\"data row1 col6\" >5.345000</td>\n",
              "      <td id=\"T_97441_row1_col7\" class=\"data row1 col7\" >17.420000</td>\n",
              "      <td id=\"T_97441_row1_col8\" class=\"data row1 col8\" >0</td>\n",
              "      <td id=\"T_97441_row1_col9\" class=\"data row1 col9\" >0</td>\n",
              "      <td id=\"T_97441_row1_col10\" class=\"data row1 col10\" >3</td>\n",
              "      <td id=\"T_97441_row1_col11\" class=\"data row1 col11\" >4</td>\n",
              "    </tr>\n",
              "    <tr>\n",
              "      <th id=\"T_97441_level0_row2\" class=\"row_heading level0 row2\" >17</th>\n",
              "      <td id=\"T_97441_row2_col0\" class=\"data row2 col0\" >Fiat 128</td>\n",
              "      <td id=\"T_97441_row2_col1\" class=\"data row2 col1\" >32.400000</td>\n",
              "      <td id=\"T_97441_row2_col2\" class=\"data row2 col2\" >4</td>\n",
              "      <td id=\"T_97441_row2_col3\" class=\"data row2 col3\" >78.700000</td>\n",
              "      <td id=\"T_97441_row2_col4\" class=\"data row2 col4\" >66</td>\n",
              "      <td id=\"T_97441_row2_col5\" class=\"data row2 col5\" >4.080000</td>\n",
              "      <td id=\"T_97441_row2_col6\" class=\"data row2 col6\" >2.200000</td>\n",
              "      <td id=\"T_97441_row2_col7\" class=\"data row2 col7\" >19.470000</td>\n",
              "      <td id=\"T_97441_row2_col8\" class=\"data row2 col8\" >1</td>\n",
              "      <td id=\"T_97441_row2_col9\" class=\"data row2 col9\" >1</td>\n",
              "      <td id=\"T_97441_row2_col10\" class=\"data row2 col10\" >4</td>\n",
              "      <td id=\"T_97441_row2_col11\" class=\"data row2 col11\" >1</td>\n",
              "    </tr>\n",
              "    <tr>\n",
              "      <th id=\"T_97441_level0_row3\" class=\"row_heading level0 row3\" >18</th>\n",
              "      <td id=\"T_97441_row3_col0\" class=\"data row3 col0\" >Honda Civic</td>\n",
              "      <td id=\"T_97441_row3_col1\" class=\"data row3 col1\" >30.400000</td>\n",
              "      <td id=\"T_97441_row3_col2\" class=\"data row3 col2\" >4</td>\n",
              "      <td id=\"T_97441_row3_col3\" class=\"data row3 col3\" >75.700000</td>\n",
              "      <td id=\"T_97441_row3_col4\" class=\"data row3 col4\" >52</td>\n",
              "      <td id=\"T_97441_row3_col5\" class=\"data row3 col5\" >4.930000</td>\n",
              "      <td id=\"T_97441_row3_col6\" class=\"data row3 col6\" >1.615000</td>\n",
              "      <td id=\"T_97441_row3_col7\" class=\"data row3 col7\" >18.520000</td>\n",
              "      <td id=\"T_97441_row3_col8\" class=\"data row3 col8\" >1</td>\n",
              "      <td id=\"T_97441_row3_col9\" class=\"data row3 col9\" >1</td>\n",
              "      <td id=\"T_97441_row3_col10\" class=\"data row3 col10\" >4</td>\n",
              "      <td id=\"T_97441_row3_col11\" class=\"data row3 col11\" >2</td>\n",
              "    </tr>\n",
              "    <tr>\n",
              "      <th id=\"T_97441_level0_row4\" class=\"row_heading level0 row4\" >15</th>\n",
              "      <td id=\"T_97441_row4_col0\" class=\"data row4 col0\" >Lincoln Continental</td>\n",
              "      <td id=\"T_97441_row4_col1\" class=\"data row4 col1\" >10.400000</td>\n",
              "      <td id=\"T_97441_row4_col2\" class=\"data row4 col2\" >8</td>\n",
              "      <td id=\"T_97441_row4_col3\" class=\"data row4 col3\" >460.000000</td>\n",
              "      <td id=\"T_97441_row4_col4\" class=\"data row4 col4\" >215</td>\n",
              "      <td id=\"T_97441_row4_col5\" class=\"data row4 col5\" >3.000000</td>\n",
              "      <td id=\"T_97441_row4_col6\" class=\"data row4 col6\" >5.424000</td>\n",
              "      <td id=\"T_97441_row4_col7\" class=\"data row4 col7\" >17.820000</td>\n",
              "      <td id=\"T_97441_row4_col8\" class=\"data row4 col8\" >0</td>\n",
              "      <td id=\"T_97441_row4_col9\" class=\"data row4 col9\" >0</td>\n",
              "      <td id=\"T_97441_row4_col10\" class=\"data row4 col10\" >3</td>\n",
              "      <td id=\"T_97441_row4_col11\" class=\"data row4 col11\" >4</td>\n",
              "    </tr>\n",
              "    <tr>\n",
              "      <th id=\"T_97441_level0_row5\" class=\"row_heading level0 row5\" >7</th>\n",
              "      <td id=\"T_97441_row5_col0\" class=\"data row5 col0\" >Merc 240D</td>\n",
              "      <td id=\"T_97441_row5_col1\" class=\"data row5 col1\" >24.400000</td>\n",
              "      <td id=\"T_97441_row5_col2\" class=\"data row5 col2\" >4</td>\n",
              "      <td id=\"T_97441_row5_col3\" class=\"data row5 col3\" >146.700000</td>\n",
              "      <td id=\"T_97441_row5_col4\" class=\"data row5 col4\" >62</td>\n",
              "      <td id=\"T_97441_row5_col5\" class=\"data row5 col5\" >3.690000</td>\n",
              "      <td id=\"T_97441_row5_col6\" class=\"data row5 col6\" >3.190000</td>\n",
              "      <td id=\"T_97441_row5_col7\" class=\"data row5 col7\" >20.000000</td>\n",
              "      <td id=\"T_97441_row5_col8\" class=\"data row5 col8\" >1</td>\n",
              "      <td id=\"T_97441_row5_col9\" class=\"data row5 col9\" >0</td>\n",
              "      <td id=\"T_97441_row5_col10\" class=\"data row5 col10\" >4</td>\n",
              "      <td id=\"T_97441_row5_col11\" class=\"data row5 col11\" >2</td>\n",
              "    </tr>\n",
              "    <tr>\n",
              "      <th id=\"T_97441_level0_row6\" class=\"row_heading level0 row6\" >1</th>\n",
              "      <td id=\"T_97441_row6_col0\" class=\"data row6 col0\" >Mazda RX4 Wag</td>\n",
              "      <td id=\"T_97441_row6_col1\" class=\"data row6 col1\" >21.000000</td>\n",
              "      <td id=\"T_97441_row6_col2\" class=\"data row6 col2\" >6</td>\n",
              "      <td id=\"T_97441_row6_col3\" class=\"data row6 col3\" >160.000000</td>\n",
              "      <td id=\"T_97441_row6_col4\" class=\"data row6 col4\" >110</td>\n",
              "      <td id=\"T_97441_row6_col5\" class=\"data row6 col5\" >3.900000</td>\n",
              "      <td id=\"T_97441_row6_col6\" class=\"data row6 col6\" >2.875000</td>\n",
              "      <td id=\"T_97441_row6_col7\" class=\"data row6 col7\" >17.020000</td>\n",
              "      <td id=\"T_97441_row6_col8\" class=\"data row6 col8\" >0</td>\n",
              "      <td id=\"T_97441_row6_col9\" class=\"data row6 col9\" >1</td>\n",
              "      <td id=\"T_97441_row6_col10\" class=\"data row6 col10\" >4</td>\n",
              "      <td id=\"T_97441_row6_col11\" class=\"data row6 col11\" >4</td>\n",
              "    </tr>\n",
              "    <tr>\n",
              "      <th id=\"T_97441_level0_row7\" class=\"row_heading level0 row7\" >0</th>\n",
              "      <td id=\"T_97441_row7_col0\" class=\"data row7 col0\" >Mazda RX4</td>\n",
              "      <td id=\"T_97441_row7_col1\" class=\"data row7 col1\" >21.000000</td>\n",
              "      <td id=\"T_97441_row7_col2\" class=\"data row7 col2\" >6</td>\n",
              "      <td id=\"T_97441_row7_col3\" class=\"data row7 col3\" >160.000000</td>\n",
              "      <td id=\"T_97441_row7_col4\" class=\"data row7 col4\" >110</td>\n",
              "      <td id=\"T_97441_row7_col5\" class=\"data row7 col5\" >3.900000</td>\n",
              "      <td id=\"T_97441_row7_col6\" class=\"data row7 col6\" >2.620000</td>\n",
              "      <td id=\"T_97441_row7_col7\" class=\"data row7 col7\" >16.460000</td>\n",
              "      <td id=\"T_97441_row7_col8\" class=\"data row7 col8\" >0</td>\n",
              "      <td id=\"T_97441_row7_col9\" class=\"data row7 col9\" >1</td>\n",
              "      <td id=\"T_97441_row7_col10\" class=\"data row7 col10\" >4</td>\n",
              "      <td id=\"T_97441_row7_col11\" class=\"data row7 col11\" >4</td>\n",
              "    </tr>\n",
              "    <tr>\n",
              "      <th id=\"T_97441_level0_row8\" class=\"row_heading level0 row8\" >30</th>\n",
              "      <td id=\"T_97441_row8_col0\" class=\"data row8 col0\" >Maserati Bora</td>\n",
              "      <td id=\"T_97441_row8_col1\" class=\"data row8 col1\" >15.000000</td>\n",
              "      <td id=\"T_97441_row8_col2\" class=\"data row8 col2\" >8</td>\n",
              "      <td id=\"T_97441_row8_col3\" class=\"data row8 col3\" >301.000000</td>\n",
              "      <td id=\"T_97441_row8_col4\" class=\"data row8 col4\" >335</td>\n",
              "      <td id=\"T_97441_row8_col5\" class=\"data row8 col5\" >3.540000</td>\n",
              "      <td id=\"T_97441_row8_col6\" class=\"data row8 col6\" >3.570000</td>\n",
              "      <td id=\"T_97441_row8_col7\" class=\"data row8 col7\" >14.600000</td>\n",
              "      <td id=\"T_97441_row8_col8\" class=\"data row8 col8\" >0</td>\n",
              "      <td id=\"T_97441_row8_col9\" class=\"data row8 col9\" >1</td>\n",
              "      <td id=\"T_97441_row8_col10\" class=\"data row8 col10\" >5</td>\n",
              "      <td id=\"T_97441_row8_col11\" class=\"data row8 col11\" >8</td>\n",
              "    </tr>\n",
              "    <tr>\n",
              "      <th id=\"T_97441_level0_row9\" class=\"row_heading level0 row9\" >5</th>\n",
              "      <td id=\"T_97441_row9_col0\" class=\"data row9 col0\" >Valiant</td>\n",
              "      <td id=\"T_97441_row9_col1\" class=\"data row9 col1\" >18.100000</td>\n",
              "      <td id=\"T_97441_row9_col2\" class=\"data row9 col2\" >6</td>\n",
              "      <td id=\"T_97441_row9_col3\" class=\"data row9 col3\" >225.000000</td>\n",
              "      <td id=\"T_97441_row9_col4\" class=\"data row9 col4\" >105</td>\n",
              "      <td id=\"T_97441_row9_col5\" class=\"data row9 col5\" >2.760000</td>\n",
              "      <td id=\"T_97441_row9_col6\" class=\"data row9 col6\" >3.460000</td>\n",
              "      <td id=\"T_97441_row9_col7\" class=\"data row9 col7\" >20.220000</td>\n",
              "      <td id=\"T_97441_row9_col8\" class=\"data row9 col8\" >1</td>\n",
              "      <td id=\"T_97441_row9_col9\" class=\"data row9 col9\" >0</td>\n",
              "      <td id=\"T_97441_row9_col10\" class=\"data row9 col10\" >3</td>\n",
              "      <td id=\"T_97441_row9_col11\" class=\"data row9 col11\" >1</td>\n",
              "    </tr>\n",
              "  </tbody>\n",
              "</table>\n"
            ]
          },
          "metadata": {},
          "execution_count": 1
        }
      ]
    },
    {
      "cell_type": "markdown",
      "source": [
        "."
      ],
      "metadata": {
        "id": "_r_yk_0m_9q9"
      }
    },
    {
      "cell_type": "markdown",
      "source": [
        "."
      ],
      "metadata": {
        "id": "lvcOyPWZ_9ni"
      }
    },
    {
      "cell_type": "code",
      "execution_count": null,
      "metadata": {
        "id": "GJpurqniQLX6"
      },
      "outputs": [],
      "source": [
        "from google.colab import drive\n",
        "drive.mount('/content/drive')"
      ]
    },
    {
      "cell_type": "code",
      "source": [
        "import pandas as pd\n",
        "import os\n",
        "\n",
        "def file_locator(file_name):\n",
        "  main_dir = os.getcwd()\n",
        "\n",
        "  for dir, folder, files in os.walk(main_dir):\n",
        "    for file in files:\n",
        "      if file == file_name:\n",
        "        file_path = os.path.join(dir,file)\n",
        "  return file_path\n",
        "\n",
        "file_path = file_locator('boston_house_prices.csv')\n",
        "data = pd.read_csv(file_path)\n",
        "data.head()"
      ],
      "metadata": {
        "id": "mIj082jbQP9Z"
      },
      "execution_count": null,
      "outputs": []
    }
  ]
}