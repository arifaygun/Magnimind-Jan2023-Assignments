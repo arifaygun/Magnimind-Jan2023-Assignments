{
  "cells": [
    {
      "cell_type": "markdown",
      "metadata": {
        "id": "view-in-github",
        "colab_type": "text"
      },
      "source": [
        "<a href=\"https://colab.research.google.com/github/ArifAygun/Magnimind-Jan2023-Assignments/blob/main/Numpy_Assignment.ipynb\" target=\"_parent\"><img src=\"https://colab.research.google.com/assets/colab-badge.svg\" alt=\"Open In Colab\"/></a>"
      ]
    },
    {
      "cell_type": "markdown",
      "id": "709520a7",
      "metadata": {
        "id": "709520a7"
      },
      "source": [
        "# Numpy Assignment - Arif Aygun"
      ]
    },
    {
      "cell_type": "code",
      "execution_count": null,
      "id": "3ff9b66f",
      "metadata": {
        "id": "3ff9b66f"
      },
      "outputs": [],
      "source": [
        "import numpy as np\n",
        "import pandas as pd"
      ]
    },
    {
      "cell_type": "markdown",
      "id": "94320e76",
      "metadata": {
        "id": "94320e76"
      },
      "source": [
        "### 1- Create three lists representing house features, each list containing ten values. The first one for the house's size in square meters, the second one for rooms and last for price. Then, create an array combining these lists."
      ]
    },
    {
      "cell_type": "code",
      "execution_count": null,
      "id": "b0f6bc87",
      "metadata": {
        "id": "b0f6bc87"
      },
      "outputs": [],
      "source": [
        "\n",
        "sizes = [140, 110, 2250, 160, 120, 220, 180, 1900, 80, 100] # List of house sizes in square meters\n",
        "\n",
        "rooms = [5, 2, 4, 7, 5, 5, 3, 4, 4, 6] # List of number of rooms in the house\n",
        "\n",
        "prices = [225000, 132000, 213000, 200000, 95000, 77000, 190000, 280000, 390000, 320000] # List of house prices in dollars"
      ]
    },
    {
      "cell_type": "code",
      "execution_count": null,
      "id": "c01fade4",
      "metadata": {
        "id": "c01fade4"
      },
      "outputs": [],
      "source": [
        "house_data = np.array([sizes, rooms, prices]) # combining three list into a single array\n",
        "house_data"
      ]
    },
    {
      "cell_type": "markdown",
      "id": "cab7117f",
      "metadata": {
        "id": "cab7117f"
      },
      "source": [
        "Representing of house features is not good to study and uderstand in this array form."
      ]
    },
    {
      "cell_type": "markdown",
      "id": "7a60aaee",
      "metadata": {
        "id": "7a60aaee"
      },
      "source": [
        "### 2- Transpose the array you have created, so that every line can represent features of one house."
      ]
    },
    {
      "cell_type": "code",
      "execution_count": null,
      "id": "c60089c1",
      "metadata": {
        "scrolled": true,
        "id": "c60089c1"
      },
      "outputs": [],
      "source": [
        "house_data = house_data.T# Transposing the array\n",
        "\n",
        "print(house_data) # Printing the transposed array; each row represents a single house"
      ]
    },
    {
      "cell_type": "markdown",
      "id": "191573c7",
      "metadata": {
        "id": "191573c7"
      },
      "source": [
        "In this transposed array, each row represents the features of a single house.\n",
        "\n",
        "- First column representing its size in square meters.\n",
        "- Second column representing the number of rooms.\n",
        "- Third column representing its price in dollars.\n",
        "\n",
        "House features are in a two dimensional array where each row represents a single house, and the columns represent the house's size, number of rooms, and price.\n",
        "\n",
        "The form of data is better now. Using the T method to transpose the array so that the rows and columns are in the correct order."
      ]
    },
    {
      "cell_type": "markdown",
      "id": "3a595bc0",
      "metadata": {
        "id": "3a595bc0"
      },
      "source": [
        "### 3- Display the shape of the array and explain what it means."
      ]
    },
    {
      "cell_type": "code",
      "execution_count": null,
      "id": "274b6f9f",
      "metadata": {
        "id": "274b6f9f"
      },
      "outputs": [],
      "source": [
        "print(house_data.shape)"
      ]
    },
    {
      "cell_type": "markdown",
      "id": "7fcd78da",
      "metadata": {
        "id": "7fcd78da"
      },
      "source": [
        "The shape of the house_data array is (10, 3).\n",
        "\n",
        "This means that the array has 10 rows and 3 columns.\n",
        "Particularly, the array contains data for 10 houses, and each house is represented by 3 features (size in square meters, number of rooms, price in thousands of dollars)\n",
        "\n",
        "- The first number (10) represents the number of rows in the array which is also the number of houses in our data.\n",
        "- The second number (3) represents the number of columns in the array, which is the number of features for each house.\n",
        "\n",
        "Now, to knowe the shape of an array can be useful. It can help us to understand the structure of our data and to perform indexing, slicing, and reshaping."
      ]
    },
    {
      "cell_type": "markdown",
      "id": "d801e4d4",
      "metadata": {
        "id": "d801e4d4"
      },
      "source": [
        "### 4- Load the Earthquakes dataset. Export the dataset to an array as you covered in the previous lesson."
      ]
    },
    {
      "cell_type": "code",
      "execution_count": null,
      "id": "a48f9b20",
      "metadata": {
        "id": "a48f9b20"
      },
      "outputs": [],
      "source": [
        "earthquakes=pd.read_csv(r\"C:\\Users\\AAygun\\Documents\\GitHub\\Data Sets\\Magnimind\\earthquakes1970-2014.csv\")\n",
        "earthquakes "
      ]
    },
    {
      "cell_type": "code",
      "execution_count": null,
      "id": "0f37cdc7",
      "metadata": {
        "scrolled": true,
        "id": "0f37cdc7"
      },
      "outputs": [],
      "source": [
        "earthquakes.shape"
      ]
    },
    {
      "cell_type": "markdown",
      "id": "d7f0546f",
      "metadata": {
        "id": "d7f0546f"
      },
      "source": [
        "### 5- Slice first 20 rows and column numbers 3, 5, 6, 7, 12. Then, assign the array you sliced to a variable."
      ]
    },
    {
      "cell_type": "code",
      "execution_count": null,
      "id": "58dc24ce",
      "metadata": {
        "id": "58dc24ce"
      },
      "outputs": [],
      "source": [
        "sliced_arrays = earthquakes.loc[:20,['Longitude', 'Magnitude', 'MagType', 'NbStations', 'EventID']]\n",
        "sliced_arrays"
      ]
    },
    {
      "cell_type": "markdown",
      "id": "6bad0b55",
      "metadata": {
        "id": "6bad0b55"
      },
      "source": [
        "### 6- Display the row numbers where last values are equal to 4.5 or higher."
      ]
    },
    {
      "cell_type": "code",
      "execution_count": null,
      "id": "f3104178",
      "metadata": {
        "id": "f3104178"
      },
      "outputs": [],
      "source": [
        "sliced_arrays[sliced_arrays['EventID'] >= 4.5].index"
      ]
    },
    {
      "cell_type": "markdown",
      "id": "ab079fc8",
      "metadata": {
        "id": "ab079fc8"
      },
      "source": [
        "### 7- Assign 1 to first row."
      ]
    },
    {
      "cell_type": "code",
      "execution_count": null,
      "id": "39551b46",
      "metadata": {
        "id": "39551b46"
      },
      "outputs": [],
      "source": [
        "sliced_arrays.loc[0] = 1\n",
        "sliced_arrays"
      ]
    },
    {
      "cell_type": "markdown",
      "id": "6a9eea68",
      "metadata": {
        "id": "6a9eea68"
      },
      "source": [
        "### 8- Save the final state of the array to disk. You are going to use this in the next assignment."
      ]
    },
    {
      "cell_type": "code",
      "execution_count": null,
      "id": "b9c7a1d7",
      "metadata": {
        "id": "b9c7a1d7"
      },
      "outputs": [],
      "source": [
        "pd.DataFrame(sliced_arrays).to_csv(\"new_earthquakes.csv\")"
      ]
    },
    {
      "cell_type": "markdown",
      "id": "28e46b97",
      "metadata": {
        "id": "28e46b97"
      },
      "source": [
        "### 9- Load the array you saved in the previous lesson from the disk."
      ]
    },
    {
      "cell_type": "code",
      "execution_count": null,
      "id": "557f2deb",
      "metadata": {
        "id": "557f2deb"
      },
      "outputs": [],
      "source": [
        "load_array = pd.read_csv(\"new_earthquakes.csv\")\n",
        "load_array"
      ]
    },
    {
      "cell_type": "markdown",
      "id": "6dca8412",
      "metadata": {
        "id": "6dca8412"
      },
      "source": [
        "### 10- Display the mean and the standard deviation for each column."
      ]
    },
    {
      "cell_type": "code",
      "execution_count": null,
      "id": "5a6e187d",
      "metadata": {
        "id": "5a6e187d"
      },
      "outputs": [],
      "source": [
        "load_array.std()"
      ]
    },
    {
      "cell_type": "markdown",
      "id": "9752b411",
      "metadata": {
        "id": "9752b411"
      },
      "source": [
        "### 11- Subtract 1, 25, 25, 10, 4 from columns in order. (Remember it can be dobe in one line of code.)"
      ]
    },
    {
      "cell_type": "code",
      "execution_count": null,
      "id": "62283fb3",
      "metadata": {
        "id": "62283fb3"
      },
      "outputs": [],
      "source": [
        "load_array['Longitude'] -= 1\n",
        "load_array['Magnitude'] -= 25\n",
        "load_array['NbStations'] -= 25\n",
        "load_array['NbStations'] -= 10\n",
        "load_array['EventID'] -= 4\n",
        "load_array"
      ]
    },
    {
      "cell_type": "markdown",
      "id": "3ccf8d9c",
      "metadata": {
        "id": "3ccf8d9c"
      },
      "source": [
        "### 12- Multiply each element by 2. (Remember it can be done in one line of code.)"
      ]
    },
    {
      "cell_type": "code",
      "execution_count": null,
      "id": "b5fc8541",
      "metadata": {
        "id": "b5fc8541"
      },
      "outputs": [],
      "source": [
        "multiplied_array = load_array * 2\n",
        "multiplied_array"
      ]
    },
    {
      "cell_type": "markdown",
      "source": [
        "# **OFFICE HOUR SOLUTIONS**"
      ],
      "metadata": {
        "id": "caV6zY_7uKEi"
      },
      "id": "caV6zY_7uKEi"
    },
    {
      "cell_type": "markdown",
      "source": [
        "Solution:1"
      ],
      "metadata": {
        "id": "Yo9vzbWxuhl5"
      },
      "id": "Yo9vzbWxuhl5"
    },
    {
      "cell_type": "code",
      "source": [
        "import numpy as np"
      ],
      "metadata": {
        "id": "-TrUF-apucvm"
      },
      "id": "-TrUF-apucvm",
      "execution_count": null,
      "outputs": []
    },
    {
      "cell_type": "code",
      "source": [
        "#Creating 10 houses with random size of minimum 100 m-squared to 500 m-squared\n",
        "House_size = np.random.randint(100,500,10,dtype=int) #randint support integers only\n",
        "House_size = sorted(House_size, reverse=True)\n",
        "\n",
        "#Creating the number of rooms randomly, minimum 1 room to maximum 2 rooms.\n",
        "House_rooms = np.random.choice(range(1,3), size=10, replace=True)\n",
        "House_rooms = sorted(House_rooms, reverse=True)\n",
        "\n",
        "#Creating the price randomly between $300_000 to $1_000_000\n",
        "House_price = np.random.choice(range(300_000, 1_000_000), size=10,replace=True)\n",
        "House_price = sorted(House_price, reverse=True)\n",
        "\n",
        "#Combining the above arrays into a single array\n",
        "House_features = np.array([House_size, House_rooms, House_price])\n",
        "House_features "
      ],
      "metadata": {
        "id": "3UsOB1j60Ez2"
      },
      "id": "3UsOB1j60Ez2",
      "execution_count": null,
      "outputs": []
    },
    {
      "cell_type": "code",
      "source": [
        "House_features.shape"
      ],
      "metadata": {
        "id": "m_cjySdl9wSE"
      },
      "id": "m_cjySdl9wSE",
      "execution_count": null,
      "outputs": []
    },
    {
      "cell_type": "markdown",
      "source": [
        "Solution:2"
      ],
      "metadata": {
        "id": "JgsezmFRBFOn"
      },
      "id": "JgsezmFRBFOn"
    },
    {
      "cell_type": "code",
      "source": [
        "House_features = House_features.transpose()"
      ],
      "metadata": {
        "id": "kRL5Iea_AFXQ"
      },
      "id": "kRL5Iea_AFXQ",
      "execution_count": null,
      "outputs": []
    },
    {
      "cell_type": "code",
      "source": [
        "House_features.shape"
      ],
      "metadata": {
        "id": "fp2EXBSiAOUH"
      },
      "id": "fp2EXBSiAOUH",
      "execution_count": null,
      "outputs": []
    },
    {
      "cell_type": "markdown",
      "source": [
        "Solution:3"
      ],
      "metadata": {
        "id": "HBwoVispBTb4"
      },
      "id": "HBwoVispBTb4"
    },
    {
      "cell_type": "code",
      "source": [
        "print(\"\"\"\n",
        "The House_features array has {rows} rows that represents number of houses,\\nand {columns} columns which represents number of features for each house\"\"\". format(rows= House_features.shape[0], columns= House_features.shape[1]))"
      ],
      "metadata": {
        "id": "8_AS0grJAQVR"
      },
      "id": "8_AS0grJAQVR",
      "execution_count": null,
      "outputs": []
    },
    {
      "cell_type": "markdown",
      "source": [
        "Solution:3"
      ],
      "metadata": {
        "id": "jFN_V_9ZD9En"
      },
      "id": "jFN_V_9ZD9En"
    },
    {
      "cell_type": "code",
      "source": [
        "#from google.colab import drive\n",
        "#drive.mounth('content/drive')\n",
        "\n",
        "from google.colab import drive\n",
        "drive.mount('/content/drive')"
      ],
      "metadata": {
        "id": "SRcDomLhEGrc",
        "colab": {
          "base_uri": "https://localhost:8080/"
        },
        "outputId": "f847c5d9-f8ae-4a66-c4c0-fed119222768"
      },
      "id": "SRcDomLhEGrc",
      "execution_count": 1,
      "outputs": [
        {
          "output_type": "stream",
          "name": "stdout",
          "text": [
            "Mounted at /content/drive\n"
          ]
        }
      ]
    },
    {
      "cell_type": "code",
      "source": [
        "import os\n",
        "for Dir, Folders, Files in os.walk(os.getcwd()):\n",
        "  for File in Files:\n",
        "    if File == 'earthquakes1970-2014.csv':\n",
        "      Path = os.path.join(Dir, File)\n",
        "      print(Path)"
      ],
      "metadata": {
        "id": "GOuek9LLFGMp",
        "colab": {
          "base_uri": "https://localhost:8080/"
        },
        "outputId": "5f471214-6704-4e8c-b724-f854fbfe58b4"
      },
      "id": "GOuek9LLFGMp",
      "execution_count": 2,
      "outputs": [
        {
          "output_type": "stream",
          "name": "stdout",
          "text": [
            "/content/drive/MyDrive/Colab Datasets/earthquakes1970-2014.csv\n",
            "/content/drive/Othercomputers/My MacBook Pro/GitHub/Data Sets/Magnimind/earthquakes1970-2014.csv\n",
            "/content/drive/Othercomputers/My MacBook Pro/GitHub/Magnimind Eski Projeler/Romuald Francis Yang repos/Magnimind DS/datasets/earthquakes1970-2014.csv\n"
          ]
        }
      ]
    },
    {
      "cell_type": "markdown",
      "source": [
        "Path is a data address path"
      ],
      "metadata": {
        "id": "q6qVywm5Har_"
      },
      "id": "q6qVywm5Har_"
    },
    {
      "cell_type": "code",
      "source": [
        "import pandas as pd\n",
        "import numpy as np\n",
        "df = pd.read_csv(Path)\n",
        "df.head()"
      ],
      "metadata": {
        "id": "WT2sjTw7Gz5z",
        "colab": {
          "base_uri": "https://localhost:8080/",
          "height": 357
        },
        "outputId": "c54ccf47-81d4-4aa2-c35b-ba309c9cab80"
      },
      "id": "WT2sjTw7Gz5z",
      "execution_count": 6,
      "outputs": [
        {
          "output_type": "execute_result",
          "data": {
            "text/plain": [
              "                 DateTime  Latitude  Longitude  Depth  Magnitude MagType  \\\n",
              "0  1970/01/04 17:00:40.20    24.139    102.503   31.0        7.5      Ms   \n",
              "1  1970/01/06 05:35:51.80    -9.628    151.458    8.0        6.2      Ms   \n",
              "2  1970/01/08 17:12:39.10   -34.741    178.568  179.0        6.1      Mb   \n",
              "3  1970/01/10 12:07:08.60     6.825    126.737   73.0        6.1      Mb   \n",
              "4  1970/01/16 08:05:39.00    60.280   -152.660   85.0        6.0      ML   \n",
              "\n",
              "   NbStations  Gap  Distance  RMS Source       EventID  \n",
              "0        90.0  NaN       NaN  0.0    NEI  1.970010e+09  \n",
              "1        85.0  NaN       NaN  0.0    NEI  1.970011e+09  \n",
              "2        59.0  NaN       NaN  0.0    NEI  1.970011e+09  \n",
              "3        91.0  NaN       NaN  0.0    NEI  1.970011e+09  \n",
              "4         0.0  NaN       NaN  NaN     AK           NaN  "
            ],
            "text/html": [
              "\n",
              "  <div id=\"df-e1d4c40f-4b47-444e-b860-e4a25033561a\">\n",
              "    <div class=\"colab-df-container\">\n",
              "      <div>\n",
              "<style scoped>\n",
              "    .dataframe tbody tr th:only-of-type {\n",
              "        vertical-align: middle;\n",
              "    }\n",
              "\n",
              "    .dataframe tbody tr th {\n",
              "        vertical-align: top;\n",
              "    }\n",
              "\n",
              "    .dataframe thead th {\n",
              "        text-align: right;\n",
              "    }\n",
              "</style>\n",
              "<table border=\"1\" class=\"dataframe\">\n",
              "  <thead>\n",
              "    <tr style=\"text-align: right;\">\n",
              "      <th></th>\n",
              "      <th>DateTime</th>\n",
              "      <th>Latitude</th>\n",
              "      <th>Longitude</th>\n",
              "      <th>Depth</th>\n",
              "      <th>Magnitude</th>\n",
              "      <th>MagType</th>\n",
              "      <th>NbStations</th>\n",
              "      <th>Gap</th>\n",
              "      <th>Distance</th>\n",
              "      <th>RMS</th>\n",
              "      <th>Source</th>\n",
              "      <th>EventID</th>\n",
              "    </tr>\n",
              "  </thead>\n",
              "  <tbody>\n",
              "    <tr>\n",
              "      <th>0</th>\n",
              "      <td>1970/01/04 17:00:40.20</td>\n",
              "      <td>24.139</td>\n",
              "      <td>102.503</td>\n",
              "      <td>31.0</td>\n",
              "      <td>7.5</td>\n",
              "      <td>Ms</td>\n",
              "      <td>90.0</td>\n",
              "      <td>NaN</td>\n",
              "      <td>NaN</td>\n",
              "      <td>0.0</td>\n",
              "      <td>NEI</td>\n",
              "      <td>1.970010e+09</td>\n",
              "    </tr>\n",
              "    <tr>\n",
              "      <th>1</th>\n",
              "      <td>1970/01/06 05:35:51.80</td>\n",
              "      <td>-9.628</td>\n",
              "      <td>151.458</td>\n",
              "      <td>8.0</td>\n",
              "      <td>6.2</td>\n",
              "      <td>Ms</td>\n",
              "      <td>85.0</td>\n",
              "      <td>NaN</td>\n",
              "      <td>NaN</td>\n",
              "      <td>0.0</td>\n",
              "      <td>NEI</td>\n",
              "      <td>1.970011e+09</td>\n",
              "    </tr>\n",
              "    <tr>\n",
              "      <th>2</th>\n",
              "      <td>1970/01/08 17:12:39.10</td>\n",
              "      <td>-34.741</td>\n",
              "      <td>178.568</td>\n",
              "      <td>179.0</td>\n",
              "      <td>6.1</td>\n",
              "      <td>Mb</td>\n",
              "      <td>59.0</td>\n",
              "      <td>NaN</td>\n",
              "      <td>NaN</td>\n",
              "      <td>0.0</td>\n",
              "      <td>NEI</td>\n",
              "      <td>1.970011e+09</td>\n",
              "    </tr>\n",
              "    <tr>\n",
              "      <th>3</th>\n",
              "      <td>1970/01/10 12:07:08.60</td>\n",
              "      <td>6.825</td>\n",
              "      <td>126.737</td>\n",
              "      <td>73.0</td>\n",
              "      <td>6.1</td>\n",
              "      <td>Mb</td>\n",
              "      <td>91.0</td>\n",
              "      <td>NaN</td>\n",
              "      <td>NaN</td>\n",
              "      <td>0.0</td>\n",
              "      <td>NEI</td>\n",
              "      <td>1.970011e+09</td>\n",
              "    </tr>\n",
              "    <tr>\n",
              "      <th>4</th>\n",
              "      <td>1970/01/16 08:05:39.00</td>\n",
              "      <td>60.280</td>\n",
              "      <td>-152.660</td>\n",
              "      <td>85.0</td>\n",
              "      <td>6.0</td>\n",
              "      <td>ML</td>\n",
              "      <td>0.0</td>\n",
              "      <td>NaN</td>\n",
              "      <td>NaN</td>\n",
              "      <td>NaN</td>\n",
              "      <td>AK</td>\n",
              "      <td>NaN</td>\n",
              "    </tr>\n",
              "  </tbody>\n",
              "</table>\n",
              "</div>\n",
              "      <button class=\"colab-df-convert\" onclick=\"convertToInteractive('df-e1d4c40f-4b47-444e-b860-e4a25033561a')\"\n",
              "              title=\"Convert this dataframe to an interactive table.\"\n",
              "              style=\"display:none;\">\n",
              "        \n",
              "  <svg xmlns=\"http://www.w3.org/2000/svg\" height=\"24px\"viewBox=\"0 0 24 24\"\n",
              "       width=\"24px\">\n",
              "    <path d=\"M0 0h24v24H0V0z\" fill=\"none\"/>\n",
              "    <path d=\"M18.56 5.44l.94 2.06.94-2.06 2.06-.94-2.06-.94-.94-2.06-.94 2.06-2.06.94zm-11 1L8.5 8.5l.94-2.06 2.06-.94-2.06-.94L8.5 2.5l-.94 2.06-2.06.94zm10 10l.94 2.06.94-2.06 2.06-.94-2.06-.94-.94-2.06-.94 2.06-2.06.94z\"/><path d=\"M17.41 7.96l-1.37-1.37c-.4-.4-.92-.59-1.43-.59-.52 0-1.04.2-1.43.59L10.3 9.45l-7.72 7.72c-.78.78-.78 2.05 0 2.83L4 21.41c.39.39.9.59 1.41.59.51 0 1.02-.2 1.41-.59l7.78-7.78 2.81-2.81c.8-.78.8-2.07 0-2.86zM5.41 20L4 18.59l7.72-7.72 1.47 1.35L5.41 20z\"/>\n",
              "  </svg>\n",
              "      </button>\n",
              "      \n",
              "  <style>\n",
              "    .colab-df-container {\n",
              "      display:flex;\n",
              "      flex-wrap:wrap;\n",
              "      gap: 12px;\n",
              "    }\n",
              "\n",
              "    .colab-df-convert {\n",
              "      background-color: #E8F0FE;\n",
              "      border: none;\n",
              "      border-radius: 50%;\n",
              "      cursor: pointer;\n",
              "      display: none;\n",
              "      fill: #1967D2;\n",
              "      height: 32px;\n",
              "      padding: 0 0 0 0;\n",
              "      width: 32px;\n",
              "    }\n",
              "\n",
              "    .colab-df-convert:hover {\n",
              "      background-color: #E2EBFA;\n",
              "      box-shadow: 0px 1px 2px rgba(60, 64, 67, 0.3), 0px 1px 3px 1px rgba(60, 64, 67, 0.15);\n",
              "      fill: #174EA6;\n",
              "    }\n",
              "\n",
              "    [theme=dark] .colab-df-convert {\n",
              "      background-color: #3B4455;\n",
              "      fill: #D2E3FC;\n",
              "    }\n",
              "\n",
              "    [theme=dark] .colab-df-convert:hover {\n",
              "      background-color: #434B5C;\n",
              "      box-shadow: 0px 1px 3px 1px rgba(0, 0, 0, 0.15);\n",
              "      filter: drop-shadow(0px 1px 2px rgba(0, 0, 0, 0.3));\n",
              "      fill: #FFFFFF;\n",
              "    }\n",
              "  </style>\n",
              "\n",
              "      <script>\n",
              "        const buttonEl =\n",
              "          document.querySelector('#df-e1d4c40f-4b47-444e-b860-e4a25033561a button.colab-df-convert');\n",
              "        buttonEl.style.display =\n",
              "          google.colab.kernel.accessAllowed ? 'block' : 'none';\n",
              "\n",
              "        async function convertToInteractive(key) {\n",
              "          const element = document.querySelector('#df-e1d4c40f-4b47-444e-b860-e4a25033561a');\n",
              "          const dataTable =\n",
              "            await google.colab.kernel.invokeFunction('convertToInteractive',\n",
              "                                                     [key], {});\n",
              "          if (!dataTable) return;\n",
              "\n",
              "          const docLinkHtml = 'Like what you see? Visit the ' +\n",
              "            '<a target=\"_blank\" href=https://colab.research.google.com/notebooks/data_table.ipynb>data table notebook</a>'\n",
              "            + ' to learn more about interactive tables.';\n",
              "          element.innerHTML = '';\n",
              "          dataTable['output_type'] = 'display_data';\n",
              "          await google.colab.output.renderOutput(dataTable, element);\n",
              "          const docLink = document.createElement('div');\n",
              "          docLink.innerHTML = docLinkHtml;\n",
              "          element.appendChild(docLink);\n",
              "        }\n",
              "      </script>\n",
              "    </div>\n",
              "  </div>\n",
              "  "
            ]
          },
          "metadata": {},
          "execution_count": 6
        }
      ]
    },
    {
      "cell_type": "code",
      "source": [
        "df.info()"
      ],
      "metadata": {
        "id": "zwCm7GrwHrql",
        "colab": {
          "base_uri": "https://localhost:8080/"
        },
        "outputId": "6124caca-575c-4d71-ac59-3af3112ec92c"
      },
      "id": "zwCm7GrwHrql",
      "execution_count": 7,
      "outputs": [
        {
          "output_type": "stream",
          "name": "stdout",
          "text": [
            "<class 'pandas.core.frame.DataFrame'>\n",
            "RangeIndex: 5304 entries, 0 to 5303\n",
            "Data columns (total 12 columns):\n",
            " #   Column      Non-Null Count  Dtype  \n",
            "---  ------      --------------  -----  \n",
            " 0   DateTime    5304 non-null   object \n",
            " 1   Latitude    5304 non-null   float64\n",
            " 2   Longitude   5304 non-null   float64\n",
            " 3   Depth       5304 non-null   float64\n",
            " 4   Magnitude   5304 non-null   float64\n",
            " 5   MagType     5304 non-null   object \n",
            " 6   NbStations  5250 non-null   float64\n",
            " 7   Gap         172 non-null    float64\n",
            " 8   Distance    170 non-null    float64\n",
            " 9   RMS         5264 non-null   float64\n",
            " 10  Source      5304 non-null   object \n",
            " 11  EventID     5242 non-null   float64\n",
            "dtypes: float64(9), object(3)\n",
            "memory usage: 497.4+ KB\n"
          ]
        }
      ]
    },
    {
      "cell_type": "code",
      "source": [
        "#Converting dataframe to an array\n",
        "np.array(df)\n",
        "\n",
        "#Converting dataframe to an array\n",
        "df_array = df.to_numpy()\n",
        "\n",
        "#shape of the array\n",
        "df_array.shape\n",
        "\n",
        "#slicing\n",
        "df_array_sliced = df_array[:20, [2,4,5,6,11]]\n",
        "np.where(df_array_sliced[:,1]>=6.5)\n",
        "np.where(df_array_sliced[:,1]>=4.5)\n",
        "\n",
        "#replacing values\n",
        "#replacing a single value at the given row and column\n",
        "df_array_sliced[0,1]=1\n",
        "\n",
        "#replacing values of the whole row\n",
        "df_array_sliced[0]=1\n",
        "\n",
        "#display the array\n",
        "display(df_array_sliced)\n",
        "display(pd.DataFrame(df_array_sliced))\n",
        "\n",
        "df_array_sliced = np.asarray(np.delete(df_array_sliced, 2, axis=1), dtype=float)\n",
        "\n",
        "#the following code will remove with null value\n",
        "df_array_sliced_numeric[~np.isnan(df_array_sliced_numeric).any(axis=1)] - [1,25,10,4]\n",
        "df_array_sliced_numeric[~np.isnan(df_array_sliced_numeric).any(axis=1)]*4"
      ],
      "metadata": {
        "id": "K-U9Hq6xIGPp",
        "colab": {
          "base_uri": "https://localhost:8080/",
          "height": 1000
        },
        "outputId": "8eeb61bb-85b4-48c5-c113-efd3a34c4226"
      },
      "id": "K-U9Hq6xIGPp",
      "execution_count": 9,
      "outputs": [
        {
          "output_type": "display_data",
          "data": {
            "text/plain": [
              "array([[1, 1, 1, 1, 1],\n",
              "       [151.458, 6.2, 'Ms', 85.0, 1970010640.0],\n",
              "       [178.568, 6.1, 'Mb', 59.0, 1970010840.0],\n",
              "       [126.736999999999, 6.1, 'Mb', 91.0, 1970011040.0],\n",
              "       [-152.66, 6.0, 'ML', 0.0, nan],\n",
              "       [-177.348999999999, 6.5, 'Mb', 175.0, 1970012040.0],\n",
              "       [142.966, 6.4, 'Ms', 199.0, 1970012040.0],\n",
              "       [-104.298, 6.6, 'Ms', 140.0, 1970012140.0],\n",
              "       [166.37, 6.4, 'Ms', 91.0, 1970012640.0],\n",
              "       [-99.48399999999991, 6.5, 'Ms', 100.0, 1970020440.0],\n",
              "       [122.117, 6.6, 'Ms', 94.0, 1970020540.0],\n",
              "       [100.775, 6.1, 'Ms', 57.0, 1970020640.0],\n",
              "       [103.031, 6.0, 'Ms', 94.0, 1970022440.0],\n",
              "       [-179.5898, 6.0, 'ML', 0.0, nan],\n",
              "       [-175.039999999999, 6.1, 'ML', 0.0, nan],\n",
              "       [143.706999999999, 6.2, 'Ms', 82.0, 1970030440.0],\n",
              "       [168.603, 6.5, 'Ms', 61.0, 1970030940.0],\n",
              "       [148.87, 6.0, 'Mb', 65.0, 1970031040.0],\n",
              "       [-153.97, 6.5, 'ML', 0.0, nan],\n",
              "       [-69.49899999999991, 6.0, 'Mb', 118.0, 1970031540.0]], dtype=object)"
            ]
          },
          "metadata": {}
        },
        {
          "output_type": "display_data",
          "data": {
            "text/plain": [
              "           0    1   2      3             4\n",
              "0          1    1   1      1             1\n",
              "1    151.458  6.2  Ms   85.0  1970010640.0\n",
              "2    178.568  6.1  Mb   59.0  1970010840.0\n",
              "3    126.737  6.1  Mb   91.0  1970011040.0\n",
              "4    -152.66  6.0  ML    0.0           NaN\n",
              "5   -177.349  6.5  Mb  175.0  1970012040.0\n",
              "6    142.966  6.4  Ms  199.0  1970012040.0\n",
              "7   -104.298  6.6  Ms  140.0  1970012140.0\n",
              "8     166.37  6.4  Ms   91.0  1970012640.0\n",
              "9    -99.484  6.5  Ms  100.0  1970020440.0\n",
              "10   122.117  6.6  Ms   94.0  1970020540.0\n",
              "11   100.775  6.1  Ms   57.0  1970020640.0\n",
              "12   103.031  6.0  Ms   94.0  1970022440.0\n",
              "13 -179.5898  6.0  ML    0.0           NaN\n",
              "14   -175.04  6.1  ML    0.0           NaN\n",
              "15   143.707  6.2  Ms   82.0  1970030440.0\n",
              "16   168.603  6.5  Ms   61.0  1970030940.0\n",
              "17    148.87  6.0  Mb   65.0  1970031040.0\n",
              "18   -153.97  6.5  ML    0.0           NaN\n",
              "19   -69.499  6.0  Mb  118.0  1970031540.0"
            ],
            "text/html": [
              "\n",
              "  <div id=\"df-8bae5d69-de73-478d-bd63-d30cd761cfdc\">\n",
              "    <div class=\"colab-df-container\">\n",
              "      <div>\n",
              "<style scoped>\n",
              "    .dataframe tbody tr th:only-of-type {\n",
              "        vertical-align: middle;\n",
              "    }\n",
              "\n",
              "    .dataframe tbody tr th {\n",
              "        vertical-align: top;\n",
              "    }\n",
              "\n",
              "    .dataframe thead th {\n",
              "        text-align: right;\n",
              "    }\n",
              "</style>\n",
              "<table border=\"1\" class=\"dataframe\">\n",
              "  <thead>\n",
              "    <tr style=\"text-align: right;\">\n",
              "      <th></th>\n",
              "      <th>0</th>\n",
              "      <th>1</th>\n",
              "      <th>2</th>\n",
              "      <th>3</th>\n",
              "      <th>4</th>\n",
              "    </tr>\n",
              "  </thead>\n",
              "  <tbody>\n",
              "    <tr>\n",
              "      <th>0</th>\n",
              "      <td>1</td>\n",
              "      <td>1</td>\n",
              "      <td>1</td>\n",
              "      <td>1</td>\n",
              "      <td>1</td>\n",
              "    </tr>\n",
              "    <tr>\n",
              "      <th>1</th>\n",
              "      <td>151.458</td>\n",
              "      <td>6.2</td>\n",
              "      <td>Ms</td>\n",
              "      <td>85.0</td>\n",
              "      <td>1970010640.0</td>\n",
              "    </tr>\n",
              "    <tr>\n",
              "      <th>2</th>\n",
              "      <td>178.568</td>\n",
              "      <td>6.1</td>\n",
              "      <td>Mb</td>\n",
              "      <td>59.0</td>\n",
              "      <td>1970010840.0</td>\n",
              "    </tr>\n",
              "    <tr>\n",
              "      <th>3</th>\n",
              "      <td>126.737</td>\n",
              "      <td>6.1</td>\n",
              "      <td>Mb</td>\n",
              "      <td>91.0</td>\n",
              "      <td>1970011040.0</td>\n",
              "    </tr>\n",
              "    <tr>\n",
              "      <th>4</th>\n",
              "      <td>-152.66</td>\n",
              "      <td>6.0</td>\n",
              "      <td>ML</td>\n",
              "      <td>0.0</td>\n",
              "      <td>NaN</td>\n",
              "    </tr>\n",
              "    <tr>\n",
              "      <th>5</th>\n",
              "      <td>-177.349</td>\n",
              "      <td>6.5</td>\n",
              "      <td>Mb</td>\n",
              "      <td>175.0</td>\n",
              "      <td>1970012040.0</td>\n",
              "    </tr>\n",
              "    <tr>\n",
              "      <th>6</th>\n",
              "      <td>142.966</td>\n",
              "      <td>6.4</td>\n",
              "      <td>Ms</td>\n",
              "      <td>199.0</td>\n",
              "      <td>1970012040.0</td>\n",
              "    </tr>\n",
              "    <tr>\n",
              "      <th>7</th>\n",
              "      <td>-104.298</td>\n",
              "      <td>6.6</td>\n",
              "      <td>Ms</td>\n",
              "      <td>140.0</td>\n",
              "      <td>1970012140.0</td>\n",
              "    </tr>\n",
              "    <tr>\n",
              "      <th>8</th>\n",
              "      <td>166.37</td>\n",
              "      <td>6.4</td>\n",
              "      <td>Ms</td>\n",
              "      <td>91.0</td>\n",
              "      <td>1970012640.0</td>\n",
              "    </tr>\n",
              "    <tr>\n",
              "      <th>9</th>\n",
              "      <td>-99.484</td>\n",
              "      <td>6.5</td>\n",
              "      <td>Ms</td>\n",
              "      <td>100.0</td>\n",
              "      <td>1970020440.0</td>\n",
              "    </tr>\n",
              "    <tr>\n",
              "      <th>10</th>\n",
              "      <td>122.117</td>\n",
              "      <td>6.6</td>\n",
              "      <td>Ms</td>\n",
              "      <td>94.0</td>\n",
              "      <td>1970020540.0</td>\n",
              "    </tr>\n",
              "    <tr>\n",
              "      <th>11</th>\n",
              "      <td>100.775</td>\n",
              "      <td>6.1</td>\n",
              "      <td>Ms</td>\n",
              "      <td>57.0</td>\n",
              "      <td>1970020640.0</td>\n",
              "    </tr>\n",
              "    <tr>\n",
              "      <th>12</th>\n",
              "      <td>103.031</td>\n",
              "      <td>6.0</td>\n",
              "      <td>Ms</td>\n",
              "      <td>94.0</td>\n",
              "      <td>1970022440.0</td>\n",
              "    </tr>\n",
              "    <tr>\n",
              "      <th>13</th>\n",
              "      <td>-179.5898</td>\n",
              "      <td>6.0</td>\n",
              "      <td>ML</td>\n",
              "      <td>0.0</td>\n",
              "      <td>NaN</td>\n",
              "    </tr>\n",
              "    <tr>\n",
              "      <th>14</th>\n",
              "      <td>-175.04</td>\n",
              "      <td>6.1</td>\n",
              "      <td>ML</td>\n",
              "      <td>0.0</td>\n",
              "      <td>NaN</td>\n",
              "    </tr>\n",
              "    <tr>\n",
              "      <th>15</th>\n",
              "      <td>143.707</td>\n",
              "      <td>6.2</td>\n",
              "      <td>Ms</td>\n",
              "      <td>82.0</td>\n",
              "      <td>1970030440.0</td>\n",
              "    </tr>\n",
              "    <tr>\n",
              "      <th>16</th>\n",
              "      <td>168.603</td>\n",
              "      <td>6.5</td>\n",
              "      <td>Ms</td>\n",
              "      <td>61.0</td>\n",
              "      <td>1970030940.0</td>\n",
              "    </tr>\n",
              "    <tr>\n",
              "      <th>17</th>\n",
              "      <td>148.87</td>\n",
              "      <td>6.0</td>\n",
              "      <td>Mb</td>\n",
              "      <td>65.0</td>\n",
              "      <td>1970031040.0</td>\n",
              "    </tr>\n",
              "    <tr>\n",
              "      <th>18</th>\n",
              "      <td>-153.97</td>\n",
              "      <td>6.5</td>\n",
              "      <td>ML</td>\n",
              "      <td>0.0</td>\n",
              "      <td>NaN</td>\n",
              "    </tr>\n",
              "    <tr>\n",
              "      <th>19</th>\n",
              "      <td>-69.499</td>\n",
              "      <td>6.0</td>\n",
              "      <td>Mb</td>\n",
              "      <td>118.0</td>\n",
              "      <td>1970031540.0</td>\n",
              "    </tr>\n",
              "  </tbody>\n",
              "</table>\n",
              "</div>\n",
              "      <button class=\"colab-df-convert\" onclick=\"convertToInteractive('df-8bae5d69-de73-478d-bd63-d30cd761cfdc')\"\n",
              "              title=\"Convert this dataframe to an interactive table.\"\n",
              "              style=\"display:none;\">\n",
              "        \n",
              "  <svg xmlns=\"http://www.w3.org/2000/svg\" height=\"24px\"viewBox=\"0 0 24 24\"\n",
              "       width=\"24px\">\n",
              "    <path d=\"M0 0h24v24H0V0z\" fill=\"none\"/>\n",
              "    <path d=\"M18.56 5.44l.94 2.06.94-2.06 2.06-.94-2.06-.94-.94-2.06-.94 2.06-2.06.94zm-11 1L8.5 8.5l.94-2.06 2.06-.94-2.06-.94L8.5 2.5l-.94 2.06-2.06.94zm10 10l.94 2.06.94-2.06 2.06-.94-2.06-.94-.94-2.06-.94 2.06-2.06.94z\"/><path d=\"M17.41 7.96l-1.37-1.37c-.4-.4-.92-.59-1.43-.59-.52 0-1.04.2-1.43.59L10.3 9.45l-7.72 7.72c-.78.78-.78 2.05 0 2.83L4 21.41c.39.39.9.59 1.41.59.51 0 1.02-.2 1.41-.59l7.78-7.78 2.81-2.81c.8-.78.8-2.07 0-2.86zM5.41 20L4 18.59l7.72-7.72 1.47 1.35L5.41 20z\"/>\n",
              "  </svg>\n",
              "      </button>\n",
              "      \n",
              "  <style>\n",
              "    .colab-df-container {\n",
              "      display:flex;\n",
              "      flex-wrap:wrap;\n",
              "      gap: 12px;\n",
              "    }\n",
              "\n",
              "    .colab-df-convert {\n",
              "      background-color: #E8F0FE;\n",
              "      border: none;\n",
              "      border-radius: 50%;\n",
              "      cursor: pointer;\n",
              "      display: none;\n",
              "      fill: #1967D2;\n",
              "      height: 32px;\n",
              "      padding: 0 0 0 0;\n",
              "      width: 32px;\n",
              "    }\n",
              "\n",
              "    .colab-df-convert:hover {\n",
              "      background-color: #E2EBFA;\n",
              "      box-shadow: 0px 1px 2px rgba(60, 64, 67, 0.3), 0px 1px 3px 1px rgba(60, 64, 67, 0.15);\n",
              "      fill: #174EA6;\n",
              "    }\n",
              "\n",
              "    [theme=dark] .colab-df-convert {\n",
              "      background-color: #3B4455;\n",
              "      fill: #D2E3FC;\n",
              "    }\n",
              "\n",
              "    [theme=dark] .colab-df-convert:hover {\n",
              "      background-color: #434B5C;\n",
              "      box-shadow: 0px 1px 3px 1px rgba(0, 0, 0, 0.15);\n",
              "      filter: drop-shadow(0px 1px 2px rgba(0, 0, 0, 0.3));\n",
              "      fill: #FFFFFF;\n",
              "    }\n",
              "  </style>\n",
              "\n",
              "      <script>\n",
              "        const buttonEl =\n",
              "          document.querySelector('#df-8bae5d69-de73-478d-bd63-d30cd761cfdc button.colab-df-convert');\n",
              "        buttonEl.style.display =\n",
              "          google.colab.kernel.accessAllowed ? 'block' : 'none';\n",
              "\n",
              "        async function convertToInteractive(key) {\n",
              "          const element = document.querySelector('#df-8bae5d69-de73-478d-bd63-d30cd761cfdc');\n",
              "          const dataTable =\n",
              "            await google.colab.kernel.invokeFunction('convertToInteractive',\n",
              "                                                     [key], {});\n",
              "          if (!dataTable) return;\n",
              "\n",
              "          const docLinkHtml = 'Like what you see? Visit the ' +\n",
              "            '<a target=\"_blank\" href=https://colab.research.google.com/notebooks/data_table.ipynb>data table notebook</a>'\n",
              "            + ' to learn more about interactive tables.';\n",
              "          element.innerHTML = '';\n",
              "          dataTable['output_type'] = 'display_data';\n",
              "          await google.colab.output.renderOutput(dataTable, element);\n",
              "          const docLink = document.createElement('div');\n",
              "          docLink.innerHTML = docLinkHtml;\n",
              "          element.appendChild(docLink);\n",
              "        }\n",
              "      </script>\n",
              "    </div>\n",
              "  </div>\n",
              "  "
            ]
          },
          "metadata": {}
        },
        {
          "output_type": "error",
          "ename": "NameError",
          "evalue": "ignored",
          "traceback": [
            "\u001b[0;31m---------------------------------------------------------------------------\u001b[0m",
            "\u001b[0;31mNameError\u001b[0m                                 Traceback (most recent call last)",
            "\u001b[0;32m<ipython-input-9-b76075f58504>\u001b[0m in \u001b[0;36m<module>\u001b[0;34m\u001b[0m\n\u001b[1;32m     27\u001b[0m \u001b[0;34m\u001b[0m\u001b[0m\n\u001b[1;32m     28\u001b[0m \u001b[0;31m#the following code will remove with null value\u001b[0m\u001b[0;34m\u001b[0m\u001b[0;34m\u001b[0m\u001b[0m\n\u001b[0;32m---> 29\u001b[0;31m \u001b[0mdf_array_sliced_numeric\u001b[0m\u001b[0;34m[\u001b[0m\u001b[0;34m~\u001b[0m\u001b[0mnp\u001b[0m\u001b[0;34m.\u001b[0m\u001b[0misnan\u001b[0m\u001b[0;34m(\u001b[0m\u001b[0mdf_array_sliced_numeric\u001b[0m\u001b[0;34m)\u001b[0m\u001b[0;34m.\u001b[0m\u001b[0many\u001b[0m\u001b[0;34m(\u001b[0m\u001b[0maxis\u001b[0m\u001b[0;34m=\u001b[0m\u001b[0;36m1\u001b[0m\u001b[0;34m)\u001b[0m\u001b[0;34m]\u001b[0m \u001b[0;34m-\u001b[0m \u001b[0;34m[\u001b[0m\u001b[0;36m1\u001b[0m\u001b[0;34m,\u001b[0m\u001b[0;36m25\u001b[0m\u001b[0;34m,\u001b[0m\u001b[0;36m10\u001b[0m\u001b[0;34m,\u001b[0m\u001b[0;36m4\u001b[0m\u001b[0;34m]\u001b[0m\u001b[0;34m\u001b[0m\u001b[0;34m\u001b[0m\u001b[0m\n\u001b[0m\u001b[1;32m     30\u001b[0m \u001b[0mdf_array_sliced_numeric\u001b[0m\u001b[0;34m[\u001b[0m\u001b[0;34m~\u001b[0m\u001b[0mnp\u001b[0m\u001b[0;34m.\u001b[0m\u001b[0misnan\u001b[0m\u001b[0;34m(\u001b[0m\u001b[0mdf_array_sliced_numeric\u001b[0m\u001b[0;34m)\u001b[0m\u001b[0;34m.\u001b[0m\u001b[0many\u001b[0m\u001b[0;34m(\u001b[0m\u001b[0maxis\u001b[0m\u001b[0;34m=\u001b[0m\u001b[0;36m1\u001b[0m\u001b[0;34m)\u001b[0m\u001b[0;34m]\u001b[0m\u001b[0;34m*\u001b[0m\u001b[0;36m4\u001b[0m\u001b[0;34m\u001b[0m\u001b[0;34m\u001b[0m\u001b[0m\n",
            "\u001b[0;31mNameError\u001b[0m: name 'df_array_sliced_numeric' is not defined"
          ]
        }
      ]
    },
    {
      "cell_type": "code",
      "source": [],
      "metadata": {
        "id": "MyrrfEzBo7W8"
      },
      "id": "MyrrfEzBo7W8",
      "execution_count": null,
      "outputs": []
    }
  ],
  "metadata": {
    "kernelspec": {
      "display_name": "Python 3 (ipykernel)",
      "language": "python",
      "name": "python3"
    },
    "language_info": {
      "codemirror_mode": {
        "name": "ipython",
        "version": 3
      },
      "file_extension": ".py",
      "mimetype": "text/x-python",
      "name": "python",
      "nbconvert_exporter": "python",
      "pygments_lexer": "ipython3",
      "version": "3.9.13"
    },
    "colab": {
      "provenance": [],
      "include_colab_link": true
    },
    "accelerator": "GPU",
    "gpuClass": "standard"
  },
  "nbformat": 4,
  "nbformat_minor": 5
}