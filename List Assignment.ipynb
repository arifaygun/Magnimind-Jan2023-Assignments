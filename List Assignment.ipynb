{
 "cells": [
  {
   "cell_type": "markdown",
   "id": "ef53d523",
   "metadata": {},
   "source": [
    "# List Assignment - Arif Aygun"
   ]
  },
  {
   "cell_type": "markdown",
   "id": "7f95735f",
   "metadata": {},
   "source": [
    "#### 1- Write a code to compute the sum of the two lowest numbers and the two highest numbers in the following list."
   ]
  },
  {
   "cell_type": "markdown",
   "id": "61d1d844",
   "metadata": {},
   "source": [
    "my_list = [34, 56, 76, 45, 2, 12, 67, 98, 37, 54, 66]"
   ]
  },
  {
   "cell_type": "code",
   "execution_count": 3,
   "id": "5701b99f",
   "metadata": {},
   "outputs": [
    {
     "name": "stdout",
     "output_type": "stream",
     "text": [
      "Lowest sum: 14 Highest sum: 174\n"
     ]
    }
   ],
   "source": [
    "my_list = [34, 56, 76, 45, 2, 12, 67, 98, 37, 54, 66]\n",
    "my_list.sort()\n",
    "lowest_sum = my_list[0] + my_list[1]\n",
    "highest_sum = my_list[-1] + my_list[-2]\n",
    "print(\"Lowest sum:\",lowest_sum,\"Highest sum:\",highest_sum)"
   ]
  },
  {
   "cell_type": "markdown",
   "id": "6f015913",
   "metadata": {},
   "source": [
    "#### 2- The following two lists contain student names and scores. Write a code that gets the name from the user and prints the score of that student."
   ]
  },
  {
   "cell_type": "markdown",
   "id": "f717156c",
   "metadata": {},
   "source": [
    "names = [\"David\", \"Michael\", \"John\", \"James\", \"Greg\", \"Mark\", \"William\", \"Richard\", \"Thomas\", \"Steven\",\n",
    "\n",
    "   \"Mary\", \"Susan\", \"Maria\", \"Karen\", \"Lisa\", \"Linda\", \"Donna\", \"Patricia\", \"Debra\", \"Eric\"]"
   ]
  },
  {
   "cell_type": "markdown",
   "id": "78c4330c",
   "metadata": {},
   "source": [
    "scores = [99, 87, 78, 86, 68, 94, 76, 97, 56, 98, 76, 87, 79, 90, 73, 93, 82, 69, 97, 98]"
   ]
  },
  {
   "cell_type": "code",
   "execution_count": 9,
   "id": "282deca3",
   "metadata": {
    "scrolled": true
   },
   "outputs": [
    {
     "name": "stdout",
     "output_type": "stream",
     "text": [
      "Enter a name from list: David\n",
      "David's score is 99\n"
     ]
    }
   ],
   "source": [
    "names = [\"David\", \"Michael\", \"John\", \"James\", \"Greg\", \"Mark\", \"William\", \"Richard\", \"Thomas\", \"Steven\",\n",
    "\"Mary\", \"Susan\", \"Maria\", \"Karen\", \"Lisa\", \"Linda\", \"Donna\", \"Patricia\", \"Debra\", \"Eric\"]\n",
    "scores = [99, 87, 78, 86, 68, 94, 76, 97, 56, 98, 76, 87, 79, 90, 73, 93, 82, 69, 97, 98]\n",
    "std_name = input(\"Enter a name from list: \")\n",
    "print(f\"{std_name}'s score is {scores[names.index(std_name)]}\")"
   ]
  },
  {
   "cell_type": "markdown",
   "id": "bb4617e5",
   "metadata": {},
   "source": [
    "#### 3- By using the two lists above, what is the maximum score and how many students got that score?"
   ]
  },
  {
   "cell_type": "code",
   "execution_count": 10,
   "id": "28b16df8",
   "metadata": {},
   "outputs": [
    {
     "name": "stdout",
     "output_type": "stream",
     "text": [
      "Maximum score is: 99\n",
      "Total students to get maximum score is: 1\n"
     ]
    }
   ],
   "source": [
    "scores = [99, 87, 78, 86, 68, 94, 76, 97, 56, 98, 76, 87, 79, 90, 73, 93, 82, 69, 97, 98]\n",
    "biggest_score = scores.count(max(scores))\n",
    "print (\"Maximum score is:\", max(scores))\n",
    "print(\"Total students to get maximum score is:\", biggest_score)"
   ]
  },
  {
   "cell_type": "code",
   "execution_count": null,
   "id": "ba48d9bd",
   "metadata": {},
   "outputs": [],
   "source": []
  }
 ],
 "metadata": {
  "kernelspec": {
   "display_name": "Python 3 (ipykernel)",
   "language": "python",
   "name": "python3"
  },
  "language_info": {
   "codemirror_mode": {
    "name": "ipython",
    "version": 3
   },
   "file_extension": ".py",
   "mimetype": "text/x-python",
   "name": "python",
   "nbconvert_exporter": "python",
   "pygments_lexer": "ipython3",
   "version": "3.9.13"
  }
 },
 "nbformat": 4,
 "nbformat_minor": 5
}
