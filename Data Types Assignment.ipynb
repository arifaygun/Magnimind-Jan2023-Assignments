{
 "cells": [
  {
   "cell_type": "markdown",
   "id": "6a5696a9",
   "metadata": {},
   "source": [
    "# Data Types Assignment - Arif Aygun"
   ]
  },
  {
   "cell_type": "markdown",
   "id": "ece221ac",
   "metadata": {},
   "source": [
    "### 1- Suppose you invested in Bitcoin at the end of 2020 when Bitcoin gained a lot of value. What would be your money at the end of a week if you had invested 1000 USD with an average daily increase of 12% ? You can solve the problem using Python."
   ]
  },
  {
   "cell_type": "markdown",
   "id": "d936dbfc",
   "metadata": {},
   "source": [
    "Help:\n",
    "\n",
    "     - Create a variable capital ($1000)\n",
    "\n",
    "     - Create a variable for daily growth (12%)\n",
    "\n",
    "     - Create a variable for period (7)\n",
    "\n",
    "     - Calculate the final growth rate\n",
    "\n",
    "     - Calculate result\n",
    "\n",
    "     - Print result"
   ]
  },
  {
   "cell_type": "code",
   "execution_count": 13,
   "id": "6320a704",
   "metadata": {},
   "outputs": [
    {
     "name": "stdout",
     "output_type": "stream",
     "text": [
      "Result: 2210.6814074060812 USD\n"
     ]
    }
   ],
   "source": [
    "capital = 1000\n",
    "rate = 0.12\n",
    "period = 7\n",
    "final_gr = capital*((1 + (rate/1))**(period))\n",
    "print(\"Result:\",final_gr, \"USD\")"
   ]
  },
  {
   "cell_type": "markdown",
   "id": "f7e51cbd",
   "metadata": {},
   "source": [
    "### 2- Print the text in quotes with Python. However, you must get the numbers from variables using .format() notation. Because the text is long, you might consider writing in two lines:"
   ]
  },
  {
   "cell_type": "markdown",
   "id": "bd51c515",
   "metadata": {},
   "source": [
    "\"When we buy bitcoin with 1000 USD at the beginning of the week, we would earn 1210.68 USD at the end of the week, with an average gain of 12\\%.\"\n"
   ]
  },
  {
   "cell_type": "code",
   "execution_count": 16,
   "id": "9fa77c65",
   "metadata": {},
   "outputs": [
    {
     "name": "stdout",
     "output_type": "stream",
     "text": [
      "When we buy bitcoin with 1000 USD at the beginning of the week,\n",
      "we would earn 2210.68 USD at the end of the week, with an average gain of 12%.\n"
     ]
    }
   ],
   "source": [
    "text = \"\"\"When we buy bitcoin with {} USD at the beginning of the week,\n",
    "we would earn {:.2f} USD at the end of the week, with an average gain of 12%.\"\"\"\n",
    "print(text.format(capital,final_gr))"
   ]
  },
  {
   "cell_type": "markdown",
   "id": "8439afbf",
   "metadata": {},
   "source": [
    "### 3- Get the temperature in Fahrenheit from user and write a code to convert it to Celcius. For conversion, you can use this formula: C = (5/9) * (F - 32)              "
   ]
  },
  {
   "cell_type": "markdown",
   "id": "56ea3152",
   "metadata": {},
   "source": [
    "### Enter the temperature in Fahrenheit:"
   ]
  },
  {
   "cell_type": "markdown",
   "id": "3e15b173",
   "metadata": {},
   "source": [
    "user --> 26\n",
    "\n",
    "output --> Temperature (C) : -3.33"
   ]
  },
  {
   "cell_type": "code",
   "execution_count": 2,
   "id": "790baeb6",
   "metadata": {},
   "outputs": [
    {
     "name": "stdout",
     "output_type": "stream",
     "text": [
      "Temperature (Fahrenheit): 26\n",
      "Temperarture (Celsius): -3.33\n"
     ]
    }
   ],
   "source": [
    "f = int(input(\"Temperature (Fahrenheit): \"))\n",
    "c = (5/9) * (f-32)\n",
    "print(f\"Temperarture (Celsius): {c:.2f}\")"
   ]
  },
  {
   "cell_type": "markdown",
   "id": "612fa0c3",
   "metadata": {},
   "source": [
    "### 4- Get a three digit number the from user and calculate the sum of the digits in the integer."
   ]
  },
  {
   "cell_type": "markdown",
   "id": "11066117",
   "metadata": {},
   "source": [
    "user --> 365\n",
    "\n",
    "output --> \"The sum of digits in the number is 14"
   ]
  },
  {
   "cell_type": "code",
   "execution_count": 4,
   "id": "044579a0",
   "metadata": {},
   "outputs": [
    {
     "name": "stdout",
     "output_type": "stream",
     "text": [
      "Enter a three digit number: 365\n",
      "The sum of digits your the number is: 14\n"
     ]
    }
   ],
   "source": [
    "number = input(\"Enter a three digit number: \")\n",
    "result = int(number[0]) + int(number[1]) + int(number[2])\n",
    "print(f\"The sum of digits your the number is: {result}\")"
   ]
  },
  {
   "cell_type": "markdown",
   "id": "556f61f5",
   "metadata": {},
   "source": [
    "### 5- Write some code to calculate the hypotenuse of a right angled triangle. Get the side lengths from the user."
   ]
  },
  {
   "cell_type": "markdown",
   "id": "a90e3126",
   "metadata": {},
   "source": [
    "user --> first side lenth : 6\n",
    "\n",
    "user --> first side lenth : 8\n",
    "\n",
    "output --> \"The length of the hypotenuse is 10"
   ]
  },
  {
   "cell_type": "code",
   "execution_count": 14,
   "id": "f8a8b1c7",
   "metadata": {},
   "outputs": [
    {
     "name": "stdout",
     "output_type": "stream",
     "text": [
      "first side length:6\n",
      "second side length:8\n",
      "The length of the hypotenuse is 10\n"
     ]
    }
   ],
   "source": [
    "side_1 = int(input(\"first side length:\"))\n",
    "side_2 = int(input(\"second side length:\"))\n",
    "hypot = (side_1**2 + side_2**2)**(1/2)\n",
    "print(f\"The length of the hypotenuse is {int(hypot)}\")"
   ]
  }
 ],
 "metadata": {
  "kernelspec": {
   "display_name": "Python 3 (ipykernel)",
   "language": "python",
   "name": "python3"
  },
  "language_info": {
   "codemirror_mode": {
    "name": "ipython",
    "version": 3
   },
   "file_extension": ".py",
   "mimetype": "text/x-python",
   "name": "python",
   "nbconvert_exporter": "python",
   "pygments_lexer": "ipython3",
   "version": "3.9.13"
  }
 },
 "nbformat": 4,
 "nbformat_minor": 5
}
