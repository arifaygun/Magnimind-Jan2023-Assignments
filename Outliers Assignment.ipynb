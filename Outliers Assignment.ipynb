{
 "cells": [
  {
   "cell_type": "markdown",
   "id": "b59a163b",
   "metadata": {},
   "source": [
    "# Outliers Assignment - Arif Aygun"
   ]
  },
  {
   "cell_type": "markdown",
   "id": "7ebbe8f3",
   "metadata": {},
   "source": [
    "In this assignment, you'll continue working with the U.S. Education Dataset from Kaggle. The data gives detailed state-level information on several facets of education on an annual basis. To learn more about the data and the column descriptions, you can view the Kaggle link above.\n",
    "\n",
    "Don't forget to apply the most suitable missing-value-filling techniques from the previous checkpoint to the data. Provide the answers to the following only after you've addressed missing values!\n",
    "\n",
    "To complete this assignment, submit a link to a Jupyter Notebook containing your solutions to the following tasks:"
   ]
  },
  {
   "cell_type": "markdown",
   "id": "94da5f03",
   "metadata": {},
   "source": [
    "1. Consider the two variables: TOTAL_REVENUE and TOTAL_EXPENDITURE. Do these variables have outlier values?\n",
    "\n",
    "2. If you detect outliers in the TOTAL_REVENUE and TOTAL_EXPENDITURE variables, apply the techniques you learned in this checkpoint to eliminate them and validate that there are no outlier values after you handled them.\n",
    "\n",
    "3. Create another variable by subtracting the original TOTAL_EXPENDITURE from TOTAL_REVENUE (before you eliminated the outliers). You can think of it as a kind of budget deficit in education. Do you find any outlier values in this new variable? If so, eliminate them using the technique that think is most suitable.\n",
    "\n",
    "4. Now create another variable by subtracting the TOTAL_EXPENDITURE from TOTAL_REVENUE. This time, use the outlier eliminated versions of TOTAL_EXPENDITURE from TOTAL_REVENUE. In this newly created variable, can you find any outliers? If so, eliminate them.\n",
    "\n",
    "5. Compare some basic descriptive statistics of the budget variables you end up with in the third and the fourth questions. Do you see any differences?\n",
    "\n",
    "6. If your variable of interest is the budget deficit variable, which method do you think is the most appropriate in dealing with the outliers in this variable: the method in the third question or the one in the fourth question?\n"
   ]
  },
  {
   "cell_type": "markdown",
   "id": "7fd8eeff",
   "metadata": {},
   "source": [
    "#### Importing Libraries"
   ]
  },
  {
   "cell_type": "code",
   "execution_count": 1,
   "id": "76d6b848",
   "metadata": {},
   "outputs": [],
   "source": [
    "import pandas as pd\n",
    "import numpy as np\n",
    "import seaborn as sns\n",
    "import matplotlib.pyplot as plt\n",
    "%matplotlib inline\n",
    "from scipy import stats"
   ]
  },
  {
   "cell_type": "markdown",
   "id": "a59f56aa",
   "metadata": {},
   "source": [
    "#### Reading dataset"
   ]
  },
  {
   "cell_type": "code",
   "execution_count": 2,
   "id": "9fe45c47",
   "metadata": {},
   "outputs": [],
   "source": [
    "df_states= pd.read_csv('states_all.csv')"
   ]
  },
  {
   "cell_type": "code",
   "execution_count": 3,
   "id": "72ac0069",
   "metadata": {},
   "outputs": [
    {
     "data": {
      "text/html": [
       "<div>\n",
       "<style scoped>\n",
       "    .dataframe tbody tr th:only-of-type {\n",
       "        vertical-align: middle;\n",
       "    }\n",
       "\n",
       "    .dataframe tbody tr th {\n",
       "        vertical-align: top;\n",
       "    }\n",
       "\n",
       "    .dataframe thead th {\n",
       "        text-align: right;\n",
       "    }\n",
       "</style>\n",
       "<table border=\"1\" class=\"dataframe\">\n",
       "  <thead>\n",
       "    <tr style=\"text-align: right;\">\n",
       "      <th></th>\n",
       "      <th>PRIMARY_KEY</th>\n",
       "      <th>STATE</th>\n",
       "      <th>YEAR</th>\n",
       "      <th>ENROLL</th>\n",
       "      <th>TOTAL_REVENUE</th>\n",
       "      <th>FEDERAL_REVENUE</th>\n",
       "      <th>STATE_REVENUE</th>\n",
       "      <th>LOCAL_REVENUE</th>\n",
       "      <th>TOTAL_EXPENDITURE</th>\n",
       "      <th>INSTRUCTION_EXPENDITURE</th>\n",
       "      <th>...</th>\n",
       "      <th>GRADES_4_G</th>\n",
       "      <th>GRADES_8_G</th>\n",
       "      <th>GRADES_12_G</th>\n",
       "      <th>GRADES_1_8_G</th>\n",
       "      <th>GRADES_9_12_G</th>\n",
       "      <th>GRADES_ALL_G</th>\n",
       "      <th>AVG_MATH_4_SCORE</th>\n",
       "      <th>AVG_MATH_8_SCORE</th>\n",
       "      <th>AVG_READING_4_SCORE</th>\n",
       "      <th>AVG_READING_8_SCORE</th>\n",
       "    </tr>\n",
       "  </thead>\n",
       "  <tbody>\n",
       "    <tr>\n",
       "      <th>0</th>\n",
       "      <td>1992_ALABAMA</td>\n",
       "      <td>ALABAMA</td>\n",
       "      <td>1992</td>\n",
       "      <td>NaN</td>\n",
       "      <td>2678885.0</td>\n",
       "      <td>304177.0</td>\n",
       "      <td>1659028.0</td>\n",
       "      <td>715680.0</td>\n",
       "      <td>2653798.0</td>\n",
       "      <td>1481703.0</td>\n",
       "      <td>...</td>\n",
       "      <td>57948.0</td>\n",
       "      <td>58025.0</td>\n",
       "      <td>41167.0</td>\n",
       "      <td>NaN</td>\n",
       "      <td>NaN</td>\n",
       "      <td>731634.0</td>\n",
       "      <td>208.0</td>\n",
       "      <td>252.0</td>\n",
       "      <td>207.0</td>\n",
       "      <td>NaN</td>\n",
       "    </tr>\n",
       "    <tr>\n",
       "      <th>1</th>\n",
       "      <td>1992_ALASKA</td>\n",
       "      <td>ALASKA</td>\n",
       "      <td>1992</td>\n",
       "      <td>NaN</td>\n",
       "      <td>1049591.0</td>\n",
       "      <td>106780.0</td>\n",
       "      <td>720711.0</td>\n",
       "      <td>222100.0</td>\n",
       "      <td>972488.0</td>\n",
       "      <td>498362.0</td>\n",
       "      <td>...</td>\n",
       "      <td>9748.0</td>\n",
       "      <td>8789.0</td>\n",
       "      <td>6714.0</td>\n",
       "      <td>NaN</td>\n",
       "      <td>NaN</td>\n",
       "      <td>122487.0</td>\n",
       "      <td>NaN</td>\n",
       "      <td>NaN</td>\n",
       "      <td>NaN</td>\n",
       "      <td>NaN</td>\n",
       "    </tr>\n",
       "    <tr>\n",
       "      <th>2</th>\n",
       "      <td>1992_ARIZONA</td>\n",
       "      <td>ARIZONA</td>\n",
       "      <td>1992</td>\n",
       "      <td>NaN</td>\n",
       "      <td>3258079.0</td>\n",
       "      <td>297888.0</td>\n",
       "      <td>1369815.0</td>\n",
       "      <td>1590376.0</td>\n",
       "      <td>3401580.0</td>\n",
       "      <td>1435908.0</td>\n",
       "      <td>...</td>\n",
       "      <td>55433.0</td>\n",
       "      <td>49081.0</td>\n",
       "      <td>37410.0</td>\n",
       "      <td>NaN</td>\n",
       "      <td>NaN</td>\n",
       "      <td>673477.0</td>\n",
       "      <td>215.0</td>\n",
       "      <td>265.0</td>\n",
       "      <td>209.0</td>\n",
       "      <td>NaN</td>\n",
       "    </tr>\n",
       "    <tr>\n",
       "      <th>3</th>\n",
       "      <td>1992_ARKANSAS</td>\n",
       "      <td>ARKANSAS</td>\n",
       "      <td>1992</td>\n",
       "      <td>NaN</td>\n",
       "      <td>1711959.0</td>\n",
       "      <td>178571.0</td>\n",
       "      <td>958785.0</td>\n",
       "      <td>574603.0</td>\n",
       "      <td>1743022.0</td>\n",
       "      <td>964323.0</td>\n",
       "      <td>...</td>\n",
       "      <td>34632.0</td>\n",
       "      <td>36011.0</td>\n",
       "      <td>27651.0</td>\n",
       "      <td>NaN</td>\n",
       "      <td>NaN</td>\n",
       "      <td>441490.0</td>\n",
       "      <td>210.0</td>\n",
       "      <td>256.0</td>\n",
       "      <td>211.0</td>\n",
       "      <td>NaN</td>\n",
       "    </tr>\n",
       "    <tr>\n",
       "      <th>4</th>\n",
       "      <td>1992_CALIFORNIA</td>\n",
       "      <td>CALIFORNIA</td>\n",
       "      <td>1992</td>\n",
       "      <td>NaN</td>\n",
       "      <td>26260025.0</td>\n",
       "      <td>2072470.0</td>\n",
       "      <td>16546514.0</td>\n",
       "      <td>7641041.0</td>\n",
       "      <td>27138832.0</td>\n",
       "      <td>14358922.0</td>\n",
       "      <td>...</td>\n",
       "      <td>418418.0</td>\n",
       "      <td>363296.0</td>\n",
       "      <td>270675.0</td>\n",
       "      <td>NaN</td>\n",
       "      <td>NaN</td>\n",
       "      <td>5254844.0</td>\n",
       "      <td>208.0</td>\n",
       "      <td>261.0</td>\n",
       "      <td>202.0</td>\n",
       "      <td>NaN</td>\n",
       "    </tr>\n",
       "  </tbody>\n",
       "</table>\n",
       "<p>5 rows × 25 columns</p>\n",
       "</div>"
      ],
      "text/plain": [
       "       PRIMARY_KEY       STATE  YEAR  ENROLL  TOTAL_REVENUE  FEDERAL_REVENUE  \\\n",
       "0     1992_ALABAMA     ALABAMA  1992     NaN      2678885.0         304177.0   \n",
       "1      1992_ALASKA      ALASKA  1992     NaN      1049591.0         106780.0   \n",
       "2     1992_ARIZONA     ARIZONA  1992     NaN      3258079.0         297888.0   \n",
       "3    1992_ARKANSAS    ARKANSAS  1992     NaN      1711959.0         178571.0   \n",
       "4  1992_CALIFORNIA  CALIFORNIA  1992     NaN     26260025.0        2072470.0   \n",
       "\n",
       "   STATE_REVENUE  LOCAL_REVENUE  TOTAL_EXPENDITURE  INSTRUCTION_EXPENDITURE  \\\n",
       "0      1659028.0       715680.0          2653798.0                1481703.0   \n",
       "1       720711.0       222100.0           972488.0                 498362.0   \n",
       "2      1369815.0      1590376.0          3401580.0                1435908.0   \n",
       "3       958785.0       574603.0          1743022.0                 964323.0   \n",
       "4     16546514.0      7641041.0         27138832.0               14358922.0   \n",
       "\n",
       "   ...  GRADES_4_G  GRADES_8_G  GRADES_12_G  GRADES_1_8_G  GRADES_9_12_G  \\\n",
       "0  ...     57948.0     58025.0      41167.0           NaN            NaN   \n",
       "1  ...      9748.0      8789.0       6714.0           NaN            NaN   \n",
       "2  ...     55433.0     49081.0      37410.0           NaN            NaN   \n",
       "3  ...     34632.0     36011.0      27651.0           NaN            NaN   \n",
       "4  ...    418418.0    363296.0     270675.0           NaN            NaN   \n",
       "\n",
       "   GRADES_ALL_G  AVG_MATH_4_SCORE  AVG_MATH_8_SCORE  AVG_READING_4_SCORE  \\\n",
       "0      731634.0             208.0             252.0                207.0   \n",
       "1      122487.0               NaN               NaN                  NaN   \n",
       "2      673477.0             215.0             265.0                209.0   \n",
       "3      441490.0             210.0             256.0                211.0   \n",
       "4     5254844.0             208.0             261.0                202.0   \n",
       "\n",
       "   AVG_READING_8_SCORE  \n",
       "0                  NaN  \n",
       "1                  NaN  \n",
       "2                  NaN  \n",
       "3                  NaN  \n",
       "4                  NaN  \n",
       "\n",
       "[5 rows x 25 columns]"
      ]
     },
     "execution_count": 3,
     "metadata": {},
     "output_type": "execute_result"
    }
   ],
   "source": [
    "df_states.head()"
   ]
  },
  {
   "cell_type": "markdown",
   "id": "577d05a6",
   "metadata": {},
   "source": [
    "#### Checking basic informations of dataframe"
   ]
  },
  {
   "cell_type": "code",
   "execution_count": 4,
   "id": "8d4d3c51",
   "metadata": {},
   "outputs": [
    {
     "name": "stdout",
     "output_type": "stream",
     "text": [
      "<class 'pandas.core.frame.DataFrame'>\n",
      "RangeIndex: 1715 entries, 0 to 1714\n",
      "Data columns (total 25 columns):\n",
      " #   Column                        Non-Null Count  Dtype  \n",
      "---  ------                        --------------  -----  \n",
      " 0   PRIMARY_KEY                   1715 non-null   object \n",
      " 1   STATE                         1715 non-null   object \n",
      " 2   YEAR                          1715 non-null   int64  \n",
      " 3   ENROLL                        1224 non-null   float64\n",
      " 4   TOTAL_REVENUE                 1275 non-null   float64\n",
      " 5   FEDERAL_REVENUE               1275 non-null   float64\n",
      " 6   STATE_REVENUE                 1275 non-null   float64\n",
      " 7   LOCAL_REVENUE                 1275 non-null   float64\n",
      " 8   TOTAL_EXPENDITURE             1275 non-null   float64\n",
      " 9   INSTRUCTION_EXPENDITURE       1275 non-null   float64\n",
      " 10  SUPPORT_SERVICES_EXPENDITURE  1275 non-null   float64\n",
      " 11  OTHER_EXPENDITURE             1224 non-null   float64\n",
      " 12  CAPITAL_OUTLAY_EXPENDITURE    1275 non-null   float64\n",
      " 13  GRADES_PK_G                   1542 non-null   float64\n",
      " 14  GRADES_KG_G                   1632 non-null   float64\n",
      " 15  GRADES_4_G                    1632 non-null   float64\n",
      " 16  GRADES_8_G                    1632 non-null   float64\n",
      " 17  GRADES_12_G                   1632 non-null   float64\n",
      " 18  GRADES_1_8_G                  1020 non-null   float64\n",
      " 19  GRADES_9_12_G                 1071 non-null   float64\n",
      " 20  GRADES_ALL_G                  1632 non-null   float64\n",
      " 21  AVG_MATH_4_SCORE              565 non-null    float64\n",
      " 22  AVG_MATH_8_SCORE              602 non-null    float64\n",
      " 23  AVG_READING_4_SCORE           650 non-null    float64\n",
      " 24  AVG_READING_8_SCORE           562 non-null    float64\n",
      "dtypes: float64(22), int64(1), object(2)\n",
      "memory usage: 335.1+ KB\n"
     ]
    }
   ],
   "source": [
    "df_states.info()"
   ]
  },
  {
   "cell_type": "markdown",
   "id": "a000036d",
   "metadata": {},
   "source": [
    "#### Pandas dataframe.interpolate() function will be used to fill NA values in the dataframe."
   ]
  },
  {
   "cell_type": "code",
   "execution_count": 5,
   "id": "e7164fdc",
   "metadata": {},
   "outputs": [],
   "source": [
    "df_filled = df_states.interpolate(method ='linear', limit_direction ='both')"
   ]
  },
  {
   "cell_type": "markdown",
   "id": "1255e8d9",
   "metadata": {},
   "source": [
    "#### Identify Missing Values of dataframe Pandas isnull() function."
   ]
  },
  {
   "cell_type": "code",
   "execution_count": 6,
   "id": "484492fd",
   "metadata": {},
   "outputs": [
    {
     "data": {
      "text/plain": [
       "PRIMARY_KEY                     0.0\n",
       "STATE                           0.0\n",
       "YEAR                            0.0\n",
       "ENROLL                          0.0\n",
       "TOTAL_REVENUE                   0.0\n",
       "FEDERAL_REVENUE                 0.0\n",
       "STATE_REVENUE                   0.0\n",
       "LOCAL_REVENUE                   0.0\n",
       "TOTAL_EXPENDITURE               0.0\n",
       "INSTRUCTION_EXPENDITURE         0.0\n",
       "SUPPORT_SERVICES_EXPENDITURE    0.0\n",
       "OTHER_EXPENDITURE               0.0\n",
       "CAPITAL_OUTLAY_EXPENDITURE      0.0\n",
       "GRADES_PK_G                     0.0\n",
       "GRADES_KG_G                     0.0\n",
       "GRADES_4_G                      0.0\n",
       "GRADES_8_G                      0.0\n",
       "GRADES_12_G                     0.0\n",
       "GRADES_1_8_G                    0.0\n",
       "GRADES_9_12_G                   0.0\n",
       "GRADES_ALL_G                    0.0\n",
       "AVG_MATH_4_SCORE                0.0\n",
       "AVG_MATH_8_SCORE                0.0\n",
       "AVG_READING_4_SCORE             0.0\n",
       "AVG_READING_8_SCORE             0.0\n",
       "dtype: float64"
      ]
     },
     "execution_count": 6,
     "metadata": {},
     "output_type": "execute_result"
    }
   ],
   "source": [
    "df_filled.isnull().sum()*100/df_filled.isnull().count()"
   ]
  },
  {
   "cell_type": "markdown",
   "id": "caa215fb",
   "metadata": {},
   "source": [
    "### 1. Consider the two variables: TOTAL_REVENUE and TOTAL_EXPENDITURE. Do these variables have outlier values?"
   ]
  },
  {
   "cell_type": "code",
   "execution_count": 7,
   "id": "11791e3e",
   "metadata": {},
   "outputs": [],
   "source": [
    "import matplotlib.pyplot as plt\n",
    "import numpy as np\n",
    "import pandas as pd\n",
    "import warnings\n",
    "warnings.filterwarnings(\"ignore\")\n",
    "plt.rcParams['figure.dpi'] = 100\n",
    "plt.rcParams['figure.figsize'] = (10,5)"
   ]
  },
  {
   "cell_type": "markdown",
   "id": "20345c83",
   "metadata": {},
   "source": [
    "#### Plotting Histograms"
   ]
  },
  {
   "cell_type": "code",
   "execution_count": 8,
   "id": "d5232563",
   "metadata": {},
   "outputs": [
    {
     "data": {
      "image/png": "[encoded data removed]",
      "text/plain": [
       "<Figure size 1000x500 with 1 Axes>"
      ]
     },
     "metadata": {},
     "output_type": "display_data"
    }
   ],
   "source": [
    "\n",
    "plt.hist(df_states['TOTAL_REVENUE'])\n",
    "plt.title('REVENUE')\n",
    "plt.show()"
   ]
  },
  {
   "cell_type": "code",
   "execution_count": 9,
   "id": "72ad4ec3",
   "metadata": {},
   "outputs": [
    {
     "data": {
      "image/png": "[encoded data removed]",
      "text/plain": [
       "<Figure size 1000x500 with 1 Axes>"
      ]
     },
     "metadata": {},
     "output_type": "display_data"
    }
   ],
   "source": [
    "plt.hist(df_states['TOTAL_EXPENDITURE'])\n",
    "plt.title('EXPENDITURE')\n",
    "plt.show()"
   ]
  },
  {
   "cell_type": "markdown",
   "id": "cb01de09",
   "metadata": {},
   "source": [
    "#### Plotting Box and Whisker Plots"
   ]
  },
  {
   "cell_type": "code",
   "execution_count": 10,
   "id": "0fafc677",
   "metadata": {},
   "outputs": [
    {
     "data": {
      "image/png": "[encoded data removed]",
      "text/plain": [
       "<Figure size 1000x500 with 1 Axes>"
      ]
     },
     "metadata": {},
     "output_type": "display_data"
    }
   ],
   "source": [
    "plt.boxplot(df_filled['TOTAL_REVENUE'])\n",
    "plt.show()"
   ]
  },
  {
   "cell_type": "code",
   "execution_count": 11,
   "id": "d61acf58",
   "metadata": {},
   "outputs": [
    {
     "data": {
      "image/png": "[encoded data removed]",
      "text/plain": [
       "<Figure size 1000x500 with 1 Axes>"
      ]
     },
     "metadata": {},
     "output_type": "display_data"
    }
   ],
   "source": [
    "plt.boxplot(df_filled['TOTAL_EXPENDITURE'])\n",
    "plt.show()"
   ]
  },
  {
   "cell_type": "markdown",
   "id": "2d5c40e5",
   "metadata": {},
   "source": [
    "#### Appling Statistical Tools in Detecting the Outliers"
   ]
  },
  {
   "cell_type": "code",
   "execution_count": 12,
   "id": "dcc3f619",
   "metadata": {},
   "outputs": [],
   "source": [
    "from scipy.stats import zscore"
   ]
  },
  {
   "cell_type": "markdown",
   "id": "3e84a579",
   "metadata": {},
   "source": [
    "#### The Outliers of TOTAL_REVENUE"
   ]
  },
  {
   "cell_type": "code",
   "execution_count": 13,
   "id": "3a2cf665",
   "metadata": {},
   "outputs": [],
   "source": [
    "zscore_TR = zscore(df_filled['TOTAL_REVENUE'])"
   ]
  },
  {
   "cell_type": "code",
   "execution_count": 14,
   "id": "ec5915fd",
   "metadata": {
    "scrolled": true
   },
   "outputs": [
    {
     "name": "stdout",
     "output_type": "stream",
     "text": [
      "The score threshold is: 1\n",
      "The indices of the outliers:\n",
      "(array([   4,   32,   55,   83,   94,  106,  134,  145,  157,  185,  196,\n",
      "        208,  236,  247,  259,  287,  298,  310,  338,  349,  361,  389,\n",
      "        400,  412,  440,  451,  463,  468,  472,  491,  502,  514,  519,\n",
      "        523,  532,  540,  542,  548,  553,  565,  570,  574,  583,  591,\n",
      "        593,  596,  599,  604,  616,  621,  625,  634,  642,  644,  647,\n",
      "        650,  655,  667,  672,  676,  685,  693,  695,  698,  701,  706,\n",
      "        718,  723,  727,  736,  744,  746,  749,  752,  757,  769,  774,\n",
      "        778,  787,  795,  797,  800,  803,  808,  820,  825,  826,  829,\n",
      "        838,  846,  848,  851,  854,  859,  871,  876,  877,  880,  889,\n",
      "        897,  899,  902,  905,  910,  922,  927,  931,  940,  948,  950,\n",
      "        953,  956,  961,  973,  978,  979,  982,  991,  999, 1001, 1004,\n",
      "       1007, 1012, 1024, 1029, 1033, 1042, 1050, 1052, 1055, 1058, 1063,\n",
      "       1075, 1080, 1084, 1093, 1101, 1103, 1106, 1109, 1114, 1126, 1131,\n",
      "       1135, 1144, 1152, 1154, 1157, 1160, 1165, 1177, 1182, 1183, 1186,\n",
      "       1195, 1203, 1205, 1208, 1211, 1216, 1228, 1233, 1234, 1237, 1246,\n",
      "       1254, 1256, 1259, 1262, 1267]),)\n",
      "Number of outliers is : 170\n",
      "___________________________________________________________________________\n",
      "The score threshold is: 2\n",
      "The indices of the outliers:\n",
      "(array([ 157,  208,  259,  310,  361,  389,  412,  440,  451,  463,  491,\n",
      "        502,  514,  542,  553,  565,  593,  604,  616,  644,  655,  667,\n",
      "        695,  706,  718,  746,  757,  769,  774,  797,  808,  820,  825,\n",
      "        848,  859,  871,  899,  910,  922,  950,  961,  973,  982, 1001,\n",
      "       1007, 1012, 1024, 1033, 1052, 1063, 1075, 1084, 1103, 1109, 1114,\n",
      "       1126, 1135, 1154, 1160, 1165, 1177, 1186, 1203, 1205, 1211, 1216,\n",
      "       1228, 1237, 1254, 1256, 1262, 1267]),)\n",
      "Number of outliers is : 72\n",
      "___________________________________________________________________________\n",
      "The score threshold is: 3\n",
      "The indices of the outliers:\n",
      "(array([ 310,  361,  412,  463,  514,  565,  616,  644,  667,  695,  718,\n",
      "        746,  757,  769,  797,  808,  820,  848,  859,  871,  899,  910,\n",
      "        922,  950,  961,  973, 1001, 1012, 1024, 1052, 1063, 1075, 1103,\n",
      "       1114, 1126, 1154, 1165, 1177, 1205, 1216, 1228, 1256, 1267]),)\n",
      "Number of outliers is : 43\n",
      "___________________________________________________________________________\n",
      "The score threshold is: 4\n",
      "The indices of the outliers:\n",
      "(array([ 463,  514,  565,  616,  667,  718,  769,  797,  820,  848,  871,\n",
      "        899,  922,  950,  961,  973, 1001, 1012, 1024, 1052, 1063, 1075,\n",
      "       1103, 1114, 1126, 1154, 1165, 1177, 1205, 1216, 1228, 1256, 1267]),)\n",
      "Number of outliers is : 33\n",
      "___________________________________________________________________________\n"
     ]
    }
   ],
   "source": [
    "for i in range(1,5):\n",
    "    print('The score threshold is: {}'.format(i))\n",
    "    print('The indices of the outliers:')\n",
    "    print(np.where(zscore_TR>i))\n",
    "    print('Number of outliers is : {}'.format(len(np.where(zscore_TR>i)[0])))\n",
    "    print('_'*75)"
   ]
  },
  {
   "cell_type": "markdown",
   "id": "0980155c",
   "metadata": {},
   "source": [
    "#### The Outliers of TOTAL_EXPENDITURE"
   ]
  },
  {
   "cell_type": "code",
   "execution_count": 15,
   "id": "c6350999",
   "metadata": {},
   "outputs": [],
   "source": [
    "zscore_TE = zscore(df_filled['TOTAL_EXPENDITURE'])"
   ]
  },
  {
   "cell_type": "code",
   "execution_count": 16,
   "id": "3e1833b4",
   "metadata": {},
   "outputs": [
    {
     "name": "stdout",
     "output_type": "stream",
     "text": [
      "The score threshold is: 1\n",
      "The indices of the outliers:\n",
      "(array([   4,   32,   55,   83,   94,  106,  134,  145,  157,  185,  196,\n",
      "        208,  236,  247,  259,  287,  298,  310,  338,  349,  361,  389,\n",
      "        400,  412,  440,  451,  463,  468,  472,  491,  497,  502,  514,\n",
      "        519,  523,  532,  542,  548,  553,  565,  570,  574,  583,  591,\n",
      "        593,  596,  599,  604,  616,  621,  625,  634,  642,  644,  647,\n",
      "        650,  655,  667,  672,  676,  685,  693,  695,  698,  701,  706,\n",
      "        718,  723,  727,  736,  744,  746,  749,  752,  757,  769,  774,\n",
      "        778,  787,  795,  797,  800,  803,  808,  820,  825,  826,  829,\n",
      "        838,  846,  848,  851,  854,  859,  871,  876,  877,  880,  889,\n",
      "        897,  899,  902,  905,  910,  922,  927,  931,  940,  948,  950,\n",
      "        953,  956,  961,  973,  978,  982,  991,  999, 1001, 1004, 1007,\n",
      "       1012, 1024, 1029, 1033, 1050, 1052, 1055, 1058, 1063, 1075, 1080,\n",
      "       1084, 1101, 1103, 1106, 1109, 1114, 1126, 1131, 1135, 1152, 1154,\n",
      "       1157, 1160, 1165, 1177, 1182, 1183, 1186, 1203, 1205, 1208, 1211,\n",
      "       1216, 1228, 1233, 1234, 1237, 1254, 1256, 1259, 1262, 1267]),)\n",
      "Number of Outliers is: 164\n",
      "___________________________________________________________________________\n",
      "The score threshold is: 2\n",
      "The indices of the outliers:\n",
      "(array([ 157,  208,  259,  310,  338,  361,  389,  412,  440,  451,  463,\n",
      "        491,  502,  514,  542,  553,  565,  593,  604,  616,  644,  655,\n",
      "        667,  695,  706,  718,  746,  757,  769,  774,  797,  808,  820,\n",
      "        825,  848,  859,  871,  899,  910,  922,  950,  961,  973, 1001,\n",
      "       1012, 1024, 1033, 1052, 1063, 1075, 1084, 1103, 1114, 1126, 1135,\n",
      "       1154, 1165, 1177, 1186, 1205, 1211, 1216, 1228, 1237, 1254, 1256,\n",
      "       1262, 1267]),)\n",
      "Number of Outliers is: 68\n",
      "___________________________________________________________________________\n",
      "The score threshold is: 3\n",
      "The indices of the outliers:\n",
      "(array([ 361,  412,  463,  514,  565,  593,  616,  644,  667,  695,  706,\n",
      "        718,  746,  757,  769,  797,  808,  820,  848,  859,  871,  899,\n",
      "        910,  922,  950,  961,  973, 1001, 1012, 1024, 1052, 1063, 1075,\n",
      "       1103, 1114, 1126, 1154, 1165, 1177, 1205, 1216, 1228, 1256, 1267]),)\n",
      "Number of Outliers is: 44\n",
      "___________________________________________________________________________\n",
      "The score threshold is: 4\n",
      "The indices of the outliers:\n",
      "(array([ 463,  514,  565,  616,  667,  718,  769,  797,  820,  848,  871,\n",
      "        899,  910,  922,  950,  961,  973, 1001, 1012, 1024, 1052, 1075,\n",
      "       1103, 1114, 1126, 1154, 1165, 1177, 1205, 1216, 1228, 1256, 1267]),)\n",
      "Number of Outliers is: 33\n",
      "___________________________________________________________________________\n"
     ]
    }
   ],
   "source": [
    "for i in range(1,5):\n",
    "    print('The score threshold is: {}'.format(i))\n",
    "    print('The indices of the outliers:')\n",
    "    print(np.where(zscore_TE>i))\n",
    "    print('Number of Outliers is: {}'.format(len(np.where(zscore_TE>i)[0])))\n",
    "    print('_'*75)"
   ]
  },
  {
   "cell_type": "markdown",
   "id": "1469a13f",
   "metadata": {},
   "source": [
    "### 2.If you detect outliers in the TOTAL_REVENUE and TOTAL_EXPENDITURE variables, apply the techniques you learned in this checkpoint to eliminate them and validate that there are no outlier values after you handled them."
   ]
  },
  {
   "cell_type": "markdown",
   "id": "29d49555",
   "metadata": {},
   "source": [
    "#### Eliminating of Outliers"
   ]
  },
  {
   "cell_type": "code",
   "execution_count": 17,
   "id": "2f98b01e",
   "metadata": {},
   "outputs": [
    {
     "data": {
      "image/png": "[encoded data removed]",
      "text/plain": [
       "<Figure size 1000x500 with 1 Axes>"
      ]
     },
     "metadata": {},
     "output_type": "display_data"
    }
   ],
   "source": [
    "plt.boxplot(df_filled['TOTAL_REVENUE'].dropna())\n",
    "plt.title('REVENUE')\n",
    "plt.show()"
   ]
  },
  {
   "cell_type": "code",
   "execution_count": 18,
   "id": "d03edcbc",
   "metadata": {},
   "outputs": [],
   "source": [
    "from scipy.stats.mstats import winsorize"
   ]
  },
  {
   "cell_type": "code",
   "execution_count": 19,
   "id": "f82ba4e4",
   "metadata": {},
   "outputs": [
    {
     "data": {
      "text/plain": [
       "masked_array(data=[2678885., 1586869., 3258079., ..., 2044669., 2044669.,\n",
       "                   2044669.],\n",
       "             mask=False,\n",
       "       fill_value=1e+20)"
      ]
     },
     "execution_count": 19,
     "metadata": {},
     "output_type": "execute_result"
    }
   ],
   "source": [
    "winsorized_revenue=winsorize(np.array(df_filled['TOTAL_REVENUE'].dropna()), (0.12, 0.12))\n",
    "winsorized_revenue"
   ]
  },
  {
   "cell_type": "code",
   "execution_count": 20,
   "id": "26e053d0",
   "metadata": {},
   "outputs": [
    {
     "data": {
      "image/png": "[encoded data removed]",
      "text/plain": [
       "<Figure size 1000x500 with 1 Axes>"
      ]
     },
     "metadata": {},
     "output_type": "display_data"
    }
   ],
   "source": [
    "plt.boxplot(winsorized_revenue)\n",
    "plt.title('WINSORIZED REVENUE')\n",
    "plt.show()"
   ]
  },
  {
   "cell_type": "code",
   "execution_count": 21,
   "id": "70e9d7fc",
   "metadata": {},
   "outputs": [
    {
     "data": {
      "image/png": "[encoded data removed]",
      "text/plain": [
       "<Figure size 1000x500 with 1 Axes>"
      ]
     },
     "metadata": {},
     "output_type": "display_data"
    }
   ],
   "source": [
    "plt.boxplot(df_filled[('TOTAL_EXPENDITURE')].dropna())\n",
    "plt.title('EXPENDITURE')\n",
    "plt.show()"
   ]
  },
  {
   "cell_type": "code",
   "execution_count": 22,
   "id": "f86aa68c",
   "metadata": {},
   "outputs": [
    {
     "data": {
      "text/plain": [
       "masked_array(data=[2653798., 1597210., 3401580., ..., 2034229., 2034229.,\n",
       "                   2034229.],\n",
       "             mask=False,\n",
       "       fill_value=1e+20)"
      ]
     },
     "execution_count": 22,
     "metadata": {},
     "output_type": "execute_result"
    }
   ],
   "source": [
    "winsorized_expenditure=winsorize(np.array(df_filled['TOTAL_EXPENDITURE'].dropna()), (0.12,0.12))\n",
    "winsorized_expenditure"
   ]
  },
  {
   "cell_type": "code",
   "execution_count": 23,
   "id": "6f51ae5b",
   "metadata": {},
   "outputs": [
    {
     "data": {
      "image/png": "[encoded data removed]",
      "text/plain": [
       "<Figure size 1000x500 with 1 Axes>"
      ]
     },
     "metadata": {},
     "output_type": "display_data"
    }
   ],
   "source": [
    "plt.boxplot(winsorized_expenditure)\n",
    "plt.show()"
   ]
  },
  {
   "cell_type": "markdown",
   "id": "91812548",
   "metadata": {},
   "source": [
    "####  12% of the lowest value and 12% of the highest values are replaced."
   ]
  },
  {
   "cell_type": "markdown",
   "id": "f1f06de3",
   "metadata": {},
   "source": [
    "### 3. Create another variable by subtracting the original TOTAL_EXPENDITURE from TOTAL_REVENUE (before you eliminated the outliers). You can think of it as a kind of budget deficit in education. Do you find any outlier values in this new variable? If so, eliminate them using the technique that think is most suitable."
   ]
  },
  {
   "cell_type": "code",
   "execution_count": 24,
   "id": "c6ebea92",
   "metadata": {},
   "outputs": [
    {
     "data": {
      "text/html": [
       "<div>\n",
       "<style scoped>\n",
       "    .dataframe tbody tr th:only-of-type {\n",
       "        vertical-align: middle;\n",
       "    }\n",
       "\n",
       "    .dataframe tbody tr th {\n",
       "        vertical-align: top;\n",
       "    }\n",
       "\n",
       "    .dataframe thead th {\n",
       "        text-align: right;\n",
       "    }\n",
       "</style>\n",
       "<table border=\"1\" class=\"dataframe\">\n",
       "  <thead>\n",
       "    <tr style=\"text-align: right;\">\n",
       "      <th></th>\n",
       "      <th>PRIMARY_KEY</th>\n",
       "      <th>STATE</th>\n",
       "      <th>YEAR</th>\n",
       "      <th>ENROLL</th>\n",
       "      <th>TOTAL_REVENUE</th>\n",
       "      <th>FEDERAL_REVENUE</th>\n",
       "      <th>STATE_REVENUE</th>\n",
       "      <th>LOCAL_REVENUE</th>\n",
       "      <th>TOTAL_EXPENDITURE</th>\n",
       "      <th>INSTRUCTION_EXPENDITURE</th>\n",
       "      <th>...</th>\n",
       "      <th>GRADES_8_G</th>\n",
       "      <th>GRADES_12_G</th>\n",
       "      <th>GRADES_1_8_G</th>\n",
       "      <th>GRADES_9_12_G</th>\n",
       "      <th>GRADES_ALL_G</th>\n",
       "      <th>AVG_MATH_4_SCORE</th>\n",
       "      <th>AVG_MATH_8_SCORE</th>\n",
       "      <th>AVG_READING_4_SCORE</th>\n",
       "      <th>AVG_READING_8_SCORE</th>\n",
       "      <th>PROFIT</th>\n",
       "    </tr>\n",
       "  </thead>\n",
       "  <tbody>\n",
       "    <tr>\n",
       "      <th>0</th>\n",
       "      <td>1992_ALABAMA</td>\n",
       "      <td>ALABAMA</td>\n",
       "      <td>1992</td>\n",
       "      <td>727716.0</td>\n",
       "      <td>2678885.0</td>\n",
       "      <td>304177.0</td>\n",
       "      <td>1659028.0</td>\n",
       "      <td>715680.0</td>\n",
       "      <td>2653798.0</td>\n",
       "      <td>1481703.0</td>\n",
       "      <td>...</td>\n",
       "      <td>58025.0</td>\n",
       "      <td>41167.0</td>\n",
       "      <td>472847.0</td>\n",
       "      <td>208148.0</td>\n",
       "      <td>731634.0</td>\n",
       "      <td>208.0</td>\n",
       "      <td>252.0</td>\n",
       "      <td>207.0</td>\n",
       "      <td>255.0</td>\n",
       "      <td>25087.0</td>\n",
       "    </tr>\n",
       "    <tr>\n",
       "      <th>1</th>\n",
       "      <td>1992_ALASKA</td>\n",
       "      <td>ALASKA</td>\n",
       "      <td>1992</td>\n",
       "      <td>727716.0</td>\n",
       "      <td>1049591.0</td>\n",
       "      <td>106780.0</td>\n",
       "      <td>720711.0</td>\n",
       "      <td>222100.0</td>\n",
       "      <td>972488.0</td>\n",
       "      <td>498362.0</td>\n",
       "      <td>...</td>\n",
       "      <td>8789.0</td>\n",
       "      <td>6714.0</td>\n",
       "      <td>472847.0</td>\n",
       "      <td>208148.0</td>\n",
       "      <td>122487.0</td>\n",
       "      <td>211.5</td>\n",
       "      <td>258.5</td>\n",
       "      <td>208.0</td>\n",
       "      <td>255.0</td>\n",
       "      <td>77103.0</td>\n",
       "    </tr>\n",
       "    <tr>\n",
       "      <th>2</th>\n",
       "      <td>1992_ARIZONA</td>\n",
       "      <td>ARIZONA</td>\n",
       "      <td>1992</td>\n",
       "      <td>727716.0</td>\n",
       "      <td>3258079.0</td>\n",
       "      <td>297888.0</td>\n",
       "      <td>1369815.0</td>\n",
       "      <td>1590376.0</td>\n",
       "      <td>3401580.0</td>\n",
       "      <td>1435908.0</td>\n",
       "      <td>...</td>\n",
       "      <td>49081.0</td>\n",
       "      <td>37410.0</td>\n",
       "      <td>472847.0</td>\n",
       "      <td>208148.0</td>\n",
       "      <td>673477.0</td>\n",
       "      <td>215.0</td>\n",
       "      <td>265.0</td>\n",
       "      <td>209.0</td>\n",
       "      <td>255.0</td>\n",
       "      <td>-143501.0</td>\n",
       "    </tr>\n",
       "    <tr>\n",
       "      <th>3</th>\n",
       "      <td>1992_ARKANSAS</td>\n",
       "      <td>ARKANSAS</td>\n",
       "      <td>1992</td>\n",
       "      <td>727716.0</td>\n",
       "      <td>1711959.0</td>\n",
       "      <td>178571.0</td>\n",
       "      <td>958785.0</td>\n",
       "      <td>574603.0</td>\n",
       "      <td>1743022.0</td>\n",
       "      <td>964323.0</td>\n",
       "      <td>...</td>\n",
       "      <td>36011.0</td>\n",
       "      <td>27651.0</td>\n",
       "      <td>472847.0</td>\n",
       "      <td>208148.0</td>\n",
       "      <td>441490.0</td>\n",
       "      <td>210.0</td>\n",
       "      <td>256.0</td>\n",
       "      <td>211.0</td>\n",
       "      <td>255.0</td>\n",
       "      <td>-31063.0</td>\n",
       "    </tr>\n",
       "    <tr>\n",
       "      <th>4</th>\n",
       "      <td>1992_CALIFORNIA</td>\n",
       "      <td>CALIFORNIA</td>\n",
       "      <td>1992</td>\n",
       "      <td>727716.0</td>\n",
       "      <td>26260025.0</td>\n",
       "      <td>2072470.0</td>\n",
       "      <td>16546514.0</td>\n",
       "      <td>7641041.0</td>\n",
       "      <td>27138832.0</td>\n",
       "      <td>14358922.0</td>\n",
       "      <td>...</td>\n",
       "      <td>363296.0</td>\n",
       "      <td>270675.0</td>\n",
       "      <td>472847.0</td>\n",
       "      <td>208148.0</td>\n",
       "      <td>5254844.0</td>\n",
       "      <td>208.0</td>\n",
       "      <td>261.0</td>\n",
       "      <td>202.0</td>\n",
       "      <td>255.0</td>\n",
       "      <td>-878807.0</td>\n",
       "    </tr>\n",
       "    <tr>\n",
       "      <th>5</th>\n",
       "      <td>1992_COLORADO</td>\n",
       "      <td>COLORADO</td>\n",
       "      <td>1992</td>\n",
       "      <td>727716.0</td>\n",
       "      <td>3185173.0</td>\n",
       "      <td>163253.0</td>\n",
       "      <td>1307986.0</td>\n",
       "      <td>1713934.0</td>\n",
       "      <td>3264826.0</td>\n",
       "      <td>1642466.0</td>\n",
       "      <td>...</td>\n",
       "      <td>45025.0</td>\n",
       "      <td>34533.0</td>\n",
       "      <td>472847.0</td>\n",
       "      <td>208148.0</td>\n",
       "      <td>612635.0</td>\n",
       "      <td>221.0</td>\n",
       "      <td>272.0</td>\n",
       "      <td>217.0</td>\n",
       "      <td>255.0</td>\n",
       "      <td>-79653.0</td>\n",
       "    </tr>\n",
       "    <tr>\n",
       "      <th>6</th>\n",
       "      <td>1992_CONNECTICUT</td>\n",
       "      <td>CONNECTICUT</td>\n",
       "      <td>1992</td>\n",
       "      <td>727716.0</td>\n",
       "      <td>3834302.0</td>\n",
       "      <td>143542.0</td>\n",
       "      <td>1342539.0</td>\n",
       "      <td>2348221.0</td>\n",
       "      <td>3721338.0</td>\n",
       "      <td>2148041.0</td>\n",
       "      <td>...</td>\n",
       "      <td>33691.0</td>\n",
       "      <td>28366.0</td>\n",
       "      <td>472847.0</td>\n",
       "      <td>208148.0</td>\n",
       "      <td>488476.0</td>\n",
       "      <td>227.0</td>\n",
       "      <td>274.0</td>\n",
       "      <td>222.0</td>\n",
       "      <td>255.0</td>\n",
       "      <td>112964.0</td>\n",
       "    </tr>\n",
       "    <tr>\n",
       "      <th>7</th>\n",
       "      <td>1992_DELAWARE</td>\n",
       "      <td>DELAWARE</td>\n",
       "      <td>1992</td>\n",
       "      <td>727716.0</td>\n",
       "      <td>645233.0</td>\n",
       "      <td>45945.0</td>\n",
       "      <td>420942.0</td>\n",
       "      <td>178346.0</td>\n",
       "      <td>638784.0</td>\n",
       "      <td>372722.0</td>\n",
       "      <td>...</td>\n",
       "      <td>8012.0</td>\n",
       "      <td>6129.0</td>\n",
       "      <td>472847.0</td>\n",
       "      <td>208148.0</td>\n",
       "      <td>104321.0</td>\n",
       "      <td>218.0</td>\n",
       "      <td>263.0</td>\n",
       "      <td>213.0</td>\n",
       "      <td>255.0</td>\n",
       "      <td>6449.0</td>\n",
       "    </tr>\n",
       "    <tr>\n",
       "      <th>8</th>\n",
       "      <td>1992_DISTRICT_OF_COLUMBIA</td>\n",
       "      <td>DISTRICT_OF_COLUMBIA</td>\n",
       "      <td>1992</td>\n",
       "      <td>727716.0</td>\n",
       "      <td>709480.0</td>\n",
       "      <td>64749.0</td>\n",
       "      <td>0.0</td>\n",
       "      <td>644731.0</td>\n",
       "      <td>742893.0</td>\n",
       "      <td>329160.0</td>\n",
       "      <td>...</td>\n",
       "      <td>5000.0</td>\n",
       "      <td>3433.0</td>\n",
       "      <td>472847.0</td>\n",
       "      <td>208148.0</td>\n",
       "      <td>80937.0</td>\n",
       "      <td>193.0</td>\n",
       "      <td>235.0</td>\n",
       "      <td>188.0</td>\n",
       "      <td>255.0</td>\n",
       "      <td>-33413.0</td>\n",
       "    </tr>\n",
       "    <tr>\n",
       "      <th>9</th>\n",
       "      <td>1992_FLORIDA</td>\n",
       "      <td>FLORIDA</td>\n",
       "      <td>1992</td>\n",
       "      <td>727716.0</td>\n",
       "      <td>11506299.0</td>\n",
       "      <td>788420.0</td>\n",
       "      <td>5683949.0</td>\n",
       "      <td>5033930.0</td>\n",
       "      <td>11305642.0</td>\n",
       "      <td>5166374.0</td>\n",
       "      <td>...</td>\n",
       "      <td>142372.0</td>\n",
       "      <td>100835.0</td>\n",
       "      <td>472847.0</td>\n",
       "      <td>208148.0</td>\n",
       "      <td>1981407.0</td>\n",
       "      <td>214.0</td>\n",
       "      <td>260.0</td>\n",
       "      <td>208.0</td>\n",
       "      <td>255.0</td>\n",
       "      <td>200657.0</td>\n",
       "    </tr>\n",
       "  </tbody>\n",
       "</table>\n",
       "<p>10 rows × 26 columns</p>\n",
       "</div>"
      ],
      "text/plain": [
       "                 PRIMARY_KEY                 STATE  YEAR    ENROLL  \\\n",
       "0               1992_ALABAMA               ALABAMA  1992  727716.0   \n",
       "1                1992_ALASKA                ALASKA  1992  727716.0   \n",
       "2               1992_ARIZONA               ARIZONA  1992  727716.0   \n",
       "3              1992_ARKANSAS              ARKANSAS  1992  727716.0   \n",
       "4            1992_CALIFORNIA            CALIFORNIA  1992  727716.0   \n",
       "5              1992_COLORADO              COLORADO  1992  727716.0   \n",
       "6           1992_CONNECTICUT           CONNECTICUT  1992  727716.0   \n",
       "7              1992_DELAWARE              DELAWARE  1992  727716.0   \n",
       "8  1992_DISTRICT_OF_COLUMBIA  DISTRICT_OF_COLUMBIA  1992  727716.0   \n",
       "9               1992_FLORIDA               FLORIDA  1992  727716.0   \n",
       "\n",
       "   TOTAL_REVENUE  FEDERAL_REVENUE  STATE_REVENUE  LOCAL_REVENUE  \\\n",
       "0      2678885.0         304177.0      1659028.0       715680.0   \n",
       "1      1049591.0         106780.0       720711.0       222100.0   \n",
       "2      3258079.0         297888.0      1369815.0      1590376.0   \n",
       "3      1711959.0         178571.0       958785.0       574603.0   \n",
       "4     26260025.0        2072470.0     16546514.0      7641041.0   \n",
       "5      3185173.0         163253.0      1307986.0      1713934.0   \n",
       "6      3834302.0         143542.0      1342539.0      2348221.0   \n",
       "7       645233.0          45945.0       420942.0       178346.0   \n",
       "8       709480.0          64749.0            0.0       644731.0   \n",
       "9     11506299.0         788420.0      5683949.0      5033930.0   \n",
       "\n",
       "   TOTAL_EXPENDITURE  INSTRUCTION_EXPENDITURE  ...  GRADES_8_G  GRADES_12_G  \\\n",
       "0          2653798.0                1481703.0  ...     58025.0      41167.0   \n",
       "1           972488.0                 498362.0  ...      8789.0       6714.0   \n",
       "2          3401580.0                1435908.0  ...     49081.0      37410.0   \n",
       "3          1743022.0                 964323.0  ...     36011.0      27651.0   \n",
       "4         27138832.0               14358922.0  ...    363296.0     270675.0   \n",
       "5          3264826.0                1642466.0  ...     45025.0      34533.0   \n",
       "6          3721338.0                2148041.0  ...     33691.0      28366.0   \n",
       "7           638784.0                 372722.0  ...      8012.0       6129.0   \n",
       "8           742893.0                 329160.0  ...      5000.0       3433.0   \n",
       "9         11305642.0                5166374.0  ...    142372.0     100835.0   \n",
       "\n",
       "   GRADES_1_8_G  GRADES_9_12_G  GRADES_ALL_G  AVG_MATH_4_SCORE  \\\n",
       "0      472847.0       208148.0      731634.0             208.0   \n",
       "1      472847.0       208148.0      122487.0             211.5   \n",
       "2      472847.0       208148.0      673477.0             215.0   \n",
       "3      472847.0       208148.0      441490.0             210.0   \n",
       "4      472847.0       208148.0     5254844.0             208.0   \n",
       "5      472847.0       208148.0      612635.0             221.0   \n",
       "6      472847.0       208148.0      488476.0             227.0   \n",
       "7      472847.0       208148.0      104321.0             218.0   \n",
       "8      472847.0       208148.0       80937.0             193.0   \n",
       "9      472847.0       208148.0     1981407.0             214.0   \n",
       "\n",
       "   AVG_MATH_8_SCORE  AVG_READING_4_SCORE  AVG_READING_8_SCORE    PROFIT  \n",
       "0             252.0                207.0                255.0   25087.0  \n",
       "1             258.5                208.0                255.0   77103.0  \n",
       "2             265.0                209.0                255.0 -143501.0  \n",
       "3             256.0                211.0                255.0  -31063.0  \n",
       "4             261.0                202.0                255.0 -878807.0  \n",
       "5             272.0                217.0                255.0  -79653.0  \n",
       "6             274.0                222.0                255.0  112964.0  \n",
       "7             263.0                213.0                255.0    6449.0  \n",
       "8             235.0                188.0                255.0  -33413.0  \n",
       "9             260.0                208.0                255.0  200657.0  \n",
       "\n",
       "[10 rows x 26 columns]"
      ]
     },
     "execution_count": 24,
     "metadata": {},
     "output_type": "execute_result"
    }
   ],
   "source": [
    "df_filled['PROFIT'] = df_filled['TOTAL_REVENUE']-df_filled['TOTAL_EXPENDITURE']\n",
    "df_filled.head(10)"
   ]
  },
  {
   "cell_type": "code",
   "execution_count": 25,
   "id": "9ae2476c",
   "metadata": {},
   "outputs": [
    {
     "data": {
      "image/png": "[encoded data removed]",
      "text/plain": [
       "<Figure size 1000x500 with 1 Axes>"
      ]
     },
     "metadata": {},
     "output_type": "display_data"
    }
   ],
   "source": [
    "plt.hist(df_filled['PROFIT'])\n",
    "plt.title('PROFIT')\n",
    "plt.show()"
   ]
  },
  {
   "cell_type": "code",
   "execution_count": 26,
   "id": "abd3faf0",
   "metadata": {},
   "outputs": [
    {
     "data": {
      "image/png": "[encoded data removed]",
      "text/plain": [
       "<Figure size 1000x500 with 1 Axes>"
      ]
     },
     "metadata": {},
     "output_type": "display_data"
    }
   ],
   "source": [
    "plt.boxplot(df_filled['PROFIT'])\n",
    "plt.title('PROFIT')\n",
    "plt.show()"
   ]
  },
  {
   "cell_type": "code",
   "execution_count": 27,
   "id": "5bd0bd38",
   "metadata": {},
   "outputs": [],
   "source": [
    "zscore_PR = zscore(df_filled['PROFIT'])"
   ]
  },
  {
   "cell_type": "code",
   "execution_count": 28,
   "id": "4474e477",
   "metadata": {},
   "outputs": [
    {
     "name": "stdout",
     "output_type": "stream",
     "text": [
      "The score treshold is: 1\n",
      "The indices of outliers: \n",
      "(array([  72,   86,   94,  106,  115,  145,  174,  259,  269,  310,  315,\n",
      "        341,  361,  366,  392,  412,  463,  521,  572,  669,  674,  677,\n",
      "        720,  725,  732,  735,  776,  778,  787,  800,  830,  851,  881,\n",
      "        900,  932,  951,  953,  973,  979,  982,  983,  991,  999, 1002,\n",
      "       1004, 1033, 1034, 1040, 1042, 1050, 1068, 1073, 1077, 1084, 1085,\n",
      "       1091, 1093, 1106, 1128, 1136, 1144, 1152, 1157, 1160, 1179, 1187,\n",
      "       1193, 1195, 1203, 1208, 1226, 1228, 1230, 1238, 1245, 1246]),)\n",
      "Number of outliers: 76\n",
      "___________________________________________________________________________\n",
      "The score treshold is: 2\n",
      "The indices of outliers: \n",
      "(array([  94,  259,  310,  366,  463,  881,  932,  951,  973,  982,  983,\n",
      "       1034, 1050, 1085, 1136, 1144, 1157, 1187, 1195, 1208, 1228, 1238,\n",
      "       1246]),)\n",
      "Number of outliers: 23\n",
      "___________________________________________________________________________\n",
      "The score treshold is: 3\n",
      "The indices of outliers: \n",
      "(array([  94,  259,  881,  932,  951, 1157, 1208, 1228]),)\n",
      "Number of outliers: 8\n",
      "___________________________________________________________________________\n",
      "The score treshold is: 4\n",
      "The indices of outliers: \n",
      "(array([ 932,  951, 1228]),)\n",
      "Number of outliers: 3\n",
      "___________________________________________________________________________\n"
     ]
    }
   ],
   "source": [
    "for i in range(1,5):\n",
    "    print('The score treshold is: {}'.format(i))\n",
    "    print('The indices of outliers: ')\n",
    "    print(np.where(zscore_PR>i))\n",
    "    print('Number of outliers: {}'.format(len(np.where(zscore_PR>i)[0])))\n",
    "    print('_'*75)"
   ]
  },
  {
   "cell_type": "markdown",
   "id": "a5fa3f2c",
   "metadata": {},
   "source": [
    "#### Log Transformation of Outliers"
   ]
  },
  {
   "cell_type": "code",
   "execution_count": 29,
   "id": "e7c6ffed",
   "metadata": {},
   "outputs": [
    {
     "data": {
      "image/png": "[encoded data removed]",
      "text/plain": [
       "<Figure size 1500x500 with 2 Axes>"
      ]
     },
     "metadata": {},
     "output_type": "display_data"
    }
   ],
   "source": [
    "plt.figure(figsize= (15,5))\n",
    "plt.subplot(1,2,1)\n",
    "plt.hist(df_filled['PROFIT'].dropna())\n",
    "plt.title('PROFIT')\n",
    "plt.subplot(1,2,2)\n",
    "plt.hist(np.log(df_filled['PROFIT'].dropna()))\n",
    "plt.title('LOG TRANSFORMED PROFIT')\n",
    "plt.show()"
   ]
  },
  {
   "cell_type": "markdown",
   "id": "d4e7b21c",
   "metadata": {},
   "source": [
    "### 4. Now create another variable by subtracting the TOTAL_EXPENDITURE from TOTAL_REVENUE. This time, use the outlier eliminated versions of TOTAL_EXPENDITURE from TOTAL_REVENUE. In this newly created variable, can you find any outliers? If so, eliminate them."
   ]
  },
  {
   "cell_type": "code",
   "execution_count": 30,
   "id": "c2d03ae9",
   "metadata": {},
   "outputs": [
    {
     "data": {
      "text/plain": [
       "0        25087.0\n",
       "1       -10341.0\n",
       "2      -143501.0\n",
       "3       -31063.0\n",
       "4        90955.0\n",
       "          ...   \n",
       "1710     10440.0\n",
       "1711     10440.0\n",
       "1712     10440.0\n",
       "1713     10440.0\n",
       "1714     10440.0\n",
       "Name: PROFIT_2, Length: 1715, dtype: float64"
      ]
     },
     "execution_count": 30,
     "metadata": {},
     "output_type": "execute_result"
    }
   ],
   "source": [
    "df_filled['PROFIT_2'] = winsorized_revenue - winsorized_expenditure\n",
    "df_filled['PROFIT_2']"
   ]
  },
  {
   "cell_type": "code",
   "execution_count": 31,
   "id": "676f8fd1",
   "metadata": {},
   "outputs": [
    {
     "data": {
      "image/png": "[encoded data removed]",
      "text/plain": [
       "<Figure size 1000x500 with 1 Axes>"
      ]
     },
     "metadata": {},
     "output_type": "display_data"
    }
   ],
   "source": [
    "plt.boxplot(df_filled['PROFIT_2'])\n",
    "plt.title('WINSORIZED PROFIT')\n",
    "plt.show()"
   ]
  },
  {
   "cell_type": "code",
   "execution_count": 32,
   "id": "21b79273",
   "metadata": {},
   "outputs": [
    {
     "data": {
      "text/plain": [
       "0        25087.0\n",
       "1       -10341.0\n",
       "2      -143501.0\n",
       "3       -31063.0\n",
       "4        90955.0\n",
       "          ...   \n",
       "1710     10440.0\n",
       "1711     10440.0\n",
       "1712     10440.0\n",
       "1713     10440.0\n",
       "1714     10440.0\n",
       "Name: PROFIT_3, Length: 1715, dtype: float64"
      ]
     },
     "execution_count": 32,
     "metadata": {},
     "output_type": "execute_result"
    }
   ],
   "source": [
    "df_filled['PROFIT_3'] = winsorize(np.array(df_filled['PROFIT_2'].dropna()), (0.12, 0.10))\n",
    "df_filled['PROFIT_3']"
   ]
  },
  {
   "cell_type": "code",
   "execution_count": 33,
   "id": "37fc4b06",
   "metadata": {},
   "outputs": [
    {
     "data": {
      "image/png": "[encoded data removed]",
      "text/plain": [
       "<Figure size 1000x500 with 1 Axes>"
      ]
     },
     "metadata": {},
     "output_type": "display_data"
    }
   ],
   "source": [
    "plt.boxplot(df_filled['PROFIT_3'])\n",
    "plt.title('PROFIT AFTER DOUBLE WINSORIZING')\n",
    "plt.show()"
   ]
  },
  {
   "cell_type": "markdown",
   "id": "3bfbc242",
   "metadata": {},
   "source": [
    "### 5. Compare some basic descriptive statistics of the budget variables you end up with in the third and the fourth questions. Do you see any differences?"
   ]
  },
  {
   "cell_type": "code",
   "execution_count": 34,
   "id": "e174220d",
   "metadata": {},
   "outputs": [
    {
     "data": {
      "text/plain": [
       "(count    1.715000e+03\n",
       " mean    -7.478590e+04\n",
       " std      4.976837e+05\n",
       " min     -5.487742e+06\n",
       " 25%     -1.009060e+05\n",
       " 50%      1.044000e+04\n",
       " 75%      1.807800e+04\n",
       " max      3.897129e+06\n",
       " Name: PROFIT, dtype: float64,\n",
       " count      1715.000000\n",
       " mean      -4781.547522\n",
       " std       86980.622886\n",
       " min     -176737.000000\n",
       " 25%      -26737.500000\n",
       " 50%       10440.000000\n",
       " 75%       63510.000000\n",
       " max      112402.000000\n",
       " Name: PROFIT_3, dtype: float64)"
      ]
     },
     "execution_count": 34,
     "metadata": {},
     "output_type": "execute_result"
    }
   ],
   "source": [
    "df_filled['PROFIT'].describe(), df_filled['PROFIT_3'].describe()  "
   ]
  },
  {
   "cell_type": "markdown",
   "id": "1e3ca47f",
   "metadata": {},
   "source": [
    "### 6. If your variable of interest is the budget deficit variable, which method do you think is the most appropriate in dealing with the outliers in this variable: the method in the third question or the one in the fourth question?\n"
   ]
  },
  {
   "cell_type": "markdown",
   "id": "9ddb1b8e",
   "metadata": {},
   "source": [
    "#### Elimination of outliers only the the final result that the third method is seen more accurate"
   ]
  },
  {
   "cell_type": "code",
   "execution_count": null,
   "id": "45c4376b",
   "metadata": {},
   "outputs": [],
   "source": []
  },
  {
   "cell_type": "code",
   "execution_count": null,
   "id": "b6fbb268",
   "metadata": {},
   "outputs": [],
   "source": []
  },
  {
   "cell_type": "code",
   "execution_count": null,
   "id": "72019284",
   "metadata": {},
   "outputs": [],
   "source": []
  }
 ],
 "metadata": {
  "kernelspec": {
   "display_name": "Python 3 (ipykernel)",
   "language": "python",
   "name": "python3"
  },
  "language_info": {
   "codemirror_mode": {
    "name": "ipython",
    "version": 3
   },
   "file_extension": ".py",
   "mimetype": "text/x-python",
   "name": "python",
   "nbconvert_exporter": "python",
   "pygments_lexer": "ipython3",
   "version": "3.9.16"
  }
 },
 "nbformat": 4,
 "nbformat_minor": 5
}
