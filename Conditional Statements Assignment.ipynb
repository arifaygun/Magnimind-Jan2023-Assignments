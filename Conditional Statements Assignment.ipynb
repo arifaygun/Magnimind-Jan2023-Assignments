{
 "cells": [
  {
   "cell_type": "markdown",
   "id": "874c875c",
   "metadata": {},
   "source": [
    "# Conditional Statements Assignment - Arif Aygun"
   ]
  },
  {
   "cell_type": "markdown",
   "id": "72678216",
   "metadata": {},
   "source": [
    "#### 1- Ask the user to enter a number between 10 and 20 (inclusive). If they enter a number within this range, display the message “Thank you”, otherwise display the message “Incorrect answer”."
   ]
  },
  {
   "cell_type": "code",
   "execution_count": 1,
   "id": "df616e19",
   "metadata": {
    "scrolled": true
   },
   "outputs": [
    {
     "name": "stdout",
     "output_type": "stream",
     "text": [
      "Please enter a number between 10 and 20 (inclusive): 13\n",
      "Thank you\n"
     ]
    }
   ],
   "source": [
    "num = int(input(\"Please enter a number between 10 and 20 (inclusive): \"))\n",
    "if 10 <= num <= 20:\n",
    "    print(\"Thank you\")\n",
    "else:\n",
    "    print(\"Incorrect answer\")"
   ]
  },
  {
   "cell_type": "code",
   "execution_count": 2,
   "id": "e89aeaaf",
   "metadata": {},
   "outputs": [
    {
     "name": "stdout",
     "output_type": "stream",
     "text": [
      "Please enter a number between 10 and 20 (inclusive): 23\n",
      "Incorrect answer\n"
     ]
    }
   ],
   "source": [
    "num = int(input(\"Please enter a number between 10 and 20 (inclusive): \"))\n",
    "if 10 <= num <= 20:\n",
    "    print(\"Thank you\")\n",
    "else:\n",
    "    print(\"Incorrect answer\")"
   ]
  },
  {
   "cell_type": "markdown",
   "id": "db53cd40",
   "metadata": {},
   "source": [
    "#### 2- In this exercise, you will create a program that reads a letter of the alphabet from the user. According to the answer:\n",
    "\n",
    "\n",
    "- If the user enters a, e, i, o, u, then your program should display a message indicating that the entered letter is a vowel.\n",
    "\n",
    "- If the user enters y, then your program should display a message indicating that y is sometimes a vowel and sometimes a consonant.\n",
    "\n",
    "- Otherwise, your program should display a message indicating that the letter is a consonant."
   ]
  },
  {
   "cell_type": "code",
   "execution_count": 3,
   "id": "ce53fedb",
   "metadata": {},
   "outputs": [
    {
     "name": "stdout",
     "output_type": "stream",
     "text": [
      "Please enter a letter: i\n",
      "The letter is a vowel.\n"
     ]
    }
   ],
   "source": [
    "letter = input(\"Please enter a letter: \").lower()\n",
    "if letter in \"aeiou\":\n",
    "    print(\"The letter is a vowel.\")\n",
    "elif letter == \"y\":\n",
    "    print(\"The letter 'y' is sometimes a vowel and sometimes a consonant.\")\n",
    "else:\n",
    "    print(\"The letter is a consonant.\")"
   ]
  },
  {
   "cell_type": "code",
   "execution_count": 4,
   "id": "6560218e",
   "metadata": {},
   "outputs": [
    {
     "name": "stdout",
     "output_type": "stream",
     "text": [
      "Please enter a letter: z\n",
      "The letter is a consonant.\n"
     ]
    }
   ],
   "source": [
    "letter = input(\"Please enter a letter: \").lower()\n",
    "if letter in \"aeiou\":\n",
    "    print(\"The letter is a vowel.\")\n",
    "elif letter == \"y\":\n",
    "    print(\"The letter 'y' is sometimes a vowel and sometimes a consonant.\")\n",
    "else:\n",
    "    print(\"The letter is a consonant.\")"
   ]
  },
  {
   "cell_type": "code",
   "execution_count": 5,
   "id": "4d610236",
   "metadata": {},
   "outputs": [
    {
     "name": "stdout",
     "output_type": "stream",
     "text": [
      "Please enter a letter: y\n",
      "The letter 'y' is sometimes a vowel and sometimes a consonant.\n"
     ]
    }
   ],
   "source": [
    "letter = input(\"Please enter a letter: \").lower()\n",
    "if letter in \"aeiou\":\n",
    "    print(\"The letter is a vowel.\")\n",
    "elif letter == \"y\":\n",
    "    print(\"The letter 'y' is sometimes a vowel and sometimes a consonant.\")\n",
    "else:\n",
    "    print(\"The letter is a consonant.\")"
   ]
  }
 ],
 "metadata": {
  "kernelspec": {
   "display_name": "Python 3 (ipykernel)",
   "language": "python",
   "name": "python3"
  },
  "language_info": {
   "codemirror_mode": {
    "name": "ipython",
    "version": 3
   },
   "file_extension": ".py",
   "mimetype": "text/x-python",
   "name": "python",
   "nbconvert_exporter": "python",
   "pygments_lexer": "ipython3",
   "version": "3.9.13"
  }
 },
 "nbformat": 4,
 "nbformat_minor": 5
}
