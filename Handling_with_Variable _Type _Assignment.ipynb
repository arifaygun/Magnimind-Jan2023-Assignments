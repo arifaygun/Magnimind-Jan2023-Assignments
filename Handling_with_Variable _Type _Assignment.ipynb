{
 "cells": [
  {
   "cell_type": "markdown",
   "id": "35d9de2b",
   "metadata": {},
   "source": [
    "# Handling with Variable Type Assignment - Arif Aygun"
   ]
  },
  {
   "cell_type": "markdown",
   "id": "f6557991",
   "metadata": {},
   "source": [
    "### 1. Determine the types of the below-given variables:"
   ]
  },
  {
   "cell_type": "markdown",
   "id": "4eee11af",
   "metadata": {},
   "source": [
    "- Age -----------> numeric variable (continous, ratio)\n",
    "- Salary --------> numeric variable (continous, ratio)\n",
    "- Income --------> numeric variable (continous, ratio)\n",
    "- Customer type -> categorical variable, (nominal)\n",
    "- Stock price----> numeric variable (continous, ratio)"
   ]
  },
  {
   "cell_type": "markdown",
   "id": "f2ba7b3e",
   "metadata": {},
   "source": [
    "### 2. Using the movie data, we have studied in this lesson. Complete the following tasks:"
   ]
  },
  {
   "cell_type": "markdown",
   "id": "b7ba1b9b",
   "metadata": {},
   "source": [
    "- Select a continuous and a categorical variable from the movie dataset and discuss the variable type of this variable. Discuss further in detail the type of selected continuous and categorical variables.\n",
    "\n",
    "\n",
    "- Categorize a variable of your choice and assign a name to it\n",
    "\n",
    "\n",
    "- Count the number of rows for each category"
   ]
  },
  {
   "cell_type": "code",
   "execution_count": 11,
   "id": "9237cef6",
   "metadata": {},
   "outputs": [],
   "source": [
    "import pandas as pd\n",
    "import numpy as np\n",
    "\n",
    "import matplotlib.pyplot as plt\n",
    "\n",
    "%matplotlib inline \n",
    "\n",
    "import seaborn as sns\n",
    "\n",
    "from scipy import stats"
   ]
  },
  {
   "cell_type": "code",
   "execution_count": 12,
   "id": "cd2f708a",
   "metadata": {},
   "outputs": [
    {
     "data": {
      "text/html": [
       "<div>\n",
       "<style scoped>\n",
       "    .dataframe tbody tr th:only-of-type {\n",
       "        vertical-align: middle;\n",
       "    }\n",
       "\n",
       "    .dataframe tbody tr th {\n",
       "        vertical-align: top;\n",
       "    }\n",
       "\n",
       "    .dataframe thead th {\n",
       "        text-align: right;\n",
       "    }\n",
       "</style>\n",
       "<table border=\"1\" class=\"dataframe\">\n",
       "  <thead>\n",
       "    <tr style=\"text-align: right;\">\n",
       "      <th></th>\n",
       "      <th>Rank</th>\n",
       "      <th>Title</th>\n",
       "      <th>Genre</th>\n",
       "      <th>Description</th>\n",
       "      <th>Director</th>\n",
       "      <th>Actors</th>\n",
       "      <th>Year</th>\n",
       "      <th>Runtime (Minutes)</th>\n",
       "      <th>Rating</th>\n",
       "      <th>Votes</th>\n",
       "      <th>Revenue (Millions)</th>\n",
       "      <th>Metascore</th>\n",
       "    </tr>\n",
       "  </thead>\n",
       "  <tbody>\n",
       "    <tr>\n",
       "      <th>0</th>\n",
       "      <td>1</td>\n",
       "      <td>Guardians of the Galaxy</td>\n",
       "      <td>Action,Adventure,Sci-Fi</td>\n",
       "      <td>A group of intergalactic criminals are forced ...</td>\n",
       "      <td>James Gunn</td>\n",
       "      <td>Chris Pratt, Vin Diesel, Bradley Cooper, Zoe S...</td>\n",
       "      <td>2014</td>\n",
       "      <td>121</td>\n",
       "      <td>8.1</td>\n",
       "      <td>757074</td>\n",
       "      <td>333.13</td>\n",
       "      <td>76.0</td>\n",
       "    </tr>\n",
       "    <tr>\n",
       "      <th>1</th>\n",
       "      <td>2</td>\n",
       "      <td>Prometheus</td>\n",
       "      <td>Adventure,Mystery,Sci-Fi</td>\n",
       "      <td>Following clues to the origin of mankind, a te...</td>\n",
       "      <td>Ridley Scott</td>\n",
       "      <td>Noomi Rapace, Logan Marshall-Green, Michael Fa...</td>\n",
       "      <td>2012</td>\n",
       "      <td>124</td>\n",
       "      <td>7.0</td>\n",
       "      <td>485820</td>\n",
       "      <td>126.46</td>\n",
       "      <td>65.0</td>\n",
       "    </tr>\n",
       "    <tr>\n",
       "      <th>2</th>\n",
       "      <td>3</td>\n",
       "      <td>Split</td>\n",
       "      <td>Horror,Thriller</td>\n",
       "      <td>Three girls are kidnapped by a man with a diag...</td>\n",
       "      <td>M. Night Shyamalan</td>\n",
       "      <td>James McAvoy, Anya Taylor-Joy, Haley Lu Richar...</td>\n",
       "      <td>2016</td>\n",
       "      <td>117</td>\n",
       "      <td>7.3</td>\n",
       "      <td>157606</td>\n",
       "      <td>138.12</td>\n",
       "      <td>62.0</td>\n",
       "    </tr>\n",
       "    <tr>\n",
       "      <th>3</th>\n",
       "      <td>4</td>\n",
       "      <td>Sing</td>\n",
       "      <td>Animation,Comedy,Family</td>\n",
       "      <td>In a city of humanoid animals, a hustling thea...</td>\n",
       "      <td>Christophe Lourdelet</td>\n",
       "      <td>Matthew McConaughey,Reese Witherspoon, Seth Ma...</td>\n",
       "      <td>2016</td>\n",
       "      <td>108</td>\n",
       "      <td>7.2</td>\n",
       "      <td>60545</td>\n",
       "      <td>270.32</td>\n",
       "      <td>59.0</td>\n",
       "    </tr>\n",
       "    <tr>\n",
       "      <th>4</th>\n",
       "      <td>5</td>\n",
       "      <td>Suicide Squad</td>\n",
       "      <td>Action,Adventure,Fantasy</td>\n",
       "      <td>A secret government agency recruits some of th...</td>\n",
       "      <td>David Ayer</td>\n",
       "      <td>Will Smith, Jared Leto, Margot Robbie, Viola D...</td>\n",
       "      <td>2016</td>\n",
       "      <td>123</td>\n",
       "      <td>6.2</td>\n",
       "      <td>393727</td>\n",
       "      <td>325.02</td>\n",
       "      <td>40.0</td>\n",
       "    </tr>\n",
       "  </tbody>\n",
       "</table>\n",
       "</div>"
      ],
      "text/plain": [
       "   Rank                    Title                     Genre  \\\n",
       "0     1  Guardians of the Galaxy   Action,Adventure,Sci-Fi   \n",
       "1     2               Prometheus  Adventure,Mystery,Sci-Fi   \n",
       "2     3                    Split           Horror,Thriller   \n",
       "3     4                     Sing   Animation,Comedy,Family   \n",
       "4     5            Suicide Squad  Action,Adventure,Fantasy   \n",
       "\n",
       "                                         Description              Director  \\\n",
       "0  A group of intergalactic criminals are forced ...            James Gunn   \n",
       "1  Following clues to the origin of mankind, a te...          Ridley Scott   \n",
       "2  Three girls are kidnapped by a man with a diag...    M. Night Shyamalan   \n",
       "3  In a city of humanoid animals, a hustling thea...  Christophe Lourdelet   \n",
       "4  A secret government agency recruits some of th...            David Ayer   \n",
       "\n",
       "                                              Actors  Year  Runtime (Minutes)  \\\n",
       "0  Chris Pratt, Vin Diesel, Bradley Cooper, Zoe S...  2014                121   \n",
       "1  Noomi Rapace, Logan Marshall-Green, Michael Fa...  2012                124   \n",
       "2  James McAvoy, Anya Taylor-Joy, Haley Lu Richar...  2016                117   \n",
       "3  Matthew McConaughey,Reese Witherspoon, Seth Ma...  2016                108   \n",
       "4  Will Smith, Jared Leto, Margot Robbie, Viola D...  2016                123   \n",
       "\n",
       "   Rating   Votes  Revenue (Millions)  Metascore  \n",
       "0     8.1  757074              333.13       76.0  \n",
       "1     7.0  485820              126.46       65.0  \n",
       "2     7.3  157606              138.12       62.0  \n",
       "3     7.2   60545              270.32       59.0  \n",
       "4     6.2  393727              325.02       40.0  "
      ]
     },
     "execution_count": 12,
     "metadata": {},
     "output_type": "execute_result"
    }
   ],
   "source": [
    "movies = pd.read_csv(r\"C:\\Users\\AAygun\\Documents\\GitHub\\Data Sets\\Magnimind\\movies.csv\")\n",
    "movies.head()"
   ]
  },
  {
   "cell_type": "markdown",
   "id": "3e160a2a",
   "metadata": {},
   "source": [
    "#### Select a continuous and a categorical variable from the movie dataset and discuss the variable type of this variable. Discuss further in detail the type of selected continuous and categorical variables."
   ]
  },
  {
   "cell_type": "markdown",
   "id": "4f29ea34",
   "metadata": {},
   "source": [
    "- Continuous variable: \"Runtime (Minutes)\"\n",
    "\n",
    "- Categorical variable: \"Director\"\n",
    "\n",
    "##### Continuous variable: \"Runtime (Minutes)\"\n",
    "\n",
    "The \"Runtime\" variable in the \"movies\" dataset represents the length of the movie in minutes. This variable is a continuous variable because it can take on any numerical value within a specific range and is often measured on an interval or ratio scale. The Runtime variable is an interval scale variable, meaning that the difference between any two values is meaningful, but there is no true zero point. For example, a movie with a runtime of zero minutes would be nonsensical. The runtime of a movie is an important characteristic that affects the audience's experience and the movie's success, as longer movies may have different audience expectations and require different pacing and storytelling techniques than shorter ones.\n",
    "\n",
    "###### Categorical variable: \"Genre\"\n",
    "\n",
    "The \"Genre\" variable in the \"movies\" dataset represents the category or type of the movie, such as \"Action\", \"Comedy\", or \"Drama\". This variable is a categorical variable because it falls into specific categories or groups, and the categories do not have an inherent order or numerical value associated with them. The Genre variable is a nominal scale variable, meaning that there is no inherent order or ranking between the categories, and each category is equally important. The genre of a movie can be a significant predictor of the audience's preferences and the movie's overall success.\n",
    "\n",
    "In summary, the \"Runtime\" variable is an example of a continuous variable, while the \"Genre\" variable is an example of a nominal categorical variable. Understanding the type of variables is important because it affects the type of statistical analysis that can be performed on the data. Continuous variables can be analyzed using techniques such as correlation and regression analysis, while categorical variables can be analyzed using techniques such as contingency tables and chi-square tests. Additionally, the nominal scale of the \"Genre\" variable means that each category is equally important, and there is no inherent order or ranking between them."
   ]
  },
  {
   "cell_type": "markdown",
   "id": "cf1f4a36",
   "metadata": {},
   "source": [
    "#### Categorize a variable of your choice and assign a name to it"
   ]
  },
  {
   "cell_type": "markdown",
   "id": "14433681",
   "metadata": {},
   "source": [
    "I will categorize the variable \"Genre\" from the movies dataset and assign it the name \"Movie Category\".\n",
    "\n",
    "The \"Movie Category\" variable is a categorical variable that classifies movies into specific genres, such as action, drama, comedy, horror, romance, or science fiction. This variable is not measured on a numerical scale and is not continuous. The Movie Category variable is a nominal scale variable, meaning that there is no inherent order or ranking between the categories.\n",
    "\n",
    "The Movie Category variable is important in the movie industry because it helps filmmakers, producers, and distributors to identify target audiences, and it also provides a way for moviegoers to search for movies that match their interests. Moreover, the Movie Category variable can be used to analyze the success of different genres and to identify trends in movie preferences.\n",
    "\n",
    "As a result, the \"Movie Category\" variable is a categorical variable that is important in the movie industry and can help in identifying target audiences, searching for movies, and analyzing trends in movie preferences."
   ]
  },
  {
   "cell_type": "markdown",
   "id": "29f78cbc",
   "metadata": {},
   "source": [
    "#### c- Count the number of rows for each category"
   ]
  },
  {
   "cell_type": "code",
   "execution_count": 13,
   "id": "4260479e",
   "metadata": {},
   "outputs": [
    {
     "name": "stdout",
     "output_type": "stream",
     "text": [
      "Number of Rows:  1000\n"
     ]
    }
   ],
   "source": [
    "df = pd.DataFrame(movies)\n",
    "\n",
    "rows = len(df.axes[0])\n",
    "\n",
    "print(\"Number of Rows: \", rows)"
   ]
  },
  {
   "cell_type": "markdown",
   "id": "509c3ae9",
   "metadata": {},
   "source": [
    "### 3. Is it possible to convert categorical variable into numerical one? If so, how can you make that?"
   ]
  },
  {
   "cell_type": "markdown",
   "id": "0baadc52",
   "metadata": {},
   "source": [
    "Yes, it' possible\n"
   ]
  },
  {
   "cell_type": "code",
   "execution_count": 18,
   "id": "db926148",
   "metadata": {
    "scrolled": true
   },
   "outputs": [
    {
     "name": "stdout",
     "output_type": "stream",
     "text": [
      "   code priority gender  age\n",
      "0     1     high      M   12\n",
      "1     2      low      M   23\n",
      "2     3      low      M   21\n",
      "3     4     high      F   34\n",
      "4     5   medium      M   21\n",
      "5     6     high      M   23\n",
      "6     7   medium      F   21\n",
      "7     8      low      F   34\n",
      "8     9     high      M   56\n",
      "9     0   medium      F   32\n",
      "-----------------------------\n",
      "code         int64\n",
      "priority    object\n",
      "gender      object\n",
      "age          int64\n",
      "dtype: object\n"
     ]
    }
   ],
   "source": [
    "from pandas import DataFrame\n",
    "\n",
    "# Create a DataFrame with 10 rows that hold 4 columns\n",
    "sets = DataFrame({'code': [1,2,3,4,5,6,7,8,9,0], \n",
    "\n",
    "'priority':['high','low','low','high','medium','high','medium','low','high','medium'],\n",
    "\n",
    "'gender':['M','M','M','F','M','M','F','F','M','F'],\n",
    "\n",
    "'age':[12,23,21,34,21,23,21,34,56,32]})\n",
    "\n",
    "print(sets) # Actual DataFrame\n",
    "print(\"-----------------------------\")\n",
    "print(sets.dtypes) # Display data types of each column"
   ]
  },
  {
   "cell_type": "markdown",
   "id": "85cd1f28",
   "metadata": {},
   "source": [
    "##### Replacing values in the gender column using replace() method."
   ]
  },
  {
   "cell_type": "code",
   "execution_count": 19,
   "id": "8e4b81f9",
   "metadata": {
    "scrolled": true
   },
   "outputs": [
    {
     "name": "stdout",
     "output_type": "stream",
     "text": [
      "   code priority  gender  age\n",
      "0     1     high       1   12\n",
      "1     2      low       1   23\n",
      "2     3      low       1   21\n",
      "3     4     high       2   34\n",
      "4     5   medium       1   21\n",
      "5     6     high       1   23\n",
      "6     7   medium       2   21\n",
      "7     8      low       2   34\n",
      "8     9     high       1   56\n",
      "9     0   medium       2   32\n"
     ]
    }
   ],
   "source": [
    "from pandas import DataFrame\n",
    "\n",
    "# Create a DataFrame with 10 rows that hold 4 columns\n",
    "sets = DataFrame({'code': [1,2,3,4,5,6,7,8,9,0],\n",
    "\n",
    "'priority':['high','low','low','high','medium','high','medium','low','high','medium'],\n",
    "\n",
    "'gender':['M','M','M','F','M','M','F','F','M','F'],\n",
    "\n",
    "'age':[12,23,21,34,21,23,21,34,56,32]})\n",
    "\n",
    "# Convert categorical values to Numeric values in the gender column\n",
    "sets['gender']=sets['gender'].replace(['M', 'F'],[1, 2])\n",
    "\n",
    "print(sets)"
   ]
  },
  {
   "cell_type": "markdown",
   "id": "812a927b",
   "metadata": {},
   "source": [
    "We are replacing ‘M’ with 1 and ‘F’ with 2 and storing the column values again in the gender column.\n",
    "\n",
    "We can see that the gender column holds values within 1 or 2."
   ]
  },
  {
   "cell_type": "markdown",
   "id": "6a98346e",
   "metadata": {},
   "source": [
    "### 4. While continuous data is generally preferred over discrete data, please indicate circumstances where discrete is the preferred data type although continuous data is available for the same characteristic."
   ]
  },
  {
   "cell_type": "markdown",
   "id": "4bd87fdf",
   "metadata": {},
   "source": [
    "- the number of students in a high school\n",
    "- the number of employees in a department\n",
    "- the number of customers that came in last month\n",
    "- the number of products on your shelves\n",
    "- the number of groceries customers are purchasing each day\n",
    "- the number of materials that were damaged during shipping\n",
    "- the number of computers each department has\n",
    "- the number of managers at the company\n",
    "- the number of languages each employee speaks"
   ]
  },
  {
   "cell_type": "markdown",
   "id": "cfe773fd",
   "metadata": {},
   "source": [
    "### 5. While continuous data is measured and attribute data is counted, there is sometimes confusion if some specific dataset should be considered continuous or attribute. Provide some examples of confusing datasets and your inference."
   ]
  },
  {
   "cell_type": "markdown",
   "id": "285d7b15",
   "metadata": {},
   "source": [
    "- While measuring time we think that it is hour, month, year, so it will be attribute data but in actually it is continuous data because it can be break into minutes, seconds like that. But we can convert it into attribute data.\n",
    "\n",
    "\n",
    "- Another confusing dataset when we are talking about money, when we withdraw money from atm it comes like 1000, 2000, 250, 2475 but if we see our bank balance in our records online then we see the figures like 200.35, so it is continuous data because it has several infinite values so it is continuous data.\n",
    "\n",
    "\n",
    "- Another confusing dataset is percentage data or we can say that derived data, how we will consider it continuous or attribute. It depends on source data what it is actually according to that % data is decided. For example number of students taking this class divided by total number of graduate students is attribute data because a student can not be 3.5, 4.5\n",
    "\n",
    "\n",
    "- Another confusion about measuring in this example, imagine a young child is sick, as apparent first thing we do is to touch his forehead to feel if it is warm or not then it is attribute data but if we measure it by thermometer then it is continuous data."
   ]
  }
 ],
 "metadata": {
  "kernelspec": {
   "display_name": "Python 3 (ipykernel)",
   "language": "python",
   "name": "python3"
  },
  "language_info": {
   "codemirror_mode": {
    "name": "ipython",
    "version": 3
   },
   "file_extension": ".py",
   "mimetype": "text/x-python",
   "name": "python",
   "nbconvert_exporter": "python",
   "pygments_lexer": "ipython3",
   "version": "3.9.16"
  }
 },
 "nbformat": 4,
 "nbformat_minor": 5
}
