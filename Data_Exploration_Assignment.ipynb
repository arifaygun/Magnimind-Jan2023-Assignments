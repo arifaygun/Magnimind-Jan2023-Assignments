{
 "cells": [
  {
   "cell_type": "markdown",
   "id": "529574a0",
   "metadata": {},
   "source": [
    "# Data Exploration Assignment - Arif Aygun"
   ]
  },
  {
   "cell_type": "markdown",
   "id": "d0514f0d",
   "metadata": {},
   "source": [
    "### 1. Is the following statement true or false?"
   ]
  },
  {
   "cell_type": "markdown",
   "id": "a0db6acc",
   "metadata": {},
   "source": [
    "The goal of exploratory data analysis is to understand the data and find the relevant features that help explain your variable of interest.\n",
    "\n",
    "a)True\n",
    "\n",
    "b)False"
   ]
  },
  {
   "cell_type": "markdown",
   "id": "eb698083",
   "metadata": {},
   "source": [
    "##### The answer is (a)\n",
    "\n",
    "Because, in EDA, the main interest to explore the nature of the given dataset. The sentence explain the EDA correctly."
   ]
  },
  {
   "cell_type": "markdown",
   "id": "fd867316",
   "metadata": {},
   "source": [
    "### 2. Suppose you're given a rating dataset, where customers enter comments into a text box and select their rating of the product on a 1-5 scale. Which of the following is likely to be necessary to clean the data before it is usable? See the following example."
   ]
  },
  {
   "cell_type": "markdown",
   "id": "7ce01184",
   "metadata": {},
   "source": [
    "a) 3\n",
    "\n",
    "b) This product was a real-life changer but didn't last long. Therefore, I give it a three.\n",
    "\n",
    "c) Awesome!"
   ]
  },
  {
   "cell_type": "markdown",
   "id": "8bae8403",
   "metadata": {},
   "source": [
    "##### The answer is (c)\n",
    "\n",
    "Because, option (a) is giving a scale value between 1-5 so it is useful. Also, option (b) is the comment taken from textbox and explains why 3 was given. However, option (c) is very subjective, an assumption that can not be related with a possible rating.\n",
    "\n",
    "And also, for the rest of the dataset, there could be duplicated values entered by the same users. Also if 1 is the worst and 5 it the best, there could be some comments that would contradictory with the given values. Such as if 1 is given, the comment could be \"This product was a real-life changer\".\n",
    "\n",
    "And if the values are given in the range of 2 to 4 (lets say totally 100) and only a few 1 and 5 (such as one 1 and two 5) 1 and 5 values became outliers, they need to be removed before analysis.\n",
    "\n",
    "And if users filled the comments however forgot to fill the 1-5 scale values, these values need to be filled or completely removed, based on the analysis in hand. "
   ]
  }
 ],
 "metadata": {
  "kernelspec": {
   "display_name": "Python 3 (ipykernel)",
   "language": "python",
   "name": "python3"
  },
  "language_info": {
   "codemirror_mode": {
    "name": "ipython",
    "version": 3
   },
   "file_extension": ".py",
   "mimetype": "text/x-python",
   "name": "python",
   "nbconvert_exporter": "python",
   "pygments_lexer": "ipython3",
   "version": "3.9.16"
  }
 },
 "nbformat": 4,
 "nbformat_minor": 5
}
