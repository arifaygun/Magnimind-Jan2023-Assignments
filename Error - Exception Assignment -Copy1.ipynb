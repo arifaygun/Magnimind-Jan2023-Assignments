{
 "cells": [
  {
   "cell_type": "markdown",
   "id": "1e17b065",
   "metadata": {},
   "source": [
    "## Error - Exception Assignment - Arif Aygun"
   ]
  },
  {
   "cell_type": "markdown",
   "id": "d606f880",
   "metadata": {},
   "source": [
    "### 1- Let us define a division operation inside a function (using def) but to get an error, define the denominator as 0. So, type except statement properly."
   ]
  },
  {
   "cell_type": "code",
   "execution_count": 56,
   "id": "a54f47f9",
   "metadata": {},
   "outputs": [
    {
     "name": "stdout",
     "output_type": "stream",
     "text": [
      "You can not divide a number by zero\n"
     ]
    }
   ],
   "source": [
    "def op_division(number_1,number_2):\n",
    "    return number_1 / number_2\n",
    "\n",
    "try:\n",
    "    op_division(1 /0)\n",
    "except ZeroDivisionError as x:\n",
    "    print(\"You can not divide a number by zero\")"
   ]
  },
  {
   "cell_type": "markdown",
   "id": "c57a8c85",
   "metadata": {},
   "source": [
    "### 2- It is possible to get multiple errors after the execution of one try block. So, please define an error-exception issue with NameError."
   ]
  },
  {
   "cell_type": "code",
   "execution_count": 57,
   "id": "cbca4a35",
   "metadata": {},
   "outputs": [
    {
     "name": "stdout",
     "output_type": "stream",
     "text": [
      "Either you try to divide by zero or you try to call with a wrong naming\n"
     ]
    }
   ],
   "source": [
    "def op_division(number_1,number_2):\n",
    "    return number_1/number_2\n",
    "\n",
    "try:\n",
    "    operationDiv(1/0)\n",
    "except (ZeroDivisionError,NameError) as x:\n",
    "    print(\"Either you try to divide by zero or you try to call with a wrong naming\")"
   ]
  },
  {
   "cell_type": "markdown",
   "id": "ecf90981",
   "metadata": {},
   "source": [
    "### 3- Please define a function and with this function, generate a ValueError exception simply by entering a string instead of numerical value."
   ]
  },
  {
   "cell_type": "code",
   "execution_count": 58,
   "id": "0109e3b5",
   "metadata": {
    "scrolled": true
   },
   "outputs": [
    {
     "name": "stdout",
     "output_type": "stream",
     "text": [
      "Please Enter the First Value: 25\n",
      "Please Enter the Second Value: k\n",
      "You are trying to enter a string value\n"
     ]
    }
   ],
   "source": [
    "def op_division(number_1,number_2):\n",
    "    return number_1/number_2\n",
    "\n",
    "try:\n",
    "    operationDivision(int(input(\"Please Enter the First Value: \"))/\n",
    "                      int(input(\"Please Enter the Second Value: \")))\n",
    "except ValueError as x:\n",
    "    print(\"You are trying to enter a string value\")"
   ]
  },
  {
   "cell_type": "markdown",
   "id": "7f249204",
   "metadata": {},
   "source": [
    "### 4- Write a function called circumference that takes the diameter of a circle as input and produces the circumference of the circle. Your function should use try...except to check for a type error in the event a string is passed.\n"
   ]
  },
  {
   "cell_type": "code",
   "execution_count": 1,
   "id": "fcabbac1",
   "metadata": {},
   "outputs": [
    {
     "name": "stdout",
     "output_type": "stream",
     "text": [
      "Enter The Diameter Value: 2\n",
      "6.28\n"
     ]
    }
   ],
   "source": [
    "def Circumference(diameter):\n",
    "    return 3.14 * diameter\n",
    "\n",
    "try:\n",
    "    print(Circumference(float(input(\"Enter The Diameter Value: \"))))\n",
    "except ValueError as x:\n",
    "    print(\"You are trying to enter a string value\")"
   ]
  },
  {
   "cell_type": "code",
   "execution_count": 2,
   "id": "21de96ad",
   "metadata": {},
   "outputs": [
    {
     "name": "stdout",
     "output_type": "stream",
     "text": [
      "Enter The Diameter Value: qw\n",
      "You are trying to enter a string value\n"
     ]
    }
   ],
   "source": [
    "def Circumference(diameter):\n",
    "    return 3.14 * diameter\n",
    "\n",
    "try:\n",
    "    print(Circumference(float(input(\"Enter The Diameter Value: \"))))\n",
    "except ValueError as x:\n",
    "    print(\"You are trying to enter a string value\")"
   ]
  },
  {
   "cell_type": "code",
   "execution_count": 1,
   "id": "e29100b4",
   "metadata": {},
   "outputs": [
    {
     "name": "stdout",
     "output_type": "stream",
     "text": [
      "Error!....Division by zero\n",
      "Done\n"
     ]
    }
   ],
   "source": [
    "#using conditional statement to handle error.\n",
    "\n",
    "x = 4\n",
    "#y = 2\n",
    "y = 0\n",
    "\n",
    "#allow the division if the denominator is not zero, otherwise print an error message.\n",
    "\n",
    "if y != 0:\n",
    "    print (f'\\n{x}/ {y} = {x/y}')\n",
    "    \n",
    "else:\n",
    "    print('Error!....Division by zero')\n",
    "print('Done')\n",
    "\n"
   ]
  },
  {
   "cell_type": "code",
   "execution_count": 6,
   "id": "50529e91",
   "metadata": {},
   "outputs": [
    {
     "name": "stdout",
     "output_type": "stream",
     "text": [
      "4/ 2 = 2.0\n",
      "Done\n"
     ]
    }
   ],
   "source": [
    "#using conditional statement to handle error.\n",
    "\n",
    "x = 4\n",
    "y = 2\n",
    "#y = 0\n",
    "\n",
    "#allow the division if the denominator is not zero, otherwise print an error message.\n",
    "\n",
    "if y != 0:\n",
    "    print (f'{x}/ {y} = {x/y}')\n",
    "    \n",
    "else:\n",
    "    print('Error!....Division by zero')\n",
    "print('Done')\n"
   ]
  },
  {
   "cell_type": "code",
   "execution_count": 14,
   "id": "3d2c6d82",
   "metadata": {},
   "outputs": [],
   "source": []
  },
  {
   "cell_type": "code",
   "execution_count": 17,
   "id": "819b584a",
   "metadata": {},
   "outputs": [
    {
     "name": "stdout",
     "output_type": "stream",
     "text": [
      "\n",
      "BMI 0.002422145328719723\n",
      "\n",
      "waist to hip ratio = 0.7\n",
      "Done\n"
     ]
    }
   ],
   "source": [
    "weight = 70\n",
    "Height = 170\n",
    "waist = 70\n",
    "hip =100\n",
    "\n",
    "if Height != 0:\n",
    "    print(f'\\nBMI {weight/Height**2}')\n",
    "else:\n",
    "    print('Error!...Devision by zero')\n",
    "if hip != 0:\n",
    "    print(f'\\nwaist to hip ratio = {waist/hip}')\n",
    "else:\n",
    "    print('Error!...Division by zero')\n",
    "print('Done')\n"
   ]
  },
  {
   "cell_type": "code",
   "execution_count": 18,
   "id": "890eba27",
   "metadata": {},
   "outputs": [
    {
     "name": "stdout",
     "output_type": "stream",
     "text": [
      "\n",
      "BMI 0.002422145328719723\n",
      "Error!...Division by zero\n",
      "Done\n"
     ]
    }
   ],
   "source": [
    "weight = 70\n",
    "Height = 170\n",
    "waist = 70\n",
    "hip =0\n",
    "\n",
    "if Height != 0:\n",
    "    print(f'\\nBMI {weight/Height**2}')\n",
    "else:\n",
    "    print('Error!...Devision by zero')\n",
    "if hip != 0:\n",
    "    print(f'\\nwaist to hip ratio = {waist/hip}')\n",
    "else:\n",
    "    print('Error!...Division by zero')\n",
    "print('Done')"
   ]
  },
  {
   "cell_type": "code",
   "execution_count": 19,
   "id": "5b6ce972",
   "metadata": {},
   "outputs": [
    {
     "name": "stdout",
     "output_type": "stream",
     "text": [
      "Error!...Devision by zero\n",
      "\n",
      "waist to hip ratio = 0.875\n",
      "Done\n"
     ]
    }
   ],
   "source": [
    "weight = 70\n",
    "Height = 0\n",
    "waist = 70\n",
    "hip =80\n",
    "\n",
    "if Height != 0:\n",
    "    print(f'\\nBMI {weight/Height**2}')\n",
    "else:\n",
    "    print('Error!...Devision by zero')\n",
    "if hip != 0:\n",
    "    print(f'\\nwaist to hip ratio = {waist/hip}')\n",
    "else:\n",
    "    print('Error!...Division by zero')\n",
    "print('Done')"
   ]
  },
  {
   "cell_type": "code",
   "execution_count": null,
   "id": "bdff3aec",
   "metadata": {},
   "outputs": [],
   "source": []
  },
  {
   "cell_type": "code",
   "execution_count": null,
   "id": "ad10bf84",
   "metadata": {},
   "outputs": [],
   "source": []
  }
 ],
 "metadata": {
  "kernelspec": {
   "display_name": "Python 3 (ipykernel)",
   "language": "python",
   "name": "python3"
  },
  "language_info": {
   "codemirror_mode": {
    "name": "ipython",
    "version": 3
   },
   "file_extension": ".py",
   "mimetype": "text/x-python",
   "name": "python",
   "nbconvert_exporter": "python",
   "pygments_lexer": "ipython3",
   "version": "3.9.13"
  }
 },
 "nbformat": 4,
 "nbformat_minor": 5
}
