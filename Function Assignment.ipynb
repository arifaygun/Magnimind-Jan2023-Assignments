{
 "cells": [
  {
   "cell_type": "markdown",
   "id": "61f8fcb5",
   "metadata": {},
   "source": [
    "## Function Assignment - Arif Aygun"
   ]
  },
  {
   "cell_type": "markdown",
   "id": "4b27df87",
   "metadata": {},
   "source": [
    "### 1. Finding Prime Number"
   ]
  },
  {
   "cell_type": "raw",
   "id": "faa11172",
   "metadata": {},
   "source": [
    "A prime number is an integer greater than one that is only divisible by one and itself. Write a function that determines whether or not its parameter is prime, returning True if it is, and False otherwise. Write a main program that reads an integer from the user and displays a message indicating whether or not it is prime."
   ]
  },
  {
   "cell_type": "code",
   "execution_count": 48,
   "id": "d8399360",
   "metadata": {},
   "outputs": [
    {
     "name": "stdout",
     "output_type": "stream",
     "text": [
      "Enter a number: 17\n",
      "The number is a prime number\n"
     ]
    }
   ],
   "source": [
    "def def_prime(num):\n",
    "    not_prime = False\n",
    "    if num > 1:\n",
    "        for i in range(2, num):\n",
    "            if (num % i) == 0:\n",
    "                not_prime = True\n",
    "                break\n",
    "    return not_prime\n",
    "\n",
    "if def_prime(int(input(\"Enter a number: \"))) == True:\n",
    "    print(\"The number is not a prime number\")\n",
    "else:\n",
    "    print(\"The number is a prime number\")"
   ]
  },
  {
   "cell_type": "code",
   "execution_count": 49,
   "id": "0092a6cf",
   "metadata": {},
   "outputs": [
    {
     "name": "stdout",
     "output_type": "stream",
     "text": [
      "Enter a number: 69\n",
      "The number is not a prime number\n"
     ]
    }
   ],
   "source": [
    "def def_prime(num):\n",
    "    not_prime = False\n",
    "    if num > 1:\n",
    "        for i in range(2, num):\n",
    "            if (num % i) == 0:\n",
    "                not_prime = True\n",
    "                break\n",
    "    return not_prime\n",
    "\n",
    "if def_prime(int(input(\"Enter a number: \"))) == True:\n",
    "    print(\"The number is not a prime number\")\n",
    "else:\n",
    "    print(\"The number is a prime number\")"
   ]
  },
  {
   "cell_type": "markdown",
   "id": "54d2d08a",
   "metadata": {},
   "source": [
    "### 2. Rømer temperature"
   ]
  },
  {
   "cell_type": "raw",
   "id": "bf9d1eff",
   "metadata": {},
   "source": [
    "You're writing an excruciatingly detailed alternate history novel set in a world where Daniel Gabriel Fahrenheit was never born.\n",
    "Since Fahrenheit never lived the world kept on using the Rømer scale, invented by fellow Dane Ole Rømer to this very day, skipping over the Fahrenheit and Celsius scales entirely.\n",
    "Your magnum opus contains several thousand references to temperature, but those temperatures are all currently in degrees Celsius. You don't want to convert everything by hand, so you've decided to write a function, celsius_to_romer that takes a temperature in degrees Celsius and returns the equivalent temperature in degrees Rømer.\n",
    "For example: celsius_to_romer(24) should return 20.1."
   ]
  },
  {
   "cell_type": "code",
   "execution_count": 51,
   "id": "148b7090",
   "metadata": {},
   "outputs": [
    {
     "name": "stdout",
     "output_type": "stream",
     "text": [
      "Please Enter The Celsius Value: 24\n",
      "The Romer Value:  20.1\n"
     ]
    }
   ],
   "source": [
    "def celsius_to_romer(cel):\n",
    "    return cel*0.525+7.5\n",
    "print(\"The Romer Value: \", celsius_to_romer(int(input(\"Please Enter The Celsius Value: \"))))"
   ]
  },
  {
   "cell_type": "code",
   "execution_count": 50,
   "id": "84067f0d",
   "metadata": {},
   "outputs": [
    {
     "name": "stdout",
     "output_type": "stream",
     "text": [
      "Please Enter The Celsius Value: 48\n",
      "The Romer Value:  32.7\n"
     ]
    }
   ],
   "source": [
    "def celsius_to_romer(cel):\n",
    "    return cel*0.525+7.5\n",
    "print(\"The Romer Value: \", celsius_to_romer(int(input(\"Please Enter The Celsius Value: \"))))"
   ]
  },
  {
   "cell_type": "markdown",
   "id": "2305c385",
   "metadata": {},
   "source": [
    "### 3. Pixelart planning"
   ]
  },
  {
   "cell_type": "raw",
   "id": "7fd228da",
   "metadata": {},
   "source": [
    "You're laying out a rad pixel art mural to paint on your living room wall in homage to Paul Robertson, your favorite pixel artist.\n",
    "You want your work to be perfect down to the millimeter. You haven't decided on the dimensions of your piece, how large you want your pixels to be, or which wall you want to use. You just know that you want to fit an exact number of pixels.\n",
    "To help decide those things you've decided to write a function, is_divisible that will tell you whether a wall of a certain length can exactly fit an integer number of pixels of a certain length.\n",
    "Your function should take two arguments: the size of the wall in millimeters and the size of a pixel in millimeters. It should return True if you can fit an exact number of pixels on the wall, otherwise it should return False. For example is_divisible(4050, 27) should return True, but is_divisible(4066, 27) should return False.\n",
    "Note: you don't need to use an if statement here. Remember that in Python an expression using the == comparison operator will evaluate to either True or False:"
   ]
  },
  {
   "cell_type": "code",
   "execution_count": 54,
   "id": "1bc4f59c",
   "metadata": {},
   "outputs": [
    {
     "name": "stdout",
     "output_type": "stream",
     "text": [
      "Enter the size of the wall in millimeters: 18700\n",
      "Enter the size of a pixel in millimeters: 2\n",
      "You can fit an exact number of pixels on the wall\n"
     ]
    }
   ],
   "source": [
    "def pixel(num_1, num_2):\n",
    "    if num_1 % num_2 == 0:\n",
    "        return True\n",
    "    else:\n",
    "        return False\n",
    "\n",
    "if pixel(int(input(\"Enter the size of the wall in millimeters: \")),\n",
    "         int(input(\"Enter the size of a pixel in millimeters: \"))) == True:\n",
    "    print(\"You can fit an exact number of pixels on the wall\")\n",
    "else:\n",
    "    print(\"You cannot fit an exact number of pixels on the wall\")"
   ]
  },
  {
   "cell_type": "code",
   "execution_count": 55,
   "id": "5859517a",
   "metadata": {},
   "outputs": [
    {
     "name": "stdout",
     "output_type": "stream",
     "text": [
      "Enter the size of the wall in millimeters: 18700\n",
      "Enter the size of a pixel in millimeters: 3\n",
      "You cannot fit an exact number of pixels on the wall\n"
     ]
    }
   ],
   "source": [
    "def pixel(num_1, num_2):\n",
    "    if num_1 % num_2 == 0:\n",
    "        return True\n",
    "    else:\n",
    "        return False\n",
    "\n",
    "if pixel(int(input(\"Enter the size of the wall in millimeters: \")),\n",
    "         int(input(\"Enter the size of a pixel in millimeters: \"))) == True:\n",
    "    print(\"You can fit an exact number of pixels on the wall\")\n",
    "else:\n",
    "    print(\"You cannot fit an exact number of pixels on the wall\")"
   ]
  }
 ],
 "metadata": {
  "kernelspec": {
   "display_name": "Python 3 (ipykernel)",
   "language": "python",
   "name": "python3"
  },
  "language_info": {
   "codemirror_mode": {
    "name": "ipython",
    "version": 3
   },
   "file_extension": ".py",
   "mimetype": "text/x-python",
   "name": "python",
   "nbconvert_exporter": "python",
   "pygments_lexer": "ipython3",
   "version": "3.9.13"
  }
 },
 "nbformat": 4,
 "nbformat_minor": 5
}
