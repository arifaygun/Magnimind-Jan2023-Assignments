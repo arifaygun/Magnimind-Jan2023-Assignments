{
  "nbformat": 4,
  "nbformat_minor": 0,
  "metadata": {
    "colab": {
      "provenance": [],
      "authorship_tag": "ABX9TyNc2GLhpVbptsNJjp/cmBr4",
      "include_colab_link": true
    },
    "kernelspec": {
      "name": "python3",
      "display_name": "Python 3"
    },
    "language_info": {
      "name": "python"
    }
  },
  "cells": [
    {
      "cell_type": "markdown",
      "metadata": {
        "id": "view-in-github",
        "colab_type": "text"
      },
      "source": [
        "<a href=\"https://colab.research.google.com/github/ArifAygun/Magnimind-Jan2023-Assignments/blob/main/google_drive'dan_veri_seti_yukleme.ipynb\" target=\"_parent\"><img src=\"https://colab.research.google.com/assets/colab-badge.svg\" alt=\"Open In Colab\"/></a>"
      ]
    },
    {
      "cell_type": "code",
      "execution_count": null,
      "metadata": {
        "id": "7fwAQHEWYkFt"
      },
      "outputs": [],
      "source": [
        "from google.colab import drive\n",
        "drive.mount('/content/drive')"
      ]
    },
    {
      "cell_type": "markdown",
      "source": [
        "## 1.METHOD"
      ],
      "metadata": {
        "id": "gZZPqcZTL--9"
      }
    },
    {
      "cell_type": "code",
      "source": [
        "import os\n",
        "for Dir, Folders, Files in os.walk(os.getcwd()):\n",
        "  for File in Files:\n",
        "    if File == 'data.csv':\n",
        "      Path = os.path.join(Dir, File)\n",
        "      print(Path)"
      ],
      "metadata": {
        "id": "bnbD8hIzYljH"
      },
      "execution_count": null,
      "outputs": []
    },
    {
      "cell_type": "markdown",
      "source": [
        "2.METHOD"
      ],
      "metadata": {
        "id": "sTjKx3JSMHkP"
      }
    },
    {
      "cell_type": "code",
      "source": [
        "def file_locator(file_name):\n",
        "\n",
        "  import os\n",
        "  main_dir = os.getcwd()\n",
        "\n",
        "  for dir, folder, files in os.walk(main_dir):\n",
        "    for file in files:\n",
        "      if file == file_name:\n",
        "        file_path = os.path.join(dir,file)\n",
        "  return file_path"
      ],
      "metadata": {
        "id": "DjsGrOoKMM7R"
      },
      "execution_count": null,
      "outputs": []
    },
    {
      "cell_type": "code",
      "source": [
        "file_path = file_locator('movies.csv')\n",
        "\n",
        "df = pd.read_csv(file_path)\n",
        "df.head(n=2)"
      ],
      "metadata": {
        "id": "1d-bJU03Pgzc"
      },
      "execution_count": null,
      "outputs": []
    },
    {
      "cell_type": "code",
      "source": [
        "import pandas as pd\n",
        "import numpy as np\n",
        "df = pd.read_csv(Path)\n",
        "df.head()"
      ],
      "metadata": {
        "id": "Kut9nRtqYvHh"
      },
      "execution_count": null,
      "outputs": []
    },
    {
      "cell_type": "code",
      "source": [],
      "metadata": {
        "id": "B7cVDUeEpXBe"
      },
      "execution_count": null,
      "outputs": []
    }
  ]
}