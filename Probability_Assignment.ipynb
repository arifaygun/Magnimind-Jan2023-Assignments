{
  "nbformat": 4,
  "nbformat_minor": 0,
  "metadata": {
    "colab": {
      "provenance": [],
      "authorship_tag": "ABX9TyOViHnKai1JhIZXjIVgw7H0",
      "include_colab_link": true
    },
    "kernelspec": {
      "name": "python3",
      "display_name": "Python 3"
    },
    "language_info": {
      "name": "python"
    }
  },
  "cells": [
    {
      "cell_type": "markdown",
      "metadata": {
        "id": "view-in-github",
        "colab_type": "text"
      },
      "source": [
        "<a href=\"https://colab.research.google.com/github/ArifAygun/Magnimind-Jan2023-Assignments/blob/main/Probability_Assignment.ipynb\" target=\"_parent\"><img src=\"https://colab.research.google.com/assets/colab-badge.svg\" alt=\"Open In Colab\"/></a>"
      ]
    },
    {
      "cell_type": "markdown",
      "source": [
        "# Probability Assignment - Arif Aygun\n",
        "\n",
        "## Office Hour Solutions"
      ],
      "metadata": {
        "id": "jULFCtysuXfl"
      }
    },
    {
      "cell_type": "markdown",
      "source": [
        "### 1. If a list of people has 24 women and 21 men, then the probability of choosing a man from the list is 21/45.\n",
        "### What is the probability of not choosing a man?\n",
        "\n",
        "a) 24/45\n",
        "\n",
        "b) 1-(21/24)\n",
        "\n",
        "c) 21/24\n",
        "\n",
        "d) 24/21"
      ],
      "metadata": {
        "id": "rpLq8oPburY5"
      }
    },
    {
      "cell_type": "markdown",
      "source": [
        "solution <br>\n",
        "$P(M) = \\large{\\frac{21}{45}}$<br>\n",
        "\n",
        "$P(W) = \\large{\\frac{24}{45}}$<br>\n",
        "\n",
        "$P(M^C) = 1- P(M) = 1- \\large{\\frac{21}{45}} = \\large{\\frac{21}{45}}$ <br>\n",
        "\n",
        "$P(M^C) =P(W)$ <br>\n",
        "\n",
        "$P(M^C) 𝖴 P(M) = P(M^C) + P(M) - P(M ∩ M^C) = P(M^C) + P(M)$\n",
        "\n",
        "Therefore correct answers are a and also b"
      ],
      "metadata": {
        "id": "qZEeT6hHvUp5"
      }
    },
    {
      "cell_type": "markdown",
      "source": [
        "### 2. The probability that Bernice will travel by plane sometime in the next year is 10%. The probability of a plane crash at any time is 0.005%.\n",
        "### What is the probability that Bernice will be in a plane crash sometime in the next year?\n",
        "\n",
        "a) 50%\n",
        "\n",
        "b) 0.0010%\n",
        "\n",
        "c) 10%\n",
        "\n",
        "d) 0.0005%"
      ],
      "metadata": {
        "id": "DhCri0JHwtQY"
      }
    },
    {
      "cell_type": "markdown",
      "source": [
        "- P(A) = 10% probability that Bernice will travel by plane sometimes in the next year\n",
        "- 0.005 probability of a plane crash at any time\n",
        "\n",
        "$ 𝑃(A∩B) = P(A)×P(B) = \\large{\\frac{10}{100}} × \\large{\\frac{0.005}{100}} $ \n",
        "\n",
        "Therefore correct answers are d "
      ],
      "metadata": {
        "id": "jyIJUM-Txjt5"
      }
    },
    {
      "cell_type": "markdown",
      "source": [
        "### 3. A data scientist wants to study the behavior of users on the company website. Each time a user clicks on a link on the website, there is a 5% chance that the user will be asked to complete a short survey about their behavior on the website.\n",
        "### The data scientist uses the survey data to conclude that, on average, users spend 15 minutes surfing the company website before moving on to other things. What is wrong with this conclusion?\n",
        "\n",
        "a) Customers should be asked to complete surveys 25% of the time.\n",
        "\n",
        "b) People who surf longer are likely to click more links, increasing the odds of getting a survey.\n",
        "\n",
        "- This can results in a biased survey and do not represent the population under study.\n",
        "\n",
        "c) The average internet user only surfs a site for 12 minutes, on average.\n",
        "\n",
        "d) The data scientist is not considering mobile applications.\n",
        "\n",
        "\n",
        "In general the problem is the size because 5 out of 100 do not receive the survey. So 5% is used to draw conclusion about 95%.\n",
        "\n"
      ],
      "metadata": {
        "id": "NLZegWX1_CbQ"
      }
    },
    {
      "cell_type": "markdown",
      "source": [
        "### 4. A diagnostic test has a 98% probability of giving a positive result when applied to a person suffering from Thripshaw's disease and a 10% probability of giving a (false) positive when applied to a nonsufferer. It is estimated that 0.5% of the population has the disease.\n",
        "### Suppose that the test is now administered to a person whose disease status is unknown. Calculate the probability that the test will be positive.\n",
        "\n",
        "a) 0.0049\n",
        "\n",
        "b) 0.0995\n",
        "\n",
        "c) 0.1044\n",
        "\n",
        "d) 0.995\n",
        "\n",
        "P(+|D) = 98% → TP sensitivity\n",
        "\n",
        "$P(+|D^C)$ = 98% →  FP\n",
        "\n",
        "P(D) = 0.5%\n",
        "\n",
        "$P(D^C)$ = 100% - 0.5% = 99.5%\n",
        "\n",
        "$P(-|D^C)$ → TN specifity\n",
        "\n",
        "P(+) = P(+|D) × P(D) + $P(+|D^C)$ ×  $P(D^C)$\n",
        "\n",
        "→ P(+) = 0.98×0.005 + 0.1×0.995 ≈ 0.1044\n",
        "\n",
        "10.44% \n",
        " The correct answer is c\n",
        "\n",
        "\n"
      ],
      "metadata": {
        "id": "P7R5rgrKAZbD"
      }
    },
    {
      "cell_type": "code",
      "execution_count": null,
      "metadata": {
        "id": "87Ortmwjt_me"
      },
      "outputs": [],
      "source": []
    }
  ]
}