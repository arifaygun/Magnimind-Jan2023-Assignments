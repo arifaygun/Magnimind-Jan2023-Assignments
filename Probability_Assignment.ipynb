{
  "nbformat": 4,
  "nbformat_minor": 0,
  "metadata": {
    "colab": {
      "provenance": [],
      "authorship_tag": "ABX9TyOvRdjqO2fLzOy3nyyIzPgW",
      "include_colab_link": true
    },
    "kernelspec": {
      "name": "python3",
      "display_name": "Python 3"
    },
    "language_info": {
      "name": "python"
    }
  },
  "cells": [
    {
      "cell_type": "markdown",
      "metadata": {
        "id": "view-in-github",
        "colab_type": "text"
      },
      "source": [
        "<a href=\"https://colab.research.google.com/github/ArifAygun/Magnimind-Jan2023-Assignments/blob/main/Probability_Assignment.ipynb\" target=\"_parent\"><img src=\"https://colab.research.google.com/assets/colab-badge.svg\" alt=\"Open In Colab\"/></a>"
      ]
    },
    {
      "cell_type": "markdown",
      "source": [
        "# Probability Assignment - Arif Aygun\n",
        "\n",
        "## Office Hour Solutions"
      ],
      "metadata": {
        "id": "jULFCtysuXfl"
      }
    },
    {
      "cell_type": "markdown",
      "source": [
        "### 1. If a list of people has 24 women and 21 men, then the probability of choosing a man from the list is 21/45.\n",
        "### What is the probability of not choosing a man?\n",
        "\n",
        "a) 24/45\n",
        "\n",
        "b) 1-(21/24)\n",
        "\n",
        "c) 21/24\n",
        "\n",
        "d) 24/21"
      ],
      "metadata": {
        "id": "rpLq8oPburY5"
      }
    },
    {
      "cell_type": "markdown",
      "source": [
        "solution <br>\n",
        "$P(M) = \\large{\\frac{21}{45}}$<br>\n",
        "\n",
        "$P(W) = \\large{\\frac{24}{45}}$<br>\n",
        "\n",
        "$P(M^C) = 1- P(M) = 1- \\large{\\frac{21}{45}} = \\large{\\frac{21}{45}}$ <br>\n",
        "\n",
        "$P(M^C) =P(W)$ <br>\n",
        "\n",
        "$P(M^C) 𝖴 P(M) = P(M^C) + P(M) - P(M ∩ M^C) = P(M^C) + P(M)$\n",
        "\n",
        "Therefore correct answers are a and also b"
      ],
      "metadata": {
        "id": "qZEeT6hHvUp5"
      }
    },
    {
      "cell_type": "markdown",
      "source": [
        "### 2. The probability that Bernice will travel by plane sometime in the next year is 10%. The probability of a plane crash at any time is 0.005%.\n",
        "### What is the probability that Bernice will be in a plane crash sometime in the next year?\n",
        "\n",
        "a) 50%\n",
        "\n",
        "b) 0.0010%\n",
        "\n",
        "c) 10%\n",
        "\n",
        "d) 0.0005%"
      ],
      "metadata": {
        "id": "DhCri0JHwtQY"
      }
    },
    {
      "cell_type": "markdown",
      "source": [],
      "metadata": {
        "id": "jyIJUM-Txjt5"
      }
    },
    {
      "cell_type": "code",
      "execution_count": null,
      "metadata": {
        "id": "87Ortmwjt_me"
      },
      "outputs": [],
      "source": []
    }
  ]
}