{
 "cells": [
  {
   "cell_type": "markdown",
   "id": "19e68d20",
   "metadata": {},
   "source": [
    "# String Assignment - Arif Aygun"
   ]
  },
  {
   "cell_type": "markdown",
   "id": "c4c6b9a2",
   "metadata": {},
   "source": [
    "### 1. Ask the user to enter their first name and surname in lower case. Change the case to title case and join them together. Display the finished result."
   ]
  },
  {
   "cell_type": "code",
   "execution_count": 3,
   "id": "3752d640",
   "metadata": {},
   "outputs": [
    {
     "name": "stdout",
     "output_type": "stream",
     "text": [
      "Name (in lower case) : arif\n",
      "Surname (in lower case) : aygun\n",
      "Arif Aygun\n"
     ]
    }
   ],
   "source": [
    "name = input(\"Name (in lower case) : \")\n",
    "surname = input(\"Surname (in lower case) : \")\n",
    "full_name = name + \" \" + surname\n",
    "print(full_name.title())"
   ]
  },
  {
   "cell_type": "markdown",
   "id": "e06756a7",
   "metadata": {},
   "source": [
    "### 2. Ask the user to type in the first line of a poem Raven by Edgar Allen Poe and display the length of the string. Ask for a starting number and an ending number and then display just that section of the text (remember Python starts counting from 0 and not 1). Here is the poem Raven:\n",
    "\n"
   ]
  },
  {
   "cell_type": "markdown",
   "id": "cb8e6c78",
   "metadata": {},
   "source": [
    "Deep into that darkness peering,\n",
    "\n",
    "Long I stood there, wondering, fearing,\n",
    "\n",
    "Doubting, dreaming dreams no mortals\n",
    "\n",
    "Ever dared to dream before;\n",
    "\n",
    "But the silence was unbroken,\n",
    "\n",
    "And the stillness gave no token,\n",
    "\n",
    "And the only word there spoken\n",
    "\n",
    "Was the whispered word, \"Lenore!\"\n",
    "\n",
    "This I whispered, and an echo\n",
    "\n",
    "Murmured back the word, \"Lenore!\"\n",
    "\n",
    "Merely this, and nothing more."
   ]
  },
  {
   "cell_type": "code",
   "execution_count": 2,
   "id": "8bf37c0c",
   "metadata": {
    "scrolled": true
   },
   "outputs": [
    {
     "name": "stdout",
     "output_type": "stream",
     "text": [
      "Write the first line of a poem Raven by Edgar Allen Poe: Deep into that darkness peering,\n"
     ]
    },
    {
     "data": {
      "text/plain": [
       "32"
      ]
     },
     "execution_count": 2,
     "metadata": {},
     "output_type": "execute_result"
    }
   ],
   "source": [
    "first_line = input(\"Write the first line of a poem Raven by Edgar Allen Poe: \")\n",
    "first_line\n",
    "len(first_line)"
   ]
  },
  {
   "cell_type": "markdown",
   "id": "a89af883",
   "metadata": {},
   "source": [
    "### 3. Removes extra characters from the start and end of a string and explain why you need to remove white spaces while exploring text."
   ]
  },
  {
   "cell_type": "markdown",
   "id": "f43a3708",
   "metadata": {},
   "source": [
    "The answer was given in the assignment:\n",
    "\n",
    "The reason why we remove it is because Python process these white space and if we have no idea about white spaces, there cannot properly process the text."
   ]
  }
 ],
 "metadata": {
  "kernelspec": {
   "display_name": "Python 3 (ipykernel)",
   "language": "python",
   "name": "python3"
  },
  "language_info": {
   "codemirror_mode": {
    "name": "ipython",
    "version": 3
   },
   "file_extension": ".py",
   "mimetype": "text/x-python",
   "name": "python",
   "nbconvert_exporter": "python",
   "pygments_lexer": "ipython3",
   "version": "3.9.13"
  }
 },
 "nbformat": 4,
 "nbformat_minor": 5
}
