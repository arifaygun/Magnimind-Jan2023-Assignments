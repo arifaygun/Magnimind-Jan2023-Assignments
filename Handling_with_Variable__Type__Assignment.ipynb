{
  "cells": [
    {
      "cell_type": "markdown",
      "metadata": {
        "id": "view-in-github",
        "colab_type": "text"
      },
      "source": [
        "<a href=\"https://colab.research.google.com/github/ArifAygun/Magnimind-Jan2023-Assignments/blob/main/Handling_with_Variable__Type__Assignment.ipynb\" target=\"_parent\"><img src=\"https://colab.research.google.com/assets/colab-badge.svg\" alt=\"Open In Colab\"/></a>"
      ]
    },
    {
      "cell_type": "markdown",
      "id": "35d9de2b",
      "metadata": {
        "id": "35d9de2b"
      },
      "source": [
        "# Handling with Variable Type Assignment - Arif Aygun"
      ]
    },
    {
      "cell_type": "markdown",
      "id": "f6557991",
      "metadata": {
        "id": "f6557991"
      },
      "source": [
        "### 1. Determine the types of the below-given variables:"
      ]
    },
    {
      "cell_type": "markdown",
      "id": "4eee11af",
      "metadata": {
        "id": "4eee11af"
      },
      "source": [
        "- Age -----------> numeric variable (continous, ratio)\n",
        "- Salary --------> numeric variable (continous, ratio)\n",
        "- Income --------> numeric variable (continous, ratio)\n",
        "- Customer type -> categorical variable, (nominal)\n",
        "- Stock price----> numeric variable (continous, ratio)"
      ]
    },
    {
      "cell_type": "markdown",
      "id": "f2ba7b3e",
      "metadata": {
        "id": "f2ba7b3e"
      },
      "source": [
        "### 2. Using the movie data, we have studied in this lesson. Complete the following tasks:"
      ]
    },
    {
      "cell_type": "markdown",
      "id": "b7ba1b9b",
      "metadata": {
        "id": "b7ba1b9b"
      },
      "source": [
        "- Select a continuous and a categorical variable from the movie dataset and discuss the variable type of this variable. Discuss further in detail the type of selected continuous and categorical variables.\n",
        "\n",
        "\n",
        "- Categorize a variable of your choice and assign a name to it\n",
        "\n",
        "\n",
        "- Count the number of rows for each category"
      ]
    },
    {
      "cell_type": "code",
      "execution_count": null,
      "id": "9237cef6",
      "metadata": {
        "id": "9237cef6"
      },
      "outputs": [],
      "source": [
        "import pandas as pd\n",
        "import numpy as np\n",
        "\n",
        "import matplotlib.pyplot as plt\n",
        "\n",
        "%matplotlib inline \n",
        "\n",
        "import seaborn as sns\n",
        "\n",
        "from scipy import stats"
      ]
    },
    {
      "cell_type": "code",
      "execution_count": null,
      "id": "cd2f708a",
      "metadata": {
        "id": "cd2f708a",
        "outputId": "d7e7182e-dab0-479d-8773-f2ccb04d01b9"
      },
      "outputs": [
        {
          "data": {
            "text/html": [
              "<div>\n",
              "<style scoped>\n",
              "    .dataframe tbody tr th:only-of-type {\n",
              "        vertical-align: middle;\n",
              "    }\n",
              "\n",
              "    .dataframe tbody tr th {\n",
              "        vertical-align: top;\n",
              "    }\n",
              "\n",
              "    .dataframe thead th {\n",
              "        text-align: right;\n",
              "    }\n",
              "</style>\n",
              "<table border=\"1\" class=\"dataframe\">\n",
              "  <thead>\n",
              "    <tr style=\"text-align: right;\">\n",
              "      <th></th>\n",
              "      <th>Rank</th>\n",
              "      <th>Title</th>\n",
              "      <th>Genre</th>\n",
              "      <th>Description</th>\n",
              "      <th>Director</th>\n",
              "      <th>Actors</th>\n",
              "      <th>Year</th>\n",
              "      <th>Runtime (Minutes)</th>\n",
              "      <th>Rating</th>\n",
              "      <th>Votes</th>\n",
              "      <th>Revenue (Millions)</th>\n",
              "      <th>Metascore</th>\n",
              "    </tr>\n",
              "  </thead>\n",
              "  <tbody>\n",
              "    <tr>\n",
              "      <th>0</th>\n",
              "      <td>1</td>\n",
              "      <td>Guardians of the Galaxy</td>\n",
              "      <td>Action,Adventure,Sci-Fi</td>\n",
              "      <td>A group of intergalactic criminals are forced ...</td>\n",
              "      <td>James Gunn</td>\n",
              "      <td>Chris Pratt, Vin Diesel, Bradley Cooper, Zoe S...</td>\n",
              "      <td>2014</td>\n",
              "      <td>121</td>\n",
              "      <td>8.1</td>\n",
              "      <td>757074</td>\n",
              "      <td>333.13</td>\n",
              "      <td>76.0</td>\n",
              "    </tr>\n",
              "    <tr>\n",
              "      <th>1</th>\n",
              "      <td>2</td>\n",
              "      <td>Prometheus</td>\n",
              "      <td>Adventure,Mystery,Sci-Fi</td>\n",
              "      <td>Following clues to the origin of mankind, a te...</td>\n",
              "      <td>Ridley Scott</td>\n",
              "      <td>Noomi Rapace, Logan Marshall-Green, Michael Fa...</td>\n",
              "      <td>2012</td>\n",
              "      <td>124</td>\n",
              "      <td>7.0</td>\n",
              "      <td>485820</td>\n",
              "      <td>126.46</td>\n",
              "      <td>65.0</td>\n",
              "    </tr>\n",
              "    <tr>\n",
              "      <th>2</th>\n",
              "      <td>3</td>\n",
              "      <td>Split</td>\n",
              "      <td>Horror,Thriller</td>\n",
              "      <td>Three girls are kidnapped by a man with a diag...</td>\n",
              "      <td>M. Night Shyamalan</td>\n",
              "      <td>James McAvoy, Anya Taylor-Joy, Haley Lu Richar...</td>\n",
              "      <td>2016</td>\n",
              "      <td>117</td>\n",
              "      <td>7.3</td>\n",
              "      <td>157606</td>\n",
              "      <td>138.12</td>\n",
              "      <td>62.0</td>\n",
              "    </tr>\n",
              "    <tr>\n",
              "      <th>3</th>\n",
              "      <td>4</td>\n",
              "      <td>Sing</td>\n",
              "      <td>Animation,Comedy,Family</td>\n",
              "      <td>In a city of humanoid animals, a hustling thea...</td>\n",
              "      <td>Christophe Lourdelet</td>\n",
              "      <td>Matthew McConaughey,Reese Witherspoon, Seth Ma...</td>\n",
              "      <td>2016</td>\n",
              "      <td>108</td>\n",
              "      <td>7.2</td>\n",
              "      <td>60545</td>\n",
              "      <td>270.32</td>\n",
              "      <td>59.0</td>\n",
              "    </tr>\n",
              "    <tr>\n",
              "      <th>4</th>\n",
              "      <td>5</td>\n",
              "      <td>Suicide Squad</td>\n",
              "      <td>Action,Adventure,Fantasy</td>\n",
              "      <td>A secret government agency recruits some of th...</td>\n",
              "      <td>David Ayer</td>\n",
              "      <td>Will Smith, Jared Leto, Margot Robbie, Viola D...</td>\n",
              "      <td>2016</td>\n",
              "      <td>123</td>\n",
              "      <td>6.2</td>\n",
              "      <td>393727</td>\n",
              "      <td>325.02</td>\n",
              "      <td>40.0</td>\n",
              "    </tr>\n",
              "  </tbody>\n",
              "</table>\n",
              "</div>"
            ],
            "text/plain": [
              "   Rank                    Title                     Genre  \\\n",
              "0     1  Guardians of the Galaxy   Action,Adventure,Sci-Fi   \n",
              "1     2               Prometheus  Adventure,Mystery,Sci-Fi   \n",
              "2     3                    Split           Horror,Thriller   \n",
              "3     4                     Sing   Animation,Comedy,Family   \n",
              "4     5            Suicide Squad  Action,Adventure,Fantasy   \n",
              "\n",
              "                                         Description              Director  \\\n",
              "0  A group of intergalactic criminals are forced ...            James Gunn   \n",
              "1  Following clues to the origin of mankind, a te...          Ridley Scott   \n",
              "2  Three girls are kidnapped by a man with a diag...    M. Night Shyamalan   \n",
              "3  In a city of humanoid animals, a hustling thea...  Christophe Lourdelet   \n",
              "4  A secret government agency recruits some of th...            David Ayer   \n",
              "\n",
              "                                              Actors  Year  Runtime (Minutes)  \\\n",
              "0  Chris Pratt, Vin Diesel, Bradley Cooper, Zoe S...  2014                121   \n",
              "1  Noomi Rapace, Logan Marshall-Green, Michael Fa...  2012                124   \n",
              "2  James McAvoy, Anya Taylor-Joy, Haley Lu Richar...  2016                117   \n",
              "3  Matthew McConaughey,Reese Witherspoon, Seth Ma...  2016                108   \n",
              "4  Will Smith, Jared Leto, Margot Robbie, Viola D...  2016                123   \n",
              "\n",
              "   Rating   Votes  Revenue (Millions)  Metascore  \n",
              "0     8.1  757074              333.13       76.0  \n",
              "1     7.0  485820              126.46       65.0  \n",
              "2     7.3  157606              138.12       62.0  \n",
              "3     7.2   60545              270.32       59.0  \n",
              "4     6.2  393727              325.02       40.0  "
            ]
          },
          "execution_count": 12,
          "metadata": {},
          "output_type": "execute_result"
        }
      ],
      "source": [
        "movies = pd.read_csv(r\"C:\\Users\\AAygun\\Documents\\GitHub\\Data Sets\\Magnimind\\movies.csv\")\n",
        "movies.head()"
      ]
    },
    {
      "cell_type": "markdown",
      "id": "3e160a2a",
      "metadata": {
        "id": "3e160a2a"
      },
      "source": [
        "#### Select a continuous and a categorical variable from the movie dataset and discuss the variable type of this variable. Discuss further in detail the type of selected continuous and categorical variables."
      ]
    },
    {
      "cell_type": "markdown",
      "id": "4f29ea34",
      "metadata": {
        "id": "4f29ea34"
      },
      "source": [
        "- Continuous variable: \"Runtime (Minutes)\"\n",
        "\n",
        "- Categorical variable: \"Director\"\n",
        "\n",
        "##### Continuous variable: \"Runtime (Minutes)\"\n",
        "\n",
        "The \"Runtime\" variable in the \"movies\" dataset represents the length of the movie in minutes. This variable is a continuous variable because it can take on any numerical value within a specific range and is often measured on an interval or ratio scale. The Runtime variable is an interval scale variable, meaning that the difference between any two values is meaningful, but there is no true zero point. For example, a movie with a runtime of zero minutes would be nonsensical. The runtime of a movie is an important characteristic that affects the audience's experience and the movie's success, as longer movies may have different audience expectations and require different pacing and storytelling techniques than shorter ones.\n",
        "\n",
        "###### Categorical variable: \"Genre\"\n",
        "\n",
        "The \"Genre\" variable in the \"movies\" dataset represents the category or type of the movie, such as \"Action\", \"Comedy\", or \"Drama\". This variable is a categorical variable because it falls into specific categories or groups, and the categories do not have an inherent order or numerical value associated with them. The Genre variable is a nominal scale variable, meaning that there is no inherent order or ranking between the categories, and each category is equally important. The genre of a movie can be a significant predictor of the audience's preferences and the movie's overall success.\n",
        "\n",
        "In summary, the \"Runtime\" variable is an example of a continuous variable, while the \"Genre\" variable is an example of a nominal categorical variable. Understanding the type of variables is important because it affects the type of statistical analysis that can be performed on the data. Continuous variables can be analyzed using techniques such as correlation and regression analysis, while categorical variables can be analyzed using techniques such as contingency tables and chi-square tests. Additionally, the nominal scale of the \"Genre\" variable means that each category is equally important, and there is no inherent order or ranking between them."
      ]
    },
    {
      "cell_type": "markdown",
      "id": "cf1f4a36",
      "metadata": {
        "id": "cf1f4a36"
      },
      "source": [
        "#### Categorize a variable of your choice and assign a name to it"
      ]
    },
    {
      "cell_type": "markdown",
      "id": "14433681",
      "metadata": {
        "id": "14433681"
      },
      "source": [
        "I will categorize the variable \"Genre\" from the movies dataset and assign it the name \"Movie Category\".\n",
        "\n",
        "The \"Movie Category\" variable is a categorical variable that classifies movies into specific genres, such as action, drama, comedy, horror, romance, or science fiction. This variable is not measured on a numerical scale and is not continuous. The Movie Category variable is a nominal scale variable, meaning that there is no inherent order or ranking between the categories.\n",
        "\n",
        "The Movie Category variable is important in the movie industry because it helps filmmakers, producers, and distributors to identify target audiences, and it also provides a way for moviegoers to search for movies that match their interests. Moreover, the Movie Category variable can be used to analyze the success of different genres and to identify trends in movie preferences.\n",
        "\n",
        "As a result, the \"Movie Category\" variable is a categorical variable that is important in the movie industry and can help in identifying target audiences, searching for movies, and analyzing trends in movie preferences."
      ]
    },
    {
      "cell_type": "markdown",
      "id": "29f78cbc",
      "metadata": {
        "id": "29f78cbc"
      },
      "source": [
        "#### c- Count the number of rows for each category"
      ]
    },
    {
      "cell_type": "code",
      "execution_count": null,
      "id": "4260479e",
      "metadata": {
        "id": "4260479e",
        "outputId": "d3c5cb13-5c2f-4460-b7d3-5f35da7a31be"
      },
      "outputs": [
        {
          "name": "stdout",
          "output_type": "stream",
          "text": [
            "Number of Rows:  1000\n"
          ]
        }
      ],
      "source": [
        "df = pd.DataFrame(movies)\n",
        "\n",
        "rows = len(df.axes[0])\n",
        "\n",
        "print(\"Number of Rows: \", rows)"
      ]
    },
    {
      "cell_type": "markdown",
      "id": "509c3ae9",
      "metadata": {
        "id": "509c3ae9"
      },
      "source": [
        "### 3. Is it possible to convert categorical variable into numerical one? If so, how can you make that?"
      ]
    },
    {
      "cell_type": "markdown",
      "id": "0baadc52",
      "metadata": {
        "id": "0baadc52"
      },
      "source": [
        "Yes, it' possible\n"
      ]
    },
    {
      "cell_type": "code",
      "execution_count": null,
      "id": "db926148",
      "metadata": {
        "scrolled": true,
        "id": "db926148",
        "outputId": "cb85542c-745d-439c-deb8-04f1fbdf84da"
      },
      "outputs": [
        {
          "name": "stdout",
          "output_type": "stream",
          "text": [
            "   code priority gender  age\n",
            "0     1     high      M   12\n",
            "1     2      low      M   23\n",
            "2     3      low      M   21\n",
            "3     4     high      F   34\n",
            "4     5   medium      M   21\n",
            "5     6     high      M   23\n",
            "6     7   medium      F   21\n",
            "7     8      low      F   34\n",
            "8     9     high      M   56\n",
            "9     0   medium      F   32\n",
            "-----------------------------\n",
            "code         int64\n",
            "priority    object\n",
            "gender      object\n",
            "age          int64\n",
            "dtype: object\n"
          ]
        }
      ],
      "source": [
        "from pandas import DataFrame\n",
        "\n",
        "# Create a DataFrame with 10 rows that hold 4 columns\n",
        "sets = DataFrame({'code': [1,2,3,4,5,6,7,8,9,0], \n",
        "\n",
        "'priority':['high','low','low','high','medium','high','medium','low','high','medium'],\n",
        "\n",
        "'gender':['M','M','M','F','M','M','F','F','M','F'],\n",
        "\n",
        "'age':[12,23,21,34,21,23,21,34,56,32]})\n",
        "\n",
        "print(sets) # Actual DataFrame\n",
        "print(\"-----------------------------\")\n",
        "print(sets.dtypes) # Display data types of each column"
      ]
    },
    {
      "cell_type": "markdown",
      "id": "85cd1f28",
      "metadata": {
        "id": "85cd1f28"
      },
      "source": [
        "##### Replacing values in the gender column using replace() method."
      ]
    },
    {
      "cell_type": "code",
      "execution_count": null,
      "id": "8e4b81f9",
      "metadata": {
        "scrolled": true,
        "id": "8e4b81f9",
        "outputId": "3df76640-c848-48f9-b989-da62db7fa217"
      },
      "outputs": [
        {
          "name": "stdout",
          "output_type": "stream",
          "text": [
            "   code priority  gender  age\n",
            "0     1     high       1   12\n",
            "1     2      low       1   23\n",
            "2     3      low       1   21\n",
            "3     4     high       2   34\n",
            "4     5   medium       1   21\n",
            "5     6     high       1   23\n",
            "6     7   medium       2   21\n",
            "7     8      low       2   34\n",
            "8     9     high       1   56\n",
            "9     0   medium       2   32\n"
          ]
        }
      ],
      "source": [
        "from pandas import DataFrame\n",
        "\n",
        "# Create a DataFrame with 10 rows that hold 4 columns\n",
        "sets = DataFrame({'code': [1,2,3,4,5,6,7,8,9,0],\n",
        "\n",
        "'priority':['high','low','low','high','medium','high','medium','low','high','medium'],\n",
        "\n",
        "'gender':['M','M','M','F','M','M','F','F','M','F'],\n",
        "\n",
        "'age':[12,23,21,34,21,23,21,34,56,32]})\n",
        "\n",
        "# Convert categorical values to Numeric values in the gender column\n",
        "sets['gender']=sets['gender'].replace(['M', 'F'],[1, 2])\n",
        "\n",
        "print(sets)"
      ]
    },
    {
      "cell_type": "markdown",
      "id": "812a927b",
      "metadata": {
        "id": "812a927b"
      },
      "source": [
        "We are replacing ‘M’ with 1 and ‘F’ with 2 and storing the column values again in the gender column.\n",
        "\n",
        "We can see that the gender column holds values within 1 or 2."
      ]
    },
    {
      "cell_type": "markdown",
      "id": "6a98346e",
      "metadata": {
        "id": "6a98346e"
      },
      "source": [
        "### 4. While continuous data is generally preferred over discrete data, please indicate circumstances where discrete is the preferred data type although continuous data is available for the same characteristic."
      ]
    },
    {
      "cell_type": "markdown",
      "id": "4bd87fdf",
      "metadata": {
        "id": "4bd87fdf"
      },
      "source": [
        "- the number of students in a high school\n",
        "- the number of employees in a department\n",
        "- the number of customers that came in last month\n",
        "- the number of products on your shelves\n",
        "- the number of groceries customers are purchasing each day\n",
        "- the number of materials that were damaged during shipping\n",
        "- the number of computers each department has\n",
        "- the number of managers at the company\n",
        "- the number of languages each employee speaks"
      ]
    },
    {
      "cell_type": "markdown",
      "id": "cfe773fd",
      "metadata": {
        "id": "cfe773fd"
      },
      "source": [
        "### 5. While continuous data is measured and attribute data is counted, there is sometimes confusion if some specific dataset should be considered continuous or attribute. Provide some examples of confusing datasets and your inference."
      ]
    },
    {
      "cell_type": "markdown",
      "id": "285d7b15",
      "metadata": {
        "id": "285d7b15"
      },
      "source": [
        "- While measuring time we think that it is hour, month, year, so it will be attribute data but in actually it is continuous data because it can be break into minutes, seconds like that. But we can convert it into attribute data.\n",
        "\n",
        "\n",
        "- Another confusing dataset when we are talking about money, when we withdraw money from atm it comes like 1000, 2000, 250, 2475 but if we see our bank balance in our records online then we see the figures like 200.35, so it is continuous data because it has several infinite values so it is continuous data.\n",
        "\n",
        "\n",
        "- Another confusing dataset is percentage data or we can say that derived data, how we will consider it continuous or attribute. It depends on source data what it is actually according to that % data is decided. For example number of students taking this class divided by total number of graduate students is attribute data because a student can not be 3.5, 4.5\n",
        "\n",
        "\n",
        "- Another confusion about measuring in this example, imagine a young child is sick, as apparent first thing we do is to touch his forehead to feel if it is warm or not then it is attribute data but if we measure it by thermometer then it is continuous data."
      ]
    },
    {
      "cell_type": "markdown",
      "source": [
        "#OFFICE HOUR SOLUTION"
      ],
      "metadata": {
        "id": "DmaAGxh0KgUo"
      },
      "id": "DmaAGxh0KgUo"
    },
    {
      "cell_type": "markdown",
      "source": [
        "##Solution 2"
      ],
      "metadata": {
        "id": "uA1E1pwfKqhP"
      },
      "id": "uA1E1pwfKqhP"
    },
    {
      "cell_type": "code",
      "source": [
        "from google.colab import drive\n",
        "drive.mount('/content/drive')"
      ],
      "metadata": {
        "colab": {
          "base_uri": "https://localhost:8080/"
        },
        "id": "7PfFFjqcKk62",
        "outputId": "7cb68c15-05ce-4924-9c85-3a3fb598013c"
      },
      "id": "7PfFFjqcKk62",
      "execution_count": 2,
      "outputs": [
        {
          "output_type": "stream",
          "name": "stdout",
          "text": [
            "Mounted at /content/drive\n"
          ]
        }
      ]
    },
    {
      "cell_type": "code",
      "source": [
        "from pandas.io.formats import style\n",
        "import pandas as pd\n",
        "import numpy as np\n",
        "import matplotlib.pyplot as plt\n",
        "import seaborn as sns\n",
        "import scipy.stats as stats\n",
        "import warnings\n",
        "\n",
        "from scipy.stats.mstats import winsorize\n",
        "from sqlalchemy import create_engine\n",
        "\n",
        "warnings.filterwarnings('ignore')\n",
        "sns.set(style='whitegrid')\n",
        "pd.options.display.float_format = '{:2f}'.format\n",
        "plt.rcParams['figure.dpi'] = 100"
      ],
      "metadata": {
        "id": "li-2KASvNNRm"
      },
      "id": "li-2KASvNNRm",
      "execution_count": 10,
      "outputs": []
    },
    {
      "cell_type": "code",
      "source": [
        "def file_locator(file_name):\n",
        "\n",
        "  import os\n",
        "  main_dir = os.getcwd()\n",
        "\n",
        "  for dir, folder, files in os.walk(main_dir):\n",
        "    for file in files:\n",
        "      if file == file_name:\n",
        "        file_path = os.path.join(dir,file)\n",
        "  return file_path"
      ],
      "metadata": {
        "id": "0pTm_QqgKpKX"
      },
      "id": "0pTm_QqgKpKX",
      "execution_count": 11,
      "outputs": []
    },
    {
      "cell_type": "code",
      "source": [
        "file_path = file_locator('movies.csv')\n",
        "\n",
        "df = pd.read_csv(file_path)\n",
        "df.head(n=2)"
      ],
      "metadata": {
        "colab": {
          "base_uri": "https://localhost:8080/",
          "height": 384
        },
        "id": "vV5kFcl5NA7V",
        "outputId": "4922037d-39fd-44ef-ffd9-b1590b655ad7"
      },
      "id": "vV5kFcl5NA7V",
      "execution_count": 12,
      "outputs": [
        {
          "output_type": "execute_result",
          "data": {
            "text/plain": [
              "   Rank                    Title                     Genre  \\\n",
              "0     1  Guardians of the Galaxy   Action,Adventure,Sci-Fi   \n",
              "1     2               Prometheus  Adventure,Mystery,Sci-Fi   \n",
              "\n",
              "                                         Description      Director  \\\n",
              "0  A group of intergalactic criminals are forced ...    James Gunn   \n",
              "1  Following clues to the origin of mankind, a te...  Ridley Scott   \n",
              "\n",
              "                                              Actors  Year  Runtime (Minutes)  \\\n",
              "0  Chris Pratt, Vin Diesel, Bradley Cooper, Zoe S...  2014                121   \n",
              "1  Noomi Rapace, Logan Marshall-Green, Michael Fa...  2012                124   \n",
              "\n",
              "    Rating   Votes  Revenue (Millions)  Metascore  \n",
              "0 8.100000  757074          333.130000  76.000000  \n",
              "1 7.000000  485820          126.460000  65.000000  "
            ],
            "text/html": [
              "\n",
              "  <div id=\"df-2b4c7f7c-85cd-41e9-9a62-bd35ac01c5a4\">\n",
              "    <div class=\"colab-df-container\">\n",
              "      <div>\n",
              "<style scoped>\n",
              "    .dataframe tbody tr th:only-of-type {\n",
              "        vertical-align: middle;\n",
              "    }\n",
              "\n",
              "    .dataframe tbody tr th {\n",
              "        vertical-align: top;\n",
              "    }\n",
              "\n",
              "    .dataframe thead th {\n",
              "        text-align: right;\n",
              "    }\n",
              "</style>\n",
              "<table border=\"1\" class=\"dataframe\">\n",
              "  <thead>\n",
              "    <tr style=\"text-align: right;\">\n",
              "      <th></th>\n",
              "      <th>Rank</th>\n",
              "      <th>Title</th>\n",
              "      <th>Genre</th>\n",
              "      <th>Description</th>\n",
              "      <th>Director</th>\n",
              "      <th>Actors</th>\n",
              "      <th>Year</th>\n",
              "      <th>Runtime (Minutes)</th>\n",
              "      <th>Rating</th>\n",
              "      <th>Votes</th>\n",
              "      <th>Revenue (Millions)</th>\n",
              "      <th>Metascore</th>\n",
              "    </tr>\n",
              "  </thead>\n",
              "  <tbody>\n",
              "    <tr>\n",
              "      <th>0</th>\n",
              "      <td>1</td>\n",
              "      <td>Guardians of the Galaxy</td>\n",
              "      <td>Action,Adventure,Sci-Fi</td>\n",
              "      <td>A group of intergalactic criminals are forced ...</td>\n",
              "      <td>James Gunn</td>\n",
              "      <td>Chris Pratt, Vin Diesel, Bradley Cooper, Zoe S...</td>\n",
              "      <td>2014</td>\n",
              "      <td>121</td>\n",
              "      <td>8.100000</td>\n",
              "      <td>757074</td>\n",
              "      <td>333.130000</td>\n",
              "      <td>76.000000</td>\n",
              "    </tr>\n",
              "    <tr>\n",
              "      <th>1</th>\n",
              "      <td>2</td>\n",
              "      <td>Prometheus</td>\n",
              "      <td>Adventure,Mystery,Sci-Fi</td>\n",
              "      <td>Following clues to the origin of mankind, a te...</td>\n",
              "      <td>Ridley Scott</td>\n",
              "      <td>Noomi Rapace, Logan Marshall-Green, Michael Fa...</td>\n",
              "      <td>2012</td>\n",
              "      <td>124</td>\n",
              "      <td>7.000000</td>\n",
              "      <td>485820</td>\n",
              "      <td>126.460000</td>\n",
              "      <td>65.000000</td>\n",
              "    </tr>\n",
              "  </tbody>\n",
              "</table>\n",
              "</div>\n",
              "      <button class=\"colab-df-convert\" onclick=\"convertToInteractive('df-2b4c7f7c-85cd-41e9-9a62-bd35ac01c5a4')\"\n",
              "              title=\"Convert this dataframe to an interactive table.\"\n",
              "              style=\"display:none;\">\n",
              "        \n",
              "  <svg xmlns=\"http://www.w3.org/2000/svg\" height=\"24px\"viewBox=\"0 0 24 24\"\n",
              "       width=\"24px\">\n",
              "    <path d=\"M0 0h24v24H0V0z\" fill=\"none\"/>\n",
              "    <path d=\"M18.56 5.44l.94 2.06.94-2.06 2.06-.94-2.06-.94-.94-2.06-.94 2.06-2.06.94zm-11 1L8.5 8.5l.94-2.06 2.06-.94-2.06-.94L8.5 2.5l-.94 2.06-2.06.94zm10 10l.94 2.06.94-2.06 2.06-.94-2.06-.94-.94-2.06-.94 2.06-2.06.94z\"/><path d=\"M17.41 7.96l-1.37-1.37c-.4-.4-.92-.59-1.43-.59-.52 0-1.04.2-1.43.59L10.3 9.45l-7.72 7.72c-.78.78-.78 2.05 0 2.83L4 21.41c.39.39.9.59 1.41.59.51 0 1.02-.2 1.41-.59l7.78-7.78 2.81-2.81c.8-.78.8-2.07 0-2.86zM5.41 20L4 18.59l7.72-7.72 1.47 1.35L5.41 20z\"/>\n",
              "  </svg>\n",
              "      </button>\n",
              "      \n",
              "  <style>\n",
              "    .colab-df-container {\n",
              "      display:flex;\n",
              "      flex-wrap:wrap;\n",
              "      gap: 12px;\n",
              "    }\n",
              "\n",
              "    .colab-df-convert {\n",
              "      background-color: #E8F0FE;\n",
              "      border: none;\n",
              "      border-radius: 50%;\n",
              "      cursor: pointer;\n",
              "      display: none;\n",
              "      fill: #1967D2;\n",
              "      height: 32px;\n",
              "      padding: 0 0 0 0;\n",
              "      width: 32px;\n",
              "    }\n",
              "\n",
              "    .colab-df-convert:hover {\n",
              "      background-color: #E2EBFA;\n",
              "      box-shadow: 0px 1px 2px rgba(60, 64, 67, 0.3), 0px 1px 3px 1px rgba(60, 64, 67, 0.15);\n",
              "      fill: #174EA6;\n",
              "    }\n",
              "\n",
              "    [theme=dark] .colab-df-convert {\n",
              "      background-color: #3B4455;\n",
              "      fill: #D2E3FC;\n",
              "    }\n",
              "\n",
              "    [theme=dark] .colab-df-convert:hover {\n",
              "      background-color: #434B5C;\n",
              "      box-shadow: 0px 1px 3px 1px rgba(0, 0, 0, 0.15);\n",
              "      filter: drop-shadow(0px 1px 2px rgba(0, 0, 0, 0.3));\n",
              "      fill: #FFFFFF;\n",
              "    }\n",
              "  </style>\n",
              "\n",
              "      <script>\n",
              "        const buttonEl =\n",
              "          document.querySelector('#df-2b4c7f7c-85cd-41e9-9a62-bd35ac01c5a4 button.colab-df-convert');\n",
              "        buttonEl.style.display =\n",
              "          google.colab.kernel.accessAllowed ? 'block' : 'none';\n",
              "\n",
              "        async function convertToInteractive(key) {\n",
              "          const element = document.querySelector('#df-2b4c7f7c-85cd-41e9-9a62-bd35ac01c5a4');\n",
              "          const dataTable =\n",
              "            await google.colab.kernel.invokeFunction('convertToInteractive',\n",
              "                                                     [key], {});\n",
              "          if (!dataTable) return;\n",
              "\n",
              "          const docLinkHtml = 'Like what you see? Visit the ' +\n",
              "            '<a target=\"_blank\" href=https://colab.research.google.com/notebooks/data_table.ipynb>data table notebook</a>'\n",
              "            + ' to learn more about interactive tables.';\n",
              "          element.innerHTML = '';\n",
              "          dataTable['output_type'] = 'display_data';\n",
              "          await google.colab.output.renderOutput(dataTable, element);\n",
              "          const docLink = document.createElement('div');\n",
              "          docLink.innerHTML = docLinkHtml;\n",
              "          element.appendChild(docLink);\n",
              "        }\n",
              "      </script>\n",
              "    </div>\n",
              "  </div>\n",
              "  "
            ]
          },
          "metadata": {},
          "execution_count": 12
        }
      ]
    },
    {
      "cell_type": "code",
      "source": [
        "df.info(verbose=False)"
      ],
      "metadata": {
        "colab": {
          "base_uri": "https://localhost:8080/"
        },
        "id": "m-VoGluGQLKP",
        "outputId": "69bb5f4b-2e09-40d3-f25b-d4d6966c98fc"
      },
      "id": "m-VoGluGQLKP",
      "execution_count": 13,
      "outputs": [
        {
          "output_type": "stream",
          "name": "stdout",
          "text": [
            "<class 'pandas.core.frame.DataFrame'>\n",
            "RangeIndex: 1000 entries, 0 to 999\n",
            "Columns: 12 entries, Rank to Metascore\n",
            "dtypes: float64(3), int64(4), object(5)\n",
            "memory usage: 93.9+ KB\n"
          ]
        }
      ]
    },
    {
      "cell_type": "code",
      "source": [
        "#df.describe(include ='0')\n",
        "df.describe(include='object')"
      ],
      "metadata": {
        "colab": {
          "base_uri": "https://localhost:8080/",
          "height": 219
        },
        "id": "0yhBkj3qQ62u",
        "outputId": "eb1cd094-bfe8-4e6c-9274-441162f4f6c2"
      },
      "id": "0yhBkj3qQ62u",
      "execution_count": 15,
      "outputs": [
        {
          "output_type": "execute_result",
          "data": {
            "text/plain": [
              "           Title                    Genre  \\\n",
              "count       1000                     1000   \n",
              "unique       999                      207   \n",
              "top     The Host  Action,Adventure,Sci-Fi   \n",
              "freq           2                       50   \n",
              "\n",
              "                                              Description      Director  \\\n",
              "count                                                1000          1000   \n",
              "unique                                               1000           644   \n",
              "top     A group of intergalactic criminals are forced ...  Ridley Scott   \n",
              "freq                                                    1             8   \n",
              "\n",
              "                                                   Actors  \n",
              "count                                                1000  \n",
              "unique                                                996  \n",
              "top     Jennifer Lawrence, Josh Hutcherson, Liam Hemsw...  \n",
              "freq                                                    2  "
            ],
            "text/html": [
              "\n",
              "  <div id=\"df-215fa7b8-82b0-4bbb-be8d-e2930fb549ed\">\n",
              "    <div class=\"colab-df-container\">\n",
              "      <div>\n",
              "<style scoped>\n",
              "    .dataframe tbody tr th:only-of-type {\n",
              "        vertical-align: middle;\n",
              "    }\n",
              "\n",
              "    .dataframe tbody tr th {\n",
              "        vertical-align: top;\n",
              "    }\n",
              "\n",
              "    .dataframe thead th {\n",
              "        text-align: right;\n",
              "    }\n",
              "</style>\n",
              "<table border=\"1\" class=\"dataframe\">\n",
              "  <thead>\n",
              "    <tr style=\"text-align: right;\">\n",
              "      <th></th>\n",
              "      <th>Title</th>\n",
              "      <th>Genre</th>\n",
              "      <th>Description</th>\n",
              "      <th>Director</th>\n",
              "      <th>Actors</th>\n",
              "    </tr>\n",
              "  </thead>\n",
              "  <tbody>\n",
              "    <tr>\n",
              "      <th>count</th>\n",
              "      <td>1000</td>\n",
              "      <td>1000</td>\n",
              "      <td>1000</td>\n",
              "      <td>1000</td>\n",
              "      <td>1000</td>\n",
              "    </tr>\n",
              "    <tr>\n",
              "      <th>unique</th>\n",
              "      <td>999</td>\n",
              "      <td>207</td>\n",
              "      <td>1000</td>\n",
              "      <td>644</td>\n",
              "      <td>996</td>\n",
              "    </tr>\n",
              "    <tr>\n",
              "      <th>top</th>\n",
              "      <td>The Host</td>\n",
              "      <td>Action,Adventure,Sci-Fi</td>\n",
              "      <td>A group of intergalactic criminals are forced ...</td>\n",
              "      <td>Ridley Scott</td>\n",
              "      <td>Jennifer Lawrence, Josh Hutcherson, Liam Hemsw...</td>\n",
              "    </tr>\n",
              "    <tr>\n",
              "      <th>freq</th>\n",
              "      <td>2</td>\n",
              "      <td>50</td>\n",
              "      <td>1</td>\n",
              "      <td>8</td>\n",
              "      <td>2</td>\n",
              "    </tr>\n",
              "  </tbody>\n",
              "</table>\n",
              "</div>\n",
              "      <button class=\"colab-df-convert\" onclick=\"convertToInteractive('df-215fa7b8-82b0-4bbb-be8d-e2930fb549ed')\"\n",
              "              title=\"Convert this dataframe to an interactive table.\"\n",
              "              style=\"display:none;\">\n",
              "        \n",
              "  <svg xmlns=\"http://www.w3.org/2000/svg\" height=\"24px\"viewBox=\"0 0 24 24\"\n",
              "       width=\"24px\">\n",
              "    <path d=\"M0 0h24v24H0V0z\" fill=\"none\"/>\n",
              "    <path d=\"M18.56 5.44l.94 2.06.94-2.06 2.06-.94-2.06-.94-.94-2.06-.94 2.06-2.06.94zm-11 1L8.5 8.5l.94-2.06 2.06-.94-2.06-.94L8.5 2.5l-.94 2.06-2.06.94zm10 10l.94 2.06.94-2.06 2.06-.94-2.06-.94-.94-2.06-.94 2.06-2.06.94z\"/><path d=\"M17.41 7.96l-1.37-1.37c-.4-.4-.92-.59-1.43-.59-.52 0-1.04.2-1.43.59L10.3 9.45l-7.72 7.72c-.78.78-.78 2.05 0 2.83L4 21.41c.39.39.9.59 1.41.59.51 0 1.02-.2 1.41-.59l7.78-7.78 2.81-2.81c.8-.78.8-2.07 0-2.86zM5.41 20L4 18.59l7.72-7.72 1.47 1.35L5.41 20z\"/>\n",
              "  </svg>\n",
              "      </button>\n",
              "      \n",
              "  <style>\n",
              "    .colab-df-container {\n",
              "      display:flex;\n",
              "      flex-wrap:wrap;\n",
              "      gap: 12px;\n",
              "    }\n",
              "\n",
              "    .colab-df-convert {\n",
              "      background-color: #E8F0FE;\n",
              "      border: none;\n",
              "      border-radius: 50%;\n",
              "      cursor: pointer;\n",
              "      display: none;\n",
              "      fill: #1967D2;\n",
              "      height: 32px;\n",
              "      padding: 0 0 0 0;\n",
              "      width: 32px;\n",
              "    }\n",
              "\n",
              "    .colab-df-convert:hover {\n",
              "      background-color: #E2EBFA;\n",
              "      box-shadow: 0px 1px 2px rgba(60, 64, 67, 0.3), 0px 1px 3px 1px rgba(60, 64, 67, 0.15);\n",
              "      fill: #174EA6;\n",
              "    }\n",
              "\n",
              "    [theme=dark] .colab-df-convert {\n",
              "      background-color: #3B4455;\n",
              "      fill: #D2E3FC;\n",
              "    }\n",
              "\n",
              "    [theme=dark] .colab-df-convert:hover {\n",
              "      background-color: #434B5C;\n",
              "      box-shadow: 0px 1px 3px 1px rgba(0, 0, 0, 0.15);\n",
              "      filter: drop-shadow(0px 1px 2px rgba(0, 0, 0, 0.3));\n",
              "      fill: #FFFFFF;\n",
              "    }\n",
              "  </style>\n",
              "\n",
              "      <script>\n",
              "        const buttonEl =\n",
              "          document.querySelector('#df-215fa7b8-82b0-4bbb-be8d-e2930fb549ed button.colab-df-convert');\n",
              "        buttonEl.style.display =\n",
              "          google.colab.kernel.accessAllowed ? 'block' : 'none';\n",
              "\n",
              "        async function convertToInteractive(key) {\n",
              "          const element = document.querySelector('#df-215fa7b8-82b0-4bbb-be8d-e2930fb549ed');\n",
              "          const dataTable =\n",
              "            await google.colab.kernel.invokeFunction('convertToInteractive',\n",
              "                                                     [key], {});\n",
              "          if (!dataTable) return;\n",
              "\n",
              "          const docLinkHtml = 'Like what you see? Visit the ' +\n",
              "            '<a target=\"_blank\" href=https://colab.research.google.com/notebooks/data_table.ipynb>data table notebook</a>'\n",
              "            + ' to learn more about interactive tables.';\n",
              "          element.innerHTML = '';\n",
              "          dataTable['output_type'] = 'display_data';\n",
              "          await google.colab.output.renderOutput(dataTable, element);\n",
              "          const docLink = document.createElement('div');\n",
              "          docLink.innerHTML = docLinkHtml;\n",
              "          element.appendChild(docLink);\n",
              "        }\n",
              "      </script>\n",
              "    </div>\n",
              "  </div>\n",
              "  "
            ]
          },
          "metadata": {},
          "execution_count": 15
        }
      ]
    },
    {
      "cell_type": "markdown",
      "source": [
        "### a. Select a continuous and a categorical variable from the movie dataset and discuss the variable type of this variable. "
      ],
      "metadata": {
        "id": "2O7s8W3TSN8j"
      },
      "id": "2O7s8W3TSN8j"
    },
    {
      "cell_type": "code",
      "source": [
        "variable_type = pd.Series(['continuous numerical - ordinal',\n",
        "                           'string variable - nominal',\n",
        "                           'categorical - nominal',\n",
        "                           'string variable - nominal',\n",
        "                           'categorical - nominal',\n",
        "                           'categorical - nominal',\n",
        "                           'numerical discrete - interval',\n",
        "                           'discrete numerical - ratio',\n",
        "                           'dicrete numerical - ordinal',\n",
        "                           'continonus numerical - ordinal',\n",
        "                           'continuous numerical - ratio',\n",
        "                           'discrete numerical - ordinal'], index = df.dtypes.index)"
      ],
      "metadata": {
        "id": "I4s7KNKnRTTQ"
      },
      "id": "I4s7KNKnRTTQ",
      "execution_count": 19,
      "outputs": []
    },
    {
      "cell_type": "code",
      "source": [
        "df_dtype = pd.concat([df.dtypes, df.nunique(), round(df.nunique()*100/len(df)), variable_type], axis=1)\n",
        "df_dtype.columns = ['data type', 'No. of categories', 'categories/sample ratio %', 'variable_type']\n",
        "df_dtype"
      ],
      "metadata": {
        "colab": {
          "base_uri": "https://localhost:8080/",
          "height": 425
        },
        "id": "n40aQYSOUfhf",
        "outputId": "b116a770-c517-456c-bc88-e999bdcbcb59"
      },
      "id": "n40aQYSOUfhf",
      "execution_count": 20,
      "outputs": [
        {
          "output_type": "execute_result",
          "data": {
            "text/plain": [
              "                   data type  No. of categories  categories/sample ratio %  \\\n",
              "Rank                   int64               1000                 100.000000   \n",
              "Title                 object                999                 100.000000   \n",
              "Genre                 object                207                  21.000000   \n",
              "Description           object               1000                 100.000000   \n",
              "Director              object                644                  64.000000   \n",
              "Actors                object                996                 100.000000   \n",
              "Year                   int64                 11                   1.000000   \n",
              "Runtime (Minutes)      int64                 94                   9.000000   \n",
              "Rating               float64                 55                   6.000000   \n",
              "Votes                  int64                997                 100.000000   \n",
              "Revenue (Millions)   float64                814                  81.000000   \n",
              "Metascore            float64                 84                   8.000000   \n",
              "\n",
              "                                     variable_type  \n",
              "Rank                continuous numerical - ordinal  \n",
              "Title                    string variable - nominal  \n",
              "Genre                        categorical - nominal  \n",
              "Description              string variable - nominal  \n",
              "Director                     categorical - nominal  \n",
              "Actors                       categorical - nominal  \n",
              "Year                 numerical discrete - interval  \n",
              "Runtime (Minutes)       discrete numerical - ratio  \n",
              "Rating                 dicrete numerical - ordinal  \n",
              "Votes               continonus numerical - ordinal  \n",
              "Revenue (Millions)    continuous numerical - ratio  \n",
              "Metascore             discrete numerical - ordinal  "
            ],
            "text/html": [
              "\n",
              "  <div id=\"df-a40367b0-e411-4cd1-bf0c-6bf5e0bc55c0\">\n",
              "    <div class=\"colab-df-container\">\n",
              "      <div>\n",
              "<style scoped>\n",
              "    .dataframe tbody tr th:only-of-type {\n",
              "        vertical-align: middle;\n",
              "    }\n",
              "\n",
              "    .dataframe tbody tr th {\n",
              "        vertical-align: top;\n",
              "    }\n",
              "\n",
              "    .dataframe thead th {\n",
              "        text-align: right;\n",
              "    }\n",
              "</style>\n",
              "<table border=\"1\" class=\"dataframe\">\n",
              "  <thead>\n",
              "    <tr style=\"text-align: right;\">\n",
              "      <th></th>\n",
              "      <th>data type</th>\n",
              "      <th>No. of categories</th>\n",
              "      <th>categories/sample ratio %</th>\n",
              "      <th>variable_type</th>\n",
              "    </tr>\n",
              "  </thead>\n",
              "  <tbody>\n",
              "    <tr>\n",
              "      <th>Rank</th>\n",
              "      <td>int64</td>\n",
              "      <td>1000</td>\n",
              "      <td>100.000000</td>\n",
              "      <td>continuous numerical - ordinal</td>\n",
              "    </tr>\n",
              "    <tr>\n",
              "      <th>Title</th>\n",
              "      <td>object</td>\n",
              "      <td>999</td>\n",
              "      <td>100.000000</td>\n",
              "      <td>string variable - nominal</td>\n",
              "    </tr>\n",
              "    <tr>\n",
              "      <th>Genre</th>\n",
              "      <td>object</td>\n",
              "      <td>207</td>\n",
              "      <td>21.000000</td>\n",
              "      <td>categorical - nominal</td>\n",
              "    </tr>\n",
              "    <tr>\n",
              "      <th>Description</th>\n",
              "      <td>object</td>\n",
              "      <td>1000</td>\n",
              "      <td>100.000000</td>\n",
              "      <td>string variable - nominal</td>\n",
              "    </tr>\n",
              "    <tr>\n",
              "      <th>Director</th>\n",
              "      <td>object</td>\n",
              "      <td>644</td>\n",
              "      <td>64.000000</td>\n",
              "      <td>categorical - nominal</td>\n",
              "    </tr>\n",
              "    <tr>\n",
              "      <th>Actors</th>\n",
              "      <td>object</td>\n",
              "      <td>996</td>\n",
              "      <td>100.000000</td>\n",
              "      <td>categorical - nominal</td>\n",
              "    </tr>\n",
              "    <tr>\n",
              "      <th>Year</th>\n",
              "      <td>int64</td>\n",
              "      <td>11</td>\n",
              "      <td>1.000000</td>\n",
              "      <td>numerical discrete - interval</td>\n",
              "    </tr>\n",
              "    <tr>\n",
              "      <th>Runtime (Minutes)</th>\n",
              "      <td>int64</td>\n",
              "      <td>94</td>\n",
              "      <td>9.000000</td>\n",
              "      <td>discrete numerical - ratio</td>\n",
              "    </tr>\n",
              "    <tr>\n",
              "      <th>Rating</th>\n",
              "      <td>float64</td>\n",
              "      <td>55</td>\n",
              "      <td>6.000000</td>\n",
              "      <td>dicrete numerical - ordinal</td>\n",
              "    </tr>\n",
              "    <tr>\n",
              "      <th>Votes</th>\n",
              "      <td>int64</td>\n",
              "      <td>997</td>\n",
              "      <td>100.000000</td>\n",
              "      <td>continonus numerical - ordinal</td>\n",
              "    </tr>\n",
              "    <tr>\n",
              "      <th>Revenue (Millions)</th>\n",
              "      <td>float64</td>\n",
              "      <td>814</td>\n",
              "      <td>81.000000</td>\n",
              "      <td>continuous numerical - ratio</td>\n",
              "    </tr>\n",
              "    <tr>\n",
              "      <th>Metascore</th>\n",
              "      <td>float64</td>\n",
              "      <td>84</td>\n",
              "      <td>8.000000</td>\n",
              "      <td>discrete numerical - ordinal</td>\n",
              "    </tr>\n",
              "  </tbody>\n",
              "</table>\n",
              "</div>\n",
              "      <button class=\"colab-df-convert\" onclick=\"convertToInteractive('df-a40367b0-e411-4cd1-bf0c-6bf5e0bc55c0')\"\n",
              "              title=\"Convert this dataframe to an interactive table.\"\n",
              "              style=\"display:none;\">\n",
              "        \n",
              "  <svg xmlns=\"http://www.w3.org/2000/svg\" height=\"24px\"viewBox=\"0 0 24 24\"\n",
              "       width=\"24px\">\n",
              "    <path d=\"M0 0h24v24H0V0z\" fill=\"none\"/>\n",
              "    <path d=\"M18.56 5.44l.94 2.06.94-2.06 2.06-.94-2.06-.94-.94-2.06-.94 2.06-2.06.94zm-11 1L8.5 8.5l.94-2.06 2.06-.94-2.06-.94L8.5 2.5l-.94 2.06-2.06.94zm10 10l.94 2.06.94-2.06 2.06-.94-2.06-.94-.94-2.06-.94 2.06-2.06.94z\"/><path d=\"M17.41 7.96l-1.37-1.37c-.4-.4-.92-.59-1.43-.59-.52 0-1.04.2-1.43.59L10.3 9.45l-7.72 7.72c-.78.78-.78 2.05 0 2.83L4 21.41c.39.39.9.59 1.41.59.51 0 1.02-.2 1.41-.59l7.78-7.78 2.81-2.81c.8-.78.8-2.07 0-2.86zM5.41 20L4 18.59l7.72-7.72 1.47 1.35L5.41 20z\"/>\n",
              "  </svg>\n",
              "      </button>\n",
              "      \n",
              "  <style>\n",
              "    .colab-df-container {\n",
              "      display:flex;\n",
              "      flex-wrap:wrap;\n",
              "      gap: 12px;\n",
              "    }\n",
              "\n",
              "    .colab-df-convert {\n",
              "      background-color: #E8F0FE;\n",
              "      border: none;\n",
              "      border-radius: 50%;\n",
              "      cursor: pointer;\n",
              "      display: none;\n",
              "      fill: #1967D2;\n",
              "      height: 32px;\n",
              "      padding: 0 0 0 0;\n",
              "      width: 32px;\n",
              "    }\n",
              "\n",
              "    .colab-df-convert:hover {\n",
              "      background-color: #E2EBFA;\n",
              "      box-shadow: 0px 1px 2px rgba(60, 64, 67, 0.3), 0px 1px 3px 1px rgba(60, 64, 67, 0.15);\n",
              "      fill: #174EA6;\n",
              "    }\n",
              "\n",
              "    [theme=dark] .colab-df-convert {\n",
              "      background-color: #3B4455;\n",
              "      fill: #D2E3FC;\n",
              "    }\n",
              "\n",
              "    [theme=dark] .colab-df-convert:hover {\n",
              "      background-color: #434B5C;\n",
              "      box-shadow: 0px 1px 3px 1px rgba(0, 0, 0, 0.15);\n",
              "      filter: drop-shadow(0px 1px 2px rgba(0, 0, 0, 0.3));\n",
              "      fill: #FFFFFF;\n",
              "    }\n",
              "  </style>\n",
              "\n",
              "      <script>\n",
              "        const buttonEl =\n",
              "          document.querySelector('#df-a40367b0-e411-4cd1-bf0c-6bf5e0bc55c0 button.colab-df-convert');\n",
              "        buttonEl.style.display =\n",
              "          google.colab.kernel.accessAllowed ? 'block' : 'none';\n",
              "\n",
              "        async function convertToInteractive(key) {\n",
              "          const element = document.querySelector('#df-a40367b0-e411-4cd1-bf0c-6bf5e0bc55c0');\n",
              "          const dataTable =\n",
              "            await google.colab.kernel.invokeFunction('convertToInteractive',\n",
              "                                                     [key], {});\n",
              "          if (!dataTable) return;\n",
              "\n",
              "          const docLinkHtml = 'Like what you see? Visit the ' +\n",
              "            '<a target=\"_blank\" href=https://colab.research.google.com/notebooks/data_table.ipynb>data table notebook</a>'\n",
              "            + ' to learn more about interactive tables.';\n",
              "          element.innerHTML = '';\n",
              "          dataTable['output_type'] = 'display_data';\n",
              "          await google.colab.output.renderOutput(dataTable, element);\n",
              "          const docLink = document.createElement('div');\n",
              "          docLink.innerHTML = docLinkHtml;\n",
              "          element.appendChild(docLink);\n",
              "        }\n",
              "      </script>\n",
              "    </div>\n",
              "  </div>\n",
              "  "
            ]
          },
          "metadata": {},
          "execution_count": 20
        }
      ]
    },
    {
      "cell_type": "code",
      "source": [],
      "metadata": {
        "id": "ANhZkgvXWcqU"
      },
      "id": "ANhZkgvXWcqU",
      "execution_count": null,
      "outputs": []
    }
  ],
  "metadata": {
    "kernelspec": {
      "display_name": "Python 3 (ipykernel)",
      "language": "python",
      "name": "python3"
    },
    "language_info": {
      "codemirror_mode": {
        "name": "ipython",
        "version": 3
      },
      "file_extension": ".py",
      "mimetype": "text/x-python",
      "name": "python",
      "nbconvert_exporter": "python",
      "pygments_lexer": "ipython3",
      "version": "3.9.16"
    },
    "colab": {
      "provenance": [],
      "include_colab_link": true
    }
  },
  "nbformat": 4,
  "nbformat_minor": 5
}