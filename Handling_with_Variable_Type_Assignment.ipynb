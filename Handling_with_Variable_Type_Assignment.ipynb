{
  "cells": [
    {
      "cell_type": "markdown",
      "metadata": {
        "id": "view-in-github",
        "colab_type": "text"
      },
      "source": [
        "<a href=\"https://colab.research.google.com/github/ArifAygun/Magnimind-Jan2023-Assignments/blob/main/Handling_with_Variable_Type_Assignment.ipynb\" target=\"_parent\"><img src=\"https://colab.research.google.com/assets/colab-badge.svg\" alt=\"Open In Colab\"/></a>"
      ]
    },
    {
      "cell_type": "markdown",
      "id": "35d9de2b",
      "metadata": {
        "id": "35d9de2b"
      },
      "source": [
        "# Handling with Variable Type Assignment - Arif Aygun"
      ]
    },
    {
      "cell_type": "markdown",
      "id": "f6557991",
      "metadata": {
        "id": "f6557991"
      },
      "source": [
        "### 1. Determine the types of the below-given variables:"
      ]
    },
    {
      "cell_type": "markdown",
      "id": "4eee11af",
      "metadata": {
        "id": "4eee11af"
      },
      "source": [
        "- Age -----------> numeric variable (continous, ratio)\n",
        "- Salary --------> numeric variable (continous, ratio)\n",
        "- Income --------> numeric variable (continous, ratio)\n",
        "- Customer type -> categorical variable, (nominal)\n",
        "- Stock price----> numeric variable (continous, ratio)"
      ]
    },
    {
      "cell_type": "markdown",
      "id": "f2ba7b3e",
      "metadata": {
        "id": "f2ba7b3e"
      },
      "source": [
        "### 2. Using the movie data, we have studied in this lesson. Complete the following tasks:"
      ]
    },
    {
      "cell_type": "markdown",
      "id": "b7ba1b9b",
      "metadata": {
        "id": "b7ba1b9b"
      },
      "source": [
        "- Select a continuous and a categorical variable from the movie dataset and discuss the variable type of this variable. Discuss further in detail the type of selected continuous and categorical variables.\n",
        "\n",
        "\n",
        "- Categorize a variable of your choice and assign a name to it\n",
        "\n",
        "\n",
        "- Count the number of rows for each category"
      ]
    },
    {
      "cell_type": "code",
      "execution_count": null,
      "id": "9237cef6",
      "metadata": {
        "id": "9237cef6"
      },
      "outputs": [],
      "source": [
        "import pandas as pd\n",
        "import numpy as np\n",
        "\n",
        "import matplotlib.pyplot as plt\n",
        "\n",
        "%matplotlib inline \n",
        "\n",
        "import seaborn as sns\n",
        "\n",
        "from scipy import stats"
      ]
    },
    {
      "cell_type": "code",
      "execution_count": null,
      "id": "cd2f708a",
      "metadata": {
        "id": "cd2f708a",
        "outputId": "d7e7182e-dab0-479d-8773-f2ccb04d01b9"
      },
      "outputs": [
        {
          "data": {
            "text/html": [
              "<div>\n",
              "<style scoped>\n",
              "    .dataframe tbody tr th:only-of-type {\n",
              "        vertical-align: middle;\n",
              "    }\n",
              "\n",
              "    .dataframe tbody tr th {\n",
              "        vertical-align: top;\n",
              "    }\n",
              "\n",
              "    .dataframe thead th {\n",
              "        text-align: right;\n",
              "    }\n",
              "</style>\n",
              "<table border=\"1\" class=\"dataframe\">\n",
              "  <thead>\n",
              "    <tr style=\"text-align: right;\">\n",
              "      <th></th>\n",
              "      <th>Rank</th>\n",
              "      <th>Title</th>\n",
              "      <th>Genre</th>\n",
              "      <th>Description</th>\n",
              "      <th>Director</th>\n",
              "      <th>Actors</th>\n",
              "      <th>Year</th>\n",
              "      <th>Runtime (Minutes)</th>\n",
              "      <th>Rating</th>\n",
              "      <th>Votes</th>\n",
              "      <th>Revenue (Millions)</th>\n",
              "      <th>Metascore</th>\n",
              "    </tr>\n",
              "  </thead>\n",
              "  <tbody>\n",
              "    <tr>\n",
              "      <th>0</th>\n",
              "      <td>1</td>\n",
              "      <td>Guardians of the Galaxy</td>\n",
              "      <td>Action,Adventure,Sci-Fi</td>\n",
              "      <td>A group of intergalactic criminals are forced ...</td>\n",
              "      <td>James Gunn</td>\n",
              "      <td>Chris Pratt, Vin Diesel, Bradley Cooper, Zoe S...</td>\n",
              "      <td>2014</td>\n",
              "      <td>121</td>\n",
              "      <td>8.1</td>\n",
              "      <td>757074</td>\n",
              "      <td>333.13</td>\n",
              "      <td>76.0</td>\n",
              "    </tr>\n",
              "    <tr>\n",
              "      <th>1</th>\n",
              "      <td>2</td>\n",
              "      <td>Prometheus</td>\n",
              "      <td>Adventure,Mystery,Sci-Fi</td>\n",
              "      <td>Following clues to the origin of mankind, a te...</td>\n",
              "      <td>Ridley Scott</td>\n",
              "      <td>Noomi Rapace, Logan Marshall-Green, Michael Fa...</td>\n",
              "      <td>2012</td>\n",
              "      <td>124</td>\n",
              "      <td>7.0</td>\n",
              "      <td>485820</td>\n",
              "      <td>126.46</td>\n",
              "      <td>65.0</td>\n",
              "    </tr>\n",
              "    <tr>\n",
              "      <th>2</th>\n",
              "      <td>3</td>\n",
              "      <td>Split</td>\n",
              "      <td>Horror,Thriller</td>\n",
              "      <td>Three girls are kidnapped by a man with a diag...</td>\n",
              "      <td>M. Night Shyamalan</td>\n",
              "      <td>James McAvoy, Anya Taylor-Joy, Haley Lu Richar...</td>\n",
              "      <td>2016</td>\n",
              "      <td>117</td>\n",
              "      <td>7.3</td>\n",
              "      <td>157606</td>\n",
              "      <td>138.12</td>\n",
              "      <td>62.0</td>\n",
              "    </tr>\n",
              "    <tr>\n",
              "      <th>3</th>\n",
              "      <td>4</td>\n",
              "      <td>Sing</td>\n",
              "      <td>Animation,Comedy,Family</td>\n",
              "      <td>In a city of humanoid animals, a hustling thea...</td>\n",
              "      <td>Christophe Lourdelet</td>\n",
              "      <td>Matthew McConaughey,Reese Witherspoon, Seth Ma...</td>\n",
              "      <td>2016</td>\n",
              "      <td>108</td>\n",
              "      <td>7.2</td>\n",
              "      <td>60545</td>\n",
              "      <td>270.32</td>\n",
              "      <td>59.0</td>\n",
              "    </tr>\n",
              "    <tr>\n",
              "      <th>4</th>\n",
              "      <td>5</td>\n",
              "      <td>Suicide Squad</td>\n",
              "      <td>Action,Adventure,Fantasy</td>\n",
              "      <td>A secret government agency recruits some of th...</td>\n",
              "      <td>David Ayer</td>\n",
              "      <td>Will Smith, Jared Leto, Margot Robbie, Viola D...</td>\n",
              "      <td>2016</td>\n",
              "      <td>123</td>\n",
              "      <td>6.2</td>\n",
              "      <td>393727</td>\n",
              "      <td>325.02</td>\n",
              "      <td>40.0</td>\n",
              "    </tr>\n",
              "  </tbody>\n",
              "</table>\n",
              "</div>"
            ],
            "text/plain": [
              "   Rank                    Title                     Genre  \\\n",
              "0     1  Guardians of the Galaxy   Action,Adventure,Sci-Fi   \n",
              "1     2               Prometheus  Adventure,Mystery,Sci-Fi   \n",
              "2     3                    Split           Horror,Thriller   \n",
              "3     4                     Sing   Animation,Comedy,Family   \n",
              "4     5            Suicide Squad  Action,Adventure,Fantasy   \n",
              "\n",
              "                                         Description              Director  \\\n",
              "0  A group of intergalactic criminals are forced ...            James Gunn   \n",
              "1  Following clues to the origin of mankind, a te...          Ridley Scott   \n",
              "2  Three girls are kidnapped by a man with a diag...    M. Night Shyamalan   \n",
              "3  In a city of humanoid animals, a hustling thea...  Christophe Lourdelet   \n",
              "4  A secret government agency recruits some of th...            David Ayer   \n",
              "\n",
              "                                              Actors  Year  Runtime (Minutes)  \\\n",
              "0  Chris Pratt, Vin Diesel, Bradley Cooper, Zoe S...  2014                121   \n",
              "1  Noomi Rapace, Logan Marshall-Green, Michael Fa...  2012                124   \n",
              "2  James McAvoy, Anya Taylor-Joy, Haley Lu Richar...  2016                117   \n",
              "3  Matthew McConaughey,Reese Witherspoon, Seth Ma...  2016                108   \n",
              "4  Will Smith, Jared Leto, Margot Robbie, Viola D...  2016                123   \n",
              "\n",
              "   Rating   Votes  Revenue (Millions)  Metascore  \n",
              "0     8.1  757074              333.13       76.0  \n",
              "1     7.0  485820              126.46       65.0  \n",
              "2     7.3  157606              138.12       62.0  \n",
              "3     7.2   60545              270.32       59.0  \n",
              "4     6.2  393727              325.02       40.0  "
            ]
          },
          "execution_count": 12,
          "metadata": {},
          "output_type": "execute_result"
        }
      ],
      "source": [
        "movies = pd.read_csv(r\"C:\\Users\\AAygun\\Documents\\GitHub\\Data Sets\\Magnimind\\movies.csv\")\n",
        "movies.head()"
      ]
    },
    {
      "cell_type": "markdown",
      "id": "3e160a2a",
      "metadata": {
        "id": "3e160a2a"
      },
      "source": [
        "#### Select a continuous and a categorical variable from the movie dataset and discuss the variable type of this variable. Discuss further in detail the type of selected continuous and categorical variables."
      ]
    },
    {
      "cell_type": "markdown",
      "id": "4f29ea34",
      "metadata": {
        "id": "4f29ea34"
      },
      "source": [
        "- Continuous variable: \"Runtime (Minutes)\"\n",
        "\n",
        "- Categorical variable: \"Director\"\n",
        "\n",
        "##### Continuous variable: \"Runtime (Minutes)\"\n",
        "\n",
        "The \"Runtime\" variable in the \"movies\" dataset represents the length of the movie in minutes. This variable is a continuous variable because it can take on any numerical value within a specific range and is often measured on an interval or ratio scale. The Runtime variable is an interval scale variable, meaning that the difference between any two values is meaningful, but there is no true zero point. For example, a movie with a runtime of zero minutes would be nonsensical. The runtime of a movie is an important characteristic that affects the audience's experience and the movie's success, as longer movies may have different audience expectations and require different pacing and storytelling techniques than shorter ones.\n",
        "\n",
        "###### Categorical variable: \"Genre\"\n",
        "\n",
        "The \"Genre\" variable in the \"movies\" dataset represents the category or type of the movie, such as \"Action\", \"Comedy\", or \"Drama\". This variable is a categorical variable because it falls into specific categories or groups, and the categories do not have an inherent order or numerical value associated with them. The Genre variable is a nominal scale variable, meaning that there is no inherent order or ranking between the categories, and each category is equally important. The genre of a movie can be a significant predictor of the audience's preferences and the movie's overall success.\n",
        "\n",
        "In summary, the \"Runtime\" variable is an example of a continuous variable, while the \"Genre\" variable is an example of a nominal categorical variable. Understanding the type of variables is important because it affects the type of statistical analysis that can be performed on the data. Continuous variables can be analyzed using techniques such as correlation and regression analysis, while categorical variables can be analyzed using techniques such as contingency tables and chi-square tests. Additionally, the nominal scale of the \"Genre\" variable means that each category is equally important, and there is no inherent order or ranking between them."
      ]
    },
    {
      "cell_type": "markdown",
      "id": "cf1f4a36",
      "metadata": {
        "id": "cf1f4a36"
      },
      "source": [
        "#### Categorize a variable of your choice and assign a name to it"
      ]
    },
    {
      "cell_type": "markdown",
      "id": "14433681",
      "metadata": {
        "id": "14433681"
      },
      "source": [
        "I will categorize the variable \"Genre\" from the movies dataset and assign it the name \"Movie Category\".\n",
        "\n",
        "The \"Movie Category\" variable is a categorical variable that classifies movies into specific genres, such as action, drama, comedy, horror, romance, or science fiction. This variable is not measured on a numerical scale and is not continuous. The Movie Category variable is a nominal scale variable, meaning that there is no inherent order or ranking between the categories.\n",
        "\n",
        "The Movie Category variable is important in the movie industry because it helps filmmakers, producers, and distributors to identify target audiences, and it also provides a way for moviegoers to search for movies that match their interests. Moreover, the Movie Category variable can be used to analyze the success of different genres and to identify trends in movie preferences.\n",
        "\n",
        "As a result, the \"Movie Category\" variable is a categorical variable that is important in the movie industry and can help in identifying target audiences, searching for movies, and analyzing trends in movie preferences."
      ]
    },
    {
      "cell_type": "markdown",
      "id": "29f78cbc",
      "metadata": {
        "id": "29f78cbc"
      },
      "source": [
        "#### c- Count the number of rows for each category"
      ]
    },
    {
      "cell_type": "code",
      "execution_count": null,
      "id": "4260479e",
      "metadata": {
        "id": "4260479e",
        "outputId": "d3c5cb13-5c2f-4460-b7d3-5f35da7a31be"
      },
      "outputs": [
        {
          "name": "stdout",
          "output_type": "stream",
          "text": [
            "Number of Rows:  1000\n"
          ]
        }
      ],
      "source": [
        "df = pd.DataFrame(movies)\n",
        "\n",
        "rows = len(df.axes[0])\n",
        "\n",
        "print(\"Number of Rows: \", rows)"
      ]
    },
    {
      "cell_type": "markdown",
      "id": "509c3ae9",
      "metadata": {
        "id": "509c3ae9"
      },
      "source": [
        "### 3. Is it possible to convert categorical variable into numerical one? If so, how can you make that?"
      ]
    },
    {
      "cell_type": "markdown",
      "id": "0baadc52",
      "metadata": {
        "id": "0baadc52"
      },
      "source": [
        "Yes, it' possible\n"
      ]
    },
    {
      "cell_type": "code",
      "execution_count": null,
      "id": "db926148",
      "metadata": {
        "scrolled": true,
        "id": "db926148",
        "outputId": "cb85542c-745d-439c-deb8-04f1fbdf84da"
      },
      "outputs": [
        {
          "name": "stdout",
          "output_type": "stream",
          "text": [
            "   code priority gender  age\n",
            "0     1     high      M   12\n",
            "1     2      low      M   23\n",
            "2     3      low      M   21\n",
            "3     4     high      F   34\n",
            "4     5   medium      M   21\n",
            "5     6     high      M   23\n",
            "6     7   medium      F   21\n",
            "7     8      low      F   34\n",
            "8     9     high      M   56\n",
            "9     0   medium      F   32\n",
            "-----------------------------\n",
            "code         int64\n",
            "priority    object\n",
            "gender      object\n",
            "age          int64\n",
            "dtype: object\n"
          ]
        }
      ],
      "source": [
        "from pandas import DataFrame\n",
        "\n",
        "# Create a DataFrame with 10 rows that hold 4 columns\n",
        "sets = DataFrame({'code': [1,2,3,4,5,6,7,8,9,0], \n",
        "\n",
        "'priority':['high','low','low','high','medium','high','medium','low','high','medium'],\n",
        "\n",
        "'gender':['M','M','M','F','M','M','F','F','M','F'],\n",
        "\n",
        "'age':[12,23,21,34,21,23,21,34,56,32]})\n",
        "\n",
        "print(sets) # Actual DataFrame\n",
        "print(\"-----------------------------\")\n",
        "print(sets.dtypes) # Display data types of each column"
      ]
    },
    {
      "cell_type": "markdown",
      "id": "85cd1f28",
      "metadata": {
        "id": "85cd1f28"
      },
      "source": [
        "##### Replacing values in the gender column using replace() method."
      ]
    },
    {
      "cell_type": "code",
      "execution_count": null,
      "id": "8e4b81f9",
      "metadata": {
        "scrolled": true,
        "id": "8e4b81f9",
        "outputId": "3df76640-c848-48f9-b989-da62db7fa217"
      },
      "outputs": [
        {
          "name": "stdout",
          "output_type": "stream",
          "text": [
            "   code priority  gender  age\n",
            "0     1     high       1   12\n",
            "1     2      low       1   23\n",
            "2     3      low       1   21\n",
            "3     4     high       2   34\n",
            "4     5   medium       1   21\n",
            "5     6     high       1   23\n",
            "6     7   medium       2   21\n",
            "7     8      low       2   34\n",
            "8     9     high       1   56\n",
            "9     0   medium       2   32\n"
          ]
        }
      ],
      "source": [
        "from pandas import DataFrame\n",
        "\n",
        "# Create a DataFrame with 10 rows that hold 4 columns\n",
        "sets = DataFrame({'code': [1,2,3,4,5,6,7,8,9,0],\n",
        "\n",
        "'priority':['high','low','low','high','medium','high','medium','low','high','medium'],\n",
        "\n",
        "'gender':['M','M','M','F','M','M','F','F','M','F'],\n",
        "\n",
        "'age':[12,23,21,34,21,23,21,34,56,32]})\n",
        "\n",
        "# Convert categorical values to Numeric values in the gender column\n",
        "sets['gender']=sets['gender'].replace(['M', 'F'],[1, 2])\n",
        "\n",
        "print(sets)"
      ]
    },
    {
      "cell_type": "markdown",
      "id": "812a927b",
      "metadata": {
        "id": "812a927b"
      },
      "source": [
        "We are replacing ‘M’ with 1 and ‘F’ with 2 and storing the column values again in the gender column.\n",
        "\n",
        "We can see that the gender column holds values within 1 or 2."
      ]
    },
    {
      "cell_type": "markdown",
      "id": "6a98346e",
      "metadata": {
        "id": "6a98346e"
      },
      "source": [
        "### 4. While continuous data is generally preferred over discrete data, please indicate circumstances where discrete is the preferred data type although continuous data is available for the same characteristic."
      ]
    },
    {
      "cell_type": "markdown",
      "id": "4bd87fdf",
      "metadata": {
        "id": "4bd87fdf"
      },
      "source": [
        "- the number of students in a high school\n",
        "- the number of employees in a department\n",
        "- the number of customers that came in last month\n",
        "- the number of products on your shelves\n",
        "- the number of groceries customers are purchasing each day\n",
        "- the number of materials that were damaged during shipping\n",
        "- the number of computers each department has\n",
        "- the number of managers at the company\n",
        "- the number of languages each employee speaks"
      ]
    },
    {
      "cell_type": "markdown",
      "id": "cfe773fd",
      "metadata": {
        "id": "cfe773fd"
      },
      "source": [
        "### 5. While continuous data is measured and attribute data is counted, there is sometimes confusion if some specific dataset should be considered continuous or attribute. Provide some examples of confusing datasets and your inference."
      ]
    },
    {
      "cell_type": "markdown",
      "id": "285d7b15",
      "metadata": {
        "id": "285d7b15"
      },
      "source": [
        "- While measuring time we think that it is hour, month, year, so it will be attribute data but in actually it is continuous data because it can be break into minutes, seconds like that. But we can convert it into attribute data.\n",
        "\n",
        "\n",
        "- Another confusing dataset when we are talking about money, when we withdraw money from atm it comes like 1000, 2000, 250, 2475 but if we see our bank balance in our records online then we see the figures like 200.35, so it is continuous data because it has several infinite values so it is continuous data.\n",
        "\n",
        "\n",
        "- Another confusing dataset is percentage data or we can say that derived data, how we will consider it continuous or attribute. It depends on source data what it is actually according to that % data is decided. For example number of students taking this class divided by total number of graduate students is attribute data because a student can not be 3.5, 4.5\n",
        "\n",
        "\n",
        "- Another confusion about measuring in this example, imagine a young child is sick, as apparent first thing we do is to touch his forehead to feel if it is warm or not then it is attribute data but if we measure it by thermometer then it is continuous data."
      ]
    },
    {
      "cell_type": "markdown",
      "source": [
        "#OFFICE HOUR SOLUTION"
      ],
      "metadata": {
        "id": "DmaAGxh0KgUo"
      },
      "id": "DmaAGxh0KgUo"
    },
    {
      "cell_type": "markdown",
      "source": [
        "##Solution 2"
      ],
      "metadata": {
        "id": "uA1E1pwfKqhP"
      },
      "id": "uA1E1pwfKqhP"
    },
    {
      "cell_type": "code",
      "source": [
        "from google.colab import drive\n",
        "drive.mount('/content/drive')"
      ],
      "metadata": {
        "colab": {
          "base_uri": "https://localhost:8080/"
        },
        "id": "7PfFFjqcKk62",
        "outputId": "023903a2-7c96-494f-b372-c9ac818dd3fc"
      },
      "id": "7PfFFjqcKk62",
      "execution_count": 25,
      "outputs": [
        {
          "output_type": "stream",
          "name": "stdout",
          "text": [
            "Drive already mounted at /content/drive; to attempt to forcibly remount, call drive.mount(\"/content/drive\", force_remount=True).\n"
          ]
        }
      ]
    },
    {
      "cell_type": "code",
      "source": [
        "from pandas.io.formats import style\n",
        "import pandas as pd\n",
        "import numpy as np\n",
        "import matplotlib.pyplot as plt\n",
        "import seaborn as sns\n",
        "import scipy.stats as stats\n",
        "import warnings\n",
        "\n",
        "from scipy.stats.mstats import winsorize\n",
        "from sqlalchemy import create_engine\n",
        "\n",
        "warnings.filterwarnings('ignore')\n",
        "sns.set(style='whitegrid')\n",
        "pd.options.display.float_format = '{:2f}'.format\n",
        "plt.rcParams['figure.dpi'] = 100"
      ],
      "metadata": {
        "id": "li-2KASvNNRm"
      },
      "id": "li-2KASvNNRm",
      "execution_count": 26,
      "outputs": []
    },
    {
      "cell_type": "code",
      "source": [
        "def file_locator(file_name):\n",
        "\n",
        "  import os\n",
        "  main_dir = os.getcwd()\n",
        "\n",
        "  for dir, folder, files in os.walk(main_dir):\n",
        "    for file in files:\n",
        "      if file == file_name:\n",
        "        file_path = os.path.join(dir,file)\n",
        "  return file_path"
      ],
      "metadata": {
        "id": "0pTm_QqgKpKX"
      },
      "id": "0pTm_QqgKpKX",
      "execution_count": 27,
      "outputs": []
    },
    {
      "cell_type": "code",
      "source": [
        "file_path = file_locator('movies.csv')\n",
        "\n",
        "df = pd.read_csv(file_path)\n",
        "df.head(n=2)"
      ],
      "metadata": {
        "colab": {
          "base_uri": "https://localhost:8080/",
          "height": 384
        },
        "id": "vV5kFcl5NA7V",
        "outputId": "7b2beb3f-457c-423a-fc8f-9110f1bcfe8c"
      },
      "id": "vV5kFcl5NA7V",
      "execution_count": 28,
      "outputs": [
        {
          "output_type": "execute_result",
          "data": {
            "text/plain": [
              "   Rank                    Title                     Genre  \\\n",
              "0     1  Guardians of the Galaxy   Action,Adventure,Sci-Fi   \n",
              "1     2               Prometheus  Adventure,Mystery,Sci-Fi   \n",
              "\n",
              "                                         Description      Director  \\\n",
              "0  A group of intergalactic criminals are forced ...    James Gunn   \n",
              "1  Following clues to the origin of mankind, a te...  Ridley Scott   \n",
              "\n",
              "                                              Actors  Year  Runtime (Minutes)  \\\n",
              "0  Chris Pratt, Vin Diesel, Bradley Cooper, Zoe S...  2014                121   \n",
              "1  Noomi Rapace, Logan Marshall-Green, Michael Fa...  2012                124   \n",
              "\n",
              "    Rating   Votes  Revenue (Millions)  Metascore  \n",
              "0 8.100000  757074          333.130000  76.000000  \n",
              "1 7.000000  485820          126.460000  65.000000  "
            ],
            "text/html": [
              "\n",
              "  <div id=\"df-43215f49-e695-4660-b3b9-a99f9fdba806\">\n",
              "    <div class=\"colab-df-container\">\n",
              "      <div>\n",
              "<style scoped>\n",
              "    .dataframe tbody tr th:only-of-type {\n",
              "        vertical-align: middle;\n",
              "    }\n",
              "\n",
              "    .dataframe tbody tr th {\n",
              "        vertical-align: top;\n",
              "    }\n",
              "\n",
              "    .dataframe thead th {\n",
              "        text-align: right;\n",
              "    }\n",
              "</style>\n",
              "<table border=\"1\" class=\"dataframe\">\n",
              "  <thead>\n",
              "    <tr style=\"text-align: right;\">\n",
              "      <th></th>\n",
              "      <th>Rank</th>\n",
              "      <th>Title</th>\n",
              "      <th>Genre</th>\n",
              "      <th>Description</th>\n",
              "      <th>Director</th>\n",
              "      <th>Actors</th>\n",
              "      <th>Year</th>\n",
              "      <th>Runtime (Minutes)</th>\n",
              "      <th>Rating</th>\n",
              "      <th>Votes</th>\n",
              "      <th>Revenue (Millions)</th>\n",
              "      <th>Metascore</th>\n",
              "    </tr>\n",
              "  </thead>\n",
              "  <tbody>\n",
              "    <tr>\n",
              "      <th>0</th>\n",
              "      <td>1</td>\n",
              "      <td>Guardians of the Galaxy</td>\n",
              "      <td>Action,Adventure,Sci-Fi</td>\n",
              "      <td>A group of intergalactic criminals are forced ...</td>\n",
              "      <td>James Gunn</td>\n",
              "      <td>Chris Pratt, Vin Diesel, Bradley Cooper, Zoe S...</td>\n",
              "      <td>2014</td>\n",
              "      <td>121</td>\n",
              "      <td>8.100000</td>\n",
              "      <td>757074</td>\n",
              "      <td>333.130000</td>\n",
              "      <td>76.000000</td>\n",
              "    </tr>\n",
              "    <tr>\n",
              "      <th>1</th>\n",
              "      <td>2</td>\n",
              "      <td>Prometheus</td>\n",
              "      <td>Adventure,Mystery,Sci-Fi</td>\n",
              "      <td>Following clues to the origin of mankind, a te...</td>\n",
              "      <td>Ridley Scott</td>\n",
              "      <td>Noomi Rapace, Logan Marshall-Green, Michael Fa...</td>\n",
              "      <td>2012</td>\n",
              "      <td>124</td>\n",
              "      <td>7.000000</td>\n",
              "      <td>485820</td>\n",
              "      <td>126.460000</td>\n",
              "      <td>65.000000</td>\n",
              "    </tr>\n",
              "  </tbody>\n",
              "</table>\n",
              "</div>\n",
              "      <button class=\"colab-df-convert\" onclick=\"convertToInteractive('df-43215f49-e695-4660-b3b9-a99f9fdba806')\"\n",
              "              title=\"Convert this dataframe to an interactive table.\"\n",
              "              style=\"display:none;\">\n",
              "        \n",
              "  <svg xmlns=\"http://www.w3.org/2000/svg\" height=\"24px\"viewBox=\"0 0 24 24\"\n",
              "       width=\"24px\">\n",
              "    <path d=\"M0 0h24v24H0V0z\" fill=\"none\"/>\n",
              "    <path d=\"M18.56 5.44l.94 2.06.94-2.06 2.06-.94-2.06-.94-.94-2.06-.94 2.06-2.06.94zm-11 1L8.5 8.5l.94-2.06 2.06-.94-2.06-.94L8.5 2.5l-.94 2.06-2.06.94zm10 10l.94 2.06.94-2.06 2.06-.94-2.06-.94-.94-2.06-.94 2.06-2.06.94z\"/><path d=\"M17.41 7.96l-1.37-1.37c-.4-.4-.92-.59-1.43-.59-.52 0-1.04.2-1.43.59L10.3 9.45l-7.72 7.72c-.78.78-.78 2.05 0 2.83L4 21.41c.39.39.9.59 1.41.59.51 0 1.02-.2 1.41-.59l7.78-7.78 2.81-2.81c.8-.78.8-2.07 0-2.86zM5.41 20L4 18.59l7.72-7.72 1.47 1.35L5.41 20z\"/>\n",
              "  </svg>\n",
              "      </button>\n",
              "      \n",
              "  <style>\n",
              "    .colab-df-container {\n",
              "      display:flex;\n",
              "      flex-wrap:wrap;\n",
              "      gap: 12px;\n",
              "    }\n",
              "\n",
              "    .colab-df-convert {\n",
              "      background-color: #E8F0FE;\n",
              "      border: none;\n",
              "      border-radius: 50%;\n",
              "      cursor: pointer;\n",
              "      display: none;\n",
              "      fill: #1967D2;\n",
              "      height: 32px;\n",
              "      padding: 0 0 0 0;\n",
              "      width: 32px;\n",
              "    }\n",
              "\n",
              "    .colab-df-convert:hover {\n",
              "      background-color: #E2EBFA;\n",
              "      box-shadow: 0px 1px 2px rgba(60, 64, 67, 0.3), 0px 1px 3px 1px rgba(60, 64, 67, 0.15);\n",
              "      fill: #174EA6;\n",
              "    }\n",
              "\n",
              "    [theme=dark] .colab-df-convert {\n",
              "      background-color: #3B4455;\n",
              "      fill: #D2E3FC;\n",
              "    }\n",
              "\n",
              "    [theme=dark] .colab-df-convert:hover {\n",
              "      background-color: #434B5C;\n",
              "      box-shadow: 0px 1px 3px 1px rgba(0, 0, 0, 0.15);\n",
              "      filter: drop-shadow(0px 1px 2px rgba(0, 0, 0, 0.3));\n",
              "      fill: #FFFFFF;\n",
              "    }\n",
              "  </style>\n",
              "\n",
              "      <script>\n",
              "        const buttonEl =\n",
              "          document.querySelector('#df-43215f49-e695-4660-b3b9-a99f9fdba806 button.colab-df-convert');\n",
              "        buttonEl.style.display =\n",
              "          google.colab.kernel.accessAllowed ? 'block' : 'none';\n",
              "\n",
              "        async function convertToInteractive(key) {\n",
              "          const element = document.querySelector('#df-43215f49-e695-4660-b3b9-a99f9fdba806');\n",
              "          const dataTable =\n",
              "            await google.colab.kernel.invokeFunction('convertToInteractive',\n",
              "                                                     [key], {});\n",
              "          if (!dataTable) return;\n",
              "\n",
              "          const docLinkHtml = 'Like what you see? Visit the ' +\n",
              "            '<a target=\"_blank\" href=https://colab.research.google.com/notebooks/data_table.ipynb>data table notebook</a>'\n",
              "            + ' to learn more about interactive tables.';\n",
              "          element.innerHTML = '';\n",
              "          dataTable['output_type'] = 'display_data';\n",
              "          await google.colab.output.renderOutput(dataTable, element);\n",
              "          const docLink = document.createElement('div');\n",
              "          docLink.innerHTML = docLinkHtml;\n",
              "          element.appendChild(docLink);\n",
              "        }\n",
              "      </script>\n",
              "    </div>\n",
              "  </div>\n",
              "  "
            ]
          },
          "metadata": {},
          "execution_count": 28
        }
      ]
    },
    {
      "cell_type": "code",
      "source": [
        "df.info(verbose=False)"
      ],
      "metadata": {
        "colab": {
          "base_uri": "https://localhost:8080/"
        },
        "id": "m-VoGluGQLKP",
        "outputId": "ff300b71-e783-4085-92b6-201bbcf381b7"
      },
      "id": "m-VoGluGQLKP",
      "execution_count": 29,
      "outputs": [
        {
          "output_type": "stream",
          "name": "stdout",
          "text": [
            "<class 'pandas.core.frame.DataFrame'>\n",
            "RangeIndex: 1000 entries, 0 to 999\n",
            "Columns: 12 entries, Rank to Metascore\n",
            "dtypes: float64(3), int64(4), object(5)\n",
            "memory usage: 93.9+ KB\n"
          ]
        }
      ]
    },
    {
      "cell_type": "code",
      "source": [
        "#df.describe(include ='0')\n",
        "df.describe(include='object')"
      ],
      "metadata": {
        "colab": {
          "base_uri": "https://localhost:8080/",
          "height": 219
        },
        "id": "0yhBkj3qQ62u",
        "outputId": "b333dcaa-5c64-4265-8858-2806990042ae"
      },
      "id": "0yhBkj3qQ62u",
      "execution_count": 30,
      "outputs": [
        {
          "output_type": "execute_result",
          "data": {
            "text/plain": [
              "           Title                    Genre  \\\n",
              "count       1000                     1000   \n",
              "unique       999                      207   \n",
              "top     The Host  Action,Adventure,Sci-Fi   \n",
              "freq           2                       50   \n",
              "\n",
              "                                              Description      Director  \\\n",
              "count                                                1000          1000   \n",
              "unique                                               1000           644   \n",
              "top     A group of intergalactic criminals are forced ...  Ridley Scott   \n",
              "freq                                                    1             8   \n",
              "\n",
              "                                                   Actors  \n",
              "count                                                1000  \n",
              "unique                                                996  \n",
              "top     Jennifer Lawrence, Josh Hutcherson, Liam Hemsw...  \n",
              "freq                                                    2  "
            ],
            "text/html": [
              "\n",
              "  <div id=\"df-9697e33c-5f0c-4f55-91e6-6ddc17aabe17\">\n",
              "    <div class=\"colab-df-container\">\n",
              "      <div>\n",
              "<style scoped>\n",
              "    .dataframe tbody tr th:only-of-type {\n",
              "        vertical-align: middle;\n",
              "    }\n",
              "\n",
              "    .dataframe tbody tr th {\n",
              "        vertical-align: top;\n",
              "    }\n",
              "\n",
              "    .dataframe thead th {\n",
              "        text-align: right;\n",
              "    }\n",
              "</style>\n",
              "<table border=\"1\" class=\"dataframe\">\n",
              "  <thead>\n",
              "    <tr style=\"text-align: right;\">\n",
              "      <th></th>\n",
              "      <th>Title</th>\n",
              "      <th>Genre</th>\n",
              "      <th>Description</th>\n",
              "      <th>Director</th>\n",
              "      <th>Actors</th>\n",
              "    </tr>\n",
              "  </thead>\n",
              "  <tbody>\n",
              "    <tr>\n",
              "      <th>count</th>\n",
              "      <td>1000</td>\n",
              "      <td>1000</td>\n",
              "      <td>1000</td>\n",
              "      <td>1000</td>\n",
              "      <td>1000</td>\n",
              "    </tr>\n",
              "    <tr>\n",
              "      <th>unique</th>\n",
              "      <td>999</td>\n",
              "      <td>207</td>\n",
              "      <td>1000</td>\n",
              "      <td>644</td>\n",
              "      <td>996</td>\n",
              "    </tr>\n",
              "    <tr>\n",
              "      <th>top</th>\n",
              "      <td>The Host</td>\n",
              "      <td>Action,Adventure,Sci-Fi</td>\n",
              "      <td>A group of intergalactic criminals are forced ...</td>\n",
              "      <td>Ridley Scott</td>\n",
              "      <td>Jennifer Lawrence, Josh Hutcherson, Liam Hemsw...</td>\n",
              "    </tr>\n",
              "    <tr>\n",
              "      <th>freq</th>\n",
              "      <td>2</td>\n",
              "      <td>50</td>\n",
              "      <td>1</td>\n",
              "      <td>8</td>\n",
              "      <td>2</td>\n",
              "    </tr>\n",
              "  </tbody>\n",
              "</table>\n",
              "</div>\n",
              "      <button class=\"colab-df-convert\" onclick=\"convertToInteractive('df-9697e33c-5f0c-4f55-91e6-6ddc17aabe17')\"\n",
              "              title=\"Convert this dataframe to an interactive table.\"\n",
              "              style=\"display:none;\">\n",
              "        \n",
              "  <svg xmlns=\"http://www.w3.org/2000/svg\" height=\"24px\"viewBox=\"0 0 24 24\"\n",
              "       width=\"24px\">\n",
              "    <path d=\"M0 0h24v24H0V0z\" fill=\"none\"/>\n",
              "    <path d=\"M18.56 5.44l.94 2.06.94-2.06 2.06-.94-2.06-.94-.94-2.06-.94 2.06-2.06.94zm-11 1L8.5 8.5l.94-2.06 2.06-.94-2.06-.94L8.5 2.5l-.94 2.06-2.06.94zm10 10l.94 2.06.94-2.06 2.06-.94-2.06-.94-.94-2.06-.94 2.06-2.06.94z\"/><path d=\"M17.41 7.96l-1.37-1.37c-.4-.4-.92-.59-1.43-.59-.52 0-1.04.2-1.43.59L10.3 9.45l-7.72 7.72c-.78.78-.78 2.05 0 2.83L4 21.41c.39.39.9.59 1.41.59.51 0 1.02-.2 1.41-.59l7.78-7.78 2.81-2.81c.8-.78.8-2.07 0-2.86zM5.41 20L4 18.59l7.72-7.72 1.47 1.35L5.41 20z\"/>\n",
              "  </svg>\n",
              "      </button>\n",
              "      \n",
              "  <style>\n",
              "    .colab-df-container {\n",
              "      display:flex;\n",
              "      flex-wrap:wrap;\n",
              "      gap: 12px;\n",
              "    }\n",
              "\n",
              "    .colab-df-convert {\n",
              "      background-color: #E8F0FE;\n",
              "      border: none;\n",
              "      border-radius: 50%;\n",
              "      cursor: pointer;\n",
              "      display: none;\n",
              "      fill: #1967D2;\n",
              "      height: 32px;\n",
              "      padding: 0 0 0 0;\n",
              "      width: 32px;\n",
              "    }\n",
              "\n",
              "    .colab-df-convert:hover {\n",
              "      background-color: #E2EBFA;\n",
              "      box-shadow: 0px 1px 2px rgba(60, 64, 67, 0.3), 0px 1px 3px 1px rgba(60, 64, 67, 0.15);\n",
              "      fill: #174EA6;\n",
              "    }\n",
              "\n",
              "    [theme=dark] .colab-df-convert {\n",
              "      background-color: #3B4455;\n",
              "      fill: #D2E3FC;\n",
              "    }\n",
              "\n",
              "    [theme=dark] .colab-df-convert:hover {\n",
              "      background-color: #434B5C;\n",
              "      box-shadow: 0px 1px 3px 1px rgba(0, 0, 0, 0.15);\n",
              "      filter: drop-shadow(0px 1px 2px rgba(0, 0, 0, 0.3));\n",
              "      fill: #FFFFFF;\n",
              "    }\n",
              "  </style>\n",
              "\n",
              "      <script>\n",
              "        const buttonEl =\n",
              "          document.querySelector('#df-9697e33c-5f0c-4f55-91e6-6ddc17aabe17 button.colab-df-convert');\n",
              "        buttonEl.style.display =\n",
              "          google.colab.kernel.accessAllowed ? 'block' : 'none';\n",
              "\n",
              "        async function convertToInteractive(key) {\n",
              "          const element = document.querySelector('#df-9697e33c-5f0c-4f55-91e6-6ddc17aabe17');\n",
              "          const dataTable =\n",
              "            await google.colab.kernel.invokeFunction('convertToInteractive',\n",
              "                                                     [key], {});\n",
              "          if (!dataTable) return;\n",
              "\n",
              "          const docLinkHtml = 'Like what you see? Visit the ' +\n",
              "            '<a target=\"_blank\" href=https://colab.research.google.com/notebooks/data_table.ipynb>data table notebook</a>'\n",
              "            + ' to learn more about interactive tables.';\n",
              "          element.innerHTML = '';\n",
              "          dataTable['output_type'] = 'display_data';\n",
              "          await google.colab.output.renderOutput(dataTable, element);\n",
              "          const docLink = document.createElement('div');\n",
              "          docLink.innerHTML = docLinkHtml;\n",
              "          element.appendChild(docLink);\n",
              "        }\n",
              "      </script>\n",
              "    </div>\n",
              "  </div>\n",
              "  "
            ]
          },
          "metadata": {},
          "execution_count": 30
        }
      ]
    },
    {
      "cell_type": "markdown",
      "source": [
        "### a. Select a continuous and a categorical variable from the movie dataset and discuss the variable type of this variable. "
      ],
      "metadata": {
        "id": "2O7s8W3TSN8j"
      },
      "id": "2O7s8W3TSN8j"
    },
    {
      "cell_type": "code",
      "source": [
        "df.dtypes"
      ],
      "metadata": {
        "colab": {
          "base_uri": "https://localhost:8080/"
        },
        "id": "QBzVmvWxpRnt",
        "outputId": "c6251a0a-a0d0-476b-fd40-a727a050fd57"
      },
      "id": "QBzVmvWxpRnt",
      "execution_count": 31,
      "outputs": [
        {
          "output_type": "execute_result",
          "data": {
            "text/plain": [
              "Rank                    int64\n",
              "Title                  object\n",
              "Genre                  object\n",
              "Description            object\n",
              "Director               object\n",
              "Actors                 object\n",
              "Year                    int64\n",
              "Runtime (Minutes)       int64\n",
              "Rating                float64\n",
              "Votes                   int64\n",
              "Revenue (Millions)    float64\n",
              "Metascore             float64\n",
              "dtype: object"
            ]
          },
          "metadata": {},
          "execution_count": 31
        }
      ]
    },
    {
      "cell_type": "code",
      "source": [
        "variable_type = pd.Series(['continuous numerical - ordinal',\n",
        "                           'string variable - nominal',\n",
        "                           'categorical - nominal',\n",
        "                           'string variable - nominal',\n",
        "                           'categorical - nominal',\n",
        "                           'categorical - nominal',\n",
        "                           'numerical discrete - interval',\n",
        "                           'discrete numerical - ratio',\n",
        "                           'dicrete numerical - ordinal',\n",
        "                           'continonus numerical - ordinal',\n",
        "                           'continuous numerical - ratio',\n",
        "                           'discrete numerical - ordinal'], index = df.dtypes.index)"
      ],
      "metadata": {
        "id": "I4s7KNKnRTTQ"
      },
      "id": "I4s7KNKnRTTQ",
      "execution_count": 32,
      "outputs": []
    },
    {
      "cell_type": "code",
      "source": [
        "df_dtype = pd.concat([df.dtypes, df.nunique(), round(df.nunique()*100/len(df)), variable_type], axis=1)\n",
        "df_dtype.columns = ['data type', 'No. of categories', 'categories/sample ratio %', 'variable_type']\n",
        "df_dtype"
      ],
      "metadata": {
        "colab": {
          "base_uri": "https://localhost:8080/",
          "height": 425
        },
        "id": "n40aQYSOUfhf",
        "outputId": "7913af4a-927f-462e-9629-86c1f4e0aabd"
      },
      "id": "n40aQYSOUfhf",
      "execution_count": 33,
      "outputs": [
        {
          "output_type": "execute_result",
          "data": {
            "text/plain": [
              "                   data type  No. of categories  categories/sample ratio %  \\\n",
              "Rank                   int64               1000                 100.000000   \n",
              "Title                 object                999                 100.000000   \n",
              "Genre                 object                207                  21.000000   \n",
              "Description           object               1000                 100.000000   \n",
              "Director              object                644                  64.000000   \n",
              "Actors                object                996                 100.000000   \n",
              "Year                   int64                 11                   1.000000   \n",
              "Runtime (Minutes)      int64                 94                   9.000000   \n",
              "Rating               float64                 55                   6.000000   \n",
              "Votes                  int64                997                 100.000000   \n",
              "Revenue (Millions)   float64                814                  81.000000   \n",
              "Metascore            float64                 84                   8.000000   \n",
              "\n",
              "                                     variable_type  \n",
              "Rank                continuous numerical - ordinal  \n",
              "Title                    string variable - nominal  \n",
              "Genre                        categorical - nominal  \n",
              "Description              string variable - nominal  \n",
              "Director                     categorical - nominal  \n",
              "Actors                       categorical - nominal  \n",
              "Year                 numerical discrete - interval  \n",
              "Runtime (Minutes)       discrete numerical - ratio  \n",
              "Rating                 dicrete numerical - ordinal  \n",
              "Votes               continonus numerical - ordinal  \n",
              "Revenue (Millions)    continuous numerical - ratio  \n",
              "Metascore             discrete numerical - ordinal  "
            ],
            "text/html": [
              "\n",
              "  <div id=\"df-f26c7cfe-5c3a-4771-8553-18f7fcb01021\">\n",
              "    <div class=\"colab-df-container\">\n",
              "      <div>\n",
              "<style scoped>\n",
              "    .dataframe tbody tr th:only-of-type {\n",
              "        vertical-align: middle;\n",
              "    }\n",
              "\n",
              "    .dataframe tbody tr th {\n",
              "        vertical-align: top;\n",
              "    }\n",
              "\n",
              "    .dataframe thead th {\n",
              "        text-align: right;\n",
              "    }\n",
              "</style>\n",
              "<table border=\"1\" class=\"dataframe\">\n",
              "  <thead>\n",
              "    <tr style=\"text-align: right;\">\n",
              "      <th></th>\n",
              "      <th>data type</th>\n",
              "      <th>No. of categories</th>\n",
              "      <th>categories/sample ratio %</th>\n",
              "      <th>variable_type</th>\n",
              "    </tr>\n",
              "  </thead>\n",
              "  <tbody>\n",
              "    <tr>\n",
              "      <th>Rank</th>\n",
              "      <td>int64</td>\n",
              "      <td>1000</td>\n",
              "      <td>100.000000</td>\n",
              "      <td>continuous numerical - ordinal</td>\n",
              "    </tr>\n",
              "    <tr>\n",
              "      <th>Title</th>\n",
              "      <td>object</td>\n",
              "      <td>999</td>\n",
              "      <td>100.000000</td>\n",
              "      <td>string variable - nominal</td>\n",
              "    </tr>\n",
              "    <tr>\n",
              "      <th>Genre</th>\n",
              "      <td>object</td>\n",
              "      <td>207</td>\n",
              "      <td>21.000000</td>\n",
              "      <td>categorical - nominal</td>\n",
              "    </tr>\n",
              "    <tr>\n",
              "      <th>Description</th>\n",
              "      <td>object</td>\n",
              "      <td>1000</td>\n",
              "      <td>100.000000</td>\n",
              "      <td>string variable - nominal</td>\n",
              "    </tr>\n",
              "    <tr>\n",
              "      <th>Director</th>\n",
              "      <td>object</td>\n",
              "      <td>644</td>\n",
              "      <td>64.000000</td>\n",
              "      <td>categorical - nominal</td>\n",
              "    </tr>\n",
              "    <tr>\n",
              "      <th>Actors</th>\n",
              "      <td>object</td>\n",
              "      <td>996</td>\n",
              "      <td>100.000000</td>\n",
              "      <td>categorical - nominal</td>\n",
              "    </tr>\n",
              "    <tr>\n",
              "      <th>Year</th>\n",
              "      <td>int64</td>\n",
              "      <td>11</td>\n",
              "      <td>1.000000</td>\n",
              "      <td>numerical discrete - interval</td>\n",
              "    </tr>\n",
              "    <tr>\n",
              "      <th>Runtime (Minutes)</th>\n",
              "      <td>int64</td>\n",
              "      <td>94</td>\n",
              "      <td>9.000000</td>\n",
              "      <td>discrete numerical - ratio</td>\n",
              "    </tr>\n",
              "    <tr>\n",
              "      <th>Rating</th>\n",
              "      <td>float64</td>\n",
              "      <td>55</td>\n",
              "      <td>6.000000</td>\n",
              "      <td>dicrete numerical - ordinal</td>\n",
              "    </tr>\n",
              "    <tr>\n",
              "      <th>Votes</th>\n",
              "      <td>int64</td>\n",
              "      <td>997</td>\n",
              "      <td>100.000000</td>\n",
              "      <td>continonus numerical - ordinal</td>\n",
              "    </tr>\n",
              "    <tr>\n",
              "      <th>Revenue (Millions)</th>\n",
              "      <td>float64</td>\n",
              "      <td>814</td>\n",
              "      <td>81.000000</td>\n",
              "      <td>continuous numerical - ratio</td>\n",
              "    </tr>\n",
              "    <tr>\n",
              "      <th>Metascore</th>\n",
              "      <td>float64</td>\n",
              "      <td>84</td>\n",
              "      <td>8.000000</td>\n",
              "      <td>discrete numerical - ordinal</td>\n",
              "    </tr>\n",
              "  </tbody>\n",
              "</table>\n",
              "</div>\n",
              "      <button class=\"colab-df-convert\" onclick=\"convertToInteractive('df-f26c7cfe-5c3a-4771-8553-18f7fcb01021')\"\n",
              "              title=\"Convert this dataframe to an interactive table.\"\n",
              "              style=\"display:none;\">\n",
              "        \n",
              "  <svg xmlns=\"http://www.w3.org/2000/svg\" height=\"24px\"viewBox=\"0 0 24 24\"\n",
              "       width=\"24px\">\n",
              "    <path d=\"M0 0h24v24H0V0z\" fill=\"none\"/>\n",
              "    <path d=\"M18.56 5.44l.94 2.06.94-2.06 2.06-.94-2.06-.94-.94-2.06-.94 2.06-2.06.94zm-11 1L8.5 8.5l.94-2.06 2.06-.94-2.06-.94L8.5 2.5l-.94 2.06-2.06.94zm10 10l.94 2.06.94-2.06 2.06-.94-2.06-.94-.94-2.06-.94 2.06-2.06.94z\"/><path d=\"M17.41 7.96l-1.37-1.37c-.4-.4-.92-.59-1.43-.59-.52 0-1.04.2-1.43.59L10.3 9.45l-7.72 7.72c-.78.78-.78 2.05 0 2.83L4 21.41c.39.39.9.59 1.41.59.51 0 1.02-.2 1.41-.59l7.78-7.78 2.81-2.81c.8-.78.8-2.07 0-2.86zM5.41 20L4 18.59l7.72-7.72 1.47 1.35L5.41 20z\"/>\n",
              "  </svg>\n",
              "      </button>\n",
              "      \n",
              "  <style>\n",
              "    .colab-df-container {\n",
              "      display:flex;\n",
              "      flex-wrap:wrap;\n",
              "      gap: 12px;\n",
              "    }\n",
              "\n",
              "    .colab-df-convert {\n",
              "      background-color: #E8F0FE;\n",
              "      border: none;\n",
              "      border-radius: 50%;\n",
              "      cursor: pointer;\n",
              "      display: none;\n",
              "      fill: #1967D2;\n",
              "      height: 32px;\n",
              "      padding: 0 0 0 0;\n",
              "      width: 32px;\n",
              "    }\n",
              "\n",
              "    .colab-df-convert:hover {\n",
              "      background-color: #E2EBFA;\n",
              "      box-shadow: 0px 1px 2px rgba(60, 64, 67, 0.3), 0px 1px 3px 1px rgba(60, 64, 67, 0.15);\n",
              "      fill: #174EA6;\n",
              "    }\n",
              "\n",
              "    [theme=dark] .colab-df-convert {\n",
              "      background-color: #3B4455;\n",
              "      fill: #D2E3FC;\n",
              "    }\n",
              "\n",
              "    [theme=dark] .colab-df-convert:hover {\n",
              "      background-color: #434B5C;\n",
              "      box-shadow: 0px 1px 3px 1px rgba(0, 0, 0, 0.15);\n",
              "      filter: drop-shadow(0px 1px 2px rgba(0, 0, 0, 0.3));\n",
              "      fill: #FFFFFF;\n",
              "    }\n",
              "  </style>\n",
              "\n",
              "      <script>\n",
              "        const buttonEl =\n",
              "          document.querySelector('#df-f26c7cfe-5c3a-4771-8553-18f7fcb01021 button.colab-df-convert');\n",
              "        buttonEl.style.display =\n",
              "          google.colab.kernel.accessAllowed ? 'block' : 'none';\n",
              "\n",
              "        async function convertToInteractive(key) {\n",
              "          const element = document.querySelector('#df-f26c7cfe-5c3a-4771-8553-18f7fcb01021');\n",
              "          const dataTable =\n",
              "            await google.colab.kernel.invokeFunction('convertToInteractive',\n",
              "                                                     [key], {});\n",
              "          if (!dataTable) return;\n",
              "\n",
              "          const docLinkHtml = 'Like what you see? Visit the ' +\n",
              "            '<a target=\"_blank\" href=https://colab.research.google.com/notebooks/data_table.ipynb>data table notebook</a>'\n",
              "            + ' to learn more about interactive tables.';\n",
              "          element.innerHTML = '';\n",
              "          dataTable['output_type'] = 'display_data';\n",
              "          await google.colab.output.renderOutput(dataTable, element);\n",
              "          const docLink = document.createElement('div');\n",
              "          docLink.innerHTML = docLinkHtml;\n",
              "          element.appendChild(docLink);\n",
              "        }\n",
              "      </script>\n",
              "    </div>\n",
              "  </div>\n",
              "  "
            ]
          },
          "metadata": {},
          "execution_count": 33
        }
      ]
    },
    {
      "cell_type": "markdown",
      "source": [
        "#### b. Categorize a variable of your choice and assign a name to it"
      ],
      "metadata": {
        "id": "pCZz8rWwwdBE"
      },
      "id": "pCZz8rWwwdBE"
    },
    {
      "cell_type": "code",
      "source": [
        "df['Revenue (Millions)'].value_counts(bins=3)"
      ],
      "metadata": {
        "id": "ANhZkgvXWcqU",
        "colab": {
          "base_uri": "https://localhost:8080/"
        },
        "outputId": "daa536f4-f67e-4d33-accd-fbea331bcf5d"
      },
      "id": "ANhZkgvXWcqU",
      "execution_count": 36,
      "outputs": [
        {
          "output_type": "execute_result",
          "data": {
            "text/plain": [
              "(-0.9380000000000001, 312.21]    835\n",
              "(312.21, 624.42]                  34\n",
              "(624.42, 936.63]                   3\n",
              "Name: Revenue (Millions), dtype: int64"
            ]
          },
          "metadata": {},
          "execution_count": 36
        }
      ]
    },
    {
      "cell_type": "code",
      "source": [
        "df['Revenue category'] = pd.cut(df['Revenue (Millions)'], bins=3, right=True, labels=['low', 'medium', 'high'])\n",
        "df['Revenue category']"
      ],
      "metadata": {
        "colab": {
          "base_uri": "https://localhost:8080/"
        },
        "id": "G6-EIGDqxGFV",
        "outputId": "5f8bca72-b7c2-44d5-9afb-1b77799a1a01"
      },
      "id": "G6-EIGDqxGFV",
      "execution_count": 40,
      "outputs": [
        {
          "output_type": "execute_result",
          "data": {
            "text/plain": [
              "0      medium\n",
              "1         low\n",
              "2         low\n",
              "3         low\n",
              "4      medium\n",
              "        ...  \n",
              "995       NaN\n",
              "996       low\n",
              "997       low\n",
              "998       NaN\n",
              "999       low\n",
              "Name: Revenue category, Length: 1000, dtype: category\n",
              "Categories (3, object): ['low' < 'medium' < 'high']"
            ]
          },
          "metadata": {},
          "execution_count": 40
        }
      ]
    },
    {
      "cell_type": "code",
      "source": [
        "df['Revenue (Millions)'].value_counts(bins=3, normalize=True)"
      ],
      "metadata": {
        "colab": {
          "base_uri": "https://localhost:8080/"
        },
        "id": "rFCYDWmS2Huf",
        "outputId": "214a7f45-f503-4acb-d79b-ad99a4d6e2d3"
      },
      "id": "rFCYDWmS2Huf",
      "execution_count": 41,
      "outputs": [
        {
          "output_type": "execute_result",
          "data": {
            "text/plain": [
              "(-0.9380000000000001, 312.21]   0.835000\n",
              "(312.21, 624.42]                0.034000\n",
              "(624.42, 936.63]                0.003000\n",
              "Name: Revenue (Millions), dtype: float64"
            ]
          },
          "metadata": {},
          "execution_count": 41
        }
      ]
    },
    {
      "cell_type": "code",
      "source": [
        "#example with range\n",
        "binned_range = pd.cut(range(1,1000), bins=3, right=True, labels=['low', 'medium', 'high'],)\n",
        "binned_range"
      ],
      "metadata": {
        "colab": {
          "base_uri": "https://localhost:8080/"
        },
        "id": "joAq5EnQynZZ",
        "outputId": "ec5a9238-c5cc-4a9c-d017-bb5bd5520aab"
      },
      "id": "joAq5EnQynZZ",
      "execution_count": 39,
      "outputs": [
        {
          "output_type": "execute_result",
          "data": {
            "text/plain": [
              "['low', 'low', 'low', 'low', 'low', ..., 'high', 'high', 'high', 'high', 'high']\n",
              "Length: 999\n",
              "Categories (3, object): ['low' < 'medium' < 'high']"
            ]
          },
          "metadata": {},
          "execution_count": 39
        }
      ]
    },
    {
      "cell_type": "markdown",
      "source": [
        "### c. Count the number ofrows for each category"
      ],
      "metadata": {
        "id": "ju0miH2V2pXz"
      },
      "id": "ju0miH2V2pXz"
    },
    {
      "cell_type": "code",
      "source": [
        "df['Revenue category'].value_counts()"
      ],
      "metadata": {
        "colab": {
          "base_uri": "https://localhost:8080/"
        },
        "id": "aiRQ-ec6zHeF",
        "outputId": "bffa23eb-170e-4d16-f353-02296d2e4721"
      },
      "id": "aiRQ-ec6zHeF",
      "execution_count": 42,
      "outputs": [
        {
          "output_type": "execute_result",
          "data": {
            "text/plain": [
              "low       835\n",
              "medium     34\n",
              "high        3\n",
              "Name: Revenue category, dtype: int64"
            ]
          },
          "metadata": {},
          "execution_count": 42
        }
      ]
    },
    {
      "cell_type": "markdown",
      "source": [
        "Metascore and Rating can be converted to discrete numerical"
      ],
      "metadata": {
        "id": "0G-W35Ky28x6"
      },
      "id": "0G-W35Ky28x6"
    },
    {
      "cell_type": "markdown",
      "source": [
        "## 3. Is it possible to convert categorical variable into numerical one? If so, how can you make that?"
      ],
      "metadata": {
        "id": "gNrHFOZt3bAH"
      },
      "id": "gNrHFOZt3bAH"
    },
    {
      "cell_type": "markdown",
      "source": [
        "- YES by assigning a number to each category"
      ],
      "metadata": {
        "id": "CPKqBmPl4oED"
      },
      "id": "CPKqBmPl4oED"
    },
    {
      "cell_type": "code",
      "source": [
        "d = dict(enumerate(df.Genre.astype('category').cat.categories))\n",
        "df['Genre_discrete'] = df.Genre.astype('category').cat.codes"
      ],
      "metadata": {
        "id": "viUJ0yQ3249D"
      },
      "id": "viUJ0yQ3249D",
      "execution_count": null,
      "outputs": []
    },
    {
      "cell_type": "code",
      "source": [
        "dict(enumerate(df.Genre.astype('category').cat.categories))"
      ],
      "metadata": {
        "colab": {
          "base_uri": "https://localhost:8080/"
        },
        "id": "V_UWUUFSH6qJ",
        "outputId": "c4302abc-7432-47ac-c47e-0922633a8730"
      },
      "id": "V_UWUUFSH6qJ",
      "execution_count": 53,
      "outputs": [
        {
          "output_type": "execute_result",
          "data": {
            "text/plain": [
              "{0: 'Action',\n",
              " 1: 'Action,Adventure',\n",
              " 2: 'Action,Adventure,Biography',\n",
              " 3: 'Action,Adventure,Comedy',\n",
              " 4: 'Action,Adventure,Crime',\n",
              " 5: 'Action,Adventure,Drama',\n",
              " 6: 'Action,Adventure,Family',\n",
              " 7: 'Action,Adventure,Fantasy',\n",
              " 8: 'Action,Adventure,Horror',\n",
              " 9: 'Action,Adventure,Mystery',\n",
              " 10: 'Action,Adventure,Romance',\n",
              " 11: 'Action,Adventure,Sci-Fi',\n",
              " 12: 'Action,Adventure,Thriller',\n",
              " 13: 'Action,Adventure,Western',\n",
              " 14: 'Action,Biography,Crime',\n",
              " 15: 'Action,Biography,Drama',\n",
              " 16: 'Action,Comedy',\n",
              " 17: 'Action,Comedy,Crime',\n",
              " 18: 'Action,Comedy,Drama',\n",
              " 19: 'Action,Comedy,Family',\n",
              " 20: 'Action,Comedy,Fantasy',\n",
              " 21: 'Action,Comedy,Horror',\n",
              " 22: 'Action,Comedy,Mystery',\n",
              " 23: 'Action,Comedy,Romance',\n",
              " 24: 'Action,Comedy,Sci-Fi',\n",
              " 25: 'Action,Comedy,Sport',\n",
              " 26: 'Action,Crime,Drama',\n",
              " 27: 'Action,Crime,Fantasy',\n",
              " 28: 'Action,Crime,Mystery',\n",
              " 29: 'Action,Crime,Sci-Fi',\n",
              " 30: 'Action,Crime,Sport',\n",
              " 31: 'Action,Crime,Thriller',\n",
              " 32: 'Action,Drama,Family',\n",
              " 33: 'Action,Drama,Fantasy',\n",
              " 34: 'Action,Drama,History',\n",
              " 35: 'Action,Drama,Horror',\n",
              " 36: 'Action,Drama,Mystery',\n",
              " 37: 'Action,Drama,Romance',\n",
              " 38: 'Action,Drama,Sci-Fi',\n",
              " 39: 'Action,Drama,Sport',\n",
              " 40: 'Action,Drama,Thriller',\n",
              " 41: 'Action,Drama,War',\n",
              " 42: 'Action,Fantasy',\n",
              " 43: 'Action,Fantasy,Horror',\n",
              " 44: 'Action,Fantasy,Thriller',\n",
              " 45: 'Action,Fantasy,War',\n",
              " 46: 'Action,Horror',\n",
              " 47: 'Action,Horror,Mystery',\n",
              " 48: 'Action,Horror,Romance',\n",
              " 49: 'Action,Horror,Sci-Fi',\n",
              " 50: 'Action,Horror,Thriller',\n",
              " 51: 'Action,Mystery,Sci-Fi',\n",
              " 52: 'Action,Mystery,Thriller',\n",
              " 53: 'Action,Sci-Fi',\n",
              " 54: 'Action,Sci-Fi,Thriller',\n",
              " 55: 'Action,Thriller',\n",
              " 56: 'Action,Thriller,War',\n",
              " 57: 'Adventure',\n",
              " 58: 'Adventure,Biography',\n",
              " 59: 'Adventure,Biography,Crime',\n",
              " 60: 'Adventure,Biography,Drama',\n",
              " 61: 'Adventure,Comedy',\n",
              " 62: 'Adventure,Comedy,Drama',\n",
              " 63: 'Adventure,Comedy,Family',\n",
              " 64: 'Adventure,Comedy,Fantasy',\n",
              " 65: 'Adventure,Comedy,Horror',\n",
              " 66: 'Adventure,Comedy,Romance',\n",
              " 67: 'Adventure,Comedy,Sci-Fi',\n",
              " 68: 'Adventure,Crime,Mystery',\n",
              " 69: 'Adventure,Drama',\n",
              " 70: 'Adventure,Drama,Family',\n",
              " 71: 'Adventure,Drama,Fantasy',\n",
              " 72: 'Adventure,Drama,History',\n",
              " 73: 'Adventure,Drama,Horror',\n",
              " 74: 'Adventure,Drama,Romance',\n",
              " 75: 'Adventure,Drama,Sci-Fi',\n",
              " 76: 'Adventure,Drama,Thriller',\n",
              " 77: 'Adventure,Drama,War',\n",
              " 78: 'Adventure,Drama,Western',\n",
              " 79: 'Adventure,Family',\n",
              " 80: 'Adventure,Family,Fantasy',\n",
              " 81: 'Adventure,Fantasy',\n",
              " 82: 'Adventure,Fantasy,Mystery',\n",
              " 83: 'Adventure,Horror',\n",
              " 84: 'Adventure,Horror,Mystery',\n",
              " 85: 'Adventure,Mystery,Sci-Fi',\n",
              " 86: 'Adventure,Sci-Fi,Thriller',\n",
              " 87: 'Animation,Action,Adventure',\n",
              " 88: 'Animation,Action,Comedy',\n",
              " 89: 'Animation,Adventure,Comedy',\n",
              " 90: 'Animation,Adventure,Family',\n",
              " 91: 'Animation,Comedy,Drama',\n",
              " 92: 'Animation,Comedy,Family',\n",
              " 93: 'Animation,Drama,Fantasy',\n",
              " 94: 'Animation,Drama,Romance',\n",
              " 95: 'Animation,Family,Fantasy',\n",
              " 96: 'Animation,Fantasy',\n",
              " 97: 'Biography,Comedy,Crime',\n",
              " 98: 'Biography,Comedy,Drama',\n",
              " 99: 'Biography,Crime,Drama',\n",
              " 100: 'Biography,Drama',\n",
              " 101: 'Biography,Drama,Family',\n",
              " 102: 'Biography,Drama,History',\n",
              " 103: 'Biography,Drama,Mystery',\n",
              " 104: 'Biography,Drama,Romance',\n",
              " 105: 'Biography,Drama,Sport',\n",
              " 106: 'Biography,Drama,Thriller',\n",
              " 107: 'Biography,History,Thriller',\n",
              " 108: 'Comedy',\n",
              " 109: 'Comedy,Crime',\n",
              " 110: 'Comedy,Crime,Drama',\n",
              " 111: 'Comedy,Crime,Thriller',\n",
              " 112: 'Comedy,Drama',\n",
              " 113: 'Comedy,Drama,Family',\n",
              " 114: 'Comedy,Drama,Fantasy',\n",
              " 115: 'Comedy,Drama,Horror',\n",
              " 116: 'Comedy,Drama,Music',\n",
              " 117: 'Comedy,Drama,Musical',\n",
              " 118: 'Comedy,Drama,Romance',\n",
              " 119: 'Comedy,Drama,Thriller',\n",
              " 120: 'Comedy,Family',\n",
              " 121: 'Comedy,Family,Fantasy',\n",
              " 122: 'Comedy,Family,Musical',\n",
              " 123: 'Comedy,Family,Romance',\n",
              " 124: 'Comedy,Fantasy',\n",
              " 125: 'Comedy,Fantasy,Horror',\n",
              " 126: 'Comedy,Fantasy,Romance',\n",
              " 127: 'Comedy,Horror',\n",
              " 128: 'Comedy,Horror,Romance',\n",
              " 129: 'Comedy,Horror,Sci-Fi',\n",
              " 130: 'Comedy,Horror,Thriller',\n",
              " 131: 'Comedy,Music',\n",
              " 132: 'Comedy,Music,Romance',\n",
              " 133: 'Comedy,Mystery',\n",
              " 134: 'Comedy,Romance',\n",
              " 135: 'Comedy,Romance,Sport',\n",
              " 136: 'Comedy,Romance,Western',\n",
              " 137: 'Comedy,Sci-Fi',\n",
              " 138: 'Comedy,Western',\n",
              " 139: 'Crime,Drama',\n",
              " 140: 'Crime,Drama,Fantasy',\n",
              " 141: 'Crime,Drama,History',\n",
              " 142: 'Crime,Drama,Horror',\n",
              " 143: 'Crime,Drama,Music',\n",
              " 144: 'Crime,Drama,Mystery',\n",
              " 145: 'Crime,Drama,Thriller',\n",
              " 146: 'Crime,Horror,Thriller',\n",
              " 147: 'Crime,Mystery,Thriller',\n",
              " 148: 'Crime,Thriller',\n",
              " 149: 'Drama',\n",
              " 150: 'Drama,Family',\n",
              " 151: 'Drama,Family,Fantasy',\n",
              " 152: 'Drama,Family,Music',\n",
              " 153: 'Drama,Fantasy',\n",
              " 154: 'Drama,Fantasy,Horror',\n",
              " 155: 'Drama,Fantasy,Music',\n",
              " 156: 'Drama,Fantasy,Musical',\n",
              " 157: 'Drama,Fantasy,Mystery',\n",
              " 158: 'Drama,Fantasy,Romance',\n",
              " 159: 'Drama,Fantasy,Thriller',\n",
              " 160: 'Drama,Fantasy,War',\n",
              " 161: 'Drama,History',\n",
              " 162: 'Drama,History,Thriller',\n",
              " 163: 'Drama,History,War',\n",
              " 164: 'Drama,Horror',\n",
              " 165: 'Drama,Horror,Musical',\n",
              " 166: 'Drama,Horror,Mystery',\n",
              " 167: 'Drama,Horror,Sci-Fi',\n",
              " 168: 'Drama,Horror,Thriller',\n",
              " 169: 'Drama,Music',\n",
              " 170: 'Drama,Music,Romance',\n",
              " 171: 'Drama,Musical,Romance',\n",
              " 172: 'Drama,Mystery,Romance',\n",
              " 173: 'Drama,Mystery,Sci-Fi',\n",
              " 174: 'Drama,Mystery,Thriller',\n",
              " 175: 'Drama,Mystery,War',\n",
              " 176: 'Drama,Romance',\n",
              " 177: 'Drama,Romance,Sci-Fi',\n",
              " 178: 'Drama,Romance,Thriller',\n",
              " 179: 'Drama,Romance,War',\n",
              " 180: 'Drama,Sci-Fi',\n",
              " 181: 'Drama,Sci-Fi,Thriller',\n",
              " 182: 'Drama,Sport',\n",
              " 183: 'Drama,Thriller',\n",
              " 184: 'Drama,Thriller,War',\n",
              " 185: 'Drama,War',\n",
              " 186: 'Drama,Western',\n",
              " 187: 'Fantasy,Horror',\n",
              " 188: 'Fantasy,Horror,Thriller',\n",
              " 189: 'Fantasy,Mystery,Thriller',\n",
              " 190: 'Horror',\n",
              " 191: 'Horror,Mystery',\n",
              " 192: 'Horror,Mystery,Sci-Fi',\n",
              " 193: 'Horror,Mystery,Thriller',\n",
              " 194: 'Horror,Sci-Fi,Thriller',\n",
              " 195: 'Horror,Thriller',\n",
              " 196: 'Mystery,Romance,Sci-Fi',\n",
              " 197: 'Mystery,Romance,Thriller',\n",
              " 198: 'Mystery,Sci-Fi,Thriller',\n",
              " 199: 'Mystery,Thriller',\n",
              " 200: 'Mystery,Thriller,Western',\n",
              " 201: 'Romance,Sci-Fi',\n",
              " 202: 'Romance,Sci-Fi,Thriller',\n",
              " 203: 'Sci-Fi',\n",
              " 204: 'Sci-Fi,Thriller',\n",
              " 205: 'Thriller',\n",
              " 206: 'Thriller,War'}"
            ]
          },
          "metadata": {},
          "execution_count": 53
        }
      ]
    },
    {
      "cell_type": "code",
      "source": [
        "df['Genre_discrete_categories'] = df['Genre_discrete'].map(d)"
      ],
      "metadata": {
        "id": "MAmXI_Cq3ZIQ"
      },
      "id": "MAmXI_Cq3ZIQ",
      "execution_count": 45,
      "outputs": []
    },
    {
      "cell_type": "code",
      "source": [
        "df['Genre_discrete'].nunique() == df.Genre.nunique()"
      ],
      "metadata": {
        "colab": {
          "base_uri": "https://localhost:8080/"
        },
        "id": "6LK098k-4R43",
        "outputId": "be58c301-8e69-4fb7-c42f-78cf8aa99182"
      },
      "id": "6LK098k-4R43",
      "execution_count": 46,
      "outputs": [
        {
          "output_type": "execute_result",
          "data": {
            "text/plain": [
              "True"
            ]
          },
          "metadata": {},
          "execution_count": 46
        }
      ]
    },
    {
      "cell_type": "code",
      "source": [
        "df.head(3)"
      ],
      "metadata": {
        "colab": {
          "base_uri": "https://localhost:8080/",
          "height": 520
        },
        "id": "HdfAKSzV4d5x",
        "outputId": "c0126182-9854-4956-c312-782933c9c3e7"
      },
      "id": "HdfAKSzV4d5x",
      "execution_count": 50,
      "outputs": [
        {
          "output_type": "execute_result",
          "data": {
            "text/plain": [
              "   Rank                    Title                     Genre  \\\n",
              "0     1  Guardians of the Galaxy   Action,Adventure,Sci-Fi   \n",
              "1     2               Prometheus  Adventure,Mystery,Sci-Fi   \n",
              "2     3                    Split           Horror,Thriller   \n",
              "\n",
              "                                         Description            Director  \\\n",
              "0  A group of intergalactic criminals are forced ...          James Gunn   \n",
              "1  Following clues to the origin of mankind, a te...        Ridley Scott   \n",
              "2  Three girls are kidnapped by a man with a diag...  M. Night Shyamalan   \n",
              "\n",
              "                                              Actors  Year  Runtime (Minutes)  \\\n",
              "0  Chris Pratt, Vin Diesel, Bradley Cooper, Zoe S...  2014                121   \n",
              "1  Noomi Rapace, Logan Marshall-Green, Michael Fa...  2012                124   \n",
              "2  James McAvoy, Anya Taylor-Joy, Haley Lu Richar...  2016                117   \n",
              "\n",
              "    Rating   Votes  Revenue (Millions)  Metascore Revenue category  \\\n",
              "0 8.100000  757074          333.130000  76.000000           medium   \n",
              "1 7.000000  485820          126.460000  65.000000              low   \n",
              "2 7.300000  157606          138.120000  62.000000              low   \n",
              "\n",
              "   Genre_discrete Genre_discrete_categories  \n",
              "0              11   Action,Adventure,Sci-Fi  \n",
              "1              85  Adventure,Mystery,Sci-Fi  \n",
              "2             195           Horror,Thriller  "
            ],
            "text/html": [
              "\n",
              "  <div id=\"df-5770b9a1-47c9-4083-a8fb-e808b757ccce\">\n",
              "    <div class=\"colab-df-container\">\n",
              "      <div>\n",
              "<style scoped>\n",
              "    .dataframe tbody tr th:only-of-type {\n",
              "        vertical-align: middle;\n",
              "    }\n",
              "\n",
              "    .dataframe tbody tr th {\n",
              "        vertical-align: top;\n",
              "    }\n",
              "\n",
              "    .dataframe thead th {\n",
              "        text-align: right;\n",
              "    }\n",
              "</style>\n",
              "<table border=\"1\" class=\"dataframe\">\n",
              "  <thead>\n",
              "    <tr style=\"text-align: right;\">\n",
              "      <th></th>\n",
              "      <th>Rank</th>\n",
              "      <th>Title</th>\n",
              "      <th>Genre</th>\n",
              "      <th>Description</th>\n",
              "      <th>Director</th>\n",
              "      <th>Actors</th>\n",
              "      <th>Year</th>\n",
              "      <th>Runtime (Minutes)</th>\n",
              "      <th>Rating</th>\n",
              "      <th>Votes</th>\n",
              "      <th>Revenue (Millions)</th>\n",
              "      <th>Metascore</th>\n",
              "      <th>Revenue category</th>\n",
              "      <th>Genre_discrete</th>\n",
              "      <th>Genre_discrete_categories</th>\n",
              "    </tr>\n",
              "  </thead>\n",
              "  <tbody>\n",
              "    <tr>\n",
              "      <th>0</th>\n",
              "      <td>1</td>\n",
              "      <td>Guardians of the Galaxy</td>\n",
              "      <td>Action,Adventure,Sci-Fi</td>\n",
              "      <td>A group of intergalactic criminals are forced ...</td>\n",
              "      <td>James Gunn</td>\n",
              "      <td>Chris Pratt, Vin Diesel, Bradley Cooper, Zoe S...</td>\n",
              "      <td>2014</td>\n",
              "      <td>121</td>\n",
              "      <td>8.100000</td>\n",
              "      <td>757074</td>\n",
              "      <td>333.130000</td>\n",
              "      <td>76.000000</td>\n",
              "      <td>medium</td>\n",
              "      <td>11</td>\n",
              "      <td>Action,Adventure,Sci-Fi</td>\n",
              "    </tr>\n",
              "    <tr>\n",
              "      <th>1</th>\n",
              "      <td>2</td>\n",
              "      <td>Prometheus</td>\n",
              "      <td>Adventure,Mystery,Sci-Fi</td>\n",
              "      <td>Following clues to the origin of mankind, a te...</td>\n",
              "      <td>Ridley Scott</td>\n",
              "      <td>Noomi Rapace, Logan Marshall-Green, Michael Fa...</td>\n",
              "      <td>2012</td>\n",
              "      <td>124</td>\n",
              "      <td>7.000000</td>\n",
              "      <td>485820</td>\n",
              "      <td>126.460000</td>\n",
              "      <td>65.000000</td>\n",
              "      <td>low</td>\n",
              "      <td>85</td>\n",
              "      <td>Adventure,Mystery,Sci-Fi</td>\n",
              "    </tr>\n",
              "    <tr>\n",
              "      <th>2</th>\n",
              "      <td>3</td>\n",
              "      <td>Split</td>\n",
              "      <td>Horror,Thriller</td>\n",
              "      <td>Three girls are kidnapped by a man with a diag...</td>\n",
              "      <td>M. Night Shyamalan</td>\n",
              "      <td>James McAvoy, Anya Taylor-Joy, Haley Lu Richar...</td>\n",
              "      <td>2016</td>\n",
              "      <td>117</td>\n",
              "      <td>7.300000</td>\n",
              "      <td>157606</td>\n",
              "      <td>138.120000</td>\n",
              "      <td>62.000000</td>\n",
              "      <td>low</td>\n",
              "      <td>195</td>\n",
              "      <td>Horror,Thriller</td>\n",
              "    </tr>\n",
              "  </tbody>\n",
              "</table>\n",
              "</div>\n",
              "      <button class=\"colab-df-convert\" onclick=\"convertToInteractive('df-5770b9a1-47c9-4083-a8fb-e808b757ccce')\"\n",
              "              title=\"Convert this dataframe to an interactive table.\"\n",
              "              style=\"display:none;\">\n",
              "        \n",
              "  <svg xmlns=\"http://www.w3.org/2000/svg\" height=\"24px\"viewBox=\"0 0 24 24\"\n",
              "       width=\"24px\">\n",
              "    <path d=\"M0 0h24v24H0V0z\" fill=\"none\"/>\n",
              "    <path d=\"M18.56 5.44l.94 2.06.94-2.06 2.06-.94-2.06-.94-.94-2.06-.94 2.06-2.06.94zm-11 1L8.5 8.5l.94-2.06 2.06-.94-2.06-.94L8.5 2.5l-.94 2.06-2.06.94zm10 10l.94 2.06.94-2.06 2.06-.94-2.06-.94-.94-2.06-.94 2.06-2.06.94z\"/><path d=\"M17.41 7.96l-1.37-1.37c-.4-.4-.92-.59-1.43-.59-.52 0-1.04.2-1.43.59L10.3 9.45l-7.72 7.72c-.78.78-.78 2.05 0 2.83L4 21.41c.39.39.9.59 1.41.59.51 0 1.02-.2 1.41-.59l7.78-7.78 2.81-2.81c.8-.78.8-2.07 0-2.86zM5.41 20L4 18.59l7.72-7.72 1.47 1.35L5.41 20z\"/>\n",
              "  </svg>\n",
              "      </button>\n",
              "      \n",
              "  <style>\n",
              "    .colab-df-container {\n",
              "      display:flex;\n",
              "      flex-wrap:wrap;\n",
              "      gap: 12px;\n",
              "    }\n",
              "\n",
              "    .colab-df-convert {\n",
              "      background-color: #E8F0FE;\n",
              "      border: none;\n",
              "      border-radius: 50%;\n",
              "      cursor: pointer;\n",
              "      display: none;\n",
              "      fill: #1967D2;\n",
              "      height: 32px;\n",
              "      padding: 0 0 0 0;\n",
              "      width: 32px;\n",
              "    }\n",
              "\n",
              "    .colab-df-convert:hover {\n",
              "      background-color: #E2EBFA;\n",
              "      box-shadow: 0px 1px 2px rgba(60, 64, 67, 0.3), 0px 1px 3px 1px rgba(60, 64, 67, 0.15);\n",
              "      fill: #174EA6;\n",
              "    }\n",
              "\n",
              "    [theme=dark] .colab-df-convert {\n",
              "      background-color: #3B4455;\n",
              "      fill: #D2E3FC;\n",
              "    }\n",
              "\n",
              "    [theme=dark] .colab-df-convert:hover {\n",
              "      background-color: #434B5C;\n",
              "      box-shadow: 0px 1px 3px 1px rgba(0, 0, 0, 0.15);\n",
              "      filter: drop-shadow(0px 1px 2px rgba(0, 0, 0, 0.3));\n",
              "      fill: #FFFFFF;\n",
              "    }\n",
              "  </style>\n",
              "\n",
              "      <script>\n",
              "        const buttonEl =\n",
              "          document.querySelector('#df-5770b9a1-47c9-4083-a8fb-e808b757ccce button.colab-df-convert');\n",
              "        buttonEl.style.display =\n",
              "          google.colab.kernel.accessAllowed ? 'block' : 'none';\n",
              "\n",
              "        async function convertToInteractive(key) {\n",
              "          const element = document.querySelector('#df-5770b9a1-47c9-4083-a8fb-e808b757ccce');\n",
              "          const dataTable =\n",
              "            await google.colab.kernel.invokeFunction('convertToInteractive',\n",
              "                                                     [key], {});\n",
              "          if (!dataTable) return;\n",
              "\n",
              "          const docLinkHtml = 'Like what you see? Visit the ' +\n",
              "            '<a target=\"_blank\" href=https://colab.research.google.com/notebooks/data_table.ipynb>data table notebook</a>'\n",
              "            + ' to learn more about interactive tables.';\n",
              "          element.innerHTML = '';\n",
              "          dataTable['output_type'] = 'display_data';\n",
              "          await google.colab.output.renderOutput(dataTable, element);\n",
              "          const docLink = document.createElement('div');\n",
              "          docLink.innerHTML = docLinkHtml;\n",
              "          element.appendChild(docLink);\n",
              "        }\n",
              "      </script>\n",
              "    </div>\n",
              "  </div>\n",
              "  "
            ]
          },
          "metadata": {},
          "execution_count": 50
        }
      ]
    },
    {
      "cell_type": "code",
      "source": [],
      "metadata": {
        "id": "f38lYtsq4glx"
      },
      "id": "f38lYtsq4glx",
      "execution_count": null,
      "outputs": []
    }
  ],
  "metadata": {
    "kernelspec": {
      "display_name": "Python 3 (ipykernel)",
      "language": "python",
      "name": "python3"
    },
    "language_info": {
      "codemirror_mode": {
        "name": "ipython",
        "version": 3
      },
      "file_extension": ".py",
      "mimetype": "text/x-python",
      "name": "python",
      "nbconvert_exporter": "python",
      "pygments_lexer": "ipython3",
      "version": "3.9.16"
    },
    "colab": {
      "provenance": [],
      "include_colab_link": true
    }
  },
  "nbformat": 4,
  "nbformat_minor": 5
}