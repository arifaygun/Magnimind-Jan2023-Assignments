{
 "cells": [
  {
   "cell_type": "markdown",
   "id": "5d1600f1",
   "metadata": {},
   "source": [
    "# For Loops Assignment - Arif Aygun"
   ]
  },
  {
   "cell_type": "markdown",
   "id": "7cf452a3",
   "metadata": {},
   "source": [
    "#### 1. Do the following to create a program that simulates how websites ensure that everyone has a unique username.\n",
    "\n",
    "- Make a list of five or more usernames called current_users.\n",
    "\n",
    "- Make another list of five usernames called new_users. Make sure one or two of the new usernames are also in the current_users list.\n",
    "\n",
    "- Loop through the new_users list to see if each new username has already been used. If it has, print a message that the person will need to enter a new username. If a username has not been used, print a message saying that the username is available.\n",
    "\n",
    "- Make sure your comparison is case insensitive. If 'John' has been used, 'JOHN' should not be accepted."
   ]
  },
  {
   "cell_type": "code",
   "execution_count": 1,
   "id": "d56ca754",
   "metadata": {},
   "outputs": [
    {
     "name": "stdout",
     "output_type": "stream",
     "text": [
      "Sorry, the username kemal is already taken. Please enter a new username.\n",
      "The username veli is available.\n",
      "Sorry, the username KAAN is already taken. Please enter a new username.\n",
      "Sorry, the username CAn is already taken. Please enter a new username.\n",
      "Sorry, the username Arif is already taken. Please enter a new username.\n"
     ]
    }
   ],
   "source": [
    "current_users = ['Arif', 'Ahmet', 'Kaan', 'Can', 'Kemal']\n",
    "new_users = ['kemal', 'veli', 'KAAN', 'CAn', 'Arif']\n",
    "\n",
    "for new_user in new_users:\n",
    "    if new_user.lower() in [user.lower() for user in current_users]:\n",
    "        print(f\"Sorry, the username {new_user} is already taken. Please enter a new username.\")\n",
    "    else:\n",
    "        print(f\"The username {new_user} is available.\")"
   ]
  },
  {
   "cell_type": "markdown",
   "id": "abab0450",
   "metadata": {},
   "source": [
    "#### 2.Color probability\n",
    "\n",
    "You're playing a game with a friend involving a bag of marbles. In the bag are ten marbles:\n",
    "\n",
    "- 1 smooth red marble\n",
    "\n",
    "- 4 bumpy red marbles\n",
    "\n",
    "- 2 bumpy yellow marbles\n",
    "\n",
    "- 1 smooth yellow marble\n",
    "\n",
    "- 1 bumpy green marble\n",
    "\n",
    "- 1 smooth green marble\n",
    "\n",
    "You can see that the probability of picking a smooth red marble from the bag is 1 / 10 or 0.10 and the probability of picking a bumpy yellow marble is 2 / 10 or 0.20.\n",
    "\n",
    "The game works like this: your friend puts her hand in the bag, chooses a marble (without looking at it) and tells you whether it's bumpy or smooth. Then you have to guess which color it is before she pulls it out and reveals whether you're correct or not.\n",
    "\n",
    "You know that the information about whether the marble is bumpy or smooth changes the probability of what color it is, and you want some help with your guesses.\n",
    "\n",
    "Write a function color_probability that takes two arguments: a color ('red', 'yellow', or 'green') and a texture ('bumpy' or 'smooth') and returns the probability of drawing that combination as a decimal fraction accurate to two places.\n",
    "\n",
    "The probability should be a string and should discard any digits after the 100ths place. For example, 2 / 3 or 0.6666666666666666 would become the string '0.66'. Note this is different from rounding.\n",
    "\n",
    "As a complete example, color_probability('red', 'bumpy') should return the string '0.57'."
   ]
  },
  {
   "cell_type": "code",
   "execution_count": 2,
   "id": "9e90e188",
   "metadata": {
    "scrolled": true
   },
   "outputs": [
    {
     "name": "stdout",
     "output_type": "stream",
     "text": [
      "0.33\n",
      "0.57\n",
      "0.14\n",
      "0.33\n",
      "0.33\n",
      "0.29\n"
     ]
    }
   ],
   "source": [
    "def color_probability(color,surface):\n",
    "    \n",
    "    marbles = {\"bumpy\":{\"red\":4,\"yellow\":2,\"green\":1},\n",
    "               \"smooth\":{\"red\":1,\"yellow\":1,\"green\":1}}\n",
    "    if surface == \"bumpy\":\n",
    "        probability = marbles[surface][color]/7\n",
    "    else:\n",
    "        probability = 1/3\n",
    "    print(f\"{probability:.2f}\")\n",
    "\n",
    "color_probability('red','smooth')\n",
    "color_probability('red','bumpy')\n",
    "color_probability('green','bumpy')\n",
    "color_probability('green','smooth')\n",
    "color_probability('yellow','smooth')\n",
    "color_probability('yellow','bumpy')"
   ]
  },
  {
   "cell_type": "markdown",
   "id": "9a2c2b2e",
   "metadata": {},
   "source": [
    "#### 3. Write an if-elif-else chain that determines a person’s stage of life.\n",
    "\n",
    "Set a value for the variable age, and then:\n",
    "\n",
    "- If the person is less than 2 years old, print a message that the person is a baby.\n",
    "\n",
    "- If the person is at least 2 years old but less than 4, print a message that the person is a toddler.\n",
    "\n",
    "- If the person is at least 4 years old but less than 13, print a message that the person is a kid.\n",
    "\n",
    "- If the person is at least 13 years old but less than 20, print a message that the person is a teenager.\n",
    "\n",
    "- If the person is at least 20 years old but less than 65, print a message that the person is an adult.\n",
    "\n",
    "- If the person is age 65 or older, print a message that the person is an elder."
   ]
  },
  {
   "cell_type": "code",
   "execution_count": 3,
   "id": "cc5bc431",
   "metadata": {},
   "outputs": [
    {
     "name": "stdout",
     "output_type": "stream",
     "text": [
      "Enter an age:80\n",
      "The person is an elder.\n"
     ]
    }
   ],
   "source": [
    "age = int(input(\"Enter an age:\"))\n",
    "\n",
    "if age < 2:\n",
    "    print(\"The person is a baby.\")\n",
    "elif age >= 2 and age < 4:\n",
    "    print(\"The person is a toddler.\")\n",
    "elif age >= 4 and age < 13:\n",
    "    print(\"The person is a kid.\")\n",
    "elif age >= 13 and age < 20:\n",
    "    print(\"The person is a teenager.\")\n",
    "elif age >= 20 and age < 65:\n",
    "    print(\"The person is an adult.\")\n",
    "else:\n",
    "    print(\"The person is an elder.\")"
   ]
  },
  {
   "cell_type": "code",
   "execution_count": 4,
   "id": "f8d40402",
   "metadata": {},
   "outputs": [
    {
     "name": "stdout",
     "output_type": "stream",
     "text": [
      "Enter an age:1\n",
      "The person is a baby.\n"
     ]
    }
   ],
   "source": [
    "age = int(input(\"Enter an age:\"))\n",
    "\n",
    "if age < 2:\n",
    "    print(\"The person is a baby.\")\n",
    "elif age >= 2 and age < 4:\n",
    "    print(\"The person is a toddler.\")\n",
    "elif age >= 4 and age < 13:\n",
    "    print(\"The person is a kid.\")\n",
    "elif age >= 13 and age < 20:\n",
    "    print(\"The person is a teenager.\")\n",
    "elif age >= 20 and age < 65:\n",
    "    print(\"The person is an adult.\")\n",
    "else:\n",
    "    print(\"The person is an elder.\")"
   ]
  },
  {
   "cell_type": "code",
   "execution_count": 5,
   "id": "a7825bb5",
   "metadata": {},
   "outputs": [
    {
     "name": "stdout",
     "output_type": "stream",
     "text": [
      "Enter an age:8\n",
      "The person is a kid.\n"
     ]
    }
   ],
   "source": [
    "age = int(input(\"Enter an age:\"))\n",
    "\n",
    "if age < 2:\n",
    "    print(\"The person is a baby.\")\n",
    "elif age >= 2 and age < 4:\n",
    "    print(\"The person is a toddler.\")\n",
    "elif age >= 4 and age < 13:\n",
    "    print(\"The person is a kid.\")\n",
    "elif age >= 13 and age < 20:\n",
    "    print(\"The person is a teenager.\")\n",
    "elif age >= 20 and age < 65:\n",
    "    print(\"The person is an adult.\")\n",
    "else:\n",
    "    print(\"The person is an elder.\")"
   ]
  },
  {
   "cell_type": "code",
   "execution_count": 6,
   "id": "ac49a686",
   "metadata": {},
   "outputs": [
    {
     "name": "stdout",
     "output_type": "stream",
     "text": [
      "Enter an age:16\n",
      "The person is a teenager.\n"
     ]
    }
   ],
   "source": [
    "age = int(input(\"Enter an age:\"))\n",
    "\n",
    "if age < 2:\n",
    "    print(\"The person is a baby.\")\n",
    "elif age >= 2 and age < 4:\n",
    "    print(\"The person is a toddler.\")\n",
    "elif age >= 4 and age < 13:\n",
    "    print(\"The person is a kid.\")\n",
    "elif age >= 13 and age < 20:\n",
    "    print(\"The person is a teenager.\")\n",
    "elif age >= 20 and age < 65:\n",
    "    print(\"The person is an adult.\")\n",
    "else:\n",
    "    print(\"The person is an elder.\")"
   ]
  },
  {
   "cell_type": "code",
   "execution_count": 7,
   "id": "35a97ee8",
   "metadata": {},
   "outputs": [
    {
     "name": "stdout",
     "output_type": "stream",
     "text": [
      "Enter an age:58\n",
      "The person is an adult.\n"
     ]
    }
   ],
   "source": [
    "age = int(input(\"Enter an age:\"))\n",
    "\n",
    "if age < 2:\n",
    "    print(\"The person is a baby.\")\n",
    "elif age >= 2 and age < 4:\n",
    "    print(\"The person is a toddler.\")\n",
    "elif age >= 4 and age < 13:\n",
    "    print(\"The person is a kid.\")\n",
    "elif age >= 13 and age < 20:\n",
    "    print(\"The person is a teenager.\")\n",
    "elif age >= 20 and age < 65:\n",
    "    print(\"The person is an adult.\")\n",
    "else:\n",
    "    print(\"The person is an elder.\")"
   ]
  }
 ],
 "metadata": {
  "kernelspec": {
   "display_name": "Python 3 (ipykernel)",
   "language": "python",
   "name": "python3"
  },
  "language_info": {
   "codemirror_mode": {
    "name": "ipython",
    "version": 3
   },
   "file_extension": ".py",
   "mimetype": "text/x-python",
   "name": "python",
   "nbconvert_exporter": "python",
   "pygments_lexer": "ipython3",
   "version": "3.9.13"
  }
 },
 "nbformat": 4,
 "nbformat_minor": 5
}
