{
 "cells": [
  {
   "cell_type": "markdown",
   "id": "61f8fcb5",
   "metadata": {},
   "source": [
    "## Function Assignment - Arif Aygun"
   ]
  },
  {
   "cell_type": "markdown",
   "id": "4b27df87",
   "metadata": {},
   "source": [
    "### 1. Finding Prime Number"
   ]
  },
  {
   "cell_type": "raw",
   "id": "faa11172",
   "metadata": {},
   "source": [
    "A prime number is an integer greater than one that is only divisible by one and itself. Write a function that determines whether or not its parameter is prime, returning True if it is, and False otherwise. Write a main program that reads an integer from the user and displays a message indicating whether or not it is prime."
   ]
  },
  {
   "cell_type": "code",
   "execution_count": 48,
   "id": "d8399360",
   "metadata": {},
   "outputs": [
    {
     "name": "stdout",
     "output_type": "stream",
     "text": [
      "Enter a number: 17\n",
      "The number is a prime number\n"
     ]
    }
   ],
   "source": [
    "def def_prime(num):\n",
    "    not_prime = False\n",
    "    if num > 1:\n",
    "        for i in range(2, num):\n",
    "            if (num % i) == 0:\n",
    "                not_prime = True\n",
    "                break\n",
    "    return not_prime\n",
    "\n",
    "if def_prime(int(input(\"Enter a number: \"))) == True:\n",
    "    print(\"The number is not a prime number\")\n",
    "else:\n",
    "    print(\"The number is a prime number\")"
   ]
  },
  {
   "cell_type": "code",
   "execution_count": 49,
   "id": "0092a6cf",
   "metadata": {},
   "outputs": [
    {
     "name": "stdout",
     "output_type": "stream",
     "text": [
      "Enter a number: 69\n",
      "The number is not a prime number\n"
     ]
    }
   ],
   "source": [
    "def def_prime(num):\n",
    "    not_prime = False\n",
    "    if num > 1:\n",
    "        for i in range(2, num):\n",
    "            if (num % i) == 0:\n",
    "                not_prime = True\n",
    "                break\n",
    "    return not_prime\n",
    "\n",
    "if def_prime(int(input(\"Enter a number: \"))) == True:\n",
    "    print(\"The number is not a prime number\")\n",
    "else:\n",
    "    print(\"The number is a prime number\")"
   ]
  },
  {
   "cell_type": "markdown",
   "id": "7a3e4035",
   "metadata": {},
   "source": [
    "## Assignment Solution"
   ]
  },
  {
   "cell_type": "code",
   "execution_count": 20,
   "id": "5045c1a4",
   "metadata": {},
   "outputs": [],
   "source": [
    "def prime_number (value):\n",
    "    'this function returns True if the given value is a prime number'\n",
    "    if value <= 1:\n",
    "        print (f'{value} is not a prime number')\n",
    "    div_list = []\n",
    "    for div in range(2, value):\n",
    "        if value % div == 0:\n",
    "            print(f'{value} is not a prime number')\n",
    "            div_list.append(div)\n",
    "            #return False\n",
    "            break\n",
    "        if len(div_list) == 0:\n",
    "            print(f'{value} is a prime number')\n",
    "            #return True\n",
    "    if len(div_list) == 0:\n",
    "        print(f'{value} is a prime number')\n",
    "        #return True\n",
    "        \n",
    "    "
   ]
  },
  {
   "cell_type": "code",
   "execution_count": 23,
   "id": "d26b3496",
   "metadata": {},
   "outputs": [
    {
     "name": "stdout",
     "output_type": "stream",
     "text": [
      "Enter a digit: 9645545556666\n",
      "9645545556666 is not a prime number\n"
     ]
    }
   ],
   "source": [
    "N = int(input('Enter a digit: '))\n",
    "prime_number(N)"
   ]
  },
  {
   "cell_type": "code",
   "execution_count": 3,
   "id": "9d6b8836",
   "metadata": {},
   "outputs": [
    {
     "name": "stdout",
     "output_type": "stream",
     "text": [
      "Help on built-in function print in module builtins:\n",
      "\n",
      "print(...)\n",
      "    print(value, ..., sep=' ', end='\\n', file=sys.stdout, flush=False)\n",
      "    \n",
      "    Prints the values to a stream, or to sys.stdout by default.\n",
      "    Optional keyword arguments:\n",
      "    file:  a file-like object (stream); defaults to the current sys.stdout.\n",
      "    sep:   string inserted between values, default a space.\n",
      "    end:   string appended after the last value, default a newline.\n",
      "    flush: whether to forcibly flush the stream.\n",
      "\n"
     ]
    }
   ],
   "source": [
    "help(print)"
   ]
  },
  {
   "cell_type": "markdown",
   "id": "54d2d08a",
   "metadata": {},
   "source": [
    "### 2. Rømer temperature"
   ]
  },
  {
   "cell_type": "raw",
   "id": "bf9d1eff",
   "metadata": {},
   "source": [
    "You're writing an excruciatingly detailed alternate history novel set in a world where Daniel Gabriel Fahrenheit was never born.\n",
    "Since Fahrenheit never lived the world kept on using the Rømer scale, invented by fellow Dane Ole Rømer to this very day, skipping over the Fahrenheit and Celsius scales entirely.\n",
    "Your magnum opus contains several thousand references to temperature, but those temperatures are all currently in degrees Celsius. You don't want to convert everything by hand, so you've decided to write a function, celsius_to_romer that takes a temperature in degrees Celsius and returns the equivalent temperature in degrees Rømer.\n",
    "For example: celsius_to_romer(24) should return 20.1."
   ]
  },
  {
   "cell_type": "code",
   "execution_count": 51,
   "id": "148b7090",
   "metadata": {},
   "outputs": [
    {
     "name": "stdout",
     "output_type": "stream",
     "text": [
      "Please Enter The Celsius Value: 24\n",
      "The Romer Value:  20.1\n"
     ]
    }
   ],
   "source": [
    "def celsius_to_romer(cel):\n",
    "    return cel*0.525+7.5\n",
    "print(\"The Romer Value: \", celsius_to_romer(int(input(\"Please Enter The Celsius Value: \"))))"
   ]
  },
  {
   "cell_type": "code",
   "execution_count": 50,
   "id": "84067f0d",
   "metadata": {},
   "outputs": [
    {
     "name": "stdout",
     "output_type": "stream",
     "text": [
      "Please Enter The Celsius Value: 48\n",
      "The Romer Value:  32.7\n"
     ]
    }
   ],
   "source": [
    "def celsius_to_romer(cel):\n",
    "    return cel*0.525+7.5\n",
    "print(\"The Romer Value: \", celsius_to_romer(int(input(\"Please Enter The Celsius Value: \"))))"
   ]
  },
  {
   "cell_type": "markdown",
   "id": "00a0d120",
   "metadata": {},
   "source": [
    "## Assignment Solution"
   ]
  },
  {
   "cell_type": "code",
   "execution_count": 28,
   "id": "8dcacdcb",
   "metadata": {},
   "outputs": [],
   "source": [
    "def celcius_to_romer(T_celcius):\n",
    "    T_romer = T_celcius * 0.525 + 7.5\n",
    "    print(T_romer)\n",
    "    return T_romer"
   ]
  },
  {
   "cell_type": "code",
   "execution_count": 29,
   "id": "3b6ae39c",
   "metadata": {},
   "outputs": [
    {
     "name": "stdout",
     "output_type": "stream",
     "text": [
      "Enter a temperature (in celcius):76\n",
      "47.4\n"
     ]
    },
    {
     "ename": "IndexError",
     "evalue": "Replacement index 1 out of range for positional args tuple",
     "output_type": "error",
     "traceback": [
      "\u001b[0;31m---------------------------------------------------------------------------\u001b[0m",
      "\u001b[0;31mIndexError\u001b[0m                                Traceback (most recent call last)",
      "\u001b[0;32m/var/folders/ky/pck1pvdx5w1dkfmlxqs57pxw0000gn/T/ipykernel_5530/3891390246.py\u001b[0m in \u001b[0;36m<module>\u001b[0;34m\u001b[0m\n\u001b[1;32m      1\u001b[0m \u001b[0mtemp\u001b[0m \u001b[0;34m=\u001b[0m \u001b[0mfloat\u001b[0m\u001b[0;34m(\u001b[0m\u001b[0minput\u001b[0m\u001b[0;34m(\u001b[0m\u001b[0;34m'Enter a temperature (in celcius):'\u001b[0m\u001b[0;34m)\u001b[0m\u001b[0;34m)\u001b[0m\u001b[0;34m\u001b[0m\u001b[0;34m\u001b[0m\u001b[0m\n\u001b[1;32m      2\u001b[0m \u001b[0mT_romer\u001b[0m \u001b[0;34m=\u001b[0m \u001b[0mcelcius_to_romer\u001b[0m\u001b[0;34m(\u001b[0m\u001b[0mtemp\u001b[0m\u001b[0;34m)\u001b[0m\u001b[0;34m\u001b[0m\u001b[0;34m\u001b[0m\u001b[0m\n\u001b[0;32m----> 3\u001b[0;31m \u001b[0mprint\u001b[0m\u001b[0;34m(\u001b[0m\u001b[0;34m'\\n{} \\N{DEGREE SIGN}C is {} \\N{DEGREE SIGN}Rø'\u001b[0m\u001b[0;34m.\u001b[0m\u001b[0mformat\u001b[0m\u001b[0;34m(\u001b[0m\u001b[0mT_romer\u001b[0m\u001b[0;34m)\u001b[0m\u001b[0;34m)\u001b[0m\u001b[0;34m\u001b[0m\u001b[0;34m\u001b[0m\u001b[0m\n\u001b[0m",
      "\u001b[0;31mIndexError\u001b[0m: Replacement index 1 out of range for positional args tuple"
     ]
    }
   ],
   "source": [
    "temp = float(input('Enter a temperature (in celcius):'))\n",
    "T_romer = celcius_to_romer(temp)\n",
    "print('\\n{} \\N{DEGREE SIGN}C is {} \\N{DEGREE SIGN}Rø'.format(T_romer))"
   ]
  },
  {
   "cell_type": "markdown",
   "id": "2305c385",
   "metadata": {},
   "source": [
    "### 3. Pixelart planning"
   ]
  },
  {
   "cell_type": "raw",
   "id": "7fd228da",
   "metadata": {},
   "source": [
    "You're laying out a rad pixel art mural to paint on your living room wall in homage to Paul Robertson, your favorite pixel artist.\n",
    "You want your work to be perfect down to the millimeter. You haven't decided on the dimensions of your piece, how large you want your pixels to be, or which wall you want to use. You just know that you want to fit an exact number of pixels.\n",
    "To help decide those things you've decided to write a function, is_divisible that will tell you whether a wall of a certain length can exactly fit an integer number of pixels of a certain length.\n",
    "Your function should take two arguments: the size of the wall in millimeters and the size of a pixel in millimeters. It should return True if you can fit an exact number of pixels on the wall, otherwise it should return False. For example is_divisible(4050, 27) should return True, but is_divisible(4066, 27) should return False.\n",
    "Note: you don't need to use an if statement here. Remember that in Python an expression using the == comparison operator will evaluate to either True or False:"
   ]
  },
  {
   "cell_type": "code",
   "execution_count": 54,
   "id": "1bc4f59c",
   "metadata": {},
   "outputs": [
    {
     "name": "stdout",
     "output_type": "stream",
     "text": [
      "Enter the size of the wall in millimeters: 18700\n",
      "Enter the size of a pixel in millimeters: 2\n",
      "You can fit an exact number of pixels on the wall\n"
     ]
    }
   ],
   "source": [
    "def pixel(num_1, num_2):\n",
    "    if num_1 % num_2 == 0:\n",
    "        return True\n",
    "    else:\n",
    "        return False\n",
    "\n",
    "if pixel(int(input(\"Enter the size of the wall in millimeters: \")),\n",
    "         int(input(\"Enter the size of a pixel in millimeters: \"))) == True:\n",
    "    print(\"You can fit an exact number of pixels on the wall\")\n",
    "else:\n",
    "    print(\"You cannot fit an exact number of pixels on the wall\")"
   ]
  },
  {
   "cell_type": "code",
   "execution_count": 55,
   "id": "5859517a",
   "metadata": {
    "scrolled": true
   },
   "outputs": [
    {
     "name": "stdout",
     "output_type": "stream",
     "text": [
      "Enter the size of the wall in millimeters: 18700\n",
      "Enter the size of a pixel in millimeters: 3\n",
      "You cannot fit an exact number of pixels on the wall\n"
     ]
    }
   ],
   "source": [
    "def pixel(num_1, num_2):\n",
    "    if num_1 % num_2 == 0:\n",
    "        return True\n",
    "    else:\n",
    "        return False\n",
    "\n",
    "if pixel(int(input(\"Enter the size of the wall in millimeters: \")),\n",
    "         int(input(\"Enter the size of a pixel in millimeters: \"))) == True:\n",
    "    print(\"You can fit an exact number of pixels on the wall\")\n",
    "else:\n",
    "    print(\"You cannot fit an exact number of pixels on the wall\")"
   ]
  },
  {
   "cell_type": "markdown",
   "id": "6f7ca9b9",
   "metadata": {},
   "source": [
    "## Assignment Solution"
   ]
  },
  {
   "cell_type": "code",
   "execution_count": 35,
   "id": "84a048b9",
   "metadata": {},
   "outputs": [],
   "source": [
    "def is_devisible(wall_size, pixel_size):\n",
    "    \n",
    "    if wall_size%pixel_size == 0:\n",
    "        return True\n",
    "    else:\n",
    "        return False"
   ]
  },
  {
   "cell_type": "code",
   "execution_count": 40,
   "id": "23cf3e39",
   "metadata": {},
   "outputs": [
    {
     "data": {
      "text/plain": [
       "False"
      ]
     },
     "execution_count": 40,
     "metadata": {},
     "output_type": "execute_result"
    }
   ],
   "source": [
    "is_devisible(220001,4)"
   ]
  },
  {
   "cell_type": "code",
   "execution_count": 33,
   "id": "2f90d01a",
   "metadata": {
    "scrolled": true
   },
   "outputs": [],
   "source": [
    "def is_devisible(wall_size, pixel_size):\n",
    "    return wall_size%pixel_size == 0"
   ]
  },
  {
   "cell_type": "code",
   "execution_count": 42,
   "id": "b9877e6c",
   "metadata": {},
   "outputs": [
    {
     "data": {
      "text/plain": [
       "True"
      ]
     },
     "execution_count": 42,
     "metadata": {},
     "output_type": "execute_result"
    }
   ],
   "source": [
    "is_devisible(3487784,4)"
   ]
  },
  {
   "cell_type": "code",
   "execution_count": null,
   "id": "747cb305",
   "metadata": {},
   "outputs": [],
   "source": []
  }
 ],
 "metadata": {
  "kernelspec": {
   "display_name": "Python 3 (ipykernel)",
   "language": "python",
   "name": "python3"
  },
  "language_info": {
   "codemirror_mode": {
    "name": "ipython",
    "version": 3
   },
   "file_extension": ".py",
   "mimetype": "text/x-python",
   "name": "python",
   "nbconvert_exporter": "python",
   "pygments_lexer": "ipython3",
   "version": "3.9.13"
  }
 },
 "nbformat": 4,
 "nbformat_minor": 5
}
